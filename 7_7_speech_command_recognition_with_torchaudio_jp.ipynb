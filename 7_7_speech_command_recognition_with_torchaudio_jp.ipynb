{
  "nbformat": 4,
  "nbformat_minor": 0,
  "metadata": {
    "kernelspec": {
      "display_name": "Python 3",
      "language": "python",
      "name": "python3"
    },
    "language_info": {
      "codemirror_mode": {
        "name": "ipython",
        "version": 3
      },
      "file_extension": ".py",
      "mimetype": "text/x-python",
      "name": "python",
      "nbconvert_exporter": "python",
      "pygments_lexer": "ipython3",
      "version": "3.6.12"
    },
    "colab": {
      "name": "7_7_speech_command_recognition_with_torchaudio_jp.ipynb",
      "provenance": [],
      "collapsed_sections": [],
      "include_colab_link": true
    },
    "accelerator": "GPU",
    "widgets": {
      "application/vnd.jupyter.widget-state+json": {
        "bd131e619d2b464589ce44cd4be73b00": {
          "model_module": "@jupyter-widgets/controls",
          "model_name": "HBoxModel",
          "model_module_version": "1.5.0",
          "state": {
            "_view_name": "HBoxView",
            "_dom_classes": [],
            "_model_name": "HBoxModel",
            "_view_module": "@jupyter-widgets/controls",
            "_model_module_version": "1.5.0",
            "_view_count": null,
            "_view_module_version": "1.5.0",
            "box_style": "",
            "layout": "IPY_MODEL_a24c83e237da448aa87d2607ccd6ff08",
            "_model_module": "@jupyter-widgets/controls",
            "children": [
              "IPY_MODEL_7ed2b22e2e884f9395df53b66fe35795",
              "IPY_MODEL_30020361514f4aeeae4b3d2987dc0d97",
              "IPY_MODEL_63000d1bb43840fe9bdf20f860c8c6f9"
            ]
          }
        },
        "a24c83e237da448aa87d2607ccd6ff08": {
          "model_module": "@jupyter-widgets/base",
          "model_name": "LayoutModel",
          "model_module_version": "1.2.0",
          "state": {
            "_view_name": "LayoutView",
            "grid_template_rows": null,
            "right": null,
            "justify_content": null,
            "_view_module": "@jupyter-widgets/base",
            "overflow": null,
            "_model_module_version": "1.2.0",
            "_view_count": null,
            "flex_flow": null,
            "width": null,
            "min_width": null,
            "border": null,
            "align_items": null,
            "bottom": null,
            "_model_module": "@jupyter-widgets/base",
            "top": null,
            "grid_column": null,
            "overflow_y": null,
            "overflow_x": null,
            "grid_auto_flow": null,
            "grid_area": null,
            "grid_template_columns": null,
            "flex": null,
            "_model_name": "LayoutModel",
            "justify_items": null,
            "grid_row": null,
            "max_height": null,
            "align_content": null,
            "visibility": null,
            "align_self": null,
            "height": null,
            "min_height": null,
            "padding": null,
            "grid_auto_rows": null,
            "grid_gap": null,
            "max_width": null,
            "order": null,
            "_view_module_version": "1.2.0",
            "grid_template_areas": null,
            "object_position": null,
            "object_fit": null,
            "grid_auto_columns": null,
            "margin": null,
            "display": null,
            "left": null
          }
        },
        "7ed2b22e2e884f9395df53b66fe35795": {
          "model_module": "@jupyter-widgets/controls",
          "model_name": "HTMLModel",
          "model_module_version": "1.5.0",
          "state": {
            "_view_name": "HTMLView",
            "style": "IPY_MODEL_68d8ce4d162048e5aa1151a8e9a3ec1d",
            "_dom_classes": [],
            "description": "",
            "_model_name": "HTMLModel",
            "placeholder": "​",
            "_view_module": "@jupyter-widgets/controls",
            "_model_module_version": "1.5.0",
            "value": "100%",
            "_view_count": null,
            "_view_module_version": "1.5.0",
            "description_tooltip": null,
            "_model_module": "@jupyter-widgets/controls",
            "layout": "IPY_MODEL_01dd7754dd56459ab8487fdf7ca1f41b"
          }
        },
        "30020361514f4aeeae4b3d2987dc0d97": {
          "model_module": "@jupyter-widgets/controls",
          "model_name": "FloatProgressModel",
          "model_module_version": "1.5.0",
          "state": {
            "_view_name": "ProgressView",
            "style": "IPY_MODEL_ceb3acfd8d4f497bb61d9e7d89d44f3c",
            "_dom_classes": [],
            "description": "",
            "_model_name": "FloatProgressModel",
            "bar_style": "success",
            "max": 2428923189,
            "_view_module": "@jupyter-widgets/controls",
            "_model_module_version": "1.5.0",
            "value": 2428923189,
            "_view_count": null,
            "_view_module_version": "1.5.0",
            "orientation": "horizontal",
            "min": 0,
            "description_tooltip": null,
            "_model_module": "@jupyter-widgets/controls",
            "layout": "IPY_MODEL_c9926c06fd0e4b2eb9ade4c8841235c1"
          }
        },
        "63000d1bb43840fe9bdf20f860c8c6f9": {
          "model_module": "@jupyter-widgets/controls",
          "model_name": "HTMLModel",
          "model_module_version": "1.5.0",
          "state": {
            "_view_name": "HTMLView",
            "style": "IPY_MODEL_0f8508e2f8cb4df1880c30a2676caed3",
            "_dom_classes": [],
            "description": "",
            "_model_name": "HTMLModel",
            "placeholder": "​",
            "_view_module": "@jupyter-widgets/controls",
            "_model_module_version": "1.5.0",
            "value": " 2.26G/2.26G [00:26&lt;00:00, 56.7MB/s]",
            "_view_count": null,
            "_view_module_version": "1.5.0",
            "description_tooltip": null,
            "_model_module": "@jupyter-widgets/controls",
            "layout": "IPY_MODEL_d9d70a4db6b846618fe5c0e875544d45"
          }
        },
        "68d8ce4d162048e5aa1151a8e9a3ec1d": {
          "model_module": "@jupyter-widgets/controls",
          "model_name": "DescriptionStyleModel",
          "model_module_version": "1.5.0",
          "state": {
            "_view_name": "StyleView",
            "_model_name": "DescriptionStyleModel",
            "description_width": "",
            "_view_module": "@jupyter-widgets/base",
            "_model_module_version": "1.5.0",
            "_view_count": null,
            "_view_module_version": "1.2.0",
            "_model_module": "@jupyter-widgets/controls"
          }
        },
        "01dd7754dd56459ab8487fdf7ca1f41b": {
          "model_module": "@jupyter-widgets/base",
          "model_name": "LayoutModel",
          "model_module_version": "1.2.0",
          "state": {
            "_view_name": "LayoutView",
            "grid_template_rows": null,
            "right": null,
            "justify_content": null,
            "_view_module": "@jupyter-widgets/base",
            "overflow": null,
            "_model_module_version": "1.2.0",
            "_view_count": null,
            "flex_flow": null,
            "width": null,
            "min_width": null,
            "border": null,
            "align_items": null,
            "bottom": null,
            "_model_module": "@jupyter-widgets/base",
            "top": null,
            "grid_column": null,
            "overflow_y": null,
            "overflow_x": null,
            "grid_auto_flow": null,
            "grid_area": null,
            "grid_template_columns": null,
            "flex": null,
            "_model_name": "LayoutModel",
            "justify_items": null,
            "grid_row": null,
            "max_height": null,
            "align_content": null,
            "visibility": null,
            "align_self": null,
            "height": null,
            "min_height": null,
            "padding": null,
            "grid_auto_rows": null,
            "grid_gap": null,
            "max_width": null,
            "order": null,
            "_view_module_version": "1.2.0",
            "grid_template_areas": null,
            "object_position": null,
            "object_fit": null,
            "grid_auto_columns": null,
            "margin": null,
            "display": null,
            "left": null
          }
        },
        "ceb3acfd8d4f497bb61d9e7d89d44f3c": {
          "model_module": "@jupyter-widgets/controls",
          "model_name": "ProgressStyleModel",
          "model_module_version": "1.5.0",
          "state": {
            "_view_name": "StyleView",
            "_model_name": "ProgressStyleModel",
            "description_width": "",
            "_view_module": "@jupyter-widgets/base",
            "_model_module_version": "1.5.0",
            "_view_count": null,
            "_view_module_version": "1.2.0",
            "bar_color": null,
            "_model_module": "@jupyter-widgets/controls"
          }
        },
        "c9926c06fd0e4b2eb9ade4c8841235c1": {
          "model_module": "@jupyter-widgets/base",
          "model_name": "LayoutModel",
          "model_module_version": "1.2.0",
          "state": {
            "_view_name": "LayoutView",
            "grid_template_rows": null,
            "right": null,
            "justify_content": null,
            "_view_module": "@jupyter-widgets/base",
            "overflow": null,
            "_model_module_version": "1.2.0",
            "_view_count": null,
            "flex_flow": null,
            "width": null,
            "min_width": null,
            "border": null,
            "align_items": null,
            "bottom": null,
            "_model_module": "@jupyter-widgets/base",
            "top": null,
            "grid_column": null,
            "overflow_y": null,
            "overflow_x": null,
            "grid_auto_flow": null,
            "grid_area": null,
            "grid_template_columns": null,
            "flex": null,
            "_model_name": "LayoutModel",
            "justify_items": null,
            "grid_row": null,
            "max_height": null,
            "align_content": null,
            "visibility": null,
            "align_self": null,
            "height": null,
            "min_height": null,
            "padding": null,
            "grid_auto_rows": null,
            "grid_gap": null,
            "max_width": null,
            "order": null,
            "_view_module_version": "1.2.0",
            "grid_template_areas": null,
            "object_position": null,
            "object_fit": null,
            "grid_auto_columns": null,
            "margin": null,
            "display": null,
            "left": null
          }
        },
        "0f8508e2f8cb4df1880c30a2676caed3": {
          "model_module": "@jupyter-widgets/controls",
          "model_name": "DescriptionStyleModel",
          "model_module_version": "1.5.0",
          "state": {
            "_view_name": "StyleView",
            "_model_name": "DescriptionStyleModel",
            "description_width": "",
            "_view_module": "@jupyter-widgets/base",
            "_model_module_version": "1.5.0",
            "_view_count": null,
            "_view_module_version": "1.2.0",
            "_model_module": "@jupyter-widgets/controls"
          }
        },
        "d9d70a4db6b846618fe5c0e875544d45": {
          "model_module": "@jupyter-widgets/base",
          "model_name": "LayoutModel",
          "model_module_version": "1.2.0",
          "state": {
            "_view_name": "LayoutView",
            "grid_template_rows": null,
            "right": null,
            "justify_content": null,
            "_view_module": "@jupyter-widgets/base",
            "overflow": null,
            "_model_module_version": "1.2.0",
            "_view_count": null,
            "flex_flow": null,
            "width": null,
            "min_width": null,
            "border": null,
            "align_items": null,
            "bottom": null,
            "_model_module": "@jupyter-widgets/base",
            "top": null,
            "grid_column": null,
            "overflow_y": null,
            "overflow_x": null,
            "grid_auto_flow": null,
            "grid_area": null,
            "grid_template_columns": null,
            "flex": null,
            "_model_name": "LayoutModel",
            "justify_items": null,
            "grid_row": null,
            "max_height": null,
            "align_content": null,
            "visibility": null,
            "align_self": null,
            "height": null,
            "min_height": null,
            "padding": null,
            "grid_auto_rows": null,
            "grid_gap": null,
            "max_width": null,
            "order": null,
            "_view_module_version": "1.2.0",
            "grid_template_areas": null,
            "object_position": null,
            "object_fit": null,
            "grid_auto_columns": null,
            "margin": null,
            "display": null,
            "left": null
          }
        },
        "a980267d114f42acb096173aa4f40b02": {
          "model_module": "@jupyter-widgets/controls",
          "model_name": "HBoxModel",
          "model_module_version": "1.5.0",
          "state": {
            "_view_name": "HBoxView",
            "_dom_classes": [],
            "_model_name": "HBoxModel",
            "_view_module": "@jupyter-widgets/controls",
            "_model_module_version": "1.5.0",
            "_view_count": null,
            "_view_module_version": "1.5.0",
            "box_style": "",
            "layout": "IPY_MODEL_04f1a684b68a4419a32090b327859672",
            "_model_module": "@jupyter-widgets/controls",
            "children": [
              "IPY_MODEL_9cca7fe44d3e420699ca5e30aec85b8d",
              "IPY_MODEL_9d28315cfa9f45f19cbf3a8ead93c45b",
              "IPY_MODEL_e7637fef75d345de962415fe87932047"
            ]
          }
        },
        "04f1a684b68a4419a32090b327859672": {
          "model_module": "@jupyter-widgets/base",
          "model_name": "LayoutModel",
          "model_module_version": "1.2.0",
          "state": {
            "_view_name": "LayoutView",
            "grid_template_rows": null,
            "right": null,
            "justify_content": null,
            "_view_module": "@jupyter-widgets/base",
            "overflow": null,
            "_model_module_version": "1.2.0",
            "_view_count": null,
            "flex_flow": null,
            "width": null,
            "min_width": null,
            "border": null,
            "align_items": null,
            "bottom": null,
            "_model_module": "@jupyter-widgets/base",
            "top": null,
            "grid_column": null,
            "overflow_y": null,
            "overflow_x": null,
            "grid_auto_flow": null,
            "grid_area": null,
            "grid_template_columns": null,
            "flex": null,
            "_model_name": "LayoutModel",
            "justify_items": null,
            "grid_row": null,
            "max_height": null,
            "align_content": null,
            "visibility": null,
            "align_self": null,
            "height": null,
            "min_height": null,
            "padding": null,
            "grid_auto_rows": null,
            "grid_gap": null,
            "max_width": null,
            "order": null,
            "_view_module_version": "1.2.0",
            "grid_template_areas": null,
            "object_position": null,
            "object_fit": null,
            "grid_auto_columns": null,
            "margin": null,
            "display": null,
            "left": null
          }
        },
        "9cca7fe44d3e420699ca5e30aec85b8d": {
          "model_module": "@jupyter-widgets/controls",
          "model_name": "HTMLModel",
          "model_module_version": "1.5.0",
          "state": {
            "_view_name": "HTMLView",
            "style": "IPY_MODEL_90049e2fa087437ebe381f347ba98d10",
            "_dom_classes": [],
            "description": "",
            "_model_name": "HTMLModel",
            "placeholder": "​",
            "_view_module": "@jupyter-widgets/controls",
            "_model_module_version": "1.5.0",
            "value": "100%",
            "_view_count": null,
            "_view_module_version": "1.5.0",
            "description_tooltip": null,
            "_model_module": "@jupyter-widgets/controls",
            "layout": "IPY_MODEL_de29235519ad41428757e35cabef8c83"
          }
        },
        "9d28315cfa9f45f19cbf3a8ead93c45b": {
          "model_module": "@jupyter-widgets/controls",
          "model_name": "FloatProgressModel",
          "model_module_version": "1.5.0",
          "state": {
            "_view_name": "ProgressView",
            "style": "IPY_MODEL_1e3747220fbc4ee88f93f5b0b45fc5de",
            "_dom_classes": [],
            "description": "",
            "_model_name": "FloatProgressModel",
            "bar_style": "danger",
            "max": 2,
            "_view_module": "@jupyter-widgets/controls",
            "_model_module_version": "1.5.0",
            "value": 1.9999999999999796,
            "_view_count": null,
            "_view_module_version": "1.5.0",
            "orientation": "horizontal",
            "min": 0,
            "description_tooltip": null,
            "_model_module": "@jupyter-widgets/controls",
            "layout": "IPY_MODEL_1b8e579a97924236bd6d9430a99f85e0"
          }
        },
        "e7637fef75d345de962415fe87932047": {
          "model_module": "@jupyter-widgets/controls",
          "model_name": "HTMLModel",
          "model_module_version": "1.5.0",
          "state": {
            "_view_name": "HTMLView",
            "style": "IPY_MODEL_da99f218735348188dec2e411fb1654b",
            "_dom_classes": [],
            "description": "",
            "_model_name": "HTMLModel",
            "placeholder": "​",
            "_view_module": "@jupyter-widgets/controls",
            "_model_module_version": "1.5.0",
            "value": " 1.9999999999999796/2 [01:34&lt;00:00, 42.92s/it]",
            "_view_count": null,
            "_view_module_version": "1.5.0",
            "description_tooltip": null,
            "_model_module": "@jupyter-widgets/controls",
            "layout": "IPY_MODEL_7d0bd863d06443108e2f5e7043434914"
          }
        },
        "90049e2fa087437ebe381f347ba98d10": {
          "model_module": "@jupyter-widgets/controls",
          "model_name": "DescriptionStyleModel",
          "model_module_version": "1.5.0",
          "state": {
            "_view_name": "StyleView",
            "_model_name": "DescriptionStyleModel",
            "description_width": "",
            "_view_module": "@jupyter-widgets/base",
            "_model_module_version": "1.5.0",
            "_view_count": null,
            "_view_module_version": "1.2.0",
            "_model_module": "@jupyter-widgets/controls"
          }
        },
        "de29235519ad41428757e35cabef8c83": {
          "model_module": "@jupyter-widgets/base",
          "model_name": "LayoutModel",
          "model_module_version": "1.2.0",
          "state": {
            "_view_name": "LayoutView",
            "grid_template_rows": null,
            "right": null,
            "justify_content": null,
            "_view_module": "@jupyter-widgets/base",
            "overflow": null,
            "_model_module_version": "1.2.0",
            "_view_count": null,
            "flex_flow": null,
            "width": null,
            "min_width": null,
            "border": null,
            "align_items": null,
            "bottom": null,
            "_model_module": "@jupyter-widgets/base",
            "top": null,
            "grid_column": null,
            "overflow_y": null,
            "overflow_x": null,
            "grid_auto_flow": null,
            "grid_area": null,
            "grid_template_columns": null,
            "flex": null,
            "_model_name": "LayoutModel",
            "justify_items": null,
            "grid_row": null,
            "max_height": null,
            "align_content": null,
            "visibility": null,
            "align_self": null,
            "height": null,
            "min_height": null,
            "padding": null,
            "grid_auto_rows": null,
            "grid_gap": null,
            "max_width": null,
            "order": null,
            "_view_module_version": "1.2.0",
            "grid_template_areas": null,
            "object_position": null,
            "object_fit": null,
            "grid_auto_columns": null,
            "margin": null,
            "display": null,
            "left": null
          }
        },
        "1e3747220fbc4ee88f93f5b0b45fc5de": {
          "model_module": "@jupyter-widgets/controls",
          "model_name": "ProgressStyleModel",
          "model_module_version": "1.5.0",
          "state": {
            "_view_name": "StyleView",
            "_model_name": "ProgressStyleModel",
            "description_width": "",
            "_view_module": "@jupyter-widgets/base",
            "_model_module_version": "1.5.0",
            "_view_count": null,
            "_view_module_version": "1.2.0",
            "bar_color": null,
            "_model_module": "@jupyter-widgets/controls"
          }
        },
        "1b8e579a97924236bd6d9430a99f85e0": {
          "model_module": "@jupyter-widgets/base",
          "model_name": "LayoutModel",
          "model_module_version": "1.2.0",
          "state": {
            "_view_name": "LayoutView",
            "grid_template_rows": null,
            "right": null,
            "justify_content": null,
            "_view_module": "@jupyter-widgets/base",
            "overflow": null,
            "_model_module_version": "1.2.0",
            "_view_count": null,
            "flex_flow": null,
            "width": null,
            "min_width": null,
            "border": null,
            "align_items": null,
            "bottom": null,
            "_model_module": "@jupyter-widgets/base",
            "top": null,
            "grid_column": null,
            "overflow_y": null,
            "overflow_x": null,
            "grid_auto_flow": null,
            "grid_area": null,
            "grid_template_columns": null,
            "flex": null,
            "_model_name": "LayoutModel",
            "justify_items": null,
            "grid_row": null,
            "max_height": null,
            "align_content": null,
            "visibility": null,
            "align_self": null,
            "height": null,
            "min_height": null,
            "padding": null,
            "grid_auto_rows": null,
            "grid_gap": null,
            "max_width": null,
            "order": null,
            "_view_module_version": "1.2.0",
            "grid_template_areas": null,
            "object_position": null,
            "object_fit": null,
            "grid_auto_columns": null,
            "margin": null,
            "display": null,
            "left": null
          }
        },
        "da99f218735348188dec2e411fb1654b": {
          "model_module": "@jupyter-widgets/controls",
          "model_name": "DescriptionStyleModel",
          "model_module_version": "1.5.0",
          "state": {
            "_view_name": "StyleView",
            "_model_name": "DescriptionStyleModel",
            "description_width": "",
            "_view_module": "@jupyter-widgets/base",
            "_model_module_version": "1.5.0",
            "_view_count": null,
            "_view_module_version": "1.2.0",
            "_model_module": "@jupyter-widgets/controls"
          }
        },
        "7d0bd863d06443108e2f5e7043434914": {
          "model_module": "@jupyter-widgets/base",
          "model_name": "LayoutModel",
          "model_module_version": "1.2.0",
          "state": {
            "_view_name": "LayoutView",
            "grid_template_rows": null,
            "right": null,
            "justify_content": null,
            "_view_module": "@jupyter-widgets/base",
            "overflow": null,
            "_model_module_version": "1.2.0",
            "_view_count": null,
            "flex_flow": null,
            "width": null,
            "min_width": null,
            "border": null,
            "align_items": null,
            "bottom": null,
            "_model_module": "@jupyter-widgets/base",
            "top": null,
            "grid_column": null,
            "overflow_y": null,
            "overflow_x": null,
            "grid_auto_flow": null,
            "grid_area": null,
            "grid_template_columns": null,
            "flex": null,
            "_model_name": "LayoutModel",
            "justify_items": null,
            "grid_row": null,
            "max_height": null,
            "align_content": null,
            "visibility": null,
            "align_self": null,
            "height": null,
            "min_height": null,
            "padding": null,
            "grid_auto_rows": null,
            "grid_gap": null,
            "max_width": null,
            "order": null,
            "_view_module_version": "1.2.0",
            "grid_template_areas": null,
            "object_position": null,
            "object_fit": null,
            "grid_auto_columns": null,
            "margin": null,
            "display": null,
            "left": null
          }
        }
      }
    }
  },
  "cells": [
    {
      "cell_type": "markdown",
      "metadata": {
        "id": "view-in-github",
        "colab_type": "text"
      },
      "source": [
        "<a href=\"https://colab.research.google.com/github/ykato27/PyTorch-Audio/blob/main/7_7_speech_command_recognition_with_torchaudio_jp.ipynb\" target=\"_parent\"><img src=\"https://colab.research.google.com/assets/colab-badge.svg\" alt=\"Open In Colab\"/></a>"
      ]
    },
    {
      "cell_type": "markdown",
      "metadata": {
        "id": "FCTYVZciF6UA"
      },
      "source": [
        "「tourchaudioを用いた音声コマンド認識ニューラルネットワークの構築」\n",
        "======\n",
        "【原題】SPEECH COMMAND RECOGNITION WITH TORCHAUDIO\n",
        "\n",
        "【元URL】https://pytorch.org/tutorials/intermediate/speech_command_recognition_with_torchaudio.html#importing-the-dataset\n",
        "\n",
        "【翻訳】電通国際情報サービスISID AIトランスフォーメーションセンター　大串 和正\n",
        "\n",
        "【日付】2021年4月17日\n",
        "\n",
        "【チュトーリアル概要】<br>\n",
        "``torchaudio``を使い、ニューラルネットワークを構築、訓練し音声コマンドを認識します。\n",
        "\n",
        "---\n"
      ]
    },
    {
      "cell_type": "markdown",
      "metadata": {
        "id": "yuUzVGbG7e42"
      },
      "source": [
        "\n",
        "\n",
        "本チュートリアルでは音声データセットを正しく構成する方法とそのデータセットを用いて音声分類ネットワークを訓練・テストする方法を紹介します。\n",
        "\n"
      ]
    },
    {
      "cell_type": "markdown",
      "metadata": {
        "id": "pEWnZCw8mt3I"
      },
      "source": [
        "ColabではGPUを使うオプションがあります。\n",
        "\n",
        "メニュータブの\"ランタイム\"の中の\"ランタイムのタイプを変更\"を選択してください。\n",
        "\n",
        "ポップアップが表示されるので、GPUを選択することができます。\n",
        "\n",
        "変更後ランタイムは自動で再起動されます(実行済みセルの情報は消去されます)。\n",
        "\n",
        "<br>\n",
        "\n",
        "（日本語訳注：この日本語チュートリアルではGPUを使用したGoogle Colabでの実行を想定し、既にランタイムのタイプをGPUにしています）\n"
      ]
    },
    {
      "cell_type": "markdown",
      "metadata": {
        "id": "oUCB7VORmx8x"
      },
      "source": [
        "最初に、共通で使用する[torchaudio](https://github.com/pytorch/audio)などのパッケージをインポートします。\n",
        "\n",
        "パッケージのインストール方法は次のセルのコメントを参照してください。\n",
        "\n"
      ]
    },
    {
      "cell_type": "code",
      "metadata": {
        "id": "Aa5zw5CH7e4w"
      },
      "source": [
        "%matplotlib inline"
      ],
      "execution_count": 1,
      "outputs": []
    },
    {
      "cell_type": "code",
      "metadata": {
        "id": "U3HYud4d7e43",
        "colab": {
          "base_uri": "https://localhost:8080/"
        },
        "outputId": "1fc7d78d-d37d-4154-b2bf-2e505427ca15"
      },
      "source": [
        "# Google Colabで実行するには以下の行をアンコメントしてください\n",
        "\n",
        "# CPU:\n",
        "# !pip install torch==1.7.0+cpu torchvision==0.8.1+cpu torchaudio==0.7.0 -f https://download.pytorch.org/whl/torch_stable.html\n",
        "\n",
        "# GPU:\n",
        "# !pip install torch==1.7.0+cu101 torchvision==0.8.1+cu101 torchaudio==0.7.0 -f https://download.pytorch.org/whl/torch_stable.html\n",
        "!pip install torchaudio\n",
        "\n",
        "# 本チュートリアルの最後にあるデモ実行に必要:\n",
        "!pip install pydub\n",
        "\n",
        "import torch\n",
        "import torch.nn as nn\n",
        "import torch.nn.functional as F\n",
        "import torch.optim as optim\n",
        "import torchaudio\n",
        "\n",
        "import matplotlib.pyplot as plt\n",
        "import IPython.display as ipd\n",
        "from tqdm.notebook import tqdm"
      ],
      "execution_count": 2,
      "outputs": [
        {
          "output_type": "stream",
          "name": "stdout",
          "text": [
            "Collecting torchaudio\n",
            "  Downloading torchaudio-0.9.0-cp37-cp37m-manylinux1_x86_64.whl (1.9 MB)\n",
            "\u001b[K     |████████████████████████████████| 1.9 MB 5.6 MB/s \n",
            "\u001b[?25hRequirement already satisfied: torch==1.9.0 in /usr/local/lib/python3.7/dist-packages (from torchaudio) (1.9.0+cu102)\n",
            "Requirement already satisfied: typing-extensions in /usr/local/lib/python3.7/dist-packages (from torch==1.9.0->torchaudio) (3.7.4.3)\n",
            "Installing collected packages: torchaudio\n",
            "Successfully installed torchaudio-0.9.0\n",
            "Collecting pydub\n",
            "  Downloading pydub-0.25.1-py2.py3-none-any.whl (32 kB)\n",
            "Installing collected packages: pydub\n",
            "Successfully installed pydub-0.25.1\n"
          ]
        }
      ]
    },
    {
      "cell_type": "markdown",
      "metadata": {
        "id": "-6skfyjS7e43"
      },
      "source": [
        "CUDA GPUが利用可能か確認し、デバイスの設定をします。\n",
        "\n",
        "GPU上でネットワークを実行することで訓練/テストの実行時間が大幅に短縮されます。\n"
      ]
    },
    {
      "cell_type": "code",
      "metadata": {
        "id": "xDdKHDAf7e43",
        "colab": {
          "base_uri": "https://localhost:8080/"
        },
        "outputId": "977fad4d-cc5a-49e6-a224-e12e66c9b117"
      },
      "source": [
        "device = torch.device(\"cuda\" if torch.cuda.is_available() else \"cpu\")\n",
        "print(device)\n",
        "\n",
        "# 日本語訳注：cudaと出力されればOKです"
      ],
      "execution_count": 3,
      "outputs": [
        {
          "output_type": "stream",
          "name": "stdout",
          "text": [
            "cuda\n"
          ]
        }
      ]
    },
    {
      "cell_type": "markdown",
      "metadata": {
        "id": "sxQYoeHb7e44"
      },
      "source": [
        "データセットのインポート\n",
        "---------------------\n",
        "\n",
        "torchaudioを使ってデータセットをダウンロードし、使えるように準備します。\n",
        "\n",
        "本チュートリアルでは、[``SpeechCommands``](https://arxiv.org/abs/1804.03209)を使用します。\n",
        "\n",
        "このデータセットは様々な人物によって発話された35個の命令から構成されています。\n",
        "\n",
        "``SPEECHCOMMANDS``はこのデータセットの``torch.utils.data.Dataset``版となります。\n",
        "\n",
        "各データの音声の長さはおよそ1秒 (従って約16000フレーム) です。\n",
        "\n",
        "\n"
      ]
    },
    {
      "cell_type": "markdown",
      "metadata": {
        "id": "Y5NyEpWQn0Dj"
      },
      "source": [
        "実際のデータ読み込みと整形は、データポイントへアクセスした時点から始まり、torchaudioは音声データファイルをテンソルへ変換処理します。\n",
        "\n",
        "\n",
        "代わりに音声ファイルを直接読み込む場合は、``torchaudio.load()``を使います。\n",
        "\n",
        "この関数は新しく作成されたテンソルと音声データのサンプリング周波数 (SpeechCommandsの場合は16kHz) のタプルを返します。\n",
        "\n",
        "今回はデータセットを標準的な訓練、検証、テストのサブセットに分割するサブクラスを実装します。\n"
      ]
    },
    {
      "cell_type": "code",
      "metadata": {
        "id": "TkUzj7Pk7e44",
        "colab": {
          "base_uri": "https://localhost:8080/",
          "height": 49,
          "referenced_widgets": [
            "bd131e619d2b464589ce44cd4be73b00",
            "a24c83e237da448aa87d2607ccd6ff08",
            "7ed2b22e2e884f9395df53b66fe35795",
            "30020361514f4aeeae4b3d2987dc0d97",
            "63000d1bb43840fe9bdf20f860c8c6f9",
            "68d8ce4d162048e5aa1151a8e9a3ec1d",
            "01dd7754dd56459ab8487fdf7ca1f41b",
            "ceb3acfd8d4f497bb61d9e7d89d44f3c",
            "c9926c06fd0e4b2eb9ade4c8841235c1",
            "0f8508e2f8cb4df1880c30a2676caed3",
            "d9d70a4db6b846618fe5c0e875544d45"
          ]
        },
        "outputId": "2db7f4c7-1543-4f31-aa59-616dadf9dc79"
      },
      "source": [
        "from torchaudio.datasets import SPEECHCOMMANDS\n",
        "import os\n",
        "\n",
        "\n",
        "class SubsetSC(SPEECHCOMMANDS):\n",
        "    def __init__(self, subset: str = None):\n",
        "        super().__init__(\"./\", download=True)\n",
        "\n",
        "        def load_list(filename):\n",
        "            filepath = os.path.join(self._path, filename)\n",
        "            with open(filepath) as fileobj:\n",
        "                return [os.path.join(self._path, line.strip()) for line in fileobj]\n",
        "\n",
        "        if subset == \"validation\":\n",
        "            self._walker = load_list(\"validation_list.txt\")\n",
        "        elif subset == \"testing\":\n",
        "            self._walker = load_list(\"testing_list.txt\")\n",
        "        elif subset == \"training\":\n",
        "            excludes = load_list(\"validation_list.txt\") + load_list(\"testing_list.txt\")\n",
        "            excludes = set(excludes)\n",
        "            self._walker = [w for w in self._walker if w not in excludes]\n",
        "\n",
        "\n",
        "# 訓練セットとテストセットを作成。本チュートリアルでは検証セットは使用しません。。\n",
        "train_set = SubsetSC(\"training\")\n",
        "test_set = SubsetSC(\"testing\")\n",
        "\n",
        "waveform, sample_rate, label, speaker_id, utterance_number = train_set[0]"
      ],
      "execution_count": 4,
      "outputs": [
        {
          "output_type": "display_data",
          "data": {
            "application/vnd.jupyter.widget-view+json": {
              "model_id": "bd131e619d2b464589ce44cd4be73b00",
              "version_minor": 0,
              "version_major": 2
            },
            "text/plain": [
              "  0%|          | 0.00/2.26G [00:00<?, ?B/s]"
            ]
          },
          "metadata": {}
        }
      ]
    },
    {
      "cell_type": "markdown",
      "metadata": {
        "id": "ASve0uxw7e45"
      },
      "source": [
        "SPEECHCOMMANDSデータセットの各データは、波形データ(音声信号)、サンプリングレート、命令(ラベル)、話者のID、発話数からなるタプルになっています。\n",
        "\n"
      ]
    },
    {
      "cell_type": "code",
      "metadata": {
        "id": "mgoXDjPk7e45",
        "colab": {
          "base_uri": "https://localhost:8080/",
          "height": 299
        },
        "outputId": "61e4afdf-79fa-49b4-afac-70a38aede310"
      },
      "source": [
        "print(\"Shape of waveform: {}\".format(waveform.size()))\n",
        "print(\"Sample rate of waveform: {}\".format(sample_rate))\n",
        "\n",
        "plt.plot(waveform.t().numpy());"
      ],
      "execution_count": 5,
      "outputs": [
        {
          "output_type": "stream",
          "name": "stdout",
          "text": [
            "Shape of waveform: torch.Size([1, 16000])\n",
            "Sample rate of waveform: 16000\n"
          ]
        },
        {
          "output_type": "display_data",
          "data": {
            "image/png": "[encoded data removed]",
            "text/plain": [
              "<Figure size 432x288 with 1 Axes>"
            ]
          },
          "metadata": {
            "needs_background": "light"
          }
        }
      ]
    },
    {
      "cell_type": "markdown",
      "metadata": {
        "id": "UYdTAyo47e45"
      },
      "source": [
        "データセットに含まれるラベルの一覧を確認します。\n",
        "\n"
      ]
    },
    {
      "cell_type": "code",
      "metadata": {
        "id": "kr4715ZO7e46",
        "colab": {
          "base_uri": "https://localhost:8080/"
        },
        "outputId": "080df8f4-8db2-40d6-bd6e-693c307d97d1"
      },
      "source": [
        "labels = sorted(list(set(datapoint[2] for datapoint in train_set)))\n",
        "labels"
      ],
      "execution_count": 6,
      "outputs": [
        {
          "output_type": "execute_result",
          "data": {
            "text/plain": [
              "['backward',\n",
              " 'bed',\n",
              " 'bird',\n",
              " 'cat',\n",
              " 'dog',\n",
              " 'down',\n",
              " 'eight',\n",
              " 'five',\n",
              " 'follow',\n",
              " 'forward',\n",
              " 'four',\n",
              " 'go',\n",
              " 'happy',\n",
              " 'house',\n",
              " 'learn',\n",
              " 'left',\n",
              " 'marvin',\n",
              " 'nine',\n",
              " 'no',\n",
              " 'off',\n",
              " 'on',\n",
              " 'one',\n",
              " 'right',\n",
              " 'seven',\n",
              " 'sheila',\n",
              " 'six',\n",
              " 'stop',\n",
              " 'three',\n",
              " 'tree',\n",
              " 'two',\n",
              " 'up',\n",
              " 'visual',\n",
              " 'wow',\n",
              " 'yes',\n",
              " 'zero']"
            ]
          },
          "metadata": {},
          "execution_count": 6
        }
      ]
    },
    {
      "cell_type": "markdown",
      "metadata": {
        "id": "brfgRIOw7e46"
      },
      "source": [
        "この35個の音声データラベルはユーザーに発話されたコマンドです。\n",
        "\n",
        "最初の数ファイルではコマンドのなかでも「marvin」と発話されています。\n",
        "\n",
        "<br>\n",
        "\n",
        "（日本語訳注1：marvinはおそらく、お腹がすいたという意味でしょうか。。。）\n",
        "\n",
        "（日本語訳注2：2021年4月13日現在、最初の数ファイルの内容は「marvin」ではなく「backward」となっています）\n"
      ]
    },
    {
      "cell_type": "code",
      "metadata": {
        "id": "XjHyjBm-7e46",
        "colab": {
          "base_uri": "https://localhost:8080/",
          "height": 75
        },
        "outputId": "48f920b3-c9c2-4307-cda7-45d528928286"
      },
      "source": [
        "waveform_first, *_ = train_set[0]\n",
        "ipd.Audio(waveform_first.numpy(), rate=sample_rate)\n",
        "\n",
        "waveform_second, *_ = train_set[1]\n",
        "ipd.Audio(waveform_second.numpy(), rate=sample_rate)"
      ],
      "execution_count": 7,
      "outputs": [
        {
          "output_type": "execute_result",
          "data": {
            "text/html": [
              "\n",
              "                <audio controls=\"controls\" >\n",
              "                    <source src=\"data:audio/wav;base64,UklGRiR9AABXQVZFZm10IBAAAAABAAEAgD4AAAB9AAACABAAZGF0YQB9AAD2//j/7//4//j/BAD9//P/9v/t/+v/8v/r/+r/7//o/+//6P/l/+T/4P/i/9j/3v/g/9//4v/p/+3/6f/y/////P/3//v/9//4/wIA9//3//X/7P/5//H/8//4//L/AQACAAAAFAATAA4ABQAFABAAGgAVABcAHQAKAAQABwD1/wQABQAHAAQAAAACAAoACgAOAA0ACAARABMACwANAAEADQAWAAUAEAALABgAEAAVABUAEAAXABwAEQAUABcAAgAPABAACwALAAgABQAHAAUABwAHAPf/8P/r//H/+//5/wMA9//2//X/7P8BAP//AAD7//z//P/+/wUABQD3//P/9//z//f/AQD7//n/+f/4/wAAAAD7/wMAAAD1/+//6v/v/+z/+P/8//L//v/5/+r/6v/l/+//7f/3/+3/8v/z/+3/9f/x//z/8f/3/wIA//8EAAIABAABAPb//f/4//f/AwABAAAA/P/8//z/AQD///3/+P/5//b/BAAFAPn/+f/9//P/8/8BAPn/AAD1/wAAAwANABgAFAAEAPz/BQACAA0ACwAPAAcACwAOABoAEwAVACMAFgAkACAAGwAoACcAFwAOAA8AFQAaABcADgAXAA0AEQAWABcAFAAIAAAA/v8EAPn/CAADAAUA+//2/wAA/f/9/wkABwD4/wMA7f/z//b/+P8DAP3///8DAAsAEAD4/wgADwAHABUACQANAPn//P////z///8BAPj/8v/7/wUABwD2//n/+//9/wEA///3//3/8P/p//L//f/3/+3/8v/o/+L/7P/w/+T/5v/l//L/9v/5/wIA//8JAAEAAAD8/wEAAgD9//7/AAD7//3/AAACAPb/4v/t/+T/6P/t/+T/5P/g/+T/9f/3/+3/5v/r/+r/6f/5//z/8f/t//X/9f///wEA//8IAAsACAAeACIAIgAgABgAJgAVAB4AJwAmABsAFwAiACgAGwAbACAAGgAQABUAGgAQABMA/f/8////+f8JAAIA/P8DAAkADQADAAIA9//5//f/+f8HAAAA/f/y//D//P8NAAIADQAEAAUA///7//3///8KAPv//f8CAAUA9v/3////9f/+//3/9v/l/+v/2f/f/9n/z//W/9b/2P/c/+b/6P/q/9L/3v/v/97/2v/m//H/8//x//D//v8IAPn//P8BAAIA9f/8/w4A/v/+/wQA/P/1/wcAAAARAAsAAAALAAkABwD8/wkA///7//v//f8DAAMACAAFAAQADQATABYAFgAhACMAIQAuAC8AIwApAB4AIgAdABoAIAAeABoAGgAaABQAFQALABEAFgAJAAsAAwALAAkACQAJAAcABAADAPz/9v/4/+r/6//v/+//9v/+/+v/5v/l/9//4//1/+3/9v/x//7/AwD5//3/BAACAPn/CgAKAP//+//y/+j/6f/j/+j/4v/t//b/+P/7/+//8f/s//f/9//x/+v/7P/y/+r/7P/d/97/6f/m/+r/4//o/+P/4v/i/+3/6f/o//H/6f/f/+j/6v/z/+z/9v/4//D/+f/8//z/8f/w//X/AgADAAsACAAIABAADwAFABQAGgAPABUAEwAXAAsAFwAaABgADgAUABQACAAPABoAIQAmACIAHgAxACEAHQAWAB0AJAAnAC0AKAAeABcAHAARABAAGgAaAB4AFwAUAB4AFQAOAAcABQAFAAUACAADAP//AgADAPj////2/+z/+f/2/wAA+//s////7//y/+v/7//v/+X/8P/m//D/7P/w/+v/4P/d/9z/3v/i/+n/6//p//f/+//w//n/8v/8//b/8f8AAP3/CAAAAAEA/v/+//z//P8EAAIABAD3/wEABAABAAEAAgACAAoADQANABQACQANAAAAAQD+/+//8P/t/+j/6P/t/+v/7//2/+v/8P/r/+b/8P/t/////v8DAAMA/P/7//z/AQDz//X//v/7//7//f8FAAMAAAD+//z/AgAAAAQAAwAJAAkACgAHAAMABwD7//j//P/1//f/+//5//3/+f8CAAsAAAAFAAoACgAPABEAGwAbABgAGgAkACQALQAUAB4AIwAgACkALQAwACoANQA2ADMANQAxADYALwA5ADsAMAAtACgANAAhACIAIQAbABMAEQAXAAkAAQD8//7/+f/y//n/6f/s//X/8P/4////7P/r//L/5f/k/+r/6//e/+X/6P/z/+T/6//1/+L/6//w/+3/5v/x//z/5f/v//D/5f/x/+r/7f/3//H/5f/i//L/3v/W/+r/4P/j/93/6//s/9j/4//j/93/0//g/+P/6v/x//L/9v/y//L/8//1/+//8v/y//X/7/8AAP7/AgD9//7/9v/8/wUAAQAYABUAFgAUABAADwANAA0AGAAQABMAHgAPAA8ADQAVAA0ADwAmABUAGAAbABcAEAAYAB4AHgAgABgAIgAdACcAJAApACEAHQAYAAoADQAIAAkAEAALABYAFAAPAAUABAAFAPz//f/y//j/8v/v//X/8f/1/+n/6f/m/+j/9v/m/+T/7f/x/+//9v/y//b/9v/v//P/5v/m/+r/7f/r//D/7//3//f/9v/+//v////8/wEACAAEAAAACwAIAAMAAwADAPj//f8EAPb//P/9//7/AAD3//3//f8HAAoADQAHAAsAFwADABAACAAOABcAEwAQABAADwAPAA4AFwAUAAMAFQAIAAcADwAPAAsAEwAOAAsAAgAKAAoABAAHAAcACAAIAAMAAwAEAAAACgD1//j/+P/2//v/+/8DAPz/BwABAAAA/P/z////7f/t//b/6P/t/+j/7//p/+//7//1//D/9v/z/+P/6//r//P/+f8AAP3/BADz//z/AQD//wMA/P/4////DQAHAAEACQAHAAQACwARABYAFwAaAA0AGwAQABMAFwAOABgADgALAAgABAAOAAsACAAPABoABwABAAkACwACAAcAFAALAA0ADgAKAPv///8FAPn/+/8CAA8AAgACAAAABQD5//b/AwDx/wcAAgAAAP//8P/z//D/7f/m/+j/6v/k/+j/8v/v/+P/6f/x/+r/7P/r/+b/6f/y/+3/7f/4/wAAAAACAAkABQANAAsACQAHAAUAEAAAAAgAFQAFAA4AFQATAAgAEQAJAAoAEQATAAoA/v8OAPP//P/+/wQACQAFAAoA9v/8//D/8P/x/+n/+f/7//j/AQAAAPj//P/8//v/AgACAP7/+P/4//b/9//4/wkA/v8FAAgA+P///////v/7//b/AgD4//P//f/1//X/6//y//L/9f////3//P/z//3/8//x//X/9f/9//v/AgD9/wIAAgD5/wIAAwD7/w8ADQAKAA4ABAALAAUACAAOAAoACwAQAAgABwAHAAAADwALAAQA+P8EAAUAAAAIAP//AwABAAUABwACAPf/+f8CAO//AgAJAPb//v8AAAMAAgAIAA0ABwANABEAGAARAAcABwABAPz/CAAFAAoACAADABEA/f8BAP///f///wEAAAAHAAUA/f8LAAEAAAADAPP//f/3//X/+P/p//X/8P/l//z/9v/2//3/9/8FAPn/8/////H/8//+//z/BwAIAAkA//8DAAEA//8AAAUABQD+/wUAAwACAAEAAgADAPf/AQAFAAkA/v/8/w0ADwADAAMADwAHAPv/CQAAAAAADgAJAA0AAQAFAAEA//8AAP3/+f/8//f/+//7//3////z//D//v8DAP//BQAJAPv//v/7//z/AwDy//j/AAD4//X/BQD9//f/+P8DAPz/8//8//n//f/2//n/CgD//wAABAAHAAgAAAD+//z/9v/4//P//f/7/+//AwD5//L////3//D/7//r//X/7//o//P/8f/r///////5/wAA/f8FAPz/BAANAPb/AgD4//D/CAD+////DQADABEAEQAAAP7/+//9//n/+/8IAAgAAwAEAA8ABwABAAgAAAD8/wIABwAVAA8AEwANAAUACAAIAAgABAD9/wgAEwAQAAUABwAIAAAACAAKAAUAAwAPAAgABAAQAAIACQD+//n/BAD4/wUAAQAEAAUACQAKAAMA/f8CABAADgAWABAACwANAAEABwAJAAkAFgACABAAHQARABcABQAQAB0A//8NABwADQARAA0AHQAaABoAIQALABYAEQATACEAFwAQAAQABQABAPv/+f/+//X/8//+//f/+P/2//P//P/1/+3/+P/+//b/7P/s/+r/4v/d/+v/2v/Z/+j/3v/m/+P/3v/r/9r/0f/f/+D/3v/f/+L/5f/p//H/8P/z/+r/7//o/+P/6f/f/+L/2f/a/+T/8P/q/+n/6P/q/+n/8f/9//L/9v/5/+///f8BAPv//f///xQADgAUABMABQARAA4AFQAYAA0ADwAVABgAHAAWABQAGAAXAAgADgALABYAGAAWACEAHgAhABwAHAAhABsABwAKABYAGwAbABcADQAbAB0ADgARABsADgAOABQAFAARAAsACwAIAAoADQATABQAFQAgACYAGgAUACIADQALAAQA/P8DAAQABQALAAoA+f/w//n//P/2//v/+//x//D/7f/w/+v/4//o/+n/8P/g/+L/6P/Y/9//6f/i/+D/6v/o/+P/5v/g/+T/3P/d/+T/4//d/+L/6f/p/+z/7//w//H//f/2//H/7f/p/+j/6//p/+3/7//p//H/9f/9//v////+/wEA9//4/wAAAQAHAAgAFQARABcAIQAeABgAEwATABgAFgAVAB4AFQAYABUAGAARAAgACwALAAoAEwATAAkADQAUAAoAFQAUABQAGwAUABUAFgAUABgAHAAWACEAHAAcACEAFgAaABYAFQAQAAgACgAUAAgA/v8FAAIAEQACAAkACwAEABAACgAIAA8AAwD5/////f8KAAEA+/8AAAQAAAD8/wQAAAD1//H//P8AAP7//P8CAPj/AgD3//H/+//s//D/6f/v/+j/7//w/+L/5v/l/+P/6P/k/97/2P/U/9H/3f/Y/9D/2v/g/+P/6//t/+r/8v/w//f/8v/+/////f8EAPf/BwAJAAMADgAQAA0ACQAKABEADQANABUAFgAQAAoADQATABYADgANAA8ABAADAP7/AQABAAsAAQAEAAkAAwAEAAUA+//x//P/9v/p//v/+//y//z/AAD4/wQABAAAAAgACgD9/wIACgAIABYADgAOAA8ADQAEAAgACwACAPL/8v////X/8//x//3//f8AAAUACQAKAP7/AgACAP//BwAKAAEABQAEAA4ADQADAAgA//////3//P8DAAEA8f/9/+z/8P/9/wgAAgD8/wAA9//4/wAA7f/f/+j/2v/Z/93/8f/7/+r/9//r//v/9//s//3/AgAJAAIA/P8DAPz//f/z//v//f/z//j/BQDw/+//AgD7/+//8f/z////CAACAA0AHAAOABUAFgAJAPj/+//7////DgARABAADwD//wcAAgAAAPb/8P/4//H/6//p/+3/9//7/wAA/P///xAABQAQABEAAwAKABEACQABABoACAANAA8ACAAJABcAAwAEABAACwAFAA0ACgAFABEAFgAHABYAHAAQABAACgAEAAoADgADAA8ABAD///v////8/+z/8f/5//f/7P/7/wIABAD1//3/CAAKAAgACQAIABUABAAPABgADwATAA8AFQAIAAMAAgADAO3/9f8BAPD/8P/v//f/+P/w//D//P8AAAQABwAJAAcABQAAAAcAEAD7////AADs//b/6//t//X/6//k/97/5P/k/+b/6f/i//v/8//3//j/CgAHABUAKQAdACwAKQAeAAsAFgAOAAEA9f/2//3/7P/r//D/9//7/+3/6v/t//7/AAAHAAMA9v8AAPH/7//m/9P/1P++/7f/BQABANz/8P8aABEA5P8tAI8AOwAuAGgAVgBFAC0AJgDw/6r/pP+u/7L/s/+L/0z/VP9t/2//U/9b/23/Wf9V/4X/df+F/9j/CAA0AGgA7wAQAfkAPAGMASUBAgH1ALAAFwCg/1D/vP44/tT9j/06/Wz9Y/2Z/Rn+nP4s/9L/1ACMAQ0C9wLCAxkEfQT9BAAF4QR4BDsEkgOkAgoCQAFdAIf/6P4Y/mD9pPwq/Lb7PfuP+4L75Pua/Ef9G/63/mD/DQAcAEkAggB8AGYAaQCaAKUAegB5AIAAEQDy/8n/nv+T/8D/PQCeAP4ArgELAg8CIwITAsYBKwHyAN8AaQA2AH4AcQAqAAAA8P+T/93+dP4u/lb9ufx//Bj86/v5+2L8Af14/WD+bf8vAEEBkQJzA9EDKQSwBAMF7gTRBDoFrAWzBRMFBwRYAlgAEf3++Pf0WPFC7qzqluZS4yPh5t9U4EPiEucW8WH/fw5dHCsqaDpfSYJQc08WS2RHH0IrNsQkfBSbBWnzidyGxoy3Mq4ApkCfKZ7bpWa0ZcT70x3lvvjKDashmzJ4QSJPnFnTXDVY5U+SRVc2JiCNBfTrPtYIwxCxUqE9lzWVn5kWoyezdcog508FGCF8Oe9OtF8uaRtrKGjRYgtZ2khAM+waBAGx5aHKH7NNoeGVqpB9kfWXzqPds/TG5dzx9B0OdScyPj9P3VxpaeJ1vnuhcNVYYD/6JmMO0vNG12O/Qa5coUeaapiFnB+nwbIkwSDY2/WvFFgtfDsMRGlL5lCxUVRLv0B1M0ghBQyb+IvpMdxyzQPA1Leyt0+/FsnB0qzdDuqp90IE/A3jFoofKydILQEwsy/VLLgkxxVwAwzzSOja4T3b+dJzy8bHh8WgwH6/y8/p84wfbUX5Xrpuwnr/f4d1SV3SQpksexhJA4Tv/t55zuC5SKAnis6E75GPp4W9U9NN7hAPpy3uQypQiFSvUzBNt0NQPC43ly+yHysHXOwb1IK/1q20n0SagZ93q6K6Hcp72UfrAgFOG9Q4/VWHbm16znXXZaVQ9TqNJWQNRvPv2KPATa4qoq6bGpyloU6rarqsz5LqPAc1IM8zHkNmTP1O2E2LSotFYz8ANYQjyAwm8/baz8fat4isQqkOrBG0A8NP1vnrGgTFGs0rKDfGPVA/mDwkOHo45TyOOIEoihN5+x3lwdSox3vB48NjyonT+duQ5JTwmflX/WoCYgr+FoAnvDOlNisufR3LC1r5Jui43pXbfduU3sPjDevU8uT2cPVX8dnwl/aV/6AJMBNnGhgeqxzfFu0NKwMI+h71LvXt+M77vPny8trocdy60MHKdMpezTHYLO+TDjwv4Uo2XdFmLGtUaiFgHk5iPDkqFROC++/od9Zgv5qp1JvwmTOnhr1F0sTl2PobD78gxi+ePfFHMkmaQdA0viVaGUEOKP4R60/ZLssfwn68nrkmu7zBjszr2Enl6PIK/0wJrxc4LMtCD1epYn1f90/8OQwhBwr+9qHksNNLyObBKb4BvW6+/MIgzEvZLepB/3sWlyv+OAA7VzOpJLsRQAL7+539oQL9BQEE9fzX8yvsH+j851Lsa/N4+qcCYwz2E0QXeBbaESwMyQieBqcCTvzf9WPxFO++73fzCvdl95b14vR99hP9mw1+HxolpiJjHVQRlwIj997prdtI1nbbsuSd7iD4V/v29ZvxIPTS+e8DuxOTIiws1S+NK+Qezw13/bvv1OWD4YjhaONE5hTpc+u37A7u3vD79EP7MAPBCNUKqQqgBoEAD/20/QoCWAmKER4ZYh0aGvQO9/3e6ZLYps3mxcrEctXx9Q0b8kHuZC936nd2bYRYfzs+HqsF4u5w2MLIob6gsMakO6WxrTy8etR48cULcSRiOyhJrkteSe9CwjO+HmUJwPQ/5BjdE9404H7fcdy417DSRNIE2QHjmO1N+GwA+wT4CIQNzRP0HB4myS31NL83MTEJJFUUJgNr89/ntN8Q3Ozfquck7APs1enk5Tjhwd8i5JLtIPqYBm8OOhHMD+QJsgOvAqUICBbvJT4v2C/6KKwb5AzK/6/z5ekF4wnfNd+D4nbnke4E9+39CwO8B4kM6BHPF2MbcxmyE5MMgASE+5bx+eaU3tba2Ntl4+7zpgdCFTAdHSFeHWEVTQ+vB5z+EP7uBD0Gbv4R9ArpGd4Z2FTZyOBR7E75RgXKC7cJzwG49m7pGeB+4evrn/nhBtQRFxm0G38ZvhTqDxsLHQc1BTsCqvyi9tHuI+Tp2iHXQ9oM5uz3bQruGoUm/ioQLcousCptIUoZ0BByA/zy7OVa4FjjBPEYB5kafiTlJXYioB9eHn8Y4QnD80XdVNId1v/eT+b97Wv39/8AB6wOfxOGEVMNrAkQBHIAOQMbBRn+k+/X3WDOGskm04PoewCXFK4iwinHKOkhuRgnD5kGYv8q95nrKt/Q2KfbpONT7gf8OglvEdUVvBf3FAsRcBM/GpYdjBzyFhYKg/u882vx4PCF8/326va99UX2HfdG+Ez5JPcm8xLzh/mMBIoRPR4bJFMdrA8ABO370PeQ9173BvbJ98r8HwEAA9MDzgRUBYEDV/769pnvoelj5UjkLugK7/j0zfl7/roCvwdlDhcTFBM0Fs0hJSnxIskYvAzt9X/cd87AxxPDd8v44ZnxHPX4+3IEMgStBe8QHBvNIAMncCiUHi0Ov/zm613eGtd01sPbhOdm92gIqBmtJiAp2yLcG/gU6ApdATr8ovfE84D17vef88jsVu2Q9qgCphCeIVItRCxhIvcTVAGB79nk/d/i3brgAOn/8Cvy/Okl2hfMJ81p5WUToEj8bol5/m2KWNs8ZhpW9VXTTLnSrj+3Ush41K/X99XB1FDb3O7DCpgkJzUaOx85gDKrKeQg9RWLAw3r2NRVyDTJ+9a469r/TQ/zGXQhQyUqI/EbtBGTBUL6+PES62Dj29za3FXm6va/Cu4d1SzwM4MxHSjJG/4N2v/186/r/uTK3NnToc4m0bLZB+TN78H8MAhOFNMioyzlLBkntx4iFBcLlgjBCD0Bae/B23PPr87k2Gzon/SB+ZL75gBZCooVqh50IOwYvwtk/Wvxp+ts6tfnQeSm4wXm/+ui+GoGEAxbCmMGFwHJ/SADThBYINQuRjNVKIoUegAG7tXhp+Cv43nk4ucH79ny8PRq+7wBngPDCbsY+SWrKlQpRR34AmroWdp41s3abeh5+CMDFwpAEGsTLREYDKUJbwpLCjAITgTh+1bwxuZ54LXdUeJD7w/+KAnKEL0U1RTiEwURqQdY+Qjt2eb45sjta/kuAwYIaAomCDL91O8y6DPjyd0n3+nsfwVbKMZOqWT5XhJKdzU+I14SjQJt7tjUVcDvuMK6DMERy3jXGOUu9uoMaSPTMJE1ejfmNf4vTSouJAAXdAJC7OLXWcoNywPahe4mAGQJswgZArb77ffl9q36BAICBokD9vxr8wvsiu8y/VkNtBv2JNclFB8lE2wDp/RX7A7qZ+mr59PlN+U85+Xsl/JY9N/01PhdARwPqh/rKicrACJjE88C2fTo7tvyBPznA2QGjAG89qPrEeb+5vnrEfLV9wv9eAKpCZ0PDxDqCz4GKv/X+Lz3vPky+1v+XAM1BswG8wdvB8YC5/40/8cBHAvdHSwq0CWDHb8VRwOx6mvbodHrxVDFi9Zo6en1+AHDB5wBXf7dBjMQahcVIsspFyVTGF4JSPXi3q7RRNEx1rTdouru+bIHnxQoH0YjtR94FTgIa/0E9+n0rvV89vn1hvS282P1gftEBo4RGBiVF4wQAwYi/F/0du3O6CvqNPIQ/roKdxUtGg0U7gPc73HZ/MM8vl/Tp/1EMf1fQXZSbWpVMD49JwkP/vh64x/OP8J+ww7HGce0xyLKQ9GU5sUJlCuNQAhJekY6OpkrFSHlFa4C6unx0F27ibCyt5/Ng+g1AW0U3R8VJEQkIiEnGigR2gYE+ZLottnx0KjS8N8X9S0OvyX1MjIytSePGNgJyQAx/q79xfkx8F3jR9h50tPSsdlR5oD0VAEaDxAfwCsIMOkqIhwWBoHxC+jn6j309vzv/yX7C/Kp7IfuR/U0/ZYDmwhpDa8RXRMqETELMwNj/LD4Vvc+9TjyRfDf7zPyavgH/2kAdv/3AEkBbQCRB+QXqiWRKgkpnB5fCAzwH+Lu27/VQdJz1cHdGOvH/NQJhgkoALn4Y/ouB+ob5i2HM0crlBgAAlju/t8g1gbT3diL5Ovz4QeZGjgi3R4OGEwQRQj7BKwG3gQx/Wf10O526EPm2OqU8q/8NAuRGa8f/hxRFakIO/rb8Pvsluwv8GL0YfUb+O7+VAM2A57/rvKu3SHUf+IeAzwwMV/ldnBsQ1H5MuAQQfPb4zXb3s9/yL/Jqczdz87WVdyr3BniZfRUDokpokGbTpNLfD5LLcUWdPyy4zTONL5/uubEytfy7tkFZRNrE2YMEAWHAJcDjQ8BGaUUEgZA9afkx9sw5XH9DxaYJk8sqSNgEZwBePcO7+frDfE99in2D/bV9i/0dO8E7ZDuTfRf/WAGUQ30EdUS4g/+CrgDofm68kD1JwDUDUsY1BjpDS4A3fdF9hL64wANBKP/9/in9Yb1WPgr/CH6cvFm69DtdPaHAooNGxFfDQILHQ4+EyEZwx31Gu8P4gMY+qLx3OsN6DjiANsS1xbZBuJX8dQCFREsGdAZqBIZB/X70fK17RTwHPrtB7QV1h5vHuUU+gZm+FDtPOqy7SXy5fYi/YcAkf3E+CP3jvcH+p8BPgzuEjkVzBZMFZEOxQeFAwj+QPib9+r4p/Yu8wLybPAm7I7pguog7m/2iwSrEX0VJhDrB+cAkPtM/OUJIiCsMoY9EkU9R9I9QCt2FLX4qtpqxbu9QL7dxCLSrN7X4yboivFb+fb90QdoF9smSjYpQ6xCxTF5Gcn/KujL293eDung8mD7Sf+5++H1H/LZ7jzubfNn+ef6aPmb9hzzpvX1A4kY0iqIN106fS5pGfIFgfZv6aThaN/13CfaHtvQ3njjfOxM+XYEuQ3NFlocgxyHGq8Uvwfd+Try+O8X8sX6DgZ7DIoMAQkdAoT4zvBs7vrwLPg8A50Mkg8sD24NkweeARsEcgm2B4wEhQSR/xL2CPTV+fX8z/xU/Qj5cu8b60rvfPWr/X4IgAyqBQL9J/lZ97T1zvXu9oj28/at+rv9iPsV9tny4/PC9wf+uQZMDgsR8Q+gDb8JcAQzAND9wvxk/GH8Cf2l/8QDdwc9C/UPNhJ2DxwK8QIo+pj18PeQ+Yf3P/iB+bX12vWB/yIH0wf2CRMKG/6x7vLn8uMN3mnfTOow+U8SejeBVVVhbGGcURAs1ANh7Erg8tv952H4UvY16cTj9t5n1nvcd/E4/oUA0gQ3Bff7wfbn++/+av0LAiIKgQsyCvkL1wsNCAQHqwqTDkUR4REZDOf+efA15pXgG+A75brrpvBn9sv+uggxEzUbBh3kF38OagTh/VoAMQuBFWoZ1xRnBObqu9WizZ3O7tU25F7yO/jU+IH5Qvkd+mICNQ9cGdkiiCz8LZ4kAhb3BLHzPumN6kb0WACyCtcPdQ39A1H2/+lZ5JXlz+uY9bT9yf2b91bw5enh51vvsPzdCKsRHRVhD3EERf45/q7/fAM9CX0JMgFR9nrsiOQv5OTuIf8uD7YcyyInHvoTzQnN/4X3WvQO9OfyA/MP9jT5y/qK/coA+gHgAkYGLAynEYUTbBEXDZMG7/7F+qb7j/08/4EB/gGf/kH6fPcY9Z7znPV4+l7/EgQdCH8J5ge1BEYCuwGAAdQBkAbJDXUQ2g5/DYkL6wdnB+YK/AvdCK0GugUoA0wC3wVoB/MBsfm98ortauxU8vL64v7s/N745fQz82r2K/2XA0wHJghvBrgDJQK9AAj+Rfut+rn6//kV+ob6Ffhp8w/xwPHJ80P65gXdD1oUJBaKFNUM8AM//xz8U/nZ+yACnQPZ/w38ofcR8SPvefV1/KP/VwKvA5//D/oy+PD3Afd/+JP8PQB8BNcI8Qc5AvX+dP9BAWwGFw40ESwOEwoKBUb9ufaj9Bz0VfNt9Oj28vfJ93T35faX9sT49/09A+UGBQhMBdn+CflK9yf5qv7vBRYM6w+gEU0QeAtrBfD+sfgd9f301vU59/f6Of/xAD8A1P59/eD8L/9FBOEJew7tELwP8QlKAQn4+O9l7Bfv1PUm/CkANQJvAaX+k/1b/24BFwMWBUQGoAbFBtYFBAO2/1n+IP+hADgCmAP5Ap//hPt8+D/3TvlD/+oFFwp0CxcKcgX8//r99v4pABQBJAGf/rr5ovVt85fyDvTF+Cj//gSeCdwL2Ap7CIoHBwjhCOoJlgqFCbgGOgPC/m75gPVf9Ib0YvXH99v5zPks+Vb6Cf2iABsFSglWDDYOZg4kDMII9QXPAsv+L/yw/JD+GgDaAesCGwED/gL9ev5GAOUBgwKfAEv9n/qL+V/5J/rt+xv+6gCTBAwHCQajAkf+avkX9in2MPmp/VcCWwVhBfIC3v4u+yL67PuT/uwATAIrAssAXP8z/u78Zvsb+tz5s/oH/YwAgwRlB+YHQgbBAuj9TvnU9uH21vj0+7f+i/+k/TT6Evd/9Sb35/xTBVANvRIxFGUQ/wj+ACD6ePVh9AL3UPtV/84CdATfAg3/r/sv+tr6TP4MA8IGlAgYCTAILAVCAskA/f5d/AD7p/qz+dz51PsF/fv8KP48AIABcANIBv4GSQXeA6ECeAAu/+T/aADH//D/KQDO/t39u/6e/wf/Av6z/NL66Pnp+pz8ev7fADgD8QSLBogH/wYFBkMF5wPNAZsAm//V/e/8tf0E/8EAdQOtBa0GSwfjBrwEJgJIADz+0ft4+iH6zPnJ+S77GP3u/l4BOgR5BvMGCwaSBEUDYgNZBfEH6Qk7CgYIigPI/jj7AvmD+OH43fmB+zr9X/5u/iD+p/3H/Sr/RQGuAxkF0QRUAkv+c/ry9zT3Wvjj+j/94v5CABsBIgH1ALoALQBH/wr/+/9KAUYCugKeAYb++Pqc+Hv3cPg9/FsBvwV1CGkJtgd4BMgBYADZ/y4AngD1/2T+yvxY+2z6H/tY/QMAeAJtBFwFlwTHApgAHf6N/Kn8GP4aADACZgPrApIBgQDZ/3T/AwBJAR8CdAKdAiQC3QDJ/wT/vf1P/H37JftJ+zr8fP36/ef9Z/5f//sAtQNBBnkGxQR1ArT/Ov2p/A39SvyN+jb56Phw+q/+6gM3B+4HmAaMAzYA4v45/7L/OQCEAKj/Jv6y/SH+7f27/UX+nP7P/tb/VwEfAn4C2gJxAhEBNAACAJH/fv/MAE4C3wIzA1cDbwKuAWICjgMeBBAEdQOUAR3/Hf3M+xX7W/vf/CT/sgGyAy4E3AKzANL+Mf7G/x4DBAbnBpkFdQLe/mL8MfxY/cr+3/9HABgAjv8I/3H+MP13+1v6fPrr+xv+QgApATYAL/5b/Gn75fvs/WEARAJAA9EDsAO0AsQBaQEEAZsAUAAFAI7/mf6o/Vn8Tfsm+yv8Z/5cATsEAQZ7BuQFZgTaAgYC9AGuAScBPACv/vb82PuJ+5T7E/z0/C3+kv88AZ4CrwNtBPQE5wR3BCAEkAOsAlYBcf+V/Wf8evyY/R7/ugCYAVwBiwCF/9X+mv7X/hX/p/76/X/9Uf1p/cX9bv7I/iH+E/1f/H/8O/2N/vX/vQCZAAAAvv+N/63/CwBjAPf/sf5S/Ur8mfvR+2b9WP8JAakCDQSKBFsESATOA6gCrAEcAVkAk/8H/3n+if0Y/bT9bf7X/mH/s/9e/xf/PP+j/wsAEAFvAgEDJwMaAz8C2AA7/5j9PPwS/Ff9Yv9gAesCkgNrA8AC0wHzAHMAOgDk//b/lQAkAQUBwACBAJT/uf4p/pz98vy2/Pz8lf1+/pX/RwCbALYAnQDXAEkBzQHwAbUBDAHg/6L+z/3F/Sn+8v4YABIB7gGzAiwDewM8AwwD1gJhAusBWwGmAIL/Wv5q/dP8ivzo/LT9kP51/1sA9wAEAagALwDa/0j/8v4Q/zr/8v5//k7+B/72/Sv+g/62/tz+C/8x/4T/GAArAXACnQMpBNkDwAL9AOz+Pf3x/BD+8//sAUQDVwNGAiEBeAD//7H/y//F/wP/Bv5x/eD8ifyY/Cv98P3f/lAAuQG7Ah8DBwOIApkBwwBYADcAtP+g/pn9If1L/RL+k/86AWkCGgNXAxIDLQIfATUANf8D/hH9/vyw/cb+DwAxAcUBfAHKAEgA///4////IgCt/7v+/f1Z/eD8WP3V/iYA5gBFAcYAqv+p/nP+7/7M/wwBzwEjAj4CxAHSANr/JP9d/sr+QAHZA08FIAd8CHMHsARMAoH/ZvsL+H724vSv80r1Xvih+w3//gLPBdcGbweKB3oGYQRjAkoAFP51/AH8HPwZ/fr+GQEUA3gE0AQ7BFMDvwHD/9X9Nvyn+rj5uPmO+jD8LP6gAAwDXgVYB8YIZwm0CEIGWwLj/Tb5hvXl81L0Avag+Gz8JAB3A9gGoAmfCvoJTQhoBbgBav6l+yj5w/e392/4D/rH/P3/4QJMBRsHgweQBqkE8QGG/j779Phj+Ib5C/xW/0oDpQZcCLwISwg3BoIC5P6f+1b4pPXi9Fr1Z/bL+CL8pv/iAgUGmwgNCvEJjgi9BsYEQgK6/5j+P/6r/Zf9l/5M/3r+Af5P/rv9/fvV+7v8afzr+zT9Iv+o/2AAWAIDBB4EUQTrBMIEzQMdA44C7ACv/hn9W/z4+wX8rfz6/ff+Nv91/08A9gDaACEB8wHtAQABlQAxAIz/v/4n//7//f9yAKcBbgIFAqwBQgELAMj+H/5Z/eH8L/6GAEkC4gO2BeYF9AP+ASAAEf3f+Rz4/vbf9Uf2E/k2/Or+bQLpBR4ICQnRCfcJZQjyBSED7/9n/Cf6mPni+Rz7LP2q/8YBxwIqAwgDOAJFAHD+av0j/Kr6/PmS+gb7DPzA/hACCASTBWgHDgiLBuUEjAM0AS3+E/zm+oH5bPnt+nj8wf3X/x8CmQMbBAAFGwVmBBoDYAFh/4P98vuB+jf6jfpo+1j8ef6aAGgCnQPuBAkFGQTQAlYBCf9F/N769PlI+aP55Pt1/SH/KgKmBcsGBQhlCtoL5gquCZoITgXLANT8efpv91r1W/Vo9lD3uPgi+4j9sf4iAA8CcAPDAw0EgATpAyIChgDv/97+p/07/mwAXAGjASsD7wQcBIICRgKnAen+Vfzl+xz7uPkO+nD8I/73/gwB6gO1BLYEvwW0BncFUAO8Abv/zfxD+p35yPkw+iT7Uf0g/2UACwJRBG8F5wSiBJYESgPYAHn//f70/ZX8r/xs/ez93v7rANQClAO2A1gDEwIjABD+J/zf+jv6kfqz+9v99/86ARwCOgNpA20COAHAABQA7v7P/gf/j/4Z/qv+VP8i/xn/3P8uALr/qP9rAIIAAgDp/8EAZAGbAUsCHgNSA6ICpwGhAG3/+/0P/Vn9GP7N/YT9d/7u/k/+Uv6o//b/7v4//9z/9P7c/QX/vwC6ACQBPwPQBAME4gPiBF0EIwKTANz/NP4N/DX7oPtH+8H6wPvj/b7+bP/HAZwEmQUoBcoFywVeA8EAzf92/s/7VvoO+zj7pPr5+wL/mgBHAYMDtgUdBScEMQQABPcB3v+C/wX/+f2s/ff+/v8eALYANwJwAtQAYv+//nf9Q/uG+rv7fvyE/AL+mQAYAngCGwTsBcEFwgRoBEwDlQBP/hP+bf24+0H7RfyK/DH8iP0kAIYBaQIMBCgFIQQ2AhUB/P8v/iD9N/1U/Rr9XP2W/t3/sADYATkD5AOQA9YCFALFAE3/Z/4S/vH9m/1L/jT/1P/9/1YAxQB4ANr/Z//h/uf97/xc/A78+fuX/Jv9+/4wAKYB4QLyA5UEvASdBJ0EAwT8Au4BXgGbALH/df/U/+j/oP+l/07/mf7B/Wz9J/3r/Cb9k/23/Wz9Af5o/qn+M/9TAP4AXQH9AYcCAAP+ApoCdgJAApMBjQDp/8//Vf8L/6H/jQAzANr/RQAtAAT/pP5y/yb/L/5G/gv/r/4Z/vf+bABJAIYAsQEQAiUBlQBBAfMACgD8/5gAQwBe/0P/mv88/2r+oP6O/3P/9v6l/9wA/wC9AFEBkAFuACn/W/9s/77+p/73/4gASABbAPEA6wBoAI4A9wDNAC8AQwAJAH//5P7C/tb+oP6M/tb+af/X/9r/PwApAVUB3wCrAJMA6v8F/wn/YP9I/3P/QgDfAA4BNgEAAnECRQIzAisCxAFZAEH/uP4x/qj9O/1Z/WX9Wf1O/Zf9KP7O/rT/ywCUAeEBEAIvAg0C9wH4Ad4BrAFjAf0A3wDHALgAqACzAIoANgDq/8r/Q/+q/sX+4f7r/g7/bP9o/xf/u/42/nH92Pzr/F797/3f/uj/vQDsAB0BIgEWAcAAfwDGAKcAjQC3AEkB+QGmAsEDvARGBUkFsgSwA54BCP/S/Ln6kfgw99v2rPal9tX2afeK9wj3qPYq9kP1xfSO9YL3nvp4/5QFNgywEqAYfB1FIIch9SAXHjsZRROQDH8F+v6B+UL1fvL/8IPwevCT8KLwdPCs77bu4u347N/si+2P74zyd/ZW+3EAawXRCcMNTBBCEcUQKQ9IDLQIRQU7Atr/kP6i/vD/3wFuBDYHZwmOCpAKUwmgBvoCGf9g+/X3rPVW9AD0yfSg9gP5x/vX/noBRgMYBNoDggKRAHb+afzD+hH6sfoi/N39NADGAp8EhgWxBQ0FhgOsAYv/q/1X/Nv7cPzW/RgA3wJeBWMHnAi0CKIHoAXvAs3/6fyA+rf45/cN+Mv4LvoX/Lz9Vf9+ADcBdwE3AW4APf8I/tX8jPvF+oL6i/rS+k/7uPus+3r7Bftg+nn5H/g99r3zevBu7L3oYuZr5lPqbPJT/uAMFB34LDg6hEMDSNtHTUMAOwowpCPYFn4KpP/c9hjwmusw6ajn7eWP4yXgdts41hLRIc13y6jMJdGE2GziPu4y+1UIZxSCHuslKyqdKq8nNSLyGkMTCgxOBpQCbwBFAPABkQRLB8MJjAuAC1kJegWa/0r4CfHD6uHl8+KS4n/k6Odi7HTxZfau+hz+iwDnAdcBuwBc/xP+eP0t/hABrgWoC3QSwxhrHbEfUR8yHKEWZg+hByEAd/kz9BPxJ/AJ8Z3zSvcT+zb+QQDkAL//Lf3f+ff21vT08770Avcr+qn9PgEJBLcFeAZ0BqAFxgMfAeD9afpA9x71uPQx9o75WP5xA8MHLgqBCuEIqQV2Aaf9w/rk+E74fvi2+JP4YPgS+Hj3ifau9c309fNw80Lz4fOz9Rn5uP1vAlsGFQnhCXgIHQUdAH/68/TN73Pr8+du5gzow+28938FGxZ3J7I33EMxSnFKpUW7PVE0DivQIjYcNhftEggOAgjFAHn45e4X5EvYbMymwXW5EbUDtce5FMPszxnelus595IAoAcBDVMR5RR3GA8cZR+4IWkiciHVHqoaBBU4DlEHGQGU/ED6Avo8+7T9bwBqArAC6gBq/e/43/Oz7lbqC+eA5S/m2Ojp7DfydviY/o8Dhwb9BvQERAEx/bz5Ffi6+cL+WgbbDsQWxByMH/ceTRvdFAYNCQUN/s/4mfXX9Hf2N/oU/8sD2waNB2IFmgDh+cPyCO0P6qXqPu7L8yr6UAB6BfoIqQp4CtwIrwYSBAMBB/7B+y77jvwp/4oCoQWNB78HUgVtAKX52/Ko7Tjr1OvD75H25f5MB6QNpxAWEKgMKweRAC36EvUU8jbxNPIm9KX2aPnb+8H9bP5Y/Yz6o/Zg8qXupOx37brxIfkGApIK2hDaE1gTng+1Ce8CAP3C+Er2LfXz9Hr16vYn+pj/HweXEFIbmSX7LS0zYDQHMpQtByhwIrEd4BliFoYSew3wBoz+3fSG6v3fztVqzBXFs8DZv0fDu8r91JPguesI9Yn7ev8ZAu0EeAkOEGAYSiEoKVoutS/ZLNsleRtRD3sCK/b7607l6uLd5JLqiPLO+k4BfgSdA/z+P/hq8WLsRuqO69Lv/vXl/PgCoAexCusLyAvRChIJ+gaeBGkC2AB5AKYBRwQsCGAMuA9AEREQZwwDB0kBgvyN+RT5c/oA/aX/XQHsASQBrv/m/S38efqx+Oz2+PSV8wfzz/Pn9eT4XfyA/0sBjQFVAI3+Rf0k/Y/+9wAMBOEGjgioCBAH5wTDA20EzAZbCnUNtg5QDaEI8wC092Lv0+nn5zTpt+yh8KLzSfXp9D7zPvEp8HrwX/Iu9Xr4MvyXAMwFRAs5ENkTbxXEFLwRuww5B8cC/wD4AcwEAgjeCXAJRwaYAGb5K/Lm7Njq5es17/3zePnl/l8D4wU3BpkE0QFt/tn65vdS9vX2p/lT/XkAvgGoAKz9Nvng9KrymfTt+0YIoheGJiMywziXOf40bCxUInYZeBN7EE4P6w1IC0QG9P6S9avqpd+I1aLNj8ipxivISM281WnggOsF9cz7n/9kAWQCNQSPCDoQlBriJZYvdDUINjQxFyhzHBYQtgTM+9f10PLz8U/y9fJj8yjz7vGG7z/sIekW5/rmQumP7aLzdfraAPkFFgkhCtgJDwnnCDUJLgouC6ELHAtECREGCgIa/kv7JPor+rf67fpd+gD5rvbI887wwu4s7ufuvPAn8wv2OvlD/Nn+cwDYAOr/ZP7B/NP7d/wH/1ADggg+DdsPdg8sDMAGnQA6+4r3T/ZR96n5+ftW/bD9kP0V/rP/nAJNBk4Kmw1AD7EOowx+CngJdAoEDQkQHhLxEeIOqgh1ACH4TPFG7err1Ozb7hfxGfPd9Lz2/Pjn+wD/bAGRAqsBzP7m+nn3t/V79oT54P1VAmgFJQb8A3X/NfrT9dfzy/Qo+EX9RwMkCaANMRCwED8PRww+CIkDl/5J+iH3iPUh9XD1y/VG9ZHzm/DE7KzoSeWT46vkmulZ8jH+MQwoG6gpCDaxPhJDqUN6QbA9EjlSNMUv3irhJJIcaRHaA8f0kOXX19XMWsVfwaHAMcLXxOfHvsp8zdLQi9VI3IDllPEkACIQth++LJM1IjmtN8ox5ygmH1MW3w8XDGcKngnHCN8GfQOv/qz4LPIj7Dnn6OOC4jPjX+ZU607x2vYF+wv9uvzU+tH44veI+T7+7QT3C40RJxSqEtMNHAdQAFH7E/lu+YD7yf0u/wP/mP3S+6L6oPoQ/Hr+EQEEAwkEfwTeBNAFjQfgCUQM6w1gDhYNRQqOBpMCzv7Y+4f5fPe59fXzj/LU8STyhvP29cj4LPvQ/E39Bv3M/GX9n/9oAx8IuAz4DyIRrA9WDBYIiQTUAmgDlwU2CPAJrgnsBpgBhfpr84bt8enj6Onpcex/77jyXfVF99T4NfqJ+878P/6g/9gAHwLPA50FlAeDCcUK7gqoCSYHpQMuAJ39tPyi/f3/mgJTBGQE0gInAGD9+vq8+WL6sfzE/2oCEARuBBIEagO1AqMBLwCF/pX8lfqZ+AT3H/Ym9vX23/fq9/H2pvW/9Z74tv6aB/IR9hu2I8YnlCdRJMofNBzhGocbDB2UHYUbwxWhDD4BRPVy6s/hitsf1wTU69He0CvRSNNE1/vc3uME65nxivcn/eECzQjxDgEVNRq7Hd4epB3NGnQXcRRQEiERmRAjEC0PWQ3XCugH/gS1AicBZgAuAAQAef/I/gD+2vyK+/D5HPhp9jv1bPRM9K30H/VI9X70qPIi8HXtd+sq6xXtHPGO9mz8bgGvBNYFoAX1BJAEJgUJB68JXAxzDvoO8g3DCzcJqQY7BL4B1P7b+9H4H/bu85fyLvKb8onzTvSE9Ej0VfRQ9fv33vtBAF4EmwfICXUK1AnaCO0I9wqXDm8S1BTXFLASvQ7YCcIEuwB2/l3+lP+nADkAnP2L+QP1cvFM77bumu+h8Sj0wvbS+AT6zfrF+8j88/1H/4UAhgGFAmkDsAMTA9EBYgD1/jP++v1f/gX/X/8z/0/+GP1y/O78zv7bAU8FKwjWCd0JowjFBhMFEwS6A5YDHwPlATEAkf49/Vz8Bvzf+4n7w/oK+Yb2BvR38j3yifNu9XH3NvnH+pr8Yf+LA/IIUQ/QFZIbhh9qIbghNSFTIIEfmR5THd8a5BYyEWoKlQN3/av4x/SW8TzuT+oK5uLho94C3UbdOt+F4mLmSOrs7azxv/V8+sD/NAXvCVENIA+cD5MPew+dDxMQxhBmEeURvhHvEKwPlQ7bDVYNewyYCm4HCgOJ/o36xvfy9XL07/LC8OHtgOoT507kNeMQ5L/mRurB7VrwE/Jr8w/1m/dI+/X/IQUECs4NbhDrEewSthO4FJgVMRYhFuoUqBKdD4cMjAkCB9QElQLq/+/8sflH9hDzSfAS7mvsK+v96Srp9+jf6fjrMO8N8//2kvpw/bb/xAEQBMAGVwrjDpYTEBepGAQYERaeE5QRTBBqD4kOEA23Ck4HLgOQ/sn5s/UJ89DxQvG08Lrvie6i7YntW+6m7wTxNPIT8/bzgPX791T7Ff+1AnoFJAeaB3sHRweJB9UIQwsGDkIQ/RAQED8OpgwiDIEMew3/DUoNGwvVBykE2QAY/u37Tvrc+Ab3xfRz8pPwgu+M733w5/EB81LzUvPM84n1gPgg/Pj/JwNOBSEG6QUNBQIEYAN9A3oExwX6BqMHxQdYB/0GAAecB84ITgrOC9sMjw0ZDuMOrw/VD4UPJQ6uC8cI9wWvAw8CPgHPAFYAtP9y/l38pfkE9x31KfQP9IX0BPWO9Sn2MPdQ+AT5I/mv+D74KPjL+Ej6XfyP/qEA+wHFAhUD8QIKA8gDhwWiB7gJ3QrDCqoJ7QdJBiAFdAThA/oCLwGS/pD7hfjm9Tb05fOg9N/1wfYt97z25/VT9ZT1+PZM+U789/74AAkCZAKpAjkDbgRaBlII6wmpCjoK+AhwBxsGLwWoBCAEYwMxAmkAhf6d/BX7Ovrw+Rf6Qfo9+iL6xPlg+Wz5L/of+xb8yvwB/Zf89/vR+2/8av5qAYoEkwYyB1EGlwTVAsQB8wENA6sEBQacBvMFHwSfAfT+s/yM+4/76/vu+yT7w/lB+C/33/Zv93r4YPn1+Y/6evvE/Kr+7ABaA2EFtAb3BtMGgAZVBsAGjAeVCDMJGgnrBxYGGwRUAh0BNwCM/8P+xP2k/LD7XPvC+2z88/w5/ef8I/zR+z78o/2y/5QB+QJ4AzgDggKrAVsBlAFGAs0C4QJlAjABuf+K/kX+3/7t/wQB0wEsAhACWwFaAHH/AP8x/7T/gAAOAf8AkwBGAIIAVQFyApkDwgTuBQUH1AeQCDIJ+wkWC0gMdg1zDtcOZA4xDcsLXgrQCDcH2gWiBC4DwAEUACX+8ftL+f32jvUK9Tb1gPWf9SH1f/Sz8xPzGPOw87n0svV+9hL3MPcQ9zz3TPhl+jj9IABWAq4DGATQAycD9QJdA1EEdwWoBo0HXAdNBkgE5gHU/2T+4/0D/lf+bP6e/UD82frp+ZL5zPnB+tL7vfwr/UH9Bf3B/Nb8ef1e/kj/7//g/1v/h/7H/Wn9WP28/WX+7v4i/xb/0v5+/ln+hP4u/+T/igAeATgBCwG7AIsAgQD5AMABewIOAy0D1AIZAk0B/QBDARACIAMVBHME6APUArwBMgE2AZgBGgJnAoICawI5AgQC7gHMAYoBfwGWAQACUQJnAooCugIyA9ADWATJBJcE7APrAtMB+wCMAFoAGADR/0L/Vf4a/dH7wfrq+ZP5rPkQ+o/6A/s1+4j77ftu/Dr9w/1S/vf+2v8IAT8CZAMPBCEECAQoBE4EigT7BKoFEQZoBn0GKQbNBWIFFAWmBOgDrwIEAUP/t/2w/Nv7I/u9+mj6Gvqc+fT4dvjQ91L3ZPcR+Cz5jfog/Iv98v4gADoBUQKKAxcFWwZCB+EHIAg5CCYI/gf9BxEIHwj6B1sHTga2BBEDkgGNAEIARQCSAJgAMACK/53+w/3x/EP8//sK/MD86P1C/1AAhgBFALb/Wf95/wgAtgBKAZMBmAGmAacBpwHCAdMB5QH5AdgBYwGaAK3/kv6k/fj8WPzZ+x77Xfp4+Zz47fdT9wT38/Zv91n4pvkj+1f8NP21/Qz+u/66//AAdQLgA8IEKAX2BIUEugPlAj8CeQHTAFAAs/8g/23+fv2N/H370PrL+kv79ft//N/80Px8/FP8tfyQ/fL+awCUARIC+QGjATABCAFmAeMBUQKcApECLwKlAR4BxQDEANQA8QAKAbcARQDq/+D/KAC6AEsBlQGQAbQBDAKNAh4DWAM5A6cCOwIWAgACEgLqAVwBuQAmALf/Qf+f/tT98/xS/Df8pvxD/df9ZP7R/i7/lP8QAEIAXQB/ANcAlQGPAmYDHwSQBBcFVAUsBV8E+wIoAuUBPQKqArYCsAI8AnABWABJ/0z+fP0f/Tj9jv0F/mL+5/4B/7P+K/5I/vz+uv9dAIYAkwCGAI0ApACxAK4AdgBhAFIA4P9i/+v+Z/5f/hP/AQB1AEIAy/8v/+7+hP+hAFEBrgH0ARgCdQJrAjwCGgI7AoQCHwKeAZ4BhQEKASQAQf/3/hz/AP8v/jv9DP0m/Sj9D/0I/Un90f1r/n7+Gf6u/Yn9o/2f/WP9l/27/Qz+Of6O/TD9X/31/Uj+7f24/en9Nv55/nn+V/5Z/qP+Gf/4/tH+U/8OAHMAlADaAB4BCQHLAJQA3QBtASYCKgJ/AUcBOgEhARwB7wCsAK4AWgEGAh8CnwFJAQgBSwFdASsB0wDnAGYBPgGdAPL/Sv/3/vz+0f7X/rH+sv5F/lP9yPzO/IP9Gv5i/tb+u/53/n/+mv4e/73/kQBiAd0BaAKbArcC7gI0AywDhQJ8AggDIAPfAgMCcAGWAbYBSgEzAGz/0/8PAJf/xv5E/mf+Z/59/nP+Hf6a/or+O/7k/bL91v0B/i3+Zv5k/sT+f//v/+v/k//U/0MAWgD2/8z/0AApAlUCfAEGASgBZgH1ACoA4v+PAPkAmwDx/43/jf/W/wAA5f90/1z/jP8P//T+q/+uAAMBSADz/1AAGAEpAd3/ff5B/qf+6f6P/vz9XP2T/Z7+AP9e/vT9yv4LADYB7QERAqwC2gMWBLcD/AOXBMYEzwPfAlAC+gE8AvYBVQHgAFoADgAmAP3/Bf+8/RD+LP9I/xP//P7i/kP/fv8O/+z+Q/+u/0D/uf7u/gP/rP4+/rz9Kv1t/Wj+Cf8F/9j+dv5h/nb/tAD7AAgBywFFAlcCkQKaAuEBxAD9/5v//P97AOn/Jv4//Rf9E/0A/e38p/yO/F39f/4E/4z+yf3W/Q3/NADrAGMBEQJvAjICNgIkAn4C4gIdAxcD2QIdA/cCLwJmAXsANQC+AFQBPQFxAFAAVQDX/2D/aP/L/xUAv/9H/3r/KADMAE8A8/+GAOsA3gAQASEBUgBG/2b/nv8c/2L+Gf5L/iP+qf0m/Sv9p/3x/R/+vf6e/xwADQATAEEAhgAOAZwB6AGpAfgA+AA9AVcB8AB5ACoAUAA3AHX/0f6U/qL+EP6y/Rz+ef5s/oD+tf7L/vX+hP8gADkAMwCNAK4AuwDSAE8AMQB6AIUAGwDf/3EAewA9AAUA+f8pAGUA1ADwAMoAlAAXAMT/AwBUACMAxf+z/7f/kf9p/wD/av4r/gz+f/72/hz/2f57/kH+SP6d/vT+L/+s/1gA7QACAc0A4gDGAEcB+AELAscBRgLcAmECkAEMAQAB6wCbAKIAswCBAG4A5P8n/87+t/7X/iP/o/9i/9X+yv65/nn+sv6P/y4ARQB4AJ8AnwCrAN0AlwAtAJ4AGQEeAdQArgBfAOz/AQBxANwAsAAnAMv/nv/Z/+b/0v+y/6b/AgBNAHsAGwB4/zT/PP+w//P/v/9h/wH/Z/7a/Zf9U/15/RX+qf7p/gD/KP9O/6r/5v8HAGIA/QBtAeQAQQBrALkAxACqAB0BBQJ2AmMC7QHBAYABywBhACMA0f92/xP/vP4v/pf9MP15/XL+IP+m/zkA4wBgAZ4BRgJoAtoBoQEjAkUCxAF1AdMAIgCa/37/yv+y/zn/r/6z/ur+uP5E/vz9NP6S/hf/uP9CAJQA3wDTAIsAWgClAOMA0gCMAPH/f/9M//b+p/44/gj+Kf5u/vv+mf/m/9n/tP/M/5QAMgEyAS8BQgF3AVoBKwHsALEAvgCLADAANABWAFkAvv81/wX/U//m/+3/lf9i/8D/WQA2AOj/m/9+/9D/DwAhAAoAHQAwAPL/5P/r//f/sf9g/63/QADFAIsAOgA/AIIAigA8AEEAZgCzAKwAdAB0AHgAQADv/5//TP9H/4//wP/U/5v/Rv8//1z/qv/e//D/FQAmAD8ApQDwAN8AOQD7/z0AeQDEAKIATwDm/8T/0v///y8AEQCI/yL/m/8pACgADgDR/77//f91AMsApQBxAK4AFQFPAQIBkgBTADQArv8m/w7/Kv/i/pf+gP52/pr+5P5K/6z/BABVAIcArgDjAPMA9wD9AOUA+wAdASwB+AB1AAIAvv/U/////f/i/8f/wf+o/27/Sf9h/7j/FgA0ABwALwALAM3/pv/B//j/sv+V/4v/c/81/wT/3f7I/tz+/v4a/xv/HP8N/w7/Zv/t/0oAmgC7AM8A4AAyAZUBbAEjAfcAzAC+AKwASQCb/zT/Av/E/sz+Av8F/6T+tf4A/x3/mP88AJUAdQBzAJgAqgDaAM8AjACRANIAzABiACoAEwDX/9b/BwAPAD0AdgBbAAoA//8tAFQAaQCRAIQAWwBWAEIADwDJ/2D/FP8Z/yD/IP8x/2D/LP8Q/1j/wP/2/+z/PQCSAM0A8gCtAGIAUgB5AJEAogChAHUAewB/AHUAZQBsAF8ACAARAGsAkgCeAG0AKAD9/0AAtgCSAIUAeAA/ABAAz//L/83/wf9r/wP/G/9C/yP/Iv87/2L/e//s/1AARwAiAAUASgCLAMUA3wC9AK0AgABYAFMANwAiAPP/zf+l/7P/6P/N/6D/df+F/7b/6/8KAOD/0//J/9P/7f/2/9H/df9h/5X/n/+r/5v/eP9S/1j/xf/X/+T////d/8P/CQCgAN4AkQAwABsARgCbALMAZwAWAAMA3P/E/6T/pf+K/yL/Bf8L/yr/SP86/xb/A/9N/8//FgAJALP/lf/W/zUAeABcADwAKgAFANn/zf8DACEA8f+7//D/UABpACgA/P///wcAPQCRAH4AQgAmAPv/7P/o//H/+//r//v/DgAXAAgA2v+//9b/AQAhAEgAXABVABoAFgAKAAgAIwA9ACgA8P8kADYA/P/P/8r/+f9IAHIAegBgAG8AkgBYAG8ApwC2AJoAbwBYAEYAWABYAAIAv//l//n/0P+7/9j/vf+o/7P/uf/H/+//DQAHAPv/DwBTAEwAKAAeAC4ALQAAABcAawCFAE8ALwBAAFQAUwBYAEYADgAUACAA8v/a/+v/yf+z/7v/rv+s/9D//f/f/7T/4P8QAAcA6//2//f/FgA3ACoA///z/xEABADo/w0AKgAJAN3/0P/9/xoAPQBFACkAKQBPAHUAcwB8AGMAJAD//xMAFQDz/8r/v//S//L/6/+4/5L/mf+f/5f/yf/5/wkA6f+q/7//9/8kADsAGwAPABcAJgA2APn/v/+9/8v/u//G/wMABQCs/2n/iv+T/73/y//D/7b/vf/x/wUA8f/L/5P/mf/W/+b/9//R/6j/aP9j/67/yv/R/9T/uP+e/8b/+f/p//f/EQAYACYAKAA1ADYALAA8AFUAfwBlADsAGAAkAD0AUABUAFQAMQAXAAoA/P/4//j/9v/z//X/8f/4/wsAGADz//j///8uADkALwBPAE8ATABSADcAJwAdADkAMAD8/xoAJgAUAOb/w//F/+L/KABCABAAAwAnADcAFgANAAkACgD9//b/9v/y/9r/t/+N/3H/hf+h/7r/3v/r/+n/6v///wUA/P8EABcAUgBoAHQAYwA9ABwAAgATABgAUABgAEcALwAYAB4AHgBCAGsAUwA0AEgAWwAbAAAA3P+t/77/xf/N/7D/uf/W/7T/mP+b/7P/uv+9/9r/+f8bAEcAPwAaAAAA9v8uAEUAKAAbAP7/6f/L/8X/of+S/63/s/+r/63/wf/L/6j/sf+4/8v/FQAnABQA//8QAC4AEADj/9//AwARAAEA+P/r/wcA5v+x/6r/xP8DACYALwAiAC4ATAA1AD0ATQA5AE0AbwBmAGMAXABVADMA8P/4/w4AGgD9/+z/0v/R/9b/t/+n/7P/3v8DAP7/CgANAAgA6P/a//b/AQARAPz//f/e//D/+f/a/9T/xv/1//7/CgBAAEkAVQBJADwAVQBnAHUAbQBWAFkASgAwABcA///R/63/vf/L/77/xv/U/+b/4//g/wAAAQBGAFkATQBWAFQAVQAvAPb/+//3//z/FAAYAAgA1v/R/9D/yv/d/wkAEQAOACcAMwAnAAoAEQALAAAADQAjABcA/f/k/93/yf+l/5//o/+R/6H/xP+4/9b/5P/e/8//6P8UABEADwApAE0AKQAsAB4AAwALABoACAD3/w4ALwAIAN7/w/+s/7b/uP/N/9z/9v8TAA4A4//o/xsACwADAAQAGAAWAA0A/P+//7P/z//z//f/6f8kACYABQAPAPj/5v/j//P/1//S//D/EAD7/9n/4v/z/+z/3/8EAPv/DQA5ADMAIwAWACIAIAD+/zAARwBMAGUASAApAAIA9f/9/9H/2f/5//P/3v/i/9b/3f/K/83/6v/j/w8ACQDv/wkAFQACAOL//f/+/wgAAQABACIA///x/+v/1P/P/9z/5v/j/+v/+P/5//n/AAD3/+X/9/8gACcAFQAeACQAFgD5//L/BAAAABEADwD1/w4AHAAdAPP/4v/9/w4AAAAUAA4ABwAWABYABAACAAsAKgAvACYAQAAuACkAGgADAAIA/P8eAB4AHgA7ACoAEwD9//7/5P/Q/+D/AQARAA4AHAAQABUA+f8QACwALABJAEIAPwA3ACYACQDc/9j/4P/o//H//v8DAOX/4//W/9//1P/1/wMA+P8WABUAMwAYAA0AFwALACMAIQAqAB4A/f/y/9L/xv+s/67/uP/M/8//z//D/7L/s/+n/6X/uv/e////BwD/////8f/e/67/p//Y/+X/9v/f/8f/v/+w/7T/pP+j/8P/yv/a//b/DgAEAPj/CAACAN//AQAsADoARQA1AEoAIwD8//f/5P8QAB0ALwBAACkAGwDq/9b/2v/i//b/GAAgACkAIAAWACIADwD7/wsAEAAxAEgARgBMADwAIAATAP3/BQAYADAAQgBgAEMAKQAaAO//9v8FABsALABPAFYASAAvABwALwAiACAAJgA3AEMAOwAdAP//2P/q//X/+/8aAAoAHQBAAAgA8v/p/+L/DQAAAAMAGgAbAAsA///w/+z/9f/4/wAAFAAvACYALgApAA8ABQAAAPX/+//7/wsABwADAOT/uv+5/7r/uf+x/6D/pf/M/8b/vf+y/7n/tv/F/9f/yv/c/+//5v/T/+P/zP/K/9j/y//c/+n/6//a/8D/uf+6/8v/xP/Q/+//6//q//b/8P/X/+T/5v///woAAQAVABQAAQDo/+T/0//e/wMA///+//7////z/9D/0P/T/93/6//7/wUAEAAIAPj//v/7/xoAFAAcACoAIQAwACYANAAYAAQAHAAdAC0AKAAdACoAIAAaABcADwAgABgAHQAPAA0A/P/p/+r/AQD8/wUAEQAIAPv/5f/r/9//4P/c/83/0v/k/+b/9f/m/9P/3//k//P/8P/w/wgAFQAaABwAFQAOAPz/9f/+/wMAEQA0ADwARQA/ACAALAAkACQAKAAsADEAPAA0ABsALAApABAACAD1//3/DwATAB0AGgAbABsACwAHABgAAgAVABoAEQAYAPX/EQABAOb/5v/y//f/6P/7//X/6v/s/9z/4//o/+j/7//5/+v/7f/3//H/8f/3/woAAAD3//v/2f/i/9D/3v/z//j/AQAOABAABQAHAAoA//8HAAQAJgAqACwALAAeABoAEAAVABYAEwAUAB0AKQA3AC8AKgAYABEACQAUABoABAABAAcACQAFAAMABQAVAAEACgAQAA4ABAAOAB0AHQAcAAUACAD9/+b/8f/p/+L/6v/m/+n/1v/m/+b/4P/t/+//9//8//j//P/7//z/AgDd/+r/7//i/+T/8f/m/+j/9f/p/+L/1//T//P/4v/q//3//v8DAPz/EAALAAcABQAFAAoABQAFAPX/8v/1////+f8EAPj/7P/1/+b/6//4/+//+/8CAPz/BQD2//b/AgDx/woAAgANAA4A+/8HAPj////g//n/CwDk//j//f/3//f/8v/v/+3/8P/y//L/8P/t//z/CQAkABQAFQAFAA4AFAAJAB0AHgAYABAAHAAgAA0AEQAYAA4AFgAYABMAFwAuACMAFwAeACgAMwAnADcALAAgABwAFQAXABgANgAhABwAJAABAP3////r/+b/6v/2/wEA6v/p/+X/5v/o/9//4//o//v/AAD+/+//7//w/+3/5v/m/+n/7//3/+L/6v///+//9f/2////BQARABsACwAQABwAEQAWAP3/CAAHAAkACwAWABQADQAbAA4AIwAcACMAIgAgACYAHQAmAB0AHAAWAAIABwD9//v//v/4//j/6f/8/wUA/P/3//f/9f/t/+T/4//+/+z/0f/g/+b/2P/d/9z/0f+9/93/0//Z/9L/2f/w/9b/5v/f/9f/0v/e/+3/5f/j//X//v/r/+n/8P/3/+n/8//r//3/+/8DAAcA///3/wsAHQAjAC8AMAA8ADAALAAqACgALwAqACYAMwAuABoAIAAXAAAACgAVABUAGwAKAAgA+//y//j/3//d/+v/8f/w/wIA///j//P/6P/s//3/7P/3//P/8//f/+P/6f/r/+z/7f/x////BAAIAPX/+/8OAAkAEwAeAC4ANQA0ADcAJwAsAC0ALwA7ACIAJwA2ADkAIwAYAB4AGwAXAA8AEAANAA8ACwAQAAQAAADw/9r/2f/i/93/3v/c/+r/7//1//X/6v/y//f/DwAJAPn/+f/v/+P/5P/k/+n/0f/T/+j/4P/e/+j/6f/o/+n/+//7/wUA/f/8/wEA7f/o//f/AQD4//P/CAAVAAkAFgAcABMACwAFABgAEwACAAkAEQAKAPb/AgAKAAcADgADAAoABwD+/wUA+f/5/wMACAACAP7//v/y//v/8//x//n/6f/j/+b/7f/a/9f/1//P/93/0//X/9T/0f/X/9T/4v/l/wMA/v/1////DgAPABEAJwAbACMAFgAbABsAFQAkACMALQA5ACMAJAAgACQAEAAIABMAFwAUABwAIwAYACAAEwAQAAsAKQA1ACkAMAAmABoAFwADAAAACwD///n/AAALAA8ACQANAP3/8f/r/+T/8//l/+b/DQAAAPP/8f/3//H/6P/3/wcA/f/1//n/5v/f/9H/2v/U/9f/1P/m////5v/r/+z/6f/r//L/8v/q/+P/7f/1//f/7//+/wAA8/8CAAgACgANAO//9f8EAOz/6//2/woA+/8DAPz/9v/4/+3/8v/4//L/6P8AAAsA9//7/wMABQD2//z/7f/j/+X/3P/w/wEA8f/1//z/6//t//z/+/8AAPn/8//t/+L/7P/o/+r/+P/7//7/AQAdACkAOgAkACoAMwAtADEAKAAvADAAHgAgACYAHgAgADEALgAuADkAJgA0ACQAIgAoACkAHAAbAB4ABwAIAAcAEQADAAQAGAAXAAUAEAAKAAgABwDw/wIACQDy/+z/7f/p//b///8NAPf//P8HAAkACgD3//f////r/+n/6v/c/9f/5P/2/+n/3f/f/+T/6//2/+//8f/a/9P/1v/N/+n/0P/W/+X/3f/3//X/8//x/+r/3//e/+j/7//x/+r/+////wEACQACAAcA9/8DAAoA+/8FAPH/7P/l/9z/5v/a//P/8v/y/wAA+P8CAAMA+P/+/+v/5f/z/+z/8P/3//L////s/wQACQAVAB4AIgA1ACgAHgAkABwAHQAmAC4AJAAgADsANQAjACcALQAdAB4AHAAiACMAGAAVABQADwANAA4AAAABAAAAIAAbABEAJAAkABsACQAEAAsABQD//w4ACQD+//z/8//2//P/6f/k/+3//v/8//n/8v/e/+L/5f/4//7//f8AAP//BQADAAQAAwD7//7/+//+/wAA9//9//n/8f/4//j/8v/z//L/7//k/97/9//3/+L/5v/o//D/7f/y//7/DgAKAP//EwAYAAcA/v8EAAkA/f8HAAEA/P8HAAEAEwAJAAEAFwARAPv/BwAWAPv/+f/z/+j/2P/W/9z/1P/X/8n/3v/j/+L/7P/o//3/7f/x//j/9v8FAO3//f/8//D/+P///wgAAwALAA0AGwAkACIAIgAvABwAHgAsABgAKAAhACAAIgATABMAGwApABYAFAAhABUAGgAkACcAFAAJACYAEQAWABsAFgAeAAEACQACAPb/AwD1/wAA/v/o/+//8//9/+n/6//q/9j/8v8EAOj/7//r//D/8f/o//z/AAD1/+P/7/////n/CwD///7/CQD+//3/8//y////6f/3//P/3v/1//L//P////D/BAD7//f/CQD8//X/6f/q/wgA+f8DABUAAwAHABAABAD4/wcAAwD//wIA8v/1//v/8v/g/+L/6v/a/+X/7P/p/+//AQAAAPz/AQABAPf/+P8BAOj/8//j/+n/6v/Z/+n/6//z/wIA+//2//n/CAAEAP//DgADAPz/DwAUACEAEQAOABgACwAPAA4ACwAdABEAGgAhABAAKQAOACEALgAWACcAMwAwAD0ALQAUAB4AFwAmACAAIQAjACAAHQAWACYAHQAKABEAEwATAP//AQABAPL/+P/8/+b/7P/s//H/+//w/+//9//r/+L/7P/p/+D/5v/d/9r/4//s//7/BQAPAAEABAD//wgADwD3/xEADQAOAA8A/P8NAAgAAwAYABUAIAApABUAGAATAA4AFwALAAEAAAD///b/9f/+//z/+P/7/wIAAwD5//z/8//q//D/8v/l/+T/0//Q/8z/0P/N/83/1//D/9L/0P/S/+D/yf/j/+P/0P/q/+v/4//m/+z/+f/s/+v/8f/z/+//9f/8/+j/6v8FAAsAAAAOAP3//f8TABEADQAOABEABQAEAA8ACQARABoADgAcABAAAAACAAAACwAQABUAFgAPABcAEQALABoAEwATAAsA+P/+//f/AwAAAPf/BADs//v/BwD7/xcAIgAiAA4ADgALAAUAEQAPAAsACgARAAIABQAQAAQA///8/w8AFgAXAA4ABQANAAgABwAWABsADwAjABoAIQAoACIAHQAWACMAIAAVABUABwAHABsACwAgADAAJgAnABYAMAAiAA8AGwD5/wMA8P/m/+j/1P/e/+P/3//m//3/BQD9//D/7//r/9//8v/j/+r/8P/x//n/5f8FAAIA/f8LAAoA/f8BAPz///8JAP7/EQANABAADgAjACIAAQAPABAADQAPAA0AFAAFAPf/AgD8/+j/9f/2//b/7P/7//3/6v/s/wUABQD8/wcADwAKAP7/+/8CAPj/CAAFAP7/AwD9/////v/5//7/CAD8//j/8//x//L/7//f/+z/6P/P/8//0P/H/9j/4P/j/9//3P/M/83/5P/P/+P/4//f/9//yv/a/+n/y//l//3/8v/q//f//v8FAA0AFgAFAAoABwAKAAgAFwAaACcAJgAgACQAIQAbACoAIQARAAoADQABABYAFgARACAAAwAUAP7/CwAEAAAAEAAFAAoAEwAYABMAFQAhABsAGAAiABoADgATABEAHAAUABYAMwAxABwAJwA1ACAALAAoAC0AHQAhABUAFQAmACAAIQAsABsAHgAvADkANwAzACIAKAAnACwAIQAjABAABQAcAAgAAwD+/wIACAD9//D/2v/k/93/1v/f/+j/2v/o//P/3f/P/9H/4P/P/9r/6P/S/9f/0v/c/9z/3P/Y/83/zP/J/7H/sf/L/8n/y//G/7r/0//U/97/3v/e/+j/3f/S/9L/2f/c/9D/1v/m/9n/0f/p/+v/5v/w//z/8P/s/wMA8P/1/wUACgAHAA8ABQAHAAsAFwAKABAAGAAVACIAIwAsACQAJgA5ACgAKgAsADQALAAmADUAPwAmACEAKAAsACAAFwAdAB4AGwAXACYALQApACAAMQA0ABoAKAAxADMAKAAdADMAIQAkACQAIwAQAAsABAD///z/AgABAPv/BAAJABEAAwAAABAABwD+/w0AFQANABEABAAOABQAAQAHAAQABAD//wMA+//7/wUACgAEAPv/+P/2//f/AAAAAAUA+//7//z/9f/1//L/3f/c/9f/5f/m/+L//P/q/+z/8v/5/+X/8//3/+r//v/x//D/5v/o/+n/5f/e/+3/4P/k//D/2v/f/9b/4P/U/9H/4v/e/+r/7f/5//D/6f8FAAEA9v8KAAUAAQD//wEACgD2/wgA/////wgAAAAUABoAEAALABAA//8aABwAHAAiAA8AEwAUAAsAFgAbAAcAFAAQABEAAQD//xsAFwAEAAcAGAAXAAcAAgAPAAIA+/8IAA4ADwAQAAkAAgADAPb/9f/o/+3/8//r//n/7/8BAAEA7//5//H/6v/w//j/6//y//X//f/3/+r/8v/z////6//4//v/7P/2//7/CgAOABYAFgAYAAsAGAANAPj/CwADAAcAAgAIABgAEAAJAA0AAAATAPL/8P8OAOz//f/+//3//v/1//P/BAD7//L/8P/t/+v/6/////D/8//5/+b/7f/l/9H/yv/P/+T/4v/M/+L/3//R/9z/4v/2//f/AAAOAAAABwD9/wQA/P/7/xQAFwAWABQABwAVABsACwAKAAsAAwADAPv/FgAIAAoAIQAUABgAEAALAB4ACQAIABwACQAaABEAHgAhABUAJwAzADEAHQATABoAGwARABQAKgAmAB4AFgATAAsAGwAWAA8AGwAYABAAFQAYAA8AEAAIABQABQACABAACAACAAEAAwAAAPv/BQD8//3/AADj/+T/8f/x//z//P/+//v/7P/2//P/AAAAAOn/4v/g/+L/5P/o//L/6P/i//3/8P/w/wcAAQAHAP7/9////wQA//8HAAEACgD3//3/AADp//7/8P/3//n///8KABUADwAPAAgACAADAPb/DQD9//D//v/4/+//3v/p/+D/0//i/+P/3//e/+j/7P/a/+3////r//L/6f/7/wMA8/8FAAQAAAACAAIABwAEAAgAFQAQAAgABQAPAAoAEwAPAA8AFAD4/wIAIAAUABAAAQAVAA4ACAAWABcADgAEAAsACAD//wQABwAAAPn/EwATABQAFwAIAPv/7f/w/+b/6f/y//f/AgDx/wEABAAHAA0ABAAPAA4ACQAIABMABAADAPX////8/+z/7f/k/+v/7f/o//j/6f/k/+3/3f/t/+//5v/v/+r/7//q//X/8f/z/wAAAwDz//j//P8EAAAA/P8DAAQACwAIAP//DgAAAPn/AQDi//b//v/z/wMA7f/5/woA6v8CAP7//v8DAPv/CAAJAPn/BAD8//n/DwAHAAUAAQD8/w4A//8FAAMA+P8FAPj///8QAP3/FAATAAkACwANACIAFAAWACIAFwARAA0ACgAeABcAFwAaABQAIAAKAAsAGAAWAB0AJwAvACQAIAAnACoACwAXABMACAAkABcAIwALAAAACwADAAgADgAaACEADgAPAA4AEQAaABcAGAAeAA4ADQAIAAEA+//v//X/8f/X/+b/8f/g/+T/6v/3/+r/5v/+//n//f8EAAUAAwD4//3/+P/w/+L/8f/2//H/BADy//L/+f/4//n/+//8//v/AQAFAAMADQAIAPn/6//r/+P/7f/f/93/7f/j/+b/5P/W/+j/8P/s/9//3v/f/+L/3f/c/97/3P/Z/8v/wP/T/83/1P/k/+b/4//l//7////8/wEAFAAFAAgAEwAXABgAFQAXABYABAAWAA0AFAAgABUAJgAWACMAHQAaACEAFAAeACcAGwAYACIAJwAjAB0AGwAVAAIACAARAAoAGgACAAMADQD//w0AAgAQAAkACgAKAAIAEAANAA8ABwADAAsAHQATAAQACgD2/+//7P/5/xAAEQARAAUA/v/8/xYAEQAXAAoAAAD5//n/DwACABEA//8HAAAA9/8IAA0AAQAJAA0AEwAeAA0AHAA2ADAAIAATABUAFwACAAoA+//v//L/9v/1/+n/7/////j/+P8JAP7/9v8CAAMABQD8//3/6//m/93/0v/S/9T/w//F/8P/wP/L/8v/2P/c/9L/6P/c/9H/4//t//H/3f/q/+X/5P/Z/+r/7P/i/+3/4v/k/93/7//5/xEADwD//wIAAgACAAUADgAFAAUACQABAAAAAQAHABAAAgD//wcAAAADAAgAGgAYAB4AGAAdABEADQD+//7/AwD7/+z/6f/r/+n/9v/r//b/6v/8/wEA7/8AABUADwARACAAEAAdACoAJAAhACIAHQATACgAFQAgADAAKQAiABsAJABDADsASABKAEcAOwA8AD8ATwBFADwAQQAnAC8ALwA1ACkAKAAtAB0AHQARABwAIwAWABAAEAATABQAFQAaABMABwD9/woABAABAAAAAQDz/+X/+f/x//L/8f/o/+X/7P/o//n/8//r/+v/9f/y/+b/9/8AAPn/6f/l/97/1v/U/9r/1P/R/9P/2P/S/9L/3//w/+D/1//l/+z/8P/Y/9P/4P/H/9H/4P/i/+D/2v/Y/+P/7P/v/wIA///5/wkADwAIAAMADQANAAgABwD9/woA+f8CAAQA9f8DAAQAFAAQAAIAAQAEAA0AFgAWAA4ABAAJAAEA+P/5/+z/6P/1/93/5f/3/+v/7P/f/+n/7//r//D/+P/8/wAAAQAQAAMAFAAXABMAEwD///j/AwAAAAEAAwAJAAsAAAAFABQADwAOABwADgAQACQALgAnACYAJgAYACEAHgAtAA0ADQAOAAIAEwARABwAFwAUAA0AHgAaABMABAD4/wUA/f/r/+z/7P/s//b/6//r//b/8f/1/+z/8v/w/+3/AgAEAPz/+P/z//H////x//H/9f/t//H/8f/1/+v/8//7//P//P/2//H/8//s//f/9f/2//b/CAAHAAUA/v/4/xEAEAAAAAcA/f/w//v/AwAKAAUA/f8OAA8AEwAkACYAMQAsAB0AJAAiACwAIwAUABUACwAFAAMABQAAAAoABwD8/wsAAAACAAIA/v8HAA4ACQALAAcAAQAWAAgADgAPAAQACgAJAPD//P/+//3/CgABABQACgALAAgA+f8OAP//DgAQAAkAAAAWAA8ACQAQAAEA/v/4////CAATAAQACQD3//H/AQDz//H/AgD4//b/9//k/+z/4P/c/+X/2v/3/+z/6//5/+P/6v/r/+n/4//r//b/7f/z/wgA/f/7/w0A+f8JAA8ABQD+//f/9f8FAPj/6//4/+3/7f/i/9//5P/q/+//+P/i/+P/+//s/+v/8//z//j/AAD9//7//P8NAA0AAAD+//3/AgD9//f/7//+/wIAAgD4//7/+P/x//3//P8FAAcACgAFAA0ADwABAAkACQACAAgACwADAPf/9f8JAAoA//8HAPz/BwARABQAFQANABAAFwADAB0AGwAQABUACgAIAAQAHQAdABwAGAAgACMAGgAcADQAJgApADMAIgAcAA0ACgAFAPP//P/3//P/8//t//z/8P/w//X/+//7/wUAAQACAAcABAAQAAAACwAFAP7/DQAQAAsAEQADAPz//f8EAP///v/y//n/+/8BAP//9v/2/+v/9//3//L/9v/5/+3/8P/v/+X/6v/t/+b/5v/x//z//f/v//7///8LAA4ADQAKAAMACAAFAAMAAQAJAPv////9//z/DQAJAAkACgAEAAIAHgAFABMAIgAeADMAEwAOAAsAAAD+//3/8v/p/+r/8P/3/+D/6P/q/+r/7f/m//z/+//2/+r/8v/1//P/+P/7//b/9/8DAAkAAAALAAEABQARAPz///8PAAcAEwAXAAkAIAAaABEAGgAJACkAFAAeABsADgAmAAIABQAFAAIADgAKAA0AGgAVABMAJAAeACAAEAAhABEAAwAEAP//AQD5/+z/5f/s/9//3v/f/9n/4P/k/+n/8P/d/97/6f/i/9T/0//T/+D/3P/X/+D/0//d/9f/w//i/+r/5v8JAOj/5f/+/+//AADz/+r/6//k/+v/8P/v//b/CQAAAPb/CAAAABcAGgATACAAKAA7ACkAJgAtACAAGgAVABsAHAATABwAFAAJAP//9v/1//n/AwD4//3/FwAYAA4AGAAVABUABwD//w8AAQAAAO//8//2/+3/6//2/wMAAgANABQAFgAXACIAJAAnABYABQAbAAIADgAJAAkAEwAJABAAEAAJABMAEwANACAAFQAWACgAJAAkABwADQAFAPz/+f8FAPP/6//q/+P/6//m/+T/5v/W//L//P/v/wkAAAACAAcABwAHAPL////4/wcA///z/+v/7//w/+3/+P/o//X/7f/o//H/6v/7/wEA5P/8/wMA8v8KAPD/+P/5/+v/7//j/+b//P/v/+3/8v/2//X/8v8HAAQA9f8OAAgA///2//b/+P/o/9j/1v/a/+L/6v/q/+T/8P/y//z///8EABMABAANAAUACAAiACAAMAAnABgAEQAIABUAFwAIABEACQD8/xgAGAAhADkADQAXACEACgAgABYAEAAOABMAFAAEAAgAAgD4//n/CQAFABYAFwADAA8ACwD4//j/9v/8/+z/1P/w/+D/2f/W/8P/0//S/9b/3f/l//j/8P/j/97/6f/s/+v//P8AAPf/8/8JAP3///8FAPz////s//3/BwD//w0AAQAJAAkADwAEAAMAAwADAAQA/P8KAAAADwAXAAoACgAAAAUAAwADAO//BwAEAAAA8f/c//L/3v/1/wAA9//y//P/9v/m/+b/6//4/+z/3v/x//3///8BAP//BAAaAA0ADgAeACIALAAWABMABQABAA8ACwAJAA8AGwAUACMAJgATACAAIwAjACcAFgAhACAACgD5//z//v/+////CQAHAAMABAALAAoAAAAHAAsA6//z//f/+//y/+r/9f/x//f/5f/o/+3/7P/l//H//P8BAAQA+//2//X////2//v//v8BAPz/AwAVAAAA+/8HAAEABAD//wEADQAKAP3/9f////n/+//v//X/BQAOABUACgD5/wEABwDk//P/3v/Y/9z/z//N/9D/5f/U/9L/wf/E/7v/v//P/9b/0f/W/9j/2f/F/8n/2f/Z/9f/0v/P/9f/2f/q/+r/5v/o/97/8f/x/woAEwAaABoAFAAYAAkAEQAJABMADwARACIABwAXACQAIQAnACAAKgAnAC0ANQAxACwAQwA0ACIAMAAiACIAIAAWACYAFQAHAP3/+f/+//v/AwACAAsA+f8IAA0AEwAdABEAFAAPAB0AGAAXACMAHgAXABoACAAJAA8AAwALAAsA9/8EAAkACgAUABYAFwAPABYAEwAaABcAEwApAAsAFQAcAAIABAALABAAEwALAAcACwAJAAcADQAFAP//8//5//f/6//q//b/9v/y//X/+P/8/+n/8//p/9f/z//m/9r/1P/Z/9//2v/T/8n/yv/M/9T/5f/i/+j/3P/Y/9L/y//U/9j/3//c/9z/yv/X//L/9f/2//z/CwADAAMAEwAXACIAGAAUABQAFAAmABEACQANAAQADQD8/wIADwAUABAACQAIAP7/8v8AAP3//v/9//v/CgDy//b/9f8CAPn/+P/3//7/BwD//+3/9//y/+3/AQD1//7/5f/r//L/1v/g/+j/8v/5//3/8v/2//P/AAAFAPj/+/8DABUAAgAVAC4AGgAeABgADwAiABwAFQAVABAAAAAHAP7/+P8BAPz/DQAIAPb/AgARABoAFgALABcACwAVABMABQAIAAgACQD///f/AgD5/+r/AgD2//n/AQAKAA4AAgAVAAAACgANAAkADgALAAkAAgD7/xYAFwD+/wQACQAAAAIAAQAJAAQABAAEAP7/BQAOAAAA8/8JAPv/8P/7//b/8P/w//7//f/3/+//9f8FAAUACgADAP//CAARAAgACQAOABsAFgAUACEADQAVACEACwAXABsADgAYAP//CgAdABEAHQAJAAUAFgAVAA0AGwAiAAoACAAQABQAFAANABUACwAAAAgA/P/1////8v/i/97/8P/e/9D/5P/o//P/5v/e/+r/4v/d/93/zf/Z/+X/2f/l/93/6v/e/9L/2f/g//L////8/+v/6v/2//H/7//1//D/6f/d/+L/6P/7//j/4v/5//3/CwATAAsAFgAIAAIA+f/+//7/AAAAAAQADgALABUAGgAQAAgACAABAA8AFwAgACAADgAJAAsAAgACAAUAGAATAA0ACwAXAB4AFgAjABgAFgAWACMAFgD9/w0A+//w/+n/6v/8//3/8v/3/wUABQALAP7/CAAHAAcACAAUABoADQAOABMAEwACAAIA9v8PABEACAAsAB4ANgAhAB0AIAALAAUA///8//z/AAAOAAgAAwAFAAIAAwDw/+z/6//p/+//9//9//X/9//s/+X/9f/8//D/AwD///X/7//7/+//3f/s/+D/3f/j//D/3//s/+3/6P/t/97/6v/7/+v/8/8FAAkABwD///z/9//3//f/8v/z//v/8f/2/w0AAQAEAAEA//8BAPX///8DAP7/+P////H/DQAEAOv/9//2/+T/3//f/97/2f/t//v/8f/2/wUAAgD7/w4AAAD7/wEABAADAAEAGgAQAAUADwAKAP//DQAXABoAJwAnADkAIwAnACIAHgAhAAgAFQAPAAgABQAFAAEACAD8//f/CwALAP3/AQAFAP3/AgADAPn/+//8/+v/CAABAAQADwD+/w0ACwARAA4ABAALABYAEAALAAUAIgAaAA4AEAAYABsAEQAgACEAGwAUAAEABwD//wsAEAAAAAMA/v8LAAQA+f/1//3/+//q/wEA8P8JAAUA8P/2//D/7P/j/+v/BAD3//P/AAD7////DQACAP///P/7////DgAaABMAIQAPAAMABQAFAP7/8P/1/wMADQAOABYAIgARAPz/+f/1/wEABQAAAAoABAD1/woA8//w//H/7/8CAPj/BAAUAA4ABQD7/wMA+P///wcAEAARAAUACQD9//j/8f8DAAcAAwANAAoAFAACAAgADQD2//7//v8CAP//AAAAAAMABAAKAAMABwD4//3/AQDm/+n/8v/3//b/7//s//H/5v/p/9n/8//o/+v/9f/j/+3/7//g/9//+f///wIA8f/x//H/4//c/+v/8P/s////7//p/+b/9//q/9b/2P/p//f//P8KAAMA9f/y/9//7f/o//H/9f/8/wQAAgADAAUA+//w//f/+P/2//b/AwABAPv/CAANAAsAGAAKAAAACQARAB4AGgAdABcAFQAUABAAIQAOACQAPQA1ADQALAAjABwAJgAqACkAIwAjACcAEAAIAAkA+f8CAP//DwAPAAAACADs//b/7f/y/+z/8f/x//X/BADz//P/5P/r/+X/3v/s//3/8//+/wUA+P/t//b/7f/q//H/BAALABEABAD+//3/9v8LAP7///8bAAAAAQALAAsACwAOABEAEAAIAOr/6//g/+P/7//i//f/AAD+/woA/P////f/8v8AAPj/7//+//n/9f/r/+L/7P/m/+n/8v/3/+///v/r//D/4//N/+P/6v/s/9f/7f/q/+b/6f/r//3/9//w/w4ABADx//7/+//z//L/AwD7//3/9f/9/wMACAAHABwAIwAUACYAFgAbACgAHQAjACAAGgAYACMAKAAxAD0ANQAmABoAFgAUAA8AHgAjAA0AFgAUAAsABwABAPz/8v/8//7/6v/g//j/8f/g/+v//f/7//X/5f/r/+r/8//8//j//f/3/wcACAD2/+3/5v/T/+X/6v/2/+//7/8CAPf/+f8JAP//+P8EAAoAAwABAAkAEAAaAPv/BQD///7/CAAEAAEABAAHAA4AAwDv/wMA/f/v/wQA8//v/////P8JAAMABAAOAAAADgAEAPX//v/2//H/9f/7//H/9f/1//X/+P8LAOz/4P/2/+3/9f/2//X/AADy/+v/9v/8//H/+P8WAAUADwAWABUAFQAIACAAFAAIAB4AJAAiABcAFgAiACEAGgAgABAADQAmABsAFwALAAsAEAAYAB0ALgAkACEAIwAhAC0AKAAuACYAJwAiACYAGgAVABcAFwAaABQAIgAhABAAGgAWAAsAEQAAAA8ADQD5/xYAEwD2/xQADwADAAEA8/8CAAIA7//1/+//6v/m/+n/4//p/+T/6f/k/9H/1v/m/9j/5P/e/9b/5v/M/9r/4v/N/9f/3f/M/9L/6P/T/93/2v/d/+b/4//t//X/8f/3/wQA9f/7/wMA+P/1/wAA7f/1//n/8f/9//b/+P/3//P/+f8JAAIACgAdACQAKQAaAB0AHAAQABsADgAJAB4ADQATAA8A/P/x//X/+f/9//3/BAAIAPD/AwAIAAUABwD1/woAAwAHAAoAAAADAP3/9//x//P/6/8CAA0ADgARAAsAFQAgAA8AGgAkACMAJwAaACkAFQAHAA8AGwAUABsAEQAYABYADwAhAA4ACwAYABMAEAADAPn//v/9//H/7f/+/wMA+f/r//n/4P/S/9r/0P/R/+D/2f/Y/93/1//S/97/6f/2//L/9//2/+P/6P/g/+z/9v/o/+j/7//q//X/+f/8/wQA//8CAAAABwAJAAQAGwAJAAEACQAAAPz/CAD//w8AJgAcABYAEwACAA8AHgAcAC4AFgAJABAABQD3/wQA/f/4/wcA8f/y/+D/7P/9//P/7//g/+v/7P/a/+v/6v/r//H/+//+//z/9f8EAAMABAALAAgA/P8OAB4ANAAsABMAHQAQAAcAFwAcAAoAEQAKAP//AgAFAA0ACQAYABMAEwATABQAIAAaABAAFAAPAAQAAwD//+z///8FAP3/BwD7//v/8f/1//z/+f/1//n//P8BAAoACQABAO3/CQAFAP7/BQD1//7////z//H/4v/i//H/+//5//b/+f8KAA4ACgATABoAHgAPAAIAFQACAAAABQAEAAcA/v/9//n/8v/y//D/9//2//3/BAD9/wIA+f8OABsACgAXAP3/DQD8/+r/AgDi/+n/AAD7/+///P/x//P//P/t////CgD4/wIA/v/8//z/+P8CAPn//v8BAP7/AgD4/+z/BQD8/+v/DwD9/xUAAAALACgACAAxACEAHAAbAA4AGwAYACEAFQAQAA8ADwAKAAQABQAIAP3/EQAWAAgAAgD4////CAAAAPb//v/t/+v/6P/d/9n/4v/P/97/9//k/+b/6P/e/+D//P/v/+P/6P/r/9z/7f/w/+3/CgABAA4AGwAXACwAOwAgAC4APQBBADsAMwAtACMALAAuACAAKgAWABMACAACACMAAAAHAAsAAwAWABoAFAAEAAUAAQARAAcAAAAEAP3/6P/m/9r/z//i/+r/3v/x//z/4//a/9r/2v/q/9j/2P/t/9f/3f/1/9//6f/v//D////r//f/9v/3/+//7/8EAO3/AAADAA8AFgAQACEAFgAQAAkABwAXAAcACwALAPL//v/9/wIA//////j//v/q/+z/AAD2/wEA+P8IAA4A9f8BAAMA/P/2//b/+P/8/wMAAQD3/wIABAAEAAQA//8HAAoA/v8FAAkA9v/z/wgA9f/4/wUA8//r/+b/6v/1//3/AwAAAP//DgABAAgAAgAAAPn/9v/3/+n/5v/c/9j/6P/l/+z/AADr//j/6v/q//z/+f/3/+//+P/z//D/9//7//n/AAAKABAAFQAOACIAJwAkACoAJAAkAB0AMAA0ADoAQABAADsAHAAtACQAEQAgABoAAwD+/wgAAQADAP7/6v/8//P/8f/q//D/AgAAAO//6v8AAPP/+/8CAP//EQAYAP//8/8BAPD/9//5/+b//f/4/97/AAAAAPX/BwD9/+//8P/m/+///P/+//j/8v/2//f/BAAJABYAGgAOAA0AFgD8//z/9f/y/+X/6f/+//f//v8LAAQA9/8FAPf/7f8CAAMAAwAFAAoACAAEAOT/CAAKAAMADQARAAsACQAIAPD/9/8CAPn//v8OAAQA/v/5//P/+//x/+z/9//l/9P/4P/s/9L/0//e/9f/2P/a/93/8v/o/+X/0f/X/9z/v//U/+n/+f8EAAAA9/8NAP3/CwANAP//CgATAAgACgAVAAUAHQAtABMAKAAuACAAMwAxACgALgA0ACQALgA5ABsAHQAiACAAJwAoACAAIAAVABEADwAOAA8A/f8EAAMABAAEAAAAAQD3//n/+P/w//P/6P/y/9r/wf/d/+r/3P/y//L/5v/v/+z//P/5/wAA/P/+/xgACAAFABwABQATACEAEwAgABUAGwAmAA==\" type=\"audio/wav\" />\n",
              "                    Your browser does not support the audio element.\n",
              "                </audio>\n",
              "              "
            ],
            "text/plain": [
              "<IPython.lib.display.Audio object>"
            ]
          },
          "metadata": {},
          "execution_count": 7
        }
      ]
    },
    {
      "cell_type": "markdown",
      "metadata": {
        "id": "xYChRvGe7e46"
      },
      "source": [
        "最後のファイルでは「visual」と発話されています。\n",
        "\n",
        "（日本語訳注：2021年4月13日現在、「zero」となっています）\n",
        "\n"
      ]
    },
    {
      "cell_type": "code",
      "metadata": {
        "id": "PIcSChK27e47",
        "colab": {
          "base_uri": "https://localhost:8080/",
          "height": 75
        },
        "outputId": "d7a56bb6-5a76-4058-a10d-96cd4d60c860"
      },
      "source": [
        "waveform_last, *_ = train_set[-1]\n",
        "ipd.Audio(waveform_last.numpy(), rate=sample_rate)"
      ],
      "execution_count": 8,
      "outputs": [
        {
          "output_type": "execute_result",
          "data": {
            "text/html": [
              "\n",
              "                <audio controls=\"controls\" >\n",
              "                    <source src=\"data:audio/wav;base64,UklGRiR9AABXQVZFZm10IBAAAAABAAEAgD4AAAB9AAACABAAZGF0YQB9AAA8/1X/Ev/a/lX/GP9V/zb/wv4S/1v/JP90/23/4f5V/4b/jP/D/6X/q/+r/8P/w/8MAEMAVQClALcAxAAmAXUBLAF7AZQBlAHFAXsBvwHLAdcB/AHqAdcB8AECAuoB4wGIAWMBUAHoAIAAtwBJABIATwAAAAAAGABbAFsAjACxADgBrAHdAX0CtAJBA9oDzgOcA6MDqQMWA64C0QGZAOj/o/6o/Wr8w/ps+fb3n/YL9cbzRPKN8T3xtvBJ8bfxPvJ38870DPbL96/5UPuW/cP/ywFOBEsG9wc9ClELXwyXDcINvQ7PDnoOqw7gDWANgwxdC+EJfggPB40FiwTGAr8BGQFPABj/VP7N/RX9xvwO/CD8ZPxR/A/9kP2i/XL+wv7t/hj/Bf8w/7f/6P/o/yQAkv+l/0n/YP4E/q79v/wy/A789Ppn+tr5Kfnf+Jz4ffiV+JX4EPmv+VX6H/sO/Dr97P2Y/3oAUAHMAmsDzwSxBXwGIQe0B/EHKAhmCDsItAf2BqAGjQXbBPgDOgNMAnsB7gDi///+Fv53/aH8P/y++437svtK+1b7Vvti+xr8IPx8/Eb9nP2F/mH/t/8eAAEBBwHqAZUClQKEA9oDNgSLBPoE7QTDBLwEiwSwBPgDuwOKA8YCpwInAl0BnwA9AKv/Vf/C/s39tP0D/aH8ZPzd++P7AfyN+2L7jfsM+xP7Bvu3+uj67vqq+oz6mPrb+u76K/tW++/7xvwu/f79VP7a/k//hv/u/9YAdQGyAXACUgJwAroC0gK6AhwDugLLAQgC9QD1APABPgHjAToDHAMoA7UDFwRCBGIF7wU+BqIHBAidCOYIyAhgCNMHWAcNBpkFAAU8BGUDiQICAlsAhv9s/sz8s/zE+3n6Yfpb+mH6kvpb+ir6Bfqd+Qr5+PgQ+Yv5UPvj+1/9jP9VAPABpwIJA84DzgMRBOEE4gVkB6kIfghTCOQGZQMS//P5nfQL8PDtYexs607rf+u16uPoZ+fN5YnlouVC51Tr+fAm97P8oAHvBdoIygonDPgMaQ95EoMVxBidG4Edkx3sG2MZEBa8Er4P4A3ZDP4MyA3HDIILngn2BpwDnwAv/gn9KP1A/RL/NwAHAeIAnv8E/l38aPtt+gD7CPwv/qUAYwEzAi0CygDz/iH9gfsq+gv6bPnC+e764Pnx+D73R/Rd8jzwRe727XDuze+l8WTzKvVJ9sT2PveP+Av6CPyj/rkBhwWpCBoLOgx3DNILMgvdClYKAQvSC4kMHA20DLMLLAvgCHUGQwWQAxwDiQJeAvwBkwBJ/478vfoQ+Wn3y/f89/j4kvos/Cj9Fv75/mf/GAD1AOsCeQRpBp0IZwnDCTEKHQlsCDsInAc2CcMJxAq0DM0MogwyC9UJBAhpBocF4QRjBr8GfAa4BY4Bgfux8eDm590/1mXSXNDJzwHR8NEU0RzOQ8vGyO7GiMcMy5zSx9y25pfw/vjP/8kE6we+CuIOcBX5G6cj7yvlMtM3GDlGNzE1szFSLWAq3SemJ1IoAih0Jj8jcB5oGK4RMgstBz0FqQMFBLEFPgYyBjwEOAGL/pP7Ivkh+Pz3R/mH+9L8Ff39/On7BPnp9gv1qPOJ89LzbPTa9Ar0B/KW7zDszOkw5yflfeWP5ajl/uX25FHkQ+NI4p/jJ+WC6cfvpPUg/MACTQiiDAMRaRR/F6kb8R+zI28nCyq8KuApRSgEJaQhRR7kGXMXmhTHEdYOgQr7BegAe/u99Y3xtO6Y7NTrbOtm607rnOq56Q7puOg56ebq3Oy172TzVPWZ9gL4WPg1+ar6Rfw8/90BRwMbAuP7ZfS97Ork9+DQ3vPdtOAf48rjN+Pl4GLe0tux2RnaDN7F5A3t5/Xn/mQHJA7NEScVQxh4G4sgGCYVLeI0pzsTPwJA1j6zOxs3yjABLCMq0ihFKFYnOiSpIIkaThJuCqkDWv42+uT3ifhP+oT5J/gq9e3wn+y353Dk9OLj49Plpuj+6vTsWO6U7efr1OvD7NHtz/Bs9Bf6PP9SAvcC0gLiAMf9SvtR98r23PbF98P60Pso/XH9c/oJ+Df27PTD9br4Lv39AiQJbA1eEIQRdxFLECsPmg/9EMoTkBYmGZsauho5Gq8WohEFDhkKRAY9BRADAQHKAGD+2/rv9l7zQO8p61Pq9+m/6STsoe6t7q/vjfHg743tuu5m8APvBvG19AX1qPjd+2j7+/uo/e/73PZm8B3rEeeX4fDfbt4F3bnfuuAe3q7bP9tP2bPW5Nam2uXgPOcn7vT1L/5uBYYJbA2wEvoXBh0UI4sqBDNEOmM/KULFRE1GvkPMQP89SD13PD46pTmjODk2FTK8Ko4j7x0LF5UQogxQCs4IIQepAzEAZPzE9n/wsOvj6FXnBOaX5iDptepG6jnpt+ch5cTj/eBj30fhdOPf5Vbo/upb7Fvsx+oa6fXosui56TXrle4/81T1mPWT9qv2F/XH9MDzHfVA+Jv8T/85Ah0J1QlCCToMWg0UCzYOBBJQDycVjxrAFZAW0xrLFL4PkBFnCSwGogz6BFMDpQr1AKP+JQXW9mPyFPz09c/whPn4+MvyQfm//D32wPPo+vb3EvFG+Jv84/YT+4QD+P1q/FsAgfZf7wvwl+YL4tPlW+JA4NviAuDd2vDa/9io0mzTTNei16PcQOUO6Xbu7vX79r77IQKvA8QKwRFyFusfuCddLKIyojffN8k5HDxWOvc7Hj66O3c8aD6eOdA1jzL1K7wl5R/UG/oXyxSBFO0S9A4kDoILaQZZA0P/Mvyp+eX48fgs97L25/XF8onu+eu56dPlueQJ5bnkd+WG52Lo5eVg5jXmk+N25APlnOUT6FHpxe0J7xPtEvFt8KnvjvKN8UryivTo+tX6TPi6At78/vhsDYP9bPSkEsEDSPqVFTwO//4OEIoWHv9lA9MatwCw/nEaywFKAVUYSgEqAHQKrfy0AucE8Pz4/bz+gwdL/AfyZQNQ+8H0Vf+w9RX4VwEg9wv6RfxS+DX+7gCI/CP+vQm3/8LwsPV26WfdOuXs3Afav+T/4crjj+XM4AffKNxC2E7Ytdx749HoPfGy+3T/KQSmBmIF/whXC08O8hZHIDopPjF9N4o8azwZOsw25DFnNBM1CTJiNRs3wDLYMWks7iF8HtIVeg75DdkMPg+rDtYKMgsnB44BgftH9I/z1/IT8iHzQvUK+VL4lPK88Cvt5Omr58Dg3ePV5yXoBezJ7MPsYexo6DTlQOXF5P/hg+U27MburvN/9QL4WPht9dD7DPaq9av/MftQAUEDAgL0DqsA9QD+DG/3SgpPDtHy0wz6CcoAJhnjAR76vRO6B5oBWwDs/W8UfgP09bYXVgVP8SsPcAIC6cACKwU48l/9UwP4/e/7UfzEBcj+jegFBPYGueSpCNsEPezuCaH8U/RwAgH83vep9Kj9bwbR9x4F1QRs/uMPefrd7Z30OuW449HtUOM94zT0mOwK5tfyqus438Lrkufw3wr0q/Fb8ZgEBgABAV8MawMMBR4OMweTD5QZaBhnIbUpcCh5KhMsaigiKUgqLyoYKywspC/cMIQpxynVKlce5xxUHN4QNRKfE1APpg+ZCuEJIghs/nP6SfYB8qXx+/Fs9FLzbvGF8HrsKOpx6lbjrd8A4y/mP+nT5fnmWepb5+DhfORl6oXitOAa6STnMOzx85bq/urb6wDjie709Z76aAAh/V0BDvx6AFUOKQRXBmgdvx5EBgIacSQq8XgWvSsO5OwWMDRB3DgPCzlI4nD87jkw+u/2OinRAR7/lRoFBFUJqQjm+ZESCAdz3eP2RRDA21H3vAQD0tH31gr410zgz/+/34DZXwPs6qDaww567DziXgei78LwQf4B94P9TgkrBcP/3hWfBeT3PgFM81LuXfKz8tftJPrV+rX0v/yz9xTutfS/6UzqwPgt8zz1GwL/A7H/3gaWA/n+Age4BW8G4hORF7YcyiKJKEcpAym+JwgjICj0IQQlaDBrKfYnuDB1IpkdMyNEFOgOhBG9DgAKwhI6FoMHeQmdCCD8Zf3C+b/yG/gg/HT29faU9x31GPYl7VboG+ou6nXoCOkP73PnGulf9CXjyuOl7Lbd5N9c6CXj6+VD7D/p8+YD7zTvEedk6cjrwPga7qT6ngRG+E4EJP/1Cnj+ofwvDR4FnBHhCaAB8htZG24A+xiVI4j3ahqyHTkCTxjPCXwQGQqhC5EXBwHU+ZIE5BA3++L6PP+H6CEVLPe04AsOeOau/RsCrts7+eoB8+Z16MoASOvR39QWy/II0SsFrAFR38v3zQwY3sP64w9C5xMGwgh56zQMPgZ7+0oPHgAi+e8KfO5F7rYEQ+N78t0Koe5X92cJTPO49l38AfJ58D37ufdu+3MJmgF0BSwLSwZNDQUOigh8EDoWSRhwHjMohyJJJlsr9yNlJA0sNSWXG80pMyieHD4n7yu/FFoSpByaDz4GqxMVEVX6uQaKEe7/+/u8+W7xb/ID/Q7ubuMk/zzwYOY3AAnqYuOR8CflYexL6Yjpg+7l4FTwkfAZ453rBuOZ2XPncO6P5R/jz+JG6sHquOgg6Rno/+ul8aD3f/5b9X70NQjYAlT+xACKCDwJZRF4CDAEiDHZB/jqtU/4H8vMXEMTP5HFoSgCZm28pfH/f9fVPdDPXz7yaMZROwwT2s67/aEVA/3fzYwJrxbZv4YA9xU01zbs6vftBMDITOqTIl7DVuhyCCzaG/OS+nHleeJ4/h4AZOC1+YgGCQOk+kf+Bf+ABW8PyvsfChAWxQv9ELof/hb6BEUQERes7aECphSJ+I4B0AVNDV4CgPrUAwcBD+/a/v0CCOnVBKkIOfN7D+oLAvihC8sGfgMnDNAKCw7LFK0ZXySmGWIPzR9UF3MSaBhYGiYZyBJuHSwe9Qr6Dr8UMQBBA+AIlfjaA74F8/nqC0f+5e4CAgf33PYR8LXvKf6b86HzMfYl9nP1MvK67k3v+fDC62rueueU7Q/44OFU8MLd/+Eq8arKB+0u7w/XP/O/7XHgpPXe91zobuxoBSD8r/mkEjD12/paKgUE7vr8GdQWNQj+EXQrpAlnFz0K9RjXOorX5R8QRgzQ1xnnODLfBf8ANYbx9+4aFV74HgCh/NHoxQYV5VXsHiHOzu7nRxZu3mzm0QHz8H/Y0/2b/LrbTe8L/0jwluXa/k714+229Yv5iv1G+Db6+vU7DWQCBfVDCp8F4RLh/nIDCyrm+VoSAzyO9zkQRjw3CsYC8jdiIlboKxiYF/Prsg9yCMf4lQJoADb/GfvD/5HwSvKG8fLvtvUb8+gAzPO59/UF6fbD+t78+vrFBjf7Hf6uEaQJ4A1sEpYD0RTHEdD7gRQdF5H5xxF5Egz7Qx2GDur3RQIIByYLiu8tAjAJ2ep6BYwJFfhb9SP+FPx77RX4PQVe8wPvagKG+k71LPyy9mjxbvti8ZL1KgCH6E35DgIx9sHhUferBWvXJPFt/1PmX/Qq+jT9LfhM+KH8OPc1CBkBe/v0CZUHWwDpFF0ehAPxFRoQkwCNOvwBH+0QLvIMuBSiEQ0PNgkS/w4oRw2m8mLxiiTyG1rAUh/dIu+4jh55EhXEYgU8BN7fSfET8rT46/hV3ovrWAxezSjchiHDyhXSwhdD7BbJLAZW+8/PMfYSEzPb3eNjHojypOePFS4DR+YSHf8INucDLhUagOyOGXkv/wjE+8YygSe5BiIbbzGFF9obASzlGv8bJgagFB8dQ/YF/yEfZf3d7YUNEAP94Pr1ngQV16XjGP9m5gThb/IU7gHkQfmu8+nViOlW9pHrjPWK/YLyBvYeAGT40vya9yIDuQtB9HsK1xQE+RAIJyjlAgf3SSZuCvnwBCArIlr5XxH+KbQHQgkRF+kPPgH8BmEmnP358M85TBFN3MIlExQn4N8CEw+38Xj0ygoc9CD8y/LY6QgCU+pQ2jH2CAcU1izkmgbX7XvosvZI+sbul/Cq+gEBXfwm8owJzg0M3hAglBl6wRIdti/i2WH/6xr4DCr1hxR4FibRPSY+GRPVLxdeFWXlFwnjFMfckwBTFlnhpeOvGwH3UNXyAw3ymeOB+7v0sM9C+sQPNLbN+O4hQMQA9lMWG+DK6F8RaAp+3HMJqBrh4jQRExSW7/IkdAWo+L00Jgvu+tgoeBu5BgA6gR3G83MhITdoE9/9UDqNHYfjVkM/KF3f2S1vLG7xYxmAJubqxPZaF4jkFtxgDYzirdYIAnXt078C6XDzYbcj3ezv08Q92ez09NTW1IAAJN53xPD8UO0F3Z4EE/u47UcNLBQy90H+lBnpD9oD+SUpIBgFsTRqLeoGKDNNG+Ecoy64CoIxzxxEFGRAzBrLAbErCC0B9+oG2DEO83kEJzJ58CLvVh0QDfjSk/t+FtDGzuvJIQHRpd5VE7LaVtDvCqriEcWu/Tjf5tf5CMXkOtdZ9OLsB+TK8YrhltwoG5noVMpmKsr7SLwZIggaGb36/74dtAfU60TyADr96dDeiUo85yPYFEDnDZfhkwrnPU3mfPedRpHdigOHMF33DQG9DswVV/L7Ba4aaPG7A8r7gOyBItvrPeOsLDvmK+3ECoMMVPBZ4cwobwGezwsc4BbHxPgfUSxY0kcI7Spa5p8AIi41+QTwWCj8FPPdvxR6MN7p2fijJQ/4Re5VJg4QQ+OXDf8gp/dW9vsYdwwD6uX92hbJ3ZrfWw7A23PPIAb/5lDQF/V74+DTB/Jv7RvNvezK9obZLvTDBOXgquurAGzrKP2aD5b0dQEUI9MHXAXVIXsZogxyIFQvVhT7GJY35B5DHf4pCCM/KKsYZiA/IzMasBwWKSQYDPuPH2Ygn/tYB9ATVfF3+GoaF/W959oNUuAV5XcMT9QU6YP44Nwp68/nnvXY24XT6Pr63c3cffN/3QXnFOkV5Tb6PdmW6lf8rNr98yz3le778Wz57/vm+VQEFvSCBnkXTuumD0Icpuh/HN8f3PGBFJwpqwDKBbEr0QEE/ps7ZwR49GE5XAWjA38vYvbW/5cqHQSY4v0VmA7j42IY/e6S4kwaFtwl9rEFeNOLBK33xe2iB3bupOfOEtT0DtGpFlYFVN2fCmkBXO0KDTYJtubO/hMUPu31+w8p9P9L5JEgBhjp45UQAwwg5FMubAi92Wo7ugJW1Y8tFBAQ65UQWRZ5CSL5U/lP+tHtNfAI6VPqNvUs3ybpRQLD1LnRl/k54GzTnfRd8nrniPJH+b/35PIh+PUFRQLQADwXARkqDnQY5iBNG4QWCxx+G6UmtyteH0km6SJ2I78j+BZ7FDwhlh/BDJ0gaBM5AlwiXQaS7AMWnwUI7vkNSvsI8wAF4+039vT/r+YX9cH9TOUo70z9DOxl6nfzM/NL7njmjvL4/Q7zE99w8xYIRuVx4D4G9fa23UMAmvfq1rv9FAKA2W31OQs56QftgguM+hrpmhTxB0fvFREFDroHp/xEFLUg8PLjCo0dnfmGGHQYb+1gEswawPPDDt0UbOtpGdcUQNdZEZsQMuRtCSMENvXc5/wGBBIKxYv5hRzD2ej66Ans78bzw/rZB4n48PcQ/gX1OwiLBEb4QBEeAOXzlQc1DSEC9vccDakNBwG/HiUKKeuaGcAHJ/OuH34NW/EIGqAZGfKyD0gXPvLbCYEPWOUi9HoFaOPs4f/0L9102Zjsbtl12vPmW9kH1QjgreSE4bzrOuoA6OT3MPrM8zcAjAm/BpMPRBlkGlEesCWRJbkjMygCMn4unyuSNB04syysJ8QwayndHUseiBn3GmEcAhBXEKAPMweEAygDNwCf+zL33fsA9pHw1Pm88O3wg+6E6jH2oOjn5u76Q+xf4bv0xu7D4tbxK+1R5Mn1jvLv4z7ywPMs6bHsifM676DtRfya8g/qa/jJ9arwjfb++JX8Rfey9jX+c/UnAjwEvfqOBm0O1A0YBUIJUQvNDKMWWAdsDQEZ7AhqEBsMFQdFEAAFWQPCCEYHBQQw9VgHHgUv6+j/bgA/7jH73P/67MrxQvq47XXt8PIT8mH6v/dHA3j+7esiCHwLR/mcBy0ayA0LBMQYwhcHAekP2hauEW0hRBk7DSMcthJx/QgafhuHBZoZFCNJDmMGVwZB5g/S+O+L6+nLgeOh5KTFFMi0vyewTLoZwvbCpcbd0PnYwtPq1m7Z39ta8JL69QCKEVAdsxkVGnUnSCrgLpo6o0GYR95OqErARTNF0EP9QPY6ZDt/QpE9CC30JvweehhrES0HCwktAsQAawON8fDpmOcF54rhDNkG3vnhteH02azau9wg1gLbb99k4BrpE+0a6SzpX+848j7t8e6Y+lUAGQFG/cj+w/8l9nP6v/xG+O7/eAOuAiQA2vlY+NrvHfVNA+X9iQLKBbEFPQUTAUMFGAVLCyUU0Q/pFGsWlAu0DKkIQgkNFAcPzg0nFUAMCQOPAo0FEv/FARoL4wF//moC5/Ve7r31yPDQ8TX5HfCr7D329Owr40To1uwT6HTsmPp89wH3Xvh49AEBmP9jAWUWbA2eDiIbGA6SCYsXQx0TIuEqFTLIMx8d8BT5DZfm9OeO90nsce/F3+/LM8j7uEW5ybfMsF/JnM2cvznIhMlsyW3UHtnK6JH+vATCCBkU3hkQFjwhSTDQNRJIZFMZTZ1LUkphTK5K2ktgVR5R81CWSpE4IjMaKAgaIBkxGPAU2QzoAHH4k+jX31nhsN2e3QfkkOH50xnQdtZr0j/R7Nxt4lXezeWq8N/l2uZ08WLxTP1rB6AG6wzQCscDYgDHAyoOkAz9CyoOmQW0/Xf9nfmL8JjsXu709an+yPny7zrvGumq4oDskPTQ+ygDsP6t91P0O/mO/CH92As4D3gNRBmtFWwImwuPFZ0SRRWZIi0fzRabFZgJRQLzCCEMngkNBkgEC/8L9SXtbOu/6ZrtIfNA6sjmpOdg3fzav9+Y4oDnY+0+7cPn2eqH7d7pC/Xo/xgFbw8FDtQISgoQFkEgKhzXIlIkXRSTDyH9kuf+5aLlS+447dbUdcxXzOzEyMBKvS7EqdMw2ZrVJdWZ2enoz/WM9U0DXBhKIvAjeSVYMnc8qUGiT8BYd11wYSpf9Fp4WSxhn2SsW2Fa71b+RYk7FDZFKAceIR8+FIoDG/0d8DngF9jhz9nNBM4AxqDC0r6PtVS367qEu6/EI8pcyzPNSM+H1TfZ3uTn8KnvG/25Bmf/hwWMCaQJLhGtFSQYWBpzF5wRjxC2DTUNBhO+Ch7/7vqY9cv37v8Q/tH3FfM072nyCvSd9Pf8Hv+h847ygfuGAFgCQwXmCAwFQQhaDZgJ3A7YFX8SbxS/GUMYpxX0E08Tfg20DP4RQAzkBlMDgvzA+LX0gvLA7iDpXOgj4iHggt9V2WjZadWH1UjdpOJC5xHnT+fI5tDjoe4F+s4DQBFnDsgILgxsEkMdUSxsMwUvUij3Gq4R0gsi+U/sNebY5K3uwutE2gbLuL3YuWS6S75Zzg3VjtGczUHJc88f4zv0UgJ8ENATExnXIi0tjzttR6BSnV4YZHNoMmpZZzJq/Wukbf9xtWxFYR5W4UfOOAwwtS7vJzEYqQjl+E7rjt8P1ybRz8o7xW+5e6+wrS6sRbCXspWwira9t8C6WsAavvvGWNLy11Ti/upa8H70Dfe2/jwECAtDEyAQmxAwEz0TyhN8FQobHhiqEgwTWg0SCgUOHA3QCp4J6QqPB6MDoQIh86boeevg73X7xABY+DXwM+mq63XyoPfVBNsJYAiYCaoEggaiEc0W0B18HgYY2hZSFYATpBIUFWIY8xdTETkLFQdt/wH85Pwj/kb9MvdU8NznteEs5L/k/+Ej4mHi4t6D25Dck96o6pn7oAESAMT2d/NXAVkRtRtSHyIbXxZhE6YZRSiKLvswLineFUAMXQGc7xfiDtsa6VLzLuGmzMu05KZDs522PLeVyJ3OA8l1vayvz7xg3a38Ew/eC14HIQyFF6gtRUD0TBZeTmiZaWBo9mX+Z9Fv2XWDdd9wJ2aoXbZQ5DuDMl0sTiUPHyALXvNm5v3bMNSMz6vLMscfvTSxP6byoymtN7NBtni2+q4asMe6o8DxyATTE9qY4hjnrupt8En2qf6tBp0NfxK4FBwWkhOxE7EYmh57JwYrVyMXHLMZnRv6IVkk7CSpILwXSROhEOIOLhHXD3wLVgp0/x313PHf8wb7xvOi6qPrketp8n/1Lu+e8FHyTvWZ9gHyqPhg/kn/WgTU/p/7DABbACgDBgC3+hIA/QLo/7T9mfZw8wz2Yvaq9TLyBvFI8HjvPfFf9Dz1Eva8+VP5K/toABgFEAiTBY0K1RcDHxojIB7eFc8cmicuKagkoSN2KCIuoy5SJN4V5hbKHfMX0Q9PAB7ngdD+usO3Gsye3QbZmbg5kzqGoo9UpJ637cBCxeLBX7bos+PChOEVB94ZjRgPEe0S7SUUO35LiFfPX+xn8Wt3Yr9X1VVFXDJlXGXVWsFKbD1pMVkkbBtiGMEWnBHqBvbyjd6V1r3U8tcF3VvZws4tw965DLg0vzzK3NQJ14LR+8vPynnPXdqv5gXs1vEy90z4W/rH/U4Egwz8FOUauRnYFY4UyxRqGj8j1ydvJ8Ekgh5lFjMVqxhDHa8glh8FF3EMUwgzB0gJzAsZCl0GmP/P+qn0yug14cvkSfHk903vX9yPzQvPzNv85BnoBOtZ6o3j5dty0/rUNueA+hgAbfAp3c7YhOH78QP9avxB+bv0HvHV8C703P+1CLIKoQtQCsULVROeF0MYQhyNIhgrvS+aLKUmhSWzLPU1mzu+OhQ2jDTENQw1+TMhMjYvfCiEIOAbgBi+GAEU3wdM/eT36fbD9cnsj+CW0j++hKwjpBWnlK9Osg+nppdmkGKSkpb8nEeocLWBwgrFlMKhyDDZX+9eAjoM5xJjHj0rCzRlN688HEZOUF1cWWLeXPBXNlXOUBpTvlaKVPxN4UIJN20v2ypyJZYf1RfRDxcJaQHC+Unx0eiT4zvh7d0J3Pza9dVL0X3NystBzovT6ta41dzUm9bx26Tit+dP7Hjv2vTE+5H+gwJsCKUODBMzFQAY/xvVIa0j8yCTHYUcnSDXItgemhk4FH0R8RBiD/QOIw1MBxj/pfZR8tr06fah8xLsueSq4irif91P1FbLLciGz73ZcNvB1+rRT8v3yGDOHtmJ5SXtEuxM5VHffuHb6+b50gIDA+H+qvrb+tICjA76F40dRyCRIGYgrSNAKSYxjDmmP1A/Cj2XPeI+nEHNQQtCukDnPew8vDioMpIvmiy4J30kcxxUEg8MqQhrBycCp/xe+Lzwtuag3/fbQdwY3uvbM9Z5z0nLlslQx4XA87LkoX6V/pT6nz6qHa2gqn+kRKFdoYKhfqjqucPPEuM27A3tMu0u9LwEEhhzKt47yki5ToVQV04qUdNdcmy2dsl3+267YqJd41vbWhJb1FS0SnlCkTj2LIEiWhdYDOADOfxH9Hnr1eIn22vSN8uqxe3ALr+pwAHCS8Prw3PFPsxM0kbXftzx4D/pefXn/rEFUQueDkkTYhjVHKQhICigLD0ryCUwIZ0gBiLeI+sfZxcOEJIJ+AMSAOD5AvPy75TtDukg5CDfktmC1ofV2Nbs1wnX+tQW08jTX9fV2I/W3NTu1FLbsuOT6Nnqw+x27l/vjfG688j5ZAKKCI0KrAqhCzwOtRHcExcXmxpYH6cj/SPTJKcoICzsLtAwdDA9MGgwES8XL0sxojJBM9wwHisFJu8i5B7yG3QYwBWZEzwOwgjP/1r5D/gd9X/wPu3K6Cbk+eGG3gncNNwR3S3bltfC05nQrdGx1KLXJ9vb3dbeK9683QjgfN9P2QjRkMRsu/66m753xKXL0tH11bXX/tI8z8jT/tw27Nf7PAl5F9QgKyelK6MuBjUyP2NJ51CeVVdXBFklWx1a/FecVK5Pc0xsRidAHzrxMi0t3CZjHpkTrwhG/VjzpeyL5o3j1eLf4LnfFtwp2CXVhdN01CnYjt/C5hntR+9z8KHzJ/hl/SYBTgSjCMQPRRUdFwsXcxfKGHUZHhitFQwTcw7jCpQGugJPANf7hfV87nPnquIn4ODcsdm41fjSbNMm1rvX2dcm1pLUFdfl26nhfuYV6rHsVPCm8lLzv/I588P1MPq9APwGZQyiDDkLwghXBogG8AbDCTYOdxGLEu0SzRFTEbwSQRIEEikSzBDTEYcUHRedGzIeRh+aHpUa0BgyGbsbpx4eISYjbyIxImYg3R0KG4oW1RKyD8gNgwxLCxwIeQQ+ART8yvYR8EbqQufF5PXj6eMA4//hwOBE3zzd4Nza3M/d9t+z3yLh++NH5t7pLe6+8Vv1xPZQ9iX2DPbu9e71JvKh6Q/gANWozfvL/85G1/HgU+a25nDkg+BY4ADjH+gp8I73jAB0CnUUmBz3IyQrcy9LMQkyBTQ1OF0/9EdGT6VRf1BKTSZJfUVkQEo6sjVYMm0vByznJXYepBcVEWUMywbT/Zn2KfDN6lDomOfn5s7mBOZI4k/eldva3DLfKuJA5e3muekM7NLu3PEd9V33Mvf79q/0uvON9tP4MPoq+un2G/OG8Vnvmu367ArrcOkg6T7oeud45uTkJuR7467lb+ib6RjsOe4j8Cj0cfgf+/38KP3E+9f7ov2M/2QCoQIfAUkAmP8sAY8CpAS0B7gKLgw6DP0L4QmHCrwNohF+FtAYRBkEG3IbEh2jICsiZCMuJKYiOyCEIFshgyRLKFkp5Sg1JRwgWRtEGZMYkxicFuwRtAzwBtgCWwBt/5z9wPgT8nTsUOjY5IXi3+CU3ybf4d1S273ZKdjh2NfaitwY3hrfB9+g37Xh6OJ35VrmWubD5w3ob+gp6wHt5e5O8D3xM/PB9AL4r/kL+rr4H/YN8jXrjePH3KTYRtdK2jngXenR8jD6C//c/2MBVAR+CLwNhxRIHBclKS+LOB1CWEoeUclVRFcNV5hVtFNDUWVPm04OTppNTEqIRNk8xjL6JmEcHhN/CfsAbvZs6wviVdm209fQv8zByUzIqsUIwxjBQcAjwA7D88VayhTR5tdL3wnlv+nQ7FTwwfRS+AD7TP1V/yYBlgN6BQ8HeQnoCRsHfgND/0r7tPho9tLzGfKe8JfwMfHa7ynwze+c7/Xxd/OQ9Br3hPks/HsBZAezC40POxJuE2QVTRbsFi8XeBYoFjoWsBcZGTkaWRsoG+wbBRy7Gz4ZARR8EC4MmQqSCfwG1QQUAgAAq/9oAD0AJgGS/9L8h/vI+ev4IvmA+vv7f/7P/xIA6P+2/gT+Zf0J/SH9Zf0y/G77SPoC+EX3DfdW9jj3IPe29U30tvBw7iXteuxV7Ejrouo06lnqEOvD7OvuI/AA8Rfw8e5r7wPvF/Dh8LbwQ/Gf8bTzKvWO9xH6Cf0eAD8C5AaTCioOxxFLFeIYBBtNG+gYqxPMC1QE/v1B+WP3Ifj++B/7Cv5t/wgCKAM0AxEEygVyCEUL+g6FEhcXZxz0Ib4nGy2CMU80LDZiNVgyPy1pJ+QjhCDQHTkalRVxEf0L0QYmAR76oPJa66Tigdoq1NjMtMj7xhnHIsn7y+bO9M+/0WvS7dOK16HbKOHU5ufrLPIE+Yv+vAQkCd4LBw+KESoTIRWWFigWPBfNFl8WWRaaFLgUQxNFEDYOlAtvBnIDWwAB/J35jfad9K7zzPNO9Sb33/iG+gH8GvyI/Oz97f6TAAgCTQOqBHUGywbpBVoEAgKmAYAA+v8SAAAASgEoA1QEJQWfBZADoQJoAEb9If0D/dL8ff1H/i/+mP8+AQsErgc2CQAKNwp/CU0ILwgtB6IHsAlcCtYKwwlZCMYHAgdXBgEGFwTQAOH+0Psq+ir6wPgQ+fb3u/RK8kjwP+6H7ZrtE+3D7JfrcutP7Ajuou/58DPznfRR97X5h/sb/ZH+aABFAqkD4QQVByIIAArFC3ALZQw6DCAL8AsWDQ0PlhFoE28UxhUQFiIWvxQJEZQLEAMK+TPuiOQF3eHYQtiS2djbY99I4vHloenh68Hv5PKH9jX5s/zjAZ0ImxDVF6IfnSW8KpAuMC+dLoIsZChgJZ4hkx1qGk0W5xKgDzIL0QYtAt37MPXS7kToQuI93szbmtrp2hbcWOAD5UvpWO658iz3Mftt/18DDwdzCSkNCRHuE8oYSBzeHk8hHiGWHwcexRnlFbsR8AvZB9gCa/3O+fT1E/Ll7lrrSecy5Hjh+97z3dTc8txz3eLeu+FA5ePow+wT8n/1Nvp0/0UCuAUvCM8JgwwYDugOpxAiEXYQcBAfD0ENEA3eC8oKewqECFIHhwVSAiQAov1i+zX52PdJ9tv1OPdd95X4tfmM+jf7dfvp+1L9cv4F/8n/sf/P/4gB7AOxBSgI7AiXCOsHfAZJBf8D5QJwAoEBTwBEAXsBWAJnBNsEqwWUBpkF+gTPBMYCsgGgAeIAmQBjATMCQQOSBLAEAAUwBAICMgE8/6j9L/4W/vL9BP46/bP8g/0u/eT80vxX/Hz8k/sr+3D8BP6IAaAGYgoQDdYOtAyaBoP9+fDL5HrZvc9nyoPI+Mm3z17WI90y5Hbpy+238Rz0DffQ+5MAIgiCEG4YbyJ0K00z6TpEP31AoUB/PZE4FjP2LKAn9SL4HxccVxnMFacQ0guSBIr9w/X67NPlY99Q2v7XWthp2tDeV+Qm6TPubvH386v2UfdG+Nr5yfoj/uMBGga+CtoNlRCtEBoQnQ1VCVwF9QDS/K74u/TE8ezvmu237FXszuud62TpMehn51jlieUF5wDocuv47+b06Pp0ACYGagtvD5cSxRQoFq8WlhZ+FoMVDhXWEx0SKBHJDt4Lowh4Awn9+/Yq8ePt4uwN7anvOfPn9TP4cvmV+BD53/jx+ET7Hf6VAmQHQAxwEEUVdBgWG74dBx6tHsQd1BvvGCEVNRKtEHAQORBqEHMOnwr1BTEA4vo39hvz8/Bz8F/vLu9f76HutvCs8qn04/al9rv0/PLm77LtuO0O7mDwAvPO9Fb2GvdQ9i70RPL+71Luv+177Tnuuu7T7ybyCvT69QL4HPlt+uP7Jftq/Kn+twBLBqIMdBOEG4whECXUJU0gkBYLCc34QOq33i/Y/tep3IfjDOxw8+T3mftk/HD8Zf3O/kUCqQhGESEa5iRfLl02SD3SQPhBCUFxPF02ti8gKKshQhwkGMUUhRKeDrcJigNh+lTw6+UU28fScc08yofL+c5P1JTa/eDz5pjsvvF/9br4pPrM/Lf/2AIbB1IMRhHsFsAa4Bv9GngWiBC3CeoB7/sU96byVPB87jbsqOq46LrlEeJu3rTbMNls2NzZltzU4Wjo9+499rP88AEPB1AKiw1MEeITnBZjGdQbBx7THwshziCDH/ocVRhuEwAP6AnDBNAATP2D+K/0vvH97lbtjOz87c3vDPFw88/1a/hE++H+AwMhBxUMuA8ZFM0WWhdPGOYWbxSLEq0Q8w1UDekKHAhdBj8Cqf4l+w33s/J47/nrzOlX6WrpEOth7CjvP/NO9fz3pPri+hr8Kf56/+4AMwKKA40FrQZYB6IH9gaxBYUERQKA//f8//nY96v2nvUL9ar1dPYJ+Bb5tfno+rL7xvyi/Tz/vwG8BJgJrw2REu0X6xpuHdIeyx6ZHb0c5RqZGD4U5AtPAKLvHd2gzBW/W7e2twG+fslI2APluu4581/0ZPNK8vT1ov31CsYasStiOppEwUpNSzxH8D/NN/gunyYnH/oXWhIjDfcHTAKH+8zzZeqo4C3Wrs38x03EgMY3y0zSWdwE5sfvOvhH/vcCywYGCk0NlhHrFWoajx8+Ii4kiiTcId4e6Bg0EeAIgP+l9nHvV+nF5Mrj7uLu4ofj/+F94CTe8dtS2zTc0d9h59Xwz/q4BXoOBxTKGLQahBueHIwcgh4iIGEhmyODJD8jUyARHOUVbQ5pBhD+0Paq8GfsG+ri57Hn9OfR6Fnqo+vQ7HXtRe7r7lXxxvMN93P60vweAFMDDwdWCowOzBDyEfMSzBDCDQwK9QUFBM4DQQMdBP8DGwJh/7362vTn8MvtsOuS7Gnt8u8c9Jr3cPxSAqYGgQoKDQsOCw5gDRANeA2YDocPOhFlESAQ/w2+CpMFdQHl/f/5zfgB95P2XPY89RH1C/XO9FT12/Vi9kv34/bW9tH3Zvnv+yoA4QRtCWwNMQ++D2cO0guTCugJVgqlCvsKXAqDB4UENwDf/SH9X/1h/yQAMvxi8eTfKco7tt+nMKQdrai/TthJ8eADaQ/4EaELxAUWA9AFTBGhI9M3rkpEV7ZamVYFTGw9Ry6tHnwQ4gWI/If2afJ473vt5+td6Sbkwt111WDOWsqry2fUpOIW9I4GJxVXHsQipCGcHzcdPR0wIQUmsCo7Ltoueit/JRcc0xFxBwP9J/MD6lviidsu1z7V6NTx1pHY1tkO25TaPtpN3A/g5eXr7vb3CAJWCkoPNRJMEckOFQw9CsgI1AjsCLQHywZhBDIBrv1H+fL09fHF7Zfr2+t36hjs3u6G8YX1wPh5+gn9+v8bAogGPwsJEfMXXB0wIcQihyLZHyUdAhrUFrgUnBELDjAJnAM0/ZP2SfEz7kvu9+4x8WTzxvOK9LX0MfZg+Tr9uQEnBw4LPA6CEGsRixKSEzcTIxIuEfMNCAuCBtcBSf/k/Kb71Pkm98Dz/e4Q69znQuey6EHr0+9k89b2i/nV+t37L/6l/3sB9wK1A5kFdAVpBusHIghTCNoIogdvBrgF2gNwAqYB7v/f/bn8EPl29xr33PaL+Sb8Wv4qANb/x/3K+6P5x/i+++7/sAShC5oP4hNNFusVjxWEEagHAfeJ4DnIHLY7rbux98NN3MH0sQVOCdcB2fMt5SbfwOWI91oSAy4aRIVQSFCGR9w5KSrjHUUVaQ+XDX4NOA9MEfIRZBAUC2oC1fVv6JzcJtZ/2CLhwvCUATwO8BQlFLoMCAJI+p/2Afy0B2MUWB99JOojkhyuEZ8FkvoV81LujOx/6+zqzuts6xDrgukw53fl7uIE4TXh7+M/6abyOv3cBZQLbA0fCqsFLQJD/58AkgTVCRkPkBHAEIsN7AhWBV8DCQOeBHwGrgd+CKMIzQe5Bj0FfQLu/4786/gs91T15vSJ+Nj8LAGlBe8FQQPU/s34rvOw8HPwTPMU9wD7Yf8BAR4AsP5n+lz2V/Jw7j/uvPBW9r/8QgTuCQkMcQxoCqgHMQXBAxIF+QhMDO8P2RHkEFsOgwd0AD37SfYb84/z8vSt9wj8VP7iAEwCdQFVALf/TwBFAqUF7gncDioTgxUQFsoTnQ3kBlUAJPom9wD24/bA+Gz5O/lR96DyoO1M6qzofer+7/X2dACKCLYNtRGWEd0PnQ01DcINghBdFFMWdBhnF+gTFBAxCnMEegAk+iL05e5l6hvqB+0g8jr4lfwO/G364PkG+6wBggbdAZHwOtLKs3SgVaC0tWDY7vqXEl0ZKw8D/bXq4eIb6mv9axYoLtE/K0j6R/JBQzlnL04lRBkjDXYCk/vw/KoEAA/PF7UWsgp69vXerczzxcDNLeB3+BgOeBuZHZYWOQvKAO/7f/5TCGgTUR68JawnQSWtHrgUEQky/AnvTeaP4F7g+OW37BPy9vLs79foZOCr2U7YF90v5t/zvwGQDIsSHRK8DYkHxQHz/lABBwalCvoOghACEJwMLQe5Aaz7QvXv8X/wAPG79H34Ufzt/vr/+v+S/1L9ZPxM/cL+IgN8BuMKrA+5EFkRSxADDKgHnAOxAFsAOAEtAoQDVAT9Asn/pvti9qrwBexL6Xnr4fBX91T+JwKbAnQA3vww+iT6jftb/38EEAiDDFUOng7iDq4MEgoNBnUBKf5G/T0AbgXpClQNNAwWCOL/7flU9ZXzpPWP+GT8Hf5//ur84vpz+ub5E/uh/Dn8S/yx+rz5MPr6+tf7xPsR+vr1AvO28EPxKPTx+L3/DAWoBzsIZgjlB3IIwwnwC+IOghDeEIQRmxCjDYILJgZvAZ3+DvwV/eH+1v9oAIb/0PtB+Xf4L/lG/Q4CnQhwECcVSRgSGEEW6xXtF3Ye2SRyIJoGDtsirIWMp4pipe7PyvZcCtEGRPJ/2NHHP8jO2DD1/xJmKkk5pEKfSMJL/kodQuoxuxtdBub5OviVAnsUwiBJIZcSGPYu1zG9/bDftT/If+IA+/0LaBNUEtYKWQMGADz/igNGDMoYGSeeNNk8wDuZMKIaWAIU7kHhjt/K40jrs/Lf8yTxbecl2jXO8sSJwyjJMdVD4/DyFALtDYsXgxp+FtoNkgQtAiQJnhcDKRo2wji4MCUi3hCgAZn24O8U7oTvNPTo+kn/q/9x/UD46PEh7qjqx+pk7nj05/5ICQkRzRajFkwR/gw5B68DuwNnBKAGhgkSCjUIeQT3/GrzrOhE367bPN0x4zbs8vSA+gj84vrW9r318Pe5/J8Fkg4cFsYa8hsWGyca5RW5EJAMAgcDAxIAbf8NAdgCMAS2BIgBJPrS83zu/+uH7dXwmPWA+s393P9FAooDfwSTBVYFXAVDBUgEEAMzAvr/tv5y/kb9qP1H/mv9ZPyM+hr3MPUw9cX3Ff3MAjkHDAoGCpEIWQiuB9QInwrwC0AMvwuZCskJsAlrByUFwAJh/2T8Nfln9YT0xvOv9FD2vfWC9/D8+gSzC5oP/gy7COQGvws4GQ8kgx8cAzPWGKmRkIWVJLMh29/4ugKy+6XsFtw51v3bWep//poPWB+CLMI42UUdUDhSUEhrMk4XlQKx+usCaxa1KToyzyqsFK74ieDM0SjOL9M63B/or/QmAV0LaxEXEkULWALz+fb3l/4hDMse4C5GNx81GiiaFDMCG/PY6QXnc+fe6cLrx+om6X3l4t4H2rbTa82Hy8LOedix5yL5zggQEqQSzAtYAsr72PwTBtYTBiIRKk4qpyNNGzsSGQpfAwz7kvW38VXxjPUr+1X/gACi/W/3bvHt62brfu+q9X39nAMnB+4J3guoDM4NyA1GDGgKYAi5BmQHfQdzBHT/8PeZ8cvtcuvC69zsyezL7Xjvk/GZ9q38FALkBngI8wifCkwMTBGDFdoWUxbbEoYOFAsqCfwGVAQGAAj8Pftf/ZL/dgI2BJoBZ/9S/Vz7w/oA+8b8w//LAVMDsASQA6kD9ASkBLYEGwJZ/d/4mPVU9fX2d/ii+IL3d/Ok8DTvre7+70Px9/MA9pH5Qf7fAmsHmAlXCy4MCAtMDBEOBw9kEKEQlRAwDsoKIAbYAjIBDAC9/1L9yfpB+b/3y/fx+Aj8BwF5BH4IWg3QE00bRR6RErPybcqhq8qliLk520D4kwWKAyf44+1J59XnXu6N9lr+/wOqCXYVmCaoN0FBLTs6KSIR7P1o9j37iQc4FAYdHx3JF54OtQOM+lfybOsq57fnb+379gsEjA5bE8AQIgjc/yr6kfnz/mEJLBSTHfkgpx7qGfIR7wrAAmH6DfIe7ArrH+3q8vb3QPhX8rLoDd/c2QjbTeHG6eHwfPdf/VcBWgT0BNcBi/5W+9D7SQA3BbkLcRGDFVUYnhfzEnwLhQSUAS4DCAcFCZEI5gOe/9P92Pxk/Lz5K/Yk8XDuQO/K8Uv3VP70BDwJKAinArj7afda+Yz/5AaOCzQMNgkxBY8CDADY/PD3JvKi7+XunvAL9bX5wv77AG8BGP8f+2n3OPcB/GMBAgcyC4kMogyiDO4JWAd+A+H+EP5h/5ADfQcfCpkKKgmOBv8D8AEK/nv7W/pt+m77Ff1g/oz/jABoAMoAjAA1/t37sfqA+q38zv49ANEBLAFV/yP+mfuV+EP2F/X29zr9jgHhBMQFFgOJAgkDbQT2Br8GGwdsCNYKow2mD00NLAa8/mz5i/kW/rQCiAauBywGrQYYBRsCYgB6AGEE7wpqEIsNUv3m4UHJV764wpnQq95h573sHfBl9Jj63/0q/wv/kv/2ATIG/w3fGtsqfDZbOe8wOyAzEGkG+gSkCcgN4g4cDTsIqQNdAYX+F/p+9KPr5OTF5Njp2vSlACEHuwiYBBv9bPlC+mb+qwVRC1YPkRLOEm4TsBLcDu4J5gPG/Pb35vTd8qjzifNf9Ef0lPIP71HppeNX39/g0uQ76wfyY/dF/G3/MQA3AFABOQIBBt0KpQ5TER0SbBKVFcUZQx2lHegYpxDJCXUGcwRPBTwE7v/o+qX22fMB8gvw3e0S7NLpferp7SL0pvvjAeEEDAVlA4kChQRoBSgIKwqYCTwJ5gj0CbQMBQ4PDAQIWwBy+Sv2PfaE+SH9+P2I/J357/bF97r4BPnN+J/2+vVe+K38ywEyBtoICgi/Br4FTwUmBqAGRgdHCFMIGwfLBkkFZwRBA+7/m/wt+C70RvPm9EX3gPoT+zD64PlS+Cf4fvn0+gP9Hv/iAIEBewGMAIz/Qf4O/BT8KP3t/g4CqwWuB3gIoAa1A84DowM9BfEHowhtCREJ8Aa4BREE8QIJAz4Bf/4m/ED91v9tBFIHxQZeB9oIww6fE3UPKv+o5YzPt8ZaymLVuuAG6O3r+O+h8wD28fgv+UH5UPsp/osEsxA6Hy0tjTWuMoopdB2aFDUSSBI0EasOmwsGCrQMSQ7rDCYGW/p87vjlJuRz53XtgvKH9vj4yPk2+ub5C/q9+sb8jP/0BD8L/A/LFHYVbhNMEbYNUAr8Bv0CJADt/mX9XfxS+L/y5e6F6/7q2eoJ6pPovedW6BXqde0W75bvEfAS8Sv2yvs4AeIFlAaDB6MImQrDDj0TUxYkGL8ZxRneGY4ZKRdjFLEO8Qf3AnH9gPpt+sL5UvgK9JTtiOkC6Sjq8e448hXzHfVp9638XgI+BpUH5AZzBFgCowMCBzkLNg4FDo4LBAiKA9YAHv9a/n/+W/+2/iH9UPte+Cn5mPoT+0L6Avh69hT3wPis++3+VwGFBIkHZwkRCSgIMwe1CDILBQ5ED1oN2wneBvUFkANTA5QBzv5S/ZL6Ivmt9wf3OPcP+Jn2ePQz8/Dyh/YL+j/8Rv0x+0/6Jfvp+wr+Q/+S/4EBTgQbB70JhwrECgAK5gjGB78G6QWrBbkGAgeoByYGoQLI/vT6cfj897H6XfyW/eX9D/13/SP++v92AqkDxAXbCQ0PYRO5EEwCYexU2O/LPMpyzkfTbNgm31boV/Ii+RP7Y/fc8bruqe9O9VX/yw8cIIgs/jK6Mskv4istKFYijxo7EukPgRSQGxki2iDRGeMPMARi+8bz9Oxq6e7n8OmK78/1Hvoa/FL9ZPxW+/X79/yl/34DXQbsCN0KawwrD+QQSg+NCuUC1/sv+Rr3Bvaj9Ibxx+/l7ifuMu3b6w3oheac5SflT+fM6Sfu9vKz98n65f1VAEgE+gkjDTgPJhA0EasTEhjIG1QcFhsLF+0SdhAFDl8MCwk2BE8AcPzR9/L0OPJ/8OfwI/DM7pHr++g16+DvWfSI99H3yvaP+C79IgMiCAAKpAnVCYcKwwlhCTAJHAgoCDMHJQXsAxwDrgJYApMA3vww+r/3Q/Zi9tX1uPaE+d78ygCmASoANwBXASkE6wcZCpIJ2gg9CuQLHA1fDHkJ0QbaA1UAWf3P+rT4fvnt+Tz6Tfkr9oz1jfZM+Nr5ffgL9Xj0//SH9lP5+fl4+Vr5PfvC/kUCQgSYBEQGogdICcULAwwmC1wKPQp0CiALMQqjCI4GzgMjBPID9wInAkMAW/+fAJoBUgIIAp8AoQJNCIkMAApDAHjvIuFw27Tbyt5d3zngG+U47Wn3DADBA1kDsgHuAEP/L/5P/3gDewoIEBkU5RW4FOgThhMzEKELqwWgARwD0AUECJQGFwQiA08FigidCOsHFwQ3AJMAcAKFBG4FBgX6BI4G4AhqC20Ohw9VDrMLegWM/4r9iPwd/nj+avzz+Yj3b/fW9jD1T/EC7j3skes+7XzuNO/b8Ir0rfce+ub5rfe+9mz0lvQa9yH4zvn7+6j9qwBTA5gEPAS2BHUGWwk0DOsMaQ9WD1APCBAADwUOpwvbCTsITgQq/+763/hr+NT5uPtQ+zf7Jfsm/Ef+bP6j/vj9IPyL+f74r/l2/Lf/VQBMAtcBegBbABIAKf5k/IH7Pfsb/ST/EgAY///+kwDaA5IE3wK9AMf9TP3t/lcBzAJBA5UCKAPPBOcEIAbKBSECCAJ7AeL/JABEAQkD3QEZAUn/Cf25/Iv+If34+CL5ZPjr+Lf6+/tr/ef+pgHHA/ID3QHa/rj7l/mo+Cf4y/cz+DD6ufzh/rEAUgL0BF0GYwYsBh4F7wU9CsgNew9wEPkNTAxaDSsPMxCSDsgI3P/l88rocOQL4l/hXd9p30zlu+p68fH41P4sAT0FVgqqCX0HOwgrCmUM1A1WD/4RhRK9Ey4WfBVxEdMMHAjbBJsCyP5E+zr4Xff0+mX9sP5bAHoAbgBJ/wT+/fy5/JD9egBqAswCBwb/CH0MvQ7gDQgLzQf1BaQEVAR9AoYAdP8Q/ln9rfxn+oP4Rffs9CHzYvG28MLw5u/476rwpPC38WX0jPXa9Mf0QvVX9/P5pPri+sj5ePnu+hv9R/6L/hD+jvx//uMBtgRCBEcDqgS+BeQGKAjPCTEKLAtrDKUK8AYGBXkErwOKA/gDJQUlBY0Fuge7CJUHfAbpBTAEwAK3AEP/T/+G/zgB7gCAAIwAPgEfAZ7/C/+n/D/8If2Q/WD+YP7C/jEAYwHdAV4CsQBb//r/9P89AD0AJADdAawBiAHqAW4AsQDiAB4Af/6//NX6hvpW+2j7gfvK+8r7v/z4/Sj9QP3y/Rj/HgCr/9P9P/x7+xP76Prz+Q/4jvfx+Oj69/xX/Fb74/sP/c//gwL3ApsC/QJYAjgBygCTAJYD0Qa1CMoKUQsbDBAN2AsgBjT9//SW71vsmOe05XzpRO2a8rT4p/zJ/ygD1wbhCQAKmAn9C6gMUgxVDrcOCg26DKkNWw7CDboMwQx3DDcKZghLBk0DTQPPBKMDYgAQ/kz9QP3+/c7+Cv7S/Cj9Kv89APUA/QLSAhADDAVRBkkF5gMFBIkCNwAP/SX7c/rO+f/5fvkz+Nj32fgW+ev4g/gt+An4dveJ+Av6zvlh+sT7bvsT+wv6s/eS9UPxZO7N79XwVPAM8WH1YfqS/zQD5gO4BZwH4wrwC+4JfwmeCb4KfAuTCugJsgrECpMKIAv/CNYF6QXEBecE/wMbAogBDgIcA6MDHAO0Av0CeAOpA3IDKANfA00DQQPBA5IE6QV8BnwGpASsAVX/v/xW++b5IfiH9or0LfM/8/byevHn8BLxBvHE8VfyAvPa9ND2Wvk3+4j8Tv6l/0//sP6K/cb8S/ym+6z7svt3/R3+bgAQA9UE1wb7BZMFPgb6BE4E7AMUAj8ClAGGABIAmQCPAjAEVwaXCPIMSxAbER0SaAohAmD+HPki9Dnu1+1H7z3xhPRr+Az7Jfs4AZMFgAUeBeEEMgbKBQIHcwmeCfMI4QlmDaIM9gudDSMNVQ7oDgcPkg60DDoMCQx/CZMFfwS1A+gABgA1/p/7sfqG+pn7bfpN+WH6jfvk/Gb+VP5F/Nf7Pfvb+pj6ePmA+uP7Dvwb/R3+5Pz9/Cj9rPtB+Zr3hfWh82/yVfHw8jjyjvLA8+TySvK58qn0+/Yv+UL69Pqb/Pj9kv+d/lb7gvyj/rcAGQF2ArMG+wqGDoYOKw+xDjgP9xB6DjkLlwj8Bo8HOQeNBXkE0gI/ApADQgT3AqABJgEtAmUD4wFpAfYBjwIjBH4DewEBAbEA4v+M/9P9gvxZ/a79PP+lAGIAjgGVAtgCtAITAdr+rv3k/Pv7dftT+VL4wPgL+nP6hvqm+wH8R/4Y/08AbwHc/0MAq//N/ff8ZPwy/Gr8/fyI/Pf8A/2O/BX9GvzD+p76SvvM/Eb99ftQ+4b6jPpb+rf62/pE+yP+SQA/AuUCEwEV/eb5QPh29/3zyPCC8hH1U/nE+yH9Hv/jAbYE0AV0BTcF5giyChQLCg34DEULggvwC/IM/w1PDoEP8hEhFakWcxd4FkEWBRfSFcMT+BF7DxgOIQwwCX4IgAXOAy4DEwFn/5b9Afzu+mL7gPr5+WT4GPbc9kX3n/YG9nn1zvTa9Bz0P/Mb86jzlfN383Dz9fGm8svy5PL28lXxBvHK8Qfy6vLf89nzePQ39vH46Pos/Hf9C/+MAN0BEAM2BE4EFwTyA1oETwVJBSID1gCuAuwD2wT/AxEE0QYYBRIFMQWQA4sEXAUXBOYDQgRUBLgFHgXbBDcFIwRlAwAFYgUrBbwEeQSrBfQE/wNyA64CywGnAvECXQGZAKsAsQDiAD0A7f5m/uz9tP2D/Xb8bvsT++35x/iP+K33dPZu9p/2p/dk+KL4HvpC+qP5kfnA+Dv52vnC+ar6hvo//Jf+hv/u/9wAJgEZAQcB+f5y/t/92v7u/57/hv/o/5kAvQAiA4QDowMSBdEGhgnVCdkH5wRBA8sBnwD0+ij0zvT09bL2Afef9n/1iPez/CQAsQB0//ECDweGCbIKIw3gDSsPLBS/FCQTDxGQEfkS/xLVEkgSqBE0EbwSYBKIEGEOtAxFC38JlQfhBHgDoAE/AnUBKv8p/lH8Rfwm/M/6Kflx+K33Ifg1+V74k/YM9h/2SfZ59Rz02fP28g7zUfIe8ZDv6+7e7pTtFO6H7WPt8e7r7mruA++V7pDvpPAS8dnzjPUh+Fz7L/4AAJ8AJwJZA3ACjgFwAhgFugdcCokMKg6tEOkP/A/WDrwNZQxdC0ULnQiwCSsK4Qm9CXIItAfFBkkF9QVLBhoG5Ab8BrQHZAdMB40FBgW1A1ICOQJh///+BP7M/EX84/sl+3n6kvrV+gj8gvy//DL8+/um+w78APuX+XL52fip+ZL6APvX+0v8rfzH/Yb/DADi/yQA1P5t/3/+kP3B/ZP7N/sT+x/7w/ow+sL5C/ro+uL6CPy//F/90/0E/i/+jP+lAE8AAQEIAqUAZv6C/Bf6PPrU+fD32fiR+eD5+vpt+mH6Jftw/AT+Z/+x/xsCtgQyBowJGQqlCjILmQqIC/YLDwyLDXMOUA8DEd4QKBGWEVQSbBIoEd4QURCbEPUPkw9iD5ENOgyNCn4IOQcYBTQD6gFPADEA9P8d/hr83ft1+7H6jPrx+GP3MvfV9dv12vSb8530IvSW9GX0HPSJ8/zy8PKO8sXyvvH58CTxjfG38cvyXvOb8xH1N/Y491f3Yvbc9s348/kh/bf/6ADBA0kFOQdkB0YHugf8Bi8IjwcCB8AH6weXCEcI5ggqCUcInAcnB+QGjQWABVQE2gNtBBADpwKhAqEC3wJNA4MCUgJXAWIAnwBh/zz/kf4p/rb+5/7H/SH9cf37+8T71fr++Ez4WPgP+Ez4hPkK+a/5PPrO+U/6+fk7+YT5Ivk6+Eb4Xvhs+Tf7P/xk/C79YP42/3T/GP8k/2f/yf+9/4AAlAF1AScCagKhAnkEEQROBIcFdAWxBRgFDAUYBR0EFgOuAjMCXgLOA1kDWQPaA4QD2gNyA2UDRwPxAj8CUgKDAmkBagKEA5wDwQPgA2EE7AOFBMkEDAVuBSsFaQYmBogGvwYtB0EIEAhsCOYI1AiVB5wHQAd0BQwFTgQcA34D/QI/AicCxAABAasApf9a/kb9ov1f/Wv9v/zw/GT8UPtK+3P6d/g6+Pb3pfat99b2UPbW9m72Aff89xT3Q/Y99jD12/WY9QX1sPVC9Rf1sPVr+Mj5Qvpo++r8Zv62/qv/DABuACcCQQMhAl4CTAJYAigDrgJFAsUBlAGsARwDtgRoBeQGGwd9B+wIHAiDBw0G2wTnBGcE1AOpAxcEqgRJBbwEYQRfA98CZALcAHQA7v+A/5L/Yf+p/iP+Lv1q/Gr87/ti+/P5Efp5+ir6GfsM+5n70Pti+5n7JvxF/Aj86fsr+3v7rPtW+1D7Jfsm/PL92v6M/4AAoAFkAsACxwPHA2cEfwQdBOYD0gKcA9gCgwK6AhQCdQF6AIAAjABKAUQB4gC/AcUB6gHlAi0CxgIoA30CPwJdAcoASQAYAHr/jP/h/pf+PP+x/wAAqwAZARMBfQKJAoMC9gFEAaYBbwFKAQICagINAaEC6wJSAngDgwJZAyMEHAObAngDcgNlA68DAwN+A3YCxQE/AsUBrAGaAcsBSgEZAZkAkv+Y/zz/Ev8w/2z+ff01/oP91/s//CX7E/uH+xP7n/sF+sj59Pqm+zf7Jft2/B/7h/u5/GX9Wv4K/pH+Sf9H/gr+dP9V/x7/vf9bAD0A1gBEAb8B5QLGApYDqQNNA7sDTgQLBKkD7AMJA/8DHQTyAxEEwALYAn0C1wG5AW8BhgBuABkB4gBV/4D/tv60/VT+cPwU/L77Yvus+4f7pvvj+yb8rPsA+wb7nvru+tX6mPp1+7H66fv1+wH86vw5/Ff8Ff1r/Vn9Tv5m/gv/9P90AOIAoAHwAaABFgN2ApoBOQIbAhsC6wLxAl4C3wK0AgkD9wJwAlgCMwJSAv0C0gLqAWQCjgEHAaABBwFKAeIA9P8xALf/q/88/zz/wv7a/lX/hf5h/0n/2v56/2gAdADKAAEBygD8AbIBRAEhAuMBEwFKAT4BewEOAmoCUwOpA+YDcwTJBIUEHQTgA2sD1APmAykEiwTyAzwEfgNlAxwDOQLjAVcBewGGAD4B+wBh/7f/PP9//kH+X/1X/Jv8vvus+z/8Bvu9+oz6qvqB+437rPvK+6T6kvpi+9D76PrP+sr7bvsa/NL8Ff2K/QT+Hf68/sP/z/8AAPT/9P+OAWMBmgEtAnoALAFEARkBYwEBAQcBMgE+AdAA0QHdAZQBUAGUASYBnwDiAEMABwHW/4b/+v/a/uj/KgBJ/3r/q/9b/+L/t//a/kn/Hv8F/5L/Hv8w/wwAAAAYAKUAjP+3/wwAw/9oALEAHwFVAAAA7v8MADEAq/+9ANwAPQCTAE8AgABjASYBYwECAtwAAQFKAaUAXQGsAbIBiAEBAXoAPQCfAIwAGQEsAYwA9QBQAW8BaQEyAaABAgKOAY4BaQEyAWIA4v8AANb/9P8q/4z/9P+G/+7/4v+r/1v/bP41/jD/hf7I/s//mP9VALcAbf/6/+gAkv83AOL/Q/+A/1X/1v+l/0n/nv9DABgAev90/yT/sP4L/1X/PP90/6v/7f5J/9T+T/+A//L9Nv/O/gv/sf/n/pL/BgD0/zEAPQAk/yr/1v/P/4D/3P+x/4b/VQBPACQAvf8eAFUADABt/yQAbgBJADIBkwClAKwBGQHuAFABaACZAFUA1v9DAIwApf9PAPUASQCAAAAAWwDD/4b/gP+9/x4A9P8NAR4AQ/+Y/2f/Bf8L/2H/zv5h/wYAkwC9AE//Z//c/73/6P/W/yT/BgAAAL3/+v/5/rf/Vf8L/zz/Yf9h/2f/mP/t/jz/Wv5B/tT+//4k/zb/AACY//T/+v8Y/4b/vf/i/5MAVQDEAAcBMgE4AQ0B1wH8ASECIQKPAuMBTAKbAo4BCAIzAnUBYwH2AdcB0QFQAZkAAQFQAYwAdADc/8//PQC3/0kAEgAxAL3/mP9h/7D+1P7f/XL+bP5H/i/+wf0W/lT+Cv7G/GX9QP1k/HH9Ov1f/Zf+Fv6p/gX/Bf8GAIb/gP/i/1v/kv+lAJMAKgBPALEApQAyAYEBywH8AZQBTAKVAqEC3wLlAhQCugLSAl4CCQNSAswCNAMCAtEBpwKPAi0CzAL2AZQBxQHuAEoBdADW/4AAvf9t/3r/o/6p/uf++f6M/0P/bP4j/rb+eP6F/vP+ov1y/vP+L/5y/jv+8v1B/mD+lv3I/sj+VP75/pH+wv5//pb95f2x/8//Vf+S/0n/W//0/zD/T/9J/9r+7v+G/1v/sf82/3/+Hv+Y/4b/Z//I/mb+Vf8Y///+t//n/u7/vf9V/7H/Z/8e/2H/1v8eAJkAT//D/9AAEwFpAVcBsgGsASECUgIUAjMC2AL9AuUCPwLAAqEC8AHfAtcBFALGAhsC3QEzArkBSgH8ATIBjgE5AhkBGQHQAMQAgQG3AKUAegCMAIwAEgBh/xL/Hv9H/sj+7f6w/iP+Nf4Q/pb9zf1A/X392f0p/kH+nf6R/lT+4f7C/tr+eP7C/m3/4f6A/xIA7v/W/7H/vf9JAAYAkv9JAPr/YgCZAEkAWwBuAFUAt/9iADcANwCZAJkAUAENAfr/1v+GAEMAbgDW/1X/9P9J/4D/WwBJ//n+pf/h/v/+Bf8L/xgA4v/z/nT/Hv+L/lv/vP7h/pj/yP68/hL/l/7t/sL+bP5V/8//Vf/P/2IAGAABARMBMgGUAW8BxQHqAW8BbwEUAr0ABwGyAYwApQDKAGgA4gD7ABgAUAGZAOL/AQFDAAYAMQBDAD0AJAD0/4z/sf9b/+3+bf///ir/GAB6//T/pf9y/gAAMQBb/x7/Vf+G/wYAKgDP/70AnwCGAEQBnwC3AD4BOAHRARkBsQBiAIAAtwBEAcUBEwGmAZQBywFYApoBSgECAssBoAG/AYAA4gCAAID/MQD6/+L/EgDJ/xj/EgAeACoAKgAq/3QA1v/n/iT/i/5//jD/cv5a/h3+rv0d/gT+NP2Q/eX9A/0d/gr+Tv54/mX9Uv1Z/fD8NP3k/OT8Kf4Q/i/+4f62/qP++v/u/+j/egAxAHQAxAClALcAMQBt/xIAWwClAG8BCAJSAo8CjwICAnACagLwAVICAgJvATMCOQJXAawBVwFpAfABpQBbANwAhgCxAE8AJACrAJ8ATwAYAGgAaACZAGIATwBPAD0AEgDD/+j/bf9J/4v+W/8GAAAAAAB6/wAAw/96AEMAw/9PANz/4v8xAG4AgACAAPr/yf8MACr/sP7h/tr+sf/u//P+vP5y/vL9Nf4K/v798v3Z/Tv+YP7O/pH+bf8w/9r+1v+e/x4AVQAkAEMAYgDJ/yoAHgASAD4BTwB6AHsBTwBVAG8BRAGmAQICPwJqAvYBrAHqAbIB+wBjARMBbwH2AYwA3ABpAe4A9QCMAKUAqwAmAR8BKgB6AGIAvQBoAKv/yf+x/+f+Tv7//k7+bP6L/sj+JP9y/hL/Sf/a/k7+GP+2/gT+tv6d/k7+zv7a/uH+Ev9s/s7+sP42/zcAQwAxAA0BGQHEAAcB4gC9AGMBjgHwAScCGQHXAdAAygAtArkBjgHXAYgBPgHwAQcBYwGgAaUAdAC3/8n/nv/o/wwAQwDD/yT/bf9//sL+Yf+p/mb+MP82//n+Nv81/sH9kf7f/ZD9/v3N/Wz+Tv7f/Tb/8/5g/hj/cv7U/ir/Bf96/7f/PP9J/zb/Tv4Y/zz/dP/c/7f/kv8L/xL/MP96APT/hv+3AGgAEwGOAfsAbwHFAQEB9QBKAWgA1gAsAZMAJgG9AG4AygCAAHoA+wCZAD4BywG5AYgBJgGOAfUAjgHFAdEBjgEZAUoBnwBoANAA+wBDAOgADABt/5kAJAC3/9z/W/88/xgANv9t/9z/t/9DABIAEgBJACQAAACZAJMAjADWABgAEgA9ANb/SQAAAEMAkwCx/0P/Q/+G/+3+sf/J/xL/q//D/yQAKgAGALH/z/82/9T+vf96/4b/dP8k/6X/nv9V/8//bf82/2H/PP/0/1UAq/+M/xIAHgC9/+j/Vf/U/h7/+f5b/2f/dP+S/zEAW/+M/zEAGP8xABgADAAHAaUAWwB0AFUAnwDoAMP/JAAGAKX/4v+Y/+7/+v8GAAwA+v+A/0P/GP88/yr/1v+x/0n/6P+A/0n/sf9P/x7/t/8w/3T/jP9P/57/9P/D/4YAVQCx/2gAhv8qAGgAQwCGAG4AYgB0AEMAVQClAE8ABwGTAIYAdAAkAB4A0AAmAb0A1gATAbkBoAHRAaYBJgHXAY4B6ACaAQEBpgGIAUQBIQIsAZkAVQBoACQAGAB0AAAAAADi/3r/yf/0/3r/Nv+A/7D+MP9t/xL/pf8e/0P/Hv+d/pf+C/+R/tT+ev8w/+L/z/9D//P+//4q/6v/kv9t/6X/8/6d/gv/Kv+j/vP+1P7I/rH/w/+3/2f/nv+r/5j/Sf9D/x4At//J/1v/5/5J//n+Yf88/9T+t/8YAM//7v/iAMoAhgDiAD0AQwDKAJkAegDQAOgAHwHFAdcBHwEIApoBgQEbAkQBsgHqAeUC0gI/AggCFALRASwBywEsAV0BVwGxAKUATwBVAD0AkwC3AJMANwCY//T/jABJ/yr/GABt/8P/MP9m/rz+1P4S/23/wv54/uH+BP4v/ov+Wv7h/mz+0/1a/kH+qP3f/SP+BP75/tT+Wv4k///+Z/96/57/GABbAEMAvf89AMn/bgBVANb/SgEHAb0AnwCAAJkA9QB0ACQAvQBVACQAHgDc/0MA+v9t/0MAw//P/08AdP/W/zcAw/9h/0n/dP+9/3oAsf90/7H/Yf8YAAAAz/8AAHQAKgD6/6X/PP89APT/hv+xAIwAhgC3AAYAWwBuAL0AxABbAHQAegAqADcAPQDc/zEAbgA9AJMAegA9AE8AJAAMACoA1gDoAIAA6AB0AIYAmQAGAGIAaAA3AEkADADW/z0AVQAqAFsAhgAqAPUAqwCAAHUBegDWANYAhgC3AHoAmQDcACYB7gCAAJ8AbgBPAKUAAADW/z0AMQCr/7H/5/6M/0n/nf6r/8L+Z/96/4D/6P/o/+j/Sf+M/6X/4v+r/8L+1P6M/23/bf+Y/wv/q/9P/yr/4v/t/uf+T/9P/3T/6P+3/4D/hv+8/qP+8/5B/vn+Vf+2/m3/l/4v/hL/sP4S/1X/o/5h/8n/hv+A/7H/Yf+Y/xIA6P+fADEAHgCrAMoAgADcACwB+wB1AUQBHwFvAXUB7gBpAWkBEwE4ARkBaQEyAbEAVwENAYYA3ADWAMoAgAAkANYA4gDW/1UAjABPADcAVQA9AB4AWwCx/zcAegAGADEAHgBiAKsAVQBDALcAnwCfACoAw/+TAJMA6P/J/9b/q//6/8//hv+S/0n/yf/0/+j/mP+Y/4z/kv8AANb/yf8e/wX/+f6F/nL+Tv75/qn+wv4S/0H+//6F/pH+Vf/z/jD/Vf+r/yoAHgCM/8//dADu/wAAsQCl/7f/DADD/wwAmP9DAPsAgABVAB4AYgBDAEkAsQBV/yQADACx/wwASf/J/9z/4v8AAHQAhv/i/7EAJACAAIwANwDJ/7f/dP+Y/x7/Q//0/zD/PP8GAOj/nv9oAMn/AAB6ALH/NwCZAKX/DABiAHT/gAAkAEMA4gBiACoAEgAkAE8AAQENASwBbwFvAcUBuQEsAdcBMgGrAB8BdQGBAfsAvwEmAcsBxQGMAPUANwAxAD4B4gC9ACwBpQBVAHQApQAkACQA9P/u/zcAhv/6/1X/yP7o/2f/Yf9h/7D+GP8Y/53+VP7I/n/+nf4S/53+nf5m/lT+VP4S/zz/sf8GAHT/6P9J/0P/4v+A/57/aAAMAE//hv/W/4b/1v/J/0n/z/90/4D/q/+A/1X/jP9n/7f/kv8F/7f/Sf8S/6X/Nv8e/0n/Ev/c/6v/MP+G//r/yf/J/+j/mP8MAMn/4v+rAIwAMQBuAGgAWwDcAGgAMQCTAMQA1gDcANwAVwGUAbcAJgFpAbEA9QD1AG4A3ACAAJkAdQGrAOgAJgGfAB8BMgHEAAcBJgGGAIYApQDWAD4BDQHKAG4AegCrAG4AHgDJ/6X/q/+x/6v/Sf9b/wYAhv9h/4D/qf7h/mH/C/8q/0n/hf7t/jb/C/+Y/1X/7f4w/xj/Nv9n/xL/nv/6/1v/dP/0/70A7gDcAL0AkwBVAIYA7gB6AMoAJgGIAdAAkwB0AO7/dAD6/58AVQC9/zEAPP/t/hj/Q/9b/0P/o/5y/qP+f/4S//n+GP/t/vn+w/+Y/6X/nv/i/8n/+v/P/yoAMQCM/3QABgDu/5MAnwAxAJMAdABbAOgAKgD7APsA7gA4AXQAbgBiALEAqwAHAbcAEgAkANz/T/+S//T/q//u/9b/jP/u/7H/gP8eAL3/HgBuAOj/mQClAAYAGABbACQA9P8qAFsAbgAxAAYAhgA3AO7/VQASAEMASQAGAEMAMQDJ/wAAEgC9/yoAHgDJ/wYAmP8q/7H/6P/D/wwAmP9J/8P/mP/o/yQA3P+9/zb/T//W/6v/w/8YANz/mP+A/yr/GP9h/1X/bf/D/3r/T/+S/wX/GP9t/+f+MP90/3T/dP/z/u3+Z/+Y/3r/t/9b/23/TwAMAOL/PQAYAGIAmQCMAMQApQCrACYBHwG3AEoBUAFEAawBSgF7AcUBBwEmAZQB9QBvAV0B+wCyAWkB6AANAeIApQDQAFsAegDcAG4AWwBiAOL/3P9uAAYA6P8xANz/DADc/6v/QwAAAKv/yf+r/8//EgDc/7H/QwAxAMn/DADD/8P/BgCx/9z/7v+S/4D/bf8Y/2H/kv8S/0//Sf8q/4D/JP/5/jD/Q/8k/xj/7f7U/mf/Nv8w/7H/PP///ir/7f7n/mf/Z/+9/z0AMQAqAM//gP+e/2H/Vf/0/+L/+v90ALH/GABbAJj/w//u/73/yf83AAAAMQBVAB4ApQClACQAsQDKALcAGQEfAb0AhgBoAB4AnwCGAOIAAQFiAJkAVQDW/9b/gP9t/wYAyf90/4z/W/9J/57/Z/9V//r/Q/9h/9z/Vf/c/wAAjP9iAIYABgCxAHoAw/8AAOj/mP8kABIAKgCGAPT/1v89AAwAyf89ABgA9P9bAG4AygD1ADcAtwAmAZkAXQHcALcASgHWAAcBMgGZAKUAHwFoAG4AMQCS/2IAYgD6/2IAHgAAADcAt/8SADcAnv+M/+7/HgAGAAAAJP+Y/9z/kv9iABgAz/9DAMP/w/8qADD/dP8kAEn/gP90/8L+hv///mz+o/6j/sL+hf42/0n/Ev+A/x7/GP9D/xL/gP90//P+W/+Y/0//gP9h/wv/AAC9/zD/TwAAAPT/7gCTAPsARAFbANwA7gAAAHQAgAAYAMQAsQA9AOIAtwCZAOIATwBuABMBxACfANYAKgCZAJ8AbgDKAFUApQBPAPr/+v8AAAYAev8AAAYA7v8AANb/4v90/+7/TwBoADcA6P96AEMATwBJAM//MQAqAD0AegDEAB4AEgBiAD0A+wAGABgA3P9J/23/dP+l/x7/vf9D/xj/Vf96/6v/sf9b/zD/bf8L/9b/Vf8k/0//T//J/5j/Vf9J/0P/5/5n/+L/DACr/8//KgA3AAwAz/8eAJj/z/83ABIA7v8xAJ8Az/8YACQAw/89AGIAegB0AEMAKgCfAHQAaABiAPr/QwCAAJkAqwA+ASwB0AATATEAkwDcADEAHwFPAGgAAQEMAAYAmQCAAID/w//0/6X/MQCS/zb/4v8k/+7/7v+M/+j/w//J/7f/MQCe/wwAkv9J/+L/mP/P/8P/z//P/xIAq/8YAHQAt//6/4wAqwBJAMoAegAeAFsAhgDEAGIATwBVACQAHgCfAIwAxACGABgADAAMAMn/sf/u/8n/AAAGAOL/VQAqALH/hgAqAMn/3P/o/9b/9P8xAJL/AACS/4b/3P+l/xIA9P8AANb/BgDo/x4A6P+Y/0kAt//c/xgAz/+9/yoAsf8e/57/Q/9h/1X/MP9h/0P/hv/P/7f/Z/+e/0P/1P6G/0//GP9J/4z/bf+M/0n/Ev/o/0n/w/8qAEP/AAASANz/MQAAAAwAPQBPAJj/EgAkAG3/SQDo/+7/hgAeAE8ANwC3/zcAJABiAIYAJABDAJMAvQAxANAAGACS/2IA+v9DAHoAvQCrAMoAxACfAB8BBwETATgB+wBpATIB9QB7AegASgH7APUAOAEHAbkBMgEZAb0AegCTAJ8AkwCMALEAkwCTAKsA3P+A/0P/GP+M/7b+JP8k/8j+4f7t/vP+i/7U/kH+tv5//nj+Ev/h/rD+sP4w/4X+Bf/t/gX/kv8k/3T/4v9t/1v/VQCl/xIAbgC3/+7/BgCY/xgA9P8e/zEAZ/8e/z0AdP+3/5kA7v8MAAAApf/6/wYAz/9uAGgAw/+lAKUAegCfAPsAdAAeAFUAAAC3ACQATwDQALf/3P9JAD0AAADi/wYABgAqAPT/3P/i/8//3P+S/+7/TwB0AIwAnwBiAFUAkwDcAEMAkwDKACQAUAEmAeIAPgGZALEA4gBDAIYAjAAGAL0AygBVAG4Ayf/c/24A9P82/9b/HgCl/5L/nv8e/wv/sf88/7H/Q/8w/xIAKv8Y/xIAbf8k/73/mP96/73/sf+G/8P/q/8kALH/q/9JAMn/w//i/+L/DADEAKUAnwBJAIwA0AAeAPT/egDcAIb/DAB6AOL/3P/P/7H/z/+Y/1X/KgBh/2H/sf8Y/0//GP8e//r/t/8F/6X/Q//n/ob/Yf/D/7f/PP+3/6X/mP/J/wAAt/+x/73/mP/6/9b/7v/o/wAAPQCAAFUAEgCTAGIA9QB6AD0ABwE3AJkADQGZAG8BFAJ7AcUBlAETAawBVwEfAY4BsgF1AfYBmgHWABMB0ADEAIwAYgA9AG4A1gB0ANAAaADu/2IAPQAMAMP/kv9V/yr/Hv+r/wX/1P7W/1v/C//P/4z/4f5V/+3+4f7h/n/+nf6L/in+f/5U/k7+sP7I/n/+eP7//mz+l/62/qP+2v5P/zb/gP/P/4D/+v9n/3T/6P/i/9z/PQBVACoATwA9ALEAgABVAL0A4gBuAIwAxABoAIwAQwAkAD0ABgD0/24A6P9PAHQABgDoAGIAMQCxAFsAmP9VAMoADABiAIwAMQDEABgAWwAZAb3/VQAkAAYAPQAxAFUAPQCfABIAgABoAHQAqwD7AFUAtwBpASQAtwCfAPr/MQAqAOL/VQAYAB4AbgC9/xgASQCe/9z/JADi/2IASQD6/58AdAASADEAw/9JAGIA9P8kAPr/TwBJAEMA3P+x/+j/nv/P/4D/JP89AD0Aw/9DAAwA9P/D/3T/hv/u/2f/Sf/i/7H/q//P/+H+MP90/9T+Q/82/xL/sP7z/gX/Kv/t/qP++f68/s7+wv5D/3T/W/96/5j/1v9n/z0AkwD6/2IAgADi/xgAYgBuAKUAVQCMAEkAnwCZALcAkwCGAMoAPQCTACoA4v9bAFUA+v8GADcA9P+M/73/dP8kAD0A6P/oALEAWwAeAAYANwC3ACQAEgBVABgA4gBDAD0AmQBoAGgA7v/P/8n/z/+9/1UAdAA3AHoAbgA9AJ8AVQB6ANYAVQDiAIAAHwFEAbEADQEmAUoBxADQAB8B9QDKAMQAkwBJAG4AdADc/8n/W/8YAE8Aev/i/3T/ev8F///+Z////pH+l/6M/7D+Kf75/n/++f4e/4X+8/62/rD+qf7h/kn/sf8kAL3/nv89AMn/MQAMAJj/MQDD/yoABgDJ/6v/EgDi/+L/vQBJAGIADADi/wAAz/9t/7H/w/8w/+7/Vf/5/nT/8/54/iT/GP/n/p7/JP+3/+7/t/83AFsAkwCTAAwAKgBuADEAAAB6AEMAWwAfAcoA7gCrAPUA9QBXAYEBUAF7AQEBVwETAdwADQHXAY4BgQFXAb0AXQFPAGgASgHcAMoALAGrAG4AvQA9AEkAGADu/0MA7v+3/x4Ayf90/8//Sf9P/5L/5/4S//n+Hv9D//P+tv7O/uH+VP42/wX/i/7a/mD+2v4w/8L+7f6S/yr/t/83AGH/z/+S/8//JADc/8n/EgC3ACoAgACGAIAA6ADQAA0BaQEZAb0AdQHuAKsA1gCfABMBBwGMAGIAdADu/2gAegCS/zcAGACe//r/+v+e/9b/+v/D/wwAjP9b/5L/q/9P/1X/BgC3/7f/bgBoAO7/bgAkANz/6P/o//T/1v/u/5L/PP/0//r/hv/W/4z/Nv9P/1v/GP88//n+MP/5/p3+Kv+Y/+j/Yf+r/2H/T/+A/7H/MQDW/8P/QwCfAAwA6P+A/6v/BgBn/yoAdAB6AMQAtwCTAJMAxAANAW8BVwENASYBdQETAYEBMgFKAXsBEwGaAe4AegDuAIAAbgDcAKUAkwBiAHoADABPANz/hv8YADz/q/+x/1v/T//D/3T/Q/8Y/53+hv/C/rz+Yf8L//n+GP94/hb+bP5y/tT+vP6w/uf+5/4L/53+tv7I/hj/mP90/+7/7v/W/xIAHgDu/4wAegDc/6sABgA9ACYBWwDWAA0BNwA4AcoANwA4AfsAtwAfAUoBVQAfAR8BmQAHAT0AVQD7AEkAMQC9AOj/gACxACQAegBoAO7/MQBoANz/QwBJAAAA+v+9/57/3P9h/wYAYgCG/zcApf+3/8QAygCGAKUAsQA3AL0AkwBDAB4A6P83APr/+v90AEkAt//D/xL/Hv88///+Sf9J/2H/GP9t/1X/kv8kALf/AAAMAAYAPQA3AL3/z/8MAHr/9P+x/6X/yf8S/5L/w/8AAAwADAC9AHQAqwDoAIAAgABJAJMAYgBDAEkAw/+x/3T/DAB0ALH/3P9b/x7/+v+l/+L/Yf9P//T/mP+9/8n/gP9J/6v/sf8k/9z/yf9n/9z/7v8MABgAQwA9ADEAWwDD/x4ADABt/5MABgDJ/0kA4v9DACoA7v8eAGgAJAASADEApf90/73/1v8eALf/3P9bABgA3P8qAFsAKgDEAAwAaADoAL0AEwG3AAEBEwHiAJkASgGlAB4A+wBVAIAAmQAMACoApQBoAOL/TwBVAJj/PQBJANz/AAAq/3r/7v9P/57/hv+G/6v/ev9n/0P/dP/5/jz/7f4e/+L/2v5b/73/nv8YACoAw//6/1sAMQB6AAYAAAB0AKsApf8SAIwAPP/i/+j/3P83AAAAt/+x/4D/q/8AAL3/QwBDACQAsQBiAGIAygAqAM//+v+3/2H/bf8k/x7/hv8w/0//gP8L/xL/dP8k/5L/1v+M/z0A4v+l/8n/VQASABIANwDu/z0AjP90AHQAHgCMAIwAkwC3AMoAWwDoAL0ASQAHAaUAaADuADcAdAB0AAYAkwAYALf/BgDD//T/DAAMABIA4v+GAPr/HgAYAGH/dADi/2f/JACx/6X/NwD6/8//3P8AAMn/PQAeABgAgADo/58AjABPAL0AAAAkAIYADAASADEAEgC9/xgAgP+x/zEAW/8SACoAGAD0/xgA4v9DALEAAAB6AAwAPQB6AJj/6P8xAAYAKgDP/xIAMQC3/6v/t//0/+j/KgD0/5L/+v+S/5L/mP8w/2H/pf9t/yT/nv9D/0n/W/8e/8P/vf9J/5L/AAC3/5j/z/9h/6v/GADi//r/Yf+e/9b/t/+r/8P/DAC9/z0ASQAqAE8AnwDWAHoAjACfAL0AxACAAL0AhgAxANYATwA3ADEA1v9iADcAgABJAEMAVQBJALcAJAAeANz/nv89ANb/7v8kAD0AHgAAAOL/sf9uAPT/KgBbAL3/6P/0/0kAbgCG/9b/egAMACoA9P+3//r/TwD0/wwAVQD6/wAAbgAeAPT/YgB6/+j/6P+M/+L/t/8SAAwAmP+G/9z/mP+Y/9z/7v/u/yQA3P8qAOj/ev8YACr/t//D/6X/hv9J/8P/Q/8SAM//3P9PAKX/1v/o/2f/BgDi/5j/4v90/1sAdAAxADEANwClAGIAkwCGAIYADQFoAO4ALAG9AEQBGQHcAIwAqwCMAD4B4gAeAIYAq//D/+j/t//i/4D/4v+3/yT/ev/5/ob/pf8w/zD/kf5t/zz/sP4q//P+2v5t/0//Bf8w/zD/dP8Y/yT/mP+Y/57/EgBVAB4AbgDcAKUAqwCZAEkAxACZAJ8A0ABiAB4ADABoABgAvQDuAIYA9QA3ADEAsQBuANAAAQFoAJ8ApQBPAL0AjAB6ACYBnwBPAHQA1v/c/xgAq/8eAAwAJABPAJL/mP90/4z/Vf+M/3T/Sf+r/1X/Bf+R/qn+i/4F/7z+kf69/wv/l/75/sj+hf4q/x7/Sf+e/+H+Ev9b/4z/4v+x/7H/7v/0//T/DADP/6v/TwAqAAAATwB0AJMA0AABAegA9QDQAF0BuQEfASYBEwHcACwBGQG9AHUBJgHiAF0BPgFvAQEB+wAZAbcANwBVAGIABgB0AIAAWwAkAOj/+v/J/zEAjP+e/2gAMQBoAFsAdACAAFsA7v8xAAAADAAAAGH/1v+S/5L/w/+Y/4b/4v/c/1v/t/9h/0//jP+x/3r/C/+M/yT///48//P+C/8q/9r+4f7h/hj/Yf8Y/3T/pf8q/zb/Vf8w/8n/yf82/2f/nv+3/9z/kv+9/xgAnv+Y/8n/4v/6/9z/q/8xAG4AVQClAJMAWwBbAIAAWwCrAL3/WwCxAO7/3ACGADcAhgDWAG4A1gDEAHQAkwBbAE8AegCZAKv/WwAAAD0AdAC9/1sAQwA9AMQA3AASAIYAAQH1ANwAygA9ALEAnwCr/zcAEgDD//T/3P+r/yQAAAD6/73/w/9PAMn/z/8qAOj/BgBPAOj/sf8kALf/gP90AEMAYgBoAOj/mQBDALf/HgDu/73/pf+l/5L/Q/9J/yr/kv+x/yr/Nv8Y/zz/dP9J/+7/w/8L/+7/DAAAAAAA+v/J/73/6P+M/yQA7v+3/0kA1v+A/08A4v/6//T/pf8MAMn/3P/J/+L/W//W/4z/kv9VAMn/EgCGADcAAADWAFsAQwCTACQAnwCZAEMASQB6ACQATwBoAG4AbgDP/1UASQAGAFUAWwAYAE8AVQD6/yQANwDu/wAAmQCMAKsAVQAYAFsAYgD6/08AkwDW/1UA4v9h/wAAdP8k/5L/wv5n/0//o/5J//n+MP8k/zz/4f7O/vP+zv5n///+Hv+M/4b/t/+Y/57/+v8MANb/VQCAACQAaADWAOgAHwFQAZkA3ADKAOgADQGZACwBGQE+AR8B0ACTAOgAtwBbAPUAGAB0ANwAMQAeAAwAHgBDAPr/q/8MAG4Az//i/1sAbf9bAJ8AGABuAPr/EgBDAJj/kv8xAKv/t/9n/0n/dP88/87+o/7t/pf+2v6p/rz+7f4L/6n+tv4w//P+bf9P/zz///5h/9z/DAASAOj/VQC3/3oALAFuANwABwGGABkBsQClAGMB3AC3AO4ApQCxAOgAaACZANAAsQBXAUQBgABKASwB7gDcAEkAYgA9AFUA6P9DANb/nv/P/23/ev8S//n+Bf+G//P+Nv+l//P+kv/D/6v/jP+9/1v/Z/+r/zz/3P/u/x4AVQAqACQAMQBoADcAHgD6/1sAxABiAD0AWwA3APT/+v+M/wAA6P9P/z0Asf9D/8P/nv+l/wAAvf/J/xgAYf/u/yQAYf/D/wwA4v/u/yQAVQBVAD0AKgCAAGIAMQCxAG4A6P8GAPr/q//6/5j/q//0/8P/nv9V/xj/+f42/53+dP+A/zb/w/8w/23/gP8q/xL/hv8F/2H/6P88/5j/w/+G/zz/mP/u//r/AABiAKsA3ADoAOgADQENAXUBHwEyATgB1gAHAUQB4gDcAOIAYgD1AJ8AqwAyAW4AmQDEAO7/aAB6AKX/WwD0/8P/NwD6/wwAMQD6/x4AdAAeAIwAHgAkANwAvQBbAA0B0AB0AF0BhgAHAfsAdABuAFUASQDo/+L/w/8eABIAkv/o/73/Yf+Y/2f/mP/u/+L/hv+Y/zD/vf8MAID/7v+A/0//PP9h/0P/ev9J/xL/SQB6/+3+pf9D/1X/bf/5/jD/MP+d/ir/T/+R/rb+4f7h/jz/PP8k/+L/Z/9n/8//+f5n/4D/MP/W/9z/ev/0/6v/1v8qAFX/6P9iADcAhgCZAJkAygB6AMQApQBPAPUAhgCxAJ8AegBJAAAAWwCl/yQA9P9b/yQA+v/P/+j/9P83ABIADADu/2IAKgC3/0MAjP8YAIAAQwCMAFsAegAfAegABgCAABgAKgB0AGIAqwCrAPUA6AAmAQcBBwFKASwBOAGaASYBdAAHAcQAdAD7AKsAMQBuADcAegBiAOL/YgD0/6X/6P+S/4b/sf8q/1X/gP8e/5j/PP8F/6X/Z/8e/0P/C/9P/yT/Q/9D/5j/7v82/wYAMP///oD/MP+r/3T/nv+l/6X/nv9t/0P/Ev9n//r/t//J//r/nv/P/3T/hv+e/+L/PQAMAD0AQwBiAD0AKgA3ACoAKgCMAIYASQBoAAYAJAA3APr/PQCfAHoAHgAAAOj/t//J/+L/EgAqAAwAhgASAO7/JACl/z0AdAAGAGgAjABVAFsANwDJ/8//PQAGAFsASQD0/5MASQB0AIYASQCrANAAjABbANwAtwCrADIBjACrAPUAVQB6AIwAJABoAIwA9P8SADcA9P/u/3r/ev+r/0//Yf+G/x7/Kv9J/6P+i/7z/qP++f50/+H+T/+S/zb/kv8F/1v/BgCl/7f/sf/D/7H/AADi/wwAWwAMADcApf+l/8n/7v/P/yoAKgC3/4YA+v/J/x4Avf8AADcA3P/0/x4Az/83AGIA4v/u/xIApf90//r/4v+Y/9z/W/90/xIA3P/u/z0AEgAqAM//yf9VAOj/TwCGACQAgAB0AG4A1gC3ACoAygB6AE8A+wCfAAcBsQAkAMoAhgD0/9AAqwBVAHoA9P/W/08AEgD6/4YAbgAMAB4AHgBVAMQAtwDuAIwAYgBPAJMAKgCrALEA1v/1AMQAjACfAHQADABbAEMAgP+e/yr/T/9P/5j/z//D/0n/JP90/x7/dP9V/7f/EgAeAJj/mP8AAIz/+v/P/4z/Hv/h/gv/Ev8e/wv/dP96/2H/Sf///qX/AACY/9b/dP/J/xIAsf90/5L/t/+r/0MAmP9t/23/T//6/1UAw/8MAJkA1v96AG4AegAmAcQANwD0/9z/QwBuAHT/7v+ZAAYAhgDi/4b/TwCx/73/qwB0AB4ApQD6/+j/bgAqAEkAdABiACoAbgAeAB4ApQBDAJkANwDi/6sAPQBJAD0AAAAqAPT/+v83AFsAJACMAKUAPQCxAE8A3P+lADEAEgB0ACoAmQCGAIAAnwDcAHoApQDWAOj/dABbANz/GADD/4b/AADu/+7/HgCS/3r/9P+Y/0n/gP/h/jb/W/+R/tr+Bf94/s7+8/54/gv/5/7h/ir/1P5t/4b/PP/P//T/q//W/+j/yf90/xj/C/9b/2H/T//J/5j/bf+9/5L/t/8GAMP/3P8xADEA6P/o/yQA7v/J/7H/GABVAPr/SQAxAOj/EgBPAO4AGQGxAA0BlAEsAegADQHoACYBOAE4AV0BRAFQATIB9QAHATgBMgHoANYA1gDWAMoAnwClABkBpQC3APsATwAHAVUAGACMAB4ADAAGADEA7v8xAPr/Vf/W/4z/PP/P/3T/w//W/0//t/+9/wYAKgAGAAYA+v9JAOj/4v+3/4D/TwB6/4b/3P8S/yT/Sf8L/7z+2v6F/uH+8/75/mH/C/8w/0n/Z/8F/0//hv/z/jb/W/8S/7H/9P+Y/wAAyf/c/zcATwASAFUAMQBPAHQAz/8qAGIAKgBuAE8AEgBVAAYADAAeAEkAJAA3AEkAHgCxAOj/yf/o/73/nv+Y/3T/Z/9VAG3/Yf/P/9b/GACl/8P/3P8GABIAKgAAABgAWwAYAB4AMQA9AJkAmQAqAGIAqwBuAJkAsQDEAPUA4gCxAAEBEwGGAPsAygBbAKUAYgBiAJkAyf/u/08A+v9VAAAA6P+r/4b/Z//J/3r/Sf8eAEn/hv8xALf/pf/0/8P/PQAAAL3/WwA9AAYASQB0AID/GAAAAKv/NwDP/+7/JAAAAMn/+v8MAAYASQDi/6X/NwCr/6X/1v/5/nr/kv9n/23/JP9P/23/Sf9t/7H/Bf+M//T/t//6/0MANwD6/9b/KgBuAFUA6P/0/zcAq/8kAJ7/q/8YAMn/4v+3/73/z//W/z0AHgDc/1UAdACfADEANwBiAAwA+v8eAE8A7v/0/08ADACGAPsAegClAG4AQwClAEMAEgBoAB4AJAAxADEApQBoAMn/NwCfACoA1gBVAD0ApQASAHQASQAYAPT/QwA3AMn/TwCx/6v/6P+Y/wAAnv82/4z/7v+e/73/vf/W//T/t//c/73/SQBbAPr/9P8GADEAPQASAB4AVQDi/+L/BgC3/wAAvf+A/9b/q/9b/5L/jP8e/2H/Kv+M/8P/W/90/2f/nv+x/wAA+v/u/xgA1v8xAIwAmP/i/z0A4v8eAPr/hgAeAO7/1v/u/9z/sf+MACQA+v+MAPr/BgBVADEAegAMAEMAEgAeAMP/Sf90/0//ev9h/0n/JP8w/xj/JP82/zz/Hv9J/5L/vf/J/57/MQAkAKv/QwAqAFUAmQCTANAAkwDEAL0A9QC9AL0AMgEZAVcBAQHiABMBHwEBARkB3AB6AB8B6AABAeIAtwDKAIAAnwBuAKsAhgC3AJ8AQwB0AEkAYgAxAAYADADW/x4Asf+e/6X/Q/9b/zD/bf+A/4z/q/96/2H/bf90/2H/4v/0/zb/pf8AAL3/vf/D//T/DAAkABgADAC3/9b/NwBPAFUAMQAqAEkAWwBJAJ8AgABiAIYAGAD0/z0APQAMACoA4v90/57/gP9n/2H/Vf9V//n+PP+M/73/hv82/5j/1P4L/0n/hf4Y/87+7f4L//P+Q//C/mH/JP9t/4z/JP+Y/0P/Q/9t/57/Vf+9/73/t//i/23/pf+3/8n/pf83ABgA3P9iAJMAbgBoAGIABgBJADcAMQBDAPr/dAD1AIAAOAEBAdYAsgEfATIBRAHcAPUAPgHuAPUAXQHcAD4BVwG3ABMB3ABoAAEBbgCxAB8BjADWAIYAEwENAasAWwBbAG4Anv/i/6v/Yf90/4D/MP8q/zD/1P4Y/7b+tv4w/wv/Bf/D/4b///5V/w==\" type=\"audio/wav\" />\n",
              "                    Your browser does not support the audio element.\n",
              "                </audio>\n",
              "              "
            ],
            "text/plain": [
              "<IPython.lib.display.Audio object>"
            ]
          },
          "metadata": {},
          "execution_count": 8
        }
      ]
    },
    {
      "cell_type": "markdown",
      "metadata": {
        "id": "alXeOfRD7e47"
      },
      "source": [
        "データの整形\n",
        "-------------------\n",
        "\n",
        "データへ変換を適用します。\n",
        "\n",
        "波形データをダウンサンプルすることにより、分類性能を大きく下げること無く処理を高速化できます。\n",
        "\n",
        "今回はその他の変換を適用する必要はありません。\n",
        "\n",
        "<br>\n",
        "\n",
        "データセットによっては、チャンネルの次元に沿って平均値を計算する、あるいは単純に一つのチャンネルの値だけを使うなどの方法でチャンネル数の削減(例えばステレオからモノラルへの変換)が適用されます。\n",
        "\n",
        "SpeechCommandsの音声データは1チャンネルだけなので、この操作は今は必要ありません。\n"
      ]
    },
    {
      "cell_type": "code",
      "metadata": {
        "id": "c8Hj53FG7e47",
        "colab": {
          "base_uri": "https://localhost:8080/",
          "height": 75
        },
        "outputId": "3639fd91-6571-4f73-b282-9d14f954b95f"
      },
      "source": [
        "new_sample_rate = 8000\n",
        "transform = torchaudio.transforms.Resample(orig_freq=sample_rate, new_freq=new_sample_rate)\n",
        "transformed = transform(waveform)\n",
        "\n",
        "ipd.Audio(transformed.numpy(), rate=new_sample_rate)"
      ],
      "execution_count": 9,
      "outputs": [
        {
          "output_type": "execute_result",
          "data": {
            "text/html": [
              "\n",
              "                <audio controls=\"controls\" >\n",
              "                    <source src=\"data:audio/wav;base64,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\" type=\"audio/wav\" />\n",
              "                    Your browser does not support the audio element.\n",
              "                </audio>\n",
              "              "
            ],
            "text/plain": [
              "<IPython.lib.display.Audio object>"
            ]
          },
          "metadata": {},
          "execution_count": 9
        }
      ]
    },
    {
      "cell_type": "markdown",
      "metadata": {
        "id": "KhetIvbu7e48"
      },
      "source": [
        "ラベルのリストのインデックスを使って各単語をエンコードします。\n",
        "\n",
        "<br>\n",
        "(日本語訳注)\n",
        "\n",
        "すなわち、インデックスの数字からラベル名を求めるリストを用意します。\n",
        "\n"
      ]
    },
    {
      "cell_type": "code",
      "metadata": {
        "id": "VtmGJHHW7e48",
        "colab": {
          "base_uri": "https://localhost:8080/"
        },
        "outputId": "6ad344da-44e7-48cb-b8bd-94d659d8dcac"
      },
      "source": [
        "def label_to_index(word):\n",
        "    # labelsにおける単語のインデックスを返す\n",
        "    return torch.tensor(labels.index(word))\n",
        "\n",
        "\n",
        "def index_to_label(index):\n",
        "    # labelsのインデックスに対応した単語を返す\n",
        "    # label_to_indexの逆の作用\n",
        "    return labels[index]\n",
        "\n",
        "\n",
        "word_start = \"yes\"\n",
        "index = label_to_index(word_start)\n",
        "word_recovered = index_to_label(index)\n",
        "\n",
        "print(word_start, \"-->\", index, \"-->\", word_recovered)"
      ],
      "execution_count": 10,
      "outputs": [
        {
          "output_type": "stream",
          "name": "stdout",
          "text": [
            "yes --> tensor(33) --> yes\n"
          ]
        }
      ]
    },
    {
      "cell_type": "markdown",
      "metadata": {
        "id": "dxBv84Rc7e48"
      },
      "source": [
        "録音データとコマンド命令から構成されたリスト型の各データを、モデル訓練のために2つのバッチ化されたテンソル（録音データのテンソルのバッチと、コマンド命令のテンソルのバッチ）へ変換するために、collate関数を実装します。\n",
        "\n",
        "<br>\n",
        "\n",
        "このcollate関数はPyTorchのデータローダで使用され、バッチ単位でデータセットをイテレートできるようになります。\n",
        "\n",
        "\n",
        "collate関数の詳しい使い方は[ドキュメント](https://pytorch.org/docs/stable/data.html#working-with-collate-fn)を御覧ください。\n",
        "\n",
        "今回、collate関数ではリサンプリングと単語のエンコードも行わせます。\n"
      ]
    },
    {
      "cell_type": "code",
      "metadata": {
        "id": "TNUpiAcC7e48"
      },
      "source": [
        "def pad_sequence(batch):\n",
        "    # ゼロ埋めによりバッチに含まれる全てのテンソルを同じ長さにする\n",
        "    batch = [item.t() for item in batch]\n",
        "    batch = torch.nn.utils.rnn.pad_sequence(batch, batch_first=True, padding_value=0.)\n",
        "    return batch.permute(0, 2, 1)\n",
        "\n",
        "\n",
        "def collate_fn(batch):\n",
        "\n",
        "    # データタプルは次の形式をとる:\n",
        "    #  waveform, sample_rate, label, speaker_id, utterance_number\n",
        "\n",
        "    tensors, targets = [], []\n",
        "\n",
        "    # リストにまとめ、ラベルをインデックスでエンコードする\n",
        "    for waveform, _, label, *_ in batch:\n",
        "        tensors += [waveform]\n",
        "        targets += [label_to_index(label)]\n",
        "\n",
        "    # テンソルのリストをまとめてバッチ化されたテンソルにする\n",
        "    tensors = pad_sequence(tensors)\n",
        "    targets = torch.stack(targets)\n",
        "\n",
        "    return tensors, targets\n",
        "\n",
        "\n",
        "batch_size = 256\n",
        "\n",
        "if device == \"cuda\":\n",
        "    num_workers = 1\n",
        "    pin_memory = True\n",
        "else:\n",
        "    num_workers = 0\n",
        "    pin_memory = False\n",
        "\n",
        "train_loader = torch.utils.data.DataLoader(\n",
        "    train_set,\n",
        "    batch_size=batch_size,\n",
        "    shuffle=True,\n",
        "    collate_fn=collate_fn,\n",
        "    num_workers=num_workers,\n",
        "    pin_memory=pin_memory,\n",
        ")\n",
        "test_loader = torch.utils.data.DataLoader(\n",
        "    test_set,\n",
        "    batch_size=batch_size,\n",
        "    shuffle=False,\n",
        "    drop_last=False,\n",
        "    collate_fn=collate_fn,\n",
        "    num_workers=num_workers,\n",
        "    pin_memory=pin_memory,\n",
        ")"
      ],
      "execution_count": 11,
      "outputs": []
    },
    {
      "cell_type": "markdown",
      "metadata": {
        "id": "SY-iGPI67e49"
      },
      "source": [
        "ネットワークの定義\n",
        "------------------\n",
        "\n",
        "本チュートリアルでは生の音声データの処理に畳み込みニューラルネットワークを使用します。\n",
        "\n",
        "通常ではより高度な変換が音声データに適用されるのですが、CNNはそのままの音声データを処理できます。\n",
        "\n",
        "\n",
        "[こちらの論文](https://arxiv.org/pdf/1610.00087.pdf)で説明されているM5ネットワークアーキテクチャに倣ったアーキテクチャを作成します。\n",
        "\n"
      ]
    },
    {
      "cell_type": "markdown",
      "metadata": {
        "id": "xqUAZTNDrT4c"
      },
      "source": [
        "生の音声データを処理するモデルで重要なことは第一層のフィルターの受容野の広さです。\n",
        "\n",
        "ここで構築するモデルの最初のフィルタの長さは80であるため、8kHzでサンプリングされた音声データを処理すると受容野は約10ms(4kHzであれば約20ms)となります。\n",
        "\n",
        "このサイズは一般的な音声処理アプリケーションで使われる受容野の広さである20msから40msに近い値となっています。\n"
      ]
    },
    {
      "cell_type": "code",
      "metadata": {
        "id": "HvY-IIug7e49",
        "colab": {
          "base_uri": "https://localhost:8080/"
        },
        "outputId": "c68ce546-034d-4feb-fe87-4abb068f1464"
      },
      "source": [
        "class M5(nn.Module):\n",
        "    def __init__(self, n_input=1, n_output=35, stride=16, n_channel=32):\n",
        "        super().__init__()\n",
        "        self.conv1 = nn.Conv1d(n_input, n_channel, kernel_size=80, stride=stride)\n",
        "        self.bn1 = nn.BatchNorm1d(n_channel)\n",
        "        self.pool1 = nn.MaxPool1d(4)\n",
        "        self.conv2 = nn.Conv1d(n_channel, n_channel, kernel_size=3)\n",
        "        self.bn2 = nn.BatchNorm1d(n_channel)\n",
        "        self.pool2 = nn.MaxPool1d(4)\n",
        "        self.conv3 = nn.Conv1d(n_channel, 2 * n_channel, kernel_size=3)\n",
        "        self.bn3 = nn.BatchNorm1d(2 * n_channel)\n",
        "        self.pool3 = nn.MaxPool1d(4)\n",
        "        self.conv4 = nn.Conv1d(2 * n_channel, 2 * n_channel, kernel_size=3)\n",
        "        self.bn4 = nn.BatchNorm1d(2 * n_channel)\n",
        "        self.pool4 = nn.MaxPool1d(4)\n",
        "        self.fc1 = nn.Linear(2 * n_channel, n_output)\n",
        "\n",
        "    def forward(self, x):\n",
        "        x = self.conv1(x)\n",
        "        x = F.relu(self.bn1(x))\n",
        "        x = self.pool1(x)\n",
        "        x = self.conv2(x)\n",
        "        x = F.relu(self.bn2(x))\n",
        "        x = self.pool2(x)\n",
        "        x = self.conv3(x)\n",
        "        x = F.relu(self.bn3(x))\n",
        "        x = self.pool3(x)\n",
        "        x = self.conv4(x)\n",
        "        x = F.relu(self.bn4(x))\n",
        "        x = self.pool4(x)\n",
        "        x = F.avg_pool1d(x, x.shape[-1])\n",
        "        x = x.permute(0, 2, 1)\n",
        "        x = self.fc1(x)\n",
        "        return F.log_softmax(x, dim=2)\n",
        "\n",
        "\n",
        "model = M5(n_input=transformed.shape[0], n_output=len(labels))\n",
        "model.to(device)\n",
        "print(model)\n",
        "\n",
        "\n",
        "def count_parameters(model):\n",
        "    return sum(p.numel() for p in model.parameters() if p.requires_grad)\n",
        "\n",
        "\n",
        "n = count_parameters(model)\n",
        "print(\"Number of parameters: %s\" % n)"
      ],
      "execution_count": 12,
      "outputs": [
        {
          "output_type": "stream",
          "name": "stdout",
          "text": [
            "M5(\n",
            "  (conv1): Conv1d(1, 32, kernel_size=(80,), stride=(16,))\n",
            "  (bn1): BatchNorm1d(32, eps=1e-05, momentum=0.1, affine=True, track_running_stats=True)\n",
            "  (pool1): MaxPool1d(kernel_size=4, stride=4, padding=0, dilation=1, ceil_mode=False)\n",
            "  (conv2): Conv1d(32, 32, kernel_size=(3,), stride=(1,))\n",
            "  (bn2): BatchNorm1d(32, eps=1e-05, momentum=0.1, affine=True, track_running_stats=True)\n",
            "  (pool2): MaxPool1d(kernel_size=4, stride=4, padding=0, dilation=1, ceil_mode=False)\n",
            "  (conv3): Conv1d(32, 64, kernel_size=(3,), stride=(1,))\n",
            "  (bn3): BatchNorm1d(64, eps=1e-05, momentum=0.1, affine=True, track_running_stats=True)\n",
            "  (pool3): MaxPool1d(kernel_size=4, stride=4, padding=0, dilation=1, ceil_mode=False)\n",
            "  (conv4): Conv1d(64, 64, kernel_size=(3,), stride=(1,))\n",
            "  (bn4): BatchNorm1d(64, eps=1e-05, momentum=0.1, affine=True, track_running_stats=True)\n",
            "  (pool4): MaxPool1d(kernel_size=4, stride=4, padding=0, dilation=1, ceil_mode=False)\n",
            "  (fc1): Linear(in_features=64, out_features=35, bias=True)\n",
            ")\n",
            "Number of parameters: 26915\n"
          ]
        }
      ]
    },
    {
      "cell_type": "markdown",
      "metadata": {
        "id": "ng5Wv13a7e49"
      },
      "source": [
        "論文で使われている最適化と同様に、重み減衰を0.0001にしたAdamオプティマイザを使用します。\n",
        "\n",
        "最初に、学習率を0.01にして訓練を行いますが、``scheduler``を使って20エポック経過後0.001に減衰させることにします。"
      ]
    },
    {
      "cell_type": "code",
      "metadata": {
        "id": "fuj5G4Dn7e4-"
      },
      "source": [
        "optimizer = optim.Adam(model.parameters(), lr=0.01, weight_decay=0.0001)\n",
        "scheduler = optim.lr_scheduler.StepLR(optimizer, step_size=20, gamma=0.1)  # 20エポック毎に学習率を1/10に減衰する"
      ],
      "execution_count": 13,
      "outputs": []
    },
    {
      "cell_type": "markdown",
      "metadata": {
        "id": "6D73X3-47e4-"
      },
      "source": [
        "ネットワークの訓練とテスト\n",
        "--------------------------------\n",
        "\n",
        "モデルを訓練データへ入力し、逆伝播と最適化を行う訓練関数を定義します。\n",
        "\n",
        "訓練では負の対数尤度を損失とします。\n",
        "\n",
        "各エポック完了後にネットワークのテストを行い、訓練中に精度がどのように変化するかを確認します。\n"
      ]
    },
    {
      "cell_type": "code",
      "metadata": {
        "id": "5QJkL_xA7e4-"
      },
      "source": [
        "def train(model, epoch, log_interval):\n",
        "    model.train()\n",
        "    for batch_idx, (data, target) in enumerate(train_loader):\n",
        "\n",
        "        data = data.to(device)\n",
        "        target = target.to(device)\n",
        "\n",
        "        # デバイス上のバッチデータに変換を適用し、モデルへ入力する\n",
        "        data = transform(data)\n",
        "        output = model(data)\n",
        "\n",
        "        # (batch x 1 x n_output)サイズのテンソルの負の対数尤度\n",
        "        loss = F.nll_loss(output.squeeze(), target)\n",
        "\n",
        "        optimizer.zero_grad()\n",
        "        loss.backward()\n",
        "        optimizer.step()\n",
        "\n",
        "        # 訓練の統計値をプリントする\n",
        "        if batch_idx % log_interval == 0:\n",
        "            print(f\"Train Epoch: {epoch} [{batch_idx * len(data)}/{len(train_loader.dataset)} ({100. * batch_idx / len(train_loader):.0f}%)]\\tLoss: {loss.item():.6f}\")\n",
        "\n",
        "        # プログレスバー更新\n",
        "        pbar.update(pbar_update)\n",
        "        # 損失を記録する\n",
        "        losses.append(loss.item())"
      ],
      "execution_count": 14,
      "outputs": []
    },
    {
      "cell_type": "markdown",
      "metadata": {
        "id": "SJp4l9v87e4_"
      },
      "source": [
        "訓練関数を定義したのでネットワークの精度をテストする関数を定義します。\n",
        "\n",
        "モデルを``eval()``モードにし、テストデータセットを使って推論を実行します。\n",
        "\n",
        "``eval()``を実行することによってネットワークの重みは更新されなくなります。\n",
        "\n",
        "バッチノーマライゼーション層やドロップアウト層など特定の層は訓練時と推論時で異なる挙動をするので、正しい推論結果を得るためには``eval()``が必要です。\n"
      ]
    },
    {
      "cell_type": "code",
      "metadata": {
        "id": "9Hb6jscV7e4_"
      },
      "source": [
        "def number_of_correct(pred, target):\n",
        "    # 正解数を数える\n",
        "    return pred.squeeze().eq(target).sum().item()\n",
        "\n",
        "\n",
        "def get_likely_index(tensor):\n",
        "    # バッチの各要素について、最も確率の高いラベルインデックスを得る\n",
        "    return tensor.argmax(dim=-1)\n",
        "\n",
        "\n",
        "def test(model, epoch):\n",
        "    model.eval()\n",
        "    correct = 0\n",
        "    for data, target in test_loader:\n",
        "\n",
        "        data = data.to(device)\n",
        "        target = target.to(device)\n",
        "\n",
        "        # デバイス上のバッチデータに変換を適用し、モデルへ入力する\n",
        "        data = transform(data)\n",
        "        output = model(data)\n",
        "\n",
        "        pred = get_likely_index(output)\n",
        "        correct += number_of_correct(pred, target)\n",
        "\n",
        "        # プログレスバー更新\n",
        "        pbar.update(pbar_update)\n",
        "\n",
        "    print(f\"\\nTest Epoch: {epoch}\\tAccuracy: {correct}/{len(test_loader.dataset)} ({100. * correct / len(test_loader.dataset):.0f}%)\\n\")"
      ],
      "execution_count": 15,
      "outputs": []
    },
    {
      "cell_type": "markdown",
      "metadata": {
        "id": "0K13AUYZ7e4_"
      },
      "source": [
        "最後にネットワークの訓練とテストを行います。\n",
        "\n",
        "ネットワークを20エポック訓練し、それから学習率を下げてさらに20エポック訓練します。\n",
        "\n",
        "各エポック完了後にネットワークをテストし、訓練中に精度がどう変化するかを確認します。\n"
      ]
    },
    {
      "cell_type": "code",
      "metadata": {
        "id": "YLLMfDvu7e4_",
        "colab": {
          "base_uri": "https://localhost:8080/",
          "height": 919,
          "referenced_widgets": [
            "a980267d114f42acb096173aa4f40b02",
            "04f1a684b68a4419a32090b327859672",
            "9cca7fe44d3e420699ca5e30aec85b8d",
            "9d28315cfa9f45f19cbf3a8ead93c45b",
            "e7637fef75d345de962415fe87932047",
            "90049e2fa087437ebe381f347ba98d10",
            "de29235519ad41428757e35cabef8c83",
            "1e3747220fbc4ee88f93f5b0b45fc5de",
            "1b8e579a97924236bd6d9430a99f85e0",
            "da99f218735348188dec2e411fb1654b",
            "7d0bd863d06443108e2f5e7043434914"
          ]
        },
        "outputId": "621c8e25-dc44-47bb-b9ca-692e378b02e1"
      },
      "source": [
        "log_interval = 20\n",
        "n_epoch = 2\n",
        "\n",
        "pbar_update = 1 / (len(train_loader) + len(test_loader))\n",
        "losses = []\n",
        "\n",
        "# 変換もモデルとデバイスと同じデバイス上に存在する必要がある\n",
        "transform = transform.to(device)\n",
        "with tqdm(total=n_epoch) as pbar:\n",
        "    for epoch in range(1, n_epoch + 1):\n",
        "        train(model, epoch, log_interval)\n",
        "        test(model, epoch)\n",
        "        scheduler.step()\n",
        "\n",
        "# 訓練時の損失がイテレーション数に応じてどう変化するかをプロットする\n",
        "# plt.plot(losses);\n",
        "# plt.title(\"training loss\");"
      ],
      "execution_count": 16,
      "outputs": [
        {
          "output_type": "display_data",
          "data": {
            "application/vnd.jupyter.widget-view+json": {
              "model_id": "a980267d114f42acb096173aa4f40b02",
              "version_minor": 0,
              "version_major": 2
            },
            "text/plain": [
              "  0%|          | 0/2 [00:00<?, ?it/s]"
            ]
          },
          "metadata": {}
        },
        {
          "output_type": "stream",
          "name": "stderr",
          "text": [
            "/usr/local/lib/python3.7/dist-packages/torch/nn/functional.py:652: UserWarning: Named tensors and all their associated APIs are an experimental feature and subject to change. Please do not use them for anything important until they are released as stable. (Triggered internally at  /pytorch/c10/core/TensorImpl.h:1156.)\n",
            "  return torch.max_pool1d(input, kernel_size, stride, padding, dilation, ceil_mode)\n"
          ]
        },
        {
          "output_type": "stream",
          "name": "stdout",
          "text": [
            "Train Epoch: 1 [0/105829 (0%)]\tLoss: 3.711160\n",
            "Train Epoch: 1 [5120/105829 (5%)]\tLoss: 2.998534\n",
            "Train Epoch: 1 [10240/105829 (10%)]\tLoss: 2.498421\n",
            "Train Epoch: 1 [15360/105829 (14%)]\tLoss: 2.289051\n",
            "Train Epoch: 1 [20480/105829 (19%)]\tLoss: 2.029289\n",
            "Train Epoch: 1 [25600/105829 (24%)]\tLoss: 1.954999\n",
            "Train Epoch: 1 [30720/105829 (29%)]\tLoss: 1.792546\n",
            "Train Epoch: 1 [35840/105829 (34%)]\tLoss: 1.585153\n",
            "Train Epoch: 1 [40960/105829 (39%)]\tLoss: 1.644805\n",
            "Train Epoch: 1 [46080/105829 (43%)]\tLoss: 1.281006\n",
            "Train Epoch: 1 [51200/105829 (48%)]\tLoss: 1.387995\n",
            "Train Epoch: 1 [56320/105829 (53%)]\tLoss: 1.240568\n",
            "Train Epoch: 1 [61440/105829 (58%)]\tLoss: 1.132155\n",
            "Train Epoch: 1 [66560/105829 (63%)]\tLoss: 1.156263\n",
            "Train Epoch: 1 [71680/105829 (68%)]\tLoss: 1.102719\n",
            "Train Epoch: 1 [76800/105829 (72%)]\tLoss: 1.115138\n",
            "Train Epoch: 1 [81920/105829 (77%)]\tLoss: 1.118873\n",
            "Train Epoch: 1 [87040/105829 (82%)]\tLoss: 1.120171\n",
            "Train Epoch: 1 [92160/105829 (87%)]\tLoss: 1.120366\n",
            "Train Epoch: 1 [97280/105829 (92%)]\tLoss: 1.039950\n",
            "Train Epoch: 1 [102400/105829 (97%)]\tLoss: 1.012923\n",
            "\n",
            "Test Epoch: 1\tAccuracy: 5884/11005 (53%)\n",
            "\n",
            "Train Epoch: 2 [0/105829 (0%)]\tLoss: 0.992098\n",
            "Train Epoch: 2 [5120/105829 (5%)]\tLoss: 0.844535\n",
            "Train Epoch: 2 [10240/105829 (10%)]\tLoss: 0.991913\n",
            "Train Epoch: 2 [15360/105829 (14%)]\tLoss: 0.913669\n",
            "Train Epoch: 2 [20480/105829 (19%)]\tLoss: 0.916889\n",
            "Train Epoch: 2 [25600/105829 (24%)]\tLoss: 0.814568\n",
            "Train Epoch: 2 [30720/105829 (29%)]\tLoss: 0.881588\n",
            "Train Epoch: 2 [35840/105829 (34%)]\tLoss: 0.785259\n",
            "Train Epoch: 2 [40960/105829 (39%)]\tLoss: 0.942898\n",
            "Train Epoch: 2 [46080/105829 (43%)]\tLoss: 0.890747\n",
            "Train Epoch: 2 [51200/105829 (48%)]\tLoss: 0.896721\n",
            "Train Epoch: 2 [56320/105829 (53%)]\tLoss: 0.928152\n",
            "Train Epoch: 2 [61440/105829 (58%)]\tLoss: 0.744792\n",
            "Train Epoch: 2 [66560/105829 (63%)]\tLoss: 0.880803\n",
            "Train Epoch: 2 [71680/105829 (68%)]\tLoss: 0.738755\n",
            "Train Epoch: 2 [76800/105829 (72%)]\tLoss: 0.975918\n",
            "Train Epoch: 2 [81920/105829 (77%)]\tLoss: 0.893542\n",
            "Train Epoch: 2 [87040/105829 (82%)]\tLoss: 0.684925\n",
            "Train Epoch: 2 [92160/105829 (87%)]\tLoss: 0.832629\n",
            "Train Epoch: 2 [97280/105829 (92%)]\tLoss: 0.917768\n",
            "Train Epoch: 2 [102400/105829 (97%)]\tLoss: 0.909922\n",
            "\n",
            "Test Epoch: 2\tAccuracy: 6862/11005 (62%)\n",
            "\n"
          ]
        }
      ]
    },
    {
      "cell_type": "markdown",
      "metadata": {
        "id": "i_ICwE577e5A"
      },
      "source": [
        "1エポック完了後（データセットに対して20エポック完了後）、テストセットに対するネットワークの精度は65%以上、2エポック完了後は85%以上になっているはずです。\n",
        "\n",
        "訓練セットの最後の単語を使い、モデルの推論結果を確認しましょう。\n",
        "\n",
        "<br>\n",
        "\n",
        "(日本語訳注：実行してみるとそこまでの精度にはならず・・・)\n"
      ]
    },
    {
      "cell_type": "code",
      "metadata": {
        "id": "hHGrqzEE7e5A",
        "colab": {
          "base_uri": "https://localhost:8080/",
          "height": 75
        },
        "outputId": "8e9588bc-0d1c-465c-fd8d-e6b4a03de299"
      },
      "source": [
        "def predict(tensor):\n",
        "    # モデルを使って波形のラベルを推論する\n",
        "    tensor = tensor.to(device)\n",
        "    tensor = transform(tensor)\n",
        "    tensor = model(tensor.unsqueeze(0))\n",
        "    tensor = get_likely_index(tensor)\n",
        "    tensor = index_to_label(tensor.squeeze())\n",
        "    return tensor\n",
        "\n",
        "\n",
        "waveform, sample_rate, utterance, *_ = train_set[-1]\n",
        "ipd.Audio(waveform.numpy(), rate=sample_rate)\n",
        "\n"
      ],
      "execution_count": 17,
      "outputs": [
        {
          "output_type": "execute_result",
          "data": {
            "text/html": [
              "\n",
              "                <audio controls=\"controls\" >\n",
              "                    <source src=\"data:audio/wav;base64,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\" type=\"audio/wav\" />\n",
              "                    Your browser does not support the audio element.\n",
              "                </audio>\n",
              "              "
            ],
            "text/plain": [
              "<IPython.lib.display.Audio object>"
            ]
          },
          "metadata": {},
          "execution_count": 17
        }
      ]
    },
    {
      "cell_type": "code",
      "metadata": {
        "colab": {
          "base_uri": "https://localhost:8080/"
        },
        "id": "d205nOr5yZab",
        "outputId": "3dabc2ce-9a10-42e1-dfdd-8583a0b83a4b"
      },
      "source": [
        "print(f\"Expected: {utterance}. Predicted: {predict(waveform)}.\")"
      ],
      "execution_count": 18,
      "outputs": [
        {
          "output_type": "stream",
          "name": "stdout",
          "text": [
            "Expected: zero. Predicted: yes.\n"
          ]
        }
      ]
    },
    {
      "cell_type": "markdown",
      "metadata": {
        "id": "549xyEKc7e5A"
      },
      "source": [
        "正しく分類できなかったものがあれば、その1つを確認してみましょう。\n",
        "\n"
      ]
    },
    {
      "cell_type": "code",
      "metadata": {
        "id": "rAnbyYNp7e5A",
        "colab": {
          "base_uri": "https://localhost:8080/"
        },
        "outputId": "d86a3d93-e5ff-4c88-abe8-544462471a3a"
      },
      "source": [
        "for i, (waveform, sample_rate, utterance, *_) in enumerate(test_set):\n",
        "    output = predict(waveform)\n",
        "    if output != utterance:\n",
        "        ipd.Audio(waveform.numpy(), rate=sample_rate)\n",
        "        print(f\"Data point #{i}. Expected: {utterance}. Predicted: {output}.\")\n",
        "        break\n",
        "else:\n",
        "    print(\"All examples in this dataset were correctly classified!\")\n",
        "    print(\"In this case, let's just look at the last data point\")\n",
        "    ipd.Audio(waveform.numpy(), rate=sample_rate)\n",
        "    print(f\"Data point #{i}. Expected: {utterance}. Predicted: {output}.\")"
      ],
      "execution_count": 19,
      "outputs": [
        {
          "output_type": "stream",
          "name": "stdout",
          "text": [
            "Data point #1. Expected: right. Predicted: nine.\n"
          ]
        }
      ]
    },
    {
      "cell_type": "code",
      "metadata": {
        "colab": {
          "base_uri": "https://localhost:8080/",
          "height": 75
        },
        "id": "2ztg3DR53Bnf",
        "outputId": "b3031d73-9703-4542-cd73-d792035c49c2"
      },
      "source": [
        "ipd.Audio(waveform.numpy(), rate=sample_rate)"
      ],
      "execution_count": 20,
      "outputs": [
        {
          "output_type": "execute_result",
          "data": {
            "text/html": [
              "\n",
              "                <audio controls=\"controls\" >\n",
              "                    <source src=\"data:audio/wav;base64,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\" type=\"audio/wav\" />\n",
              "                    Your browser does not support the audio element.\n",
              "                </audio>\n",
              "              "
            ],
            "text/plain": [
              "<IPython.lib.display.Audio object>"
            ]
          },
          "metadata": {},
          "execution_count": 20
        }
      ]
    },
    {
      "cell_type": "markdown",
      "metadata": {
        "id": "iM2xgXn27e5A"
      },
      "source": [
        "また、ぜひラベルにある単語の1つをご自身で録音し、このモデルにラベルを推論させてみてください。\n",
        "\n",
        "例えば、Colabをご使用であれば次のセルを実行して「Go」と発話します。\n",
        "\n",
        "1秒間音声が録音され、そのデータに対して分類が行われます。\n"
      ]
    },
    {
      "cell_type": "code",
      "metadata": {
        "id": "EbfTxFVq7e5B",
        "colab": {
          "base_uri": "https://localhost:8080/",
          "height": 126
        },
        "outputId": "bb79f960-a946-420d-9839-21ea65006238"
      },
      "source": [
        "from google.colab import output as colab_output\n",
        "from base64 import b64decode\n",
        "from io import BytesIO\n",
        "from pydub import AudioSegment\n",
        "\n",
        "\n",
        "RECORD = \"\"\"\n",
        "const sleep  = time => new Promise(resolve => setTimeout(resolve, time))\n",
        "const b2text = blob => new Promise(resolve => {\n",
        "  const reader = new FileReader()\n",
        "  reader.onloadend = e => resolve(e.srcElement.result)\n",
        "  reader.readAsDataURL(blob)\n",
        "})\n",
        "var record = time => new Promise(async resolve => {\n",
        "  stream = await navigator.mediaDevices.getUserMedia({ audio: true })\n",
        "  recorder = new MediaRecorder(stream)\n",
        "  chunks = []\n",
        "  recorder.ondataavailable = e => chunks.push(e.data)\n",
        "  recorder.start()\n",
        "  await sleep(time)\n",
        "  recorder.onstop = async ()=>{\n",
        "    blob = new Blob(chunks)\n",
        "    text = await b2text(blob)\n",
        "    resolve(text)\n",
        "  }\n",
        "  recorder.stop()\n",
        "})\n",
        "\"\"\"\n",
        "\n",
        "\n",
        "def record(seconds=1):\n",
        "    display(ipd.Javascript(RECORD))\n",
        "    print(f\"Recording started for {seconds} seconds.\")\n",
        "    s = colab_output.eval_js(\"record(%d)\" % (seconds * 1000))\n",
        "    print(\"Recording ended.\")\n",
        "    b = b64decode(s.split(\",\")[1])\n",
        "\n",
        "    fileformat = \"wav\"\n",
        "    filename = f\"_audio.{fileformat}\"\n",
        "    AudioSegment.from_file(BytesIO(b)).export(filename, format=fileformat)\n",
        "    return torchaudio.load(filename)\n",
        "\n",
        "\n",
        "waveform, sample_rate = record()\n",
        "print(f\"Predicted: {predict(waveform)}.\")\n",
        "ipd.Audio(waveform.numpy(), rate=sample_rate)\n"
      ],
      "execution_count": 21,
      "outputs": [
        {
          "output_type": "display_data",
          "data": {
            "application/javascript": [
              "\n",
              "const sleep  = time => new Promise(resolve => setTimeout(resolve, time))\n",
              "const b2text = blob => new Promise(resolve => {\n",
              "  const reader = new FileReader()\n",
              "  reader.onloadend = e => resolve(e.srcElement.result)\n",
              "  reader.readAsDataURL(blob)\n",
              "})\n",
              "var record = time => new Promise(async resolve => {\n",
              "  stream = await navigator.mediaDevices.getUserMedia({ audio: true })\n",
              "  recorder = new MediaRecorder(stream)\n",
              "  chunks = []\n",
              "  recorder.ondataavailable = e => chunks.push(e.data)\n",
              "  recorder.start()\n",
              "  await sleep(time)\n",
              "  recorder.onstop = async ()=>{\n",
              "    blob = new Blob(chunks)\n",
              "    text = await b2text(blob)\n",
              "    resolve(text)\n",
              "  }\n",
              "  recorder.stop()\n",
              "})\n"
            ],
            "text/plain": [
              "<IPython.core.display.Javascript object>"
            ]
          },
          "metadata": {}
        },
        {
          "output_type": "stream",
          "name": "stdout",
          "text": [
            "Recording started for 1 seconds.\n",
            "Recording ended.\n",
            "Predicted: six.\n"
          ]
        },
        {
          "output_type": "execute_result",
          "data": {
            "text/html": [
              "\n",
              "                <audio controls=\"controls\" >\n",
              "                    <source src=\"data:audio/wav;base64,UklGRiQ7AQBXQVZFZm10IBAAAAABAAEAgLsAAAB3AQACABAAZGF0YQA7AQAAAAAAAAAAAAAAAAAAAAAAAAAAAAAAAAAAAAAAAAAAAAAAAAAAAAAAAAAAAAAAAAAAAAAAAAAAAAAAAAAAAAAAAAAAAAAAAAAAAAAAAAAAAAAAAAAAAAAAAAAAAAAAAAAAAAAAAAAAAAAAAAAAAAAAAAAAAAAAAAAAAAAAAAAAAAAAAAAAAAAAAAAAAAAAAAAAAAAAAAAAAAAAAAAAAAAAAAAAAAAAAAAAAAAAAAAAAAAAAAAAAAAAAAAAAAAAAAAAAAAAAAAAAAAAAAAAAAAAAAAAAAAAAAAAAAAAAAAAAAAAAAAAAAAAAAAAAAAAAAAAAAAAAAAAAAAAAAAAAAAAAAAAAAAAAAAAAAAAAAAAAAAAAAAAAAAAAAAAAAAAAAAAAAAAAAAAAAAAAAAAAAAAAAAAAAAAAAAAAAAAAAAAAAAAAAAAAAAAAAAAAAAAAAAAAAAAAAAAAAAAAAAAAAAAAAAAAAAAAAAAAAAAAAAAAAAAAAAAAAAAAAAAAAAAAAAAAAAAAAAAAAAAAAAAAAAAAAAAAAAAAAAAAAAAAAAAAAAAAAAAAAAAAAAAAAAAAAAAAAAAAAAAAAAAAAAAAAAAAAAAAAAAAAAAAAAAAAAAAAAAAAAAAAAAAAAAAAAAAAAAAAAAAAAAAAAAAAAAAAAAAAAAAAAAAAAAAAAAAAAAAAAAAAAAAAAAAAAAAAAAAAAAAAAAAAAAAAAAAAAAAAAAAAAAAAAAAAAAAAAAAAAAAAAAAAAAAAAAAAAAAAAAAAAAAAAAAAAAAAAAAAAAAAAAAAAAAAAAAAAAAAAAAAAAAAAAAAAAAAAAAAAAAAAAAAAAAAAAAAAAAAAAAAAAAAAAAAAAAAAAAAAAAAAAAAAAAAAAAAAAAAAAAAAAAAAAAAAAAAAAAAAAAAAAAAAAAAAAAAAAAAAAAAAAAAAAAAAAAAAAAAAAAAAAAAAAAAAAAAAAAAAAAAAAAAAAAAAAAAAAAAAAAAAAAAAAAAAAAAAAAAAAAAAAAAAAAAAAAAAAAAAAAAAAAAAAAAAAAAAAAAAAAAAAAAAAAAAAAAAAAAAAAAAAAAAAAAAAAAAAAAAAAAAAAAAAAAAAAAAAAAAAAAAAAAAAAAAAAAAAAAAAAAAAAAAAAAAAAAAAAAAAAAAAAAAAAAAAAAAAAAAAAAAAAAAAAAAAAAAAAAAAAAAAAAAAAAAAAAAAAAAAAAAAAAAAAAAAAAAAAAAAAAAAAAAAAAAAAAAAAAAAAAAAAAAAAAAAAAAAAAAAAAAAAAAAAAAAAAAAAAAAAAAAAAAAAAAAAAAAAAAAAAAAAAAAAAAAAAAAAAAAAAAAAAAAAAAAAAAAAAAAAAAAAAAAAAAAAAAAAAAAAAAAAAAAAAAAAAAAAAAAAAAAAAAAAAAAAAAAAAAAAAAAAAAAAAAAAAAAAAAAAAAAAAAAAAAAAAAAAAAAAAAAAAAAAAAAAAAAAAAAAAAAAAAAAAAAAAAAAAAAAAAAAAAAAAAAAAAAAAAAAAAAAAAAAAAAAAAAAAAAAAAAAAAAAAAAAAAAAAAAAAAAAAAAAAAAAAAAAAAAAAAAAAAAAAAAAAAAAAAAAAAAAAAAAAAAAAAAAAAAAAAAAAAAAAAAAAAAAAAAAAAAAAAAAAAAAAAAAAAAAAAAAAAAAAAAAAAAAAAAAAAAAAAAAAAAAAAAAAAAAAAAAAAAAAAAAAAAAAAAAAAAAAAAAAAAAAAAAAAAAAAAAAAAAAAAAAAAAAAAAAAAAAAAAAAAAAAAAAAAAAAAAAAAAAAAAAAAAAAAAAAAAAAAAAAAAAAAAAAAAAAAAAAAAAAAAAAAAAAAAAAAAAAAAAAAAAAAAAAAAAAAAAAAAAAAAAAAAAAAAAAAAAAAAAAAAAAAAAAAAAAAAAAAAAAAAAAAAAAAAAAAAAAAAAAAAAAAAAAAAAAAAAAAAAAAAAAAAAAAAAAAAAAAAAAAAAAAAAAAAAAAAAAAAAAAAAAAAAAAAAAAAAAAAAAAAAAAAAAAAAAAAAAAAAAAAAAAAAAAAAAAAAAAAAAAAAAAAAAAAAAAAAAAAAAAAAAAAAAAAAAAAAAAAAAAAAAAAAAAAAAAAAAAAAAAAAAAAAAAAAAAAAAAAAAAAAAAAAAAAAAAAAAAAAAAAAAAAAAAAAAAAAAAAAAAAAAAAAAAAAAAAAAAAAAAAAAAAAAAAAAAAAAAAAAAAAAAAAAAAAAAAAAAAAAAAAAAAAAAAAAAAAAAAAAAAAAAAAAAAAAAAAAAAAAAAAAAAAAAAAAAAAAAAAAAAAAAAAAAAAAAAAAAAAAAAAAAAAAAAAAAAAAAAAAAAAAAAAAAAAAAAAAAAAAAAAAAAAAAAAAAAAAAAP/////+//7//f/9//3//P/8//z//P/8//z//P/8//z//P/8//z//f/9//3//v/+////AAAAAAAAAQABAAIAAwAEAAUABgAHAAgACQAKAAsADAANAA4ADwARABIAEwATABQAFQAWABYAFwAYABgAGQAaABoAGwAbABsAHAAcABwAHQAdAB0AHQAdAB0AHQAdAB0AHQAcABwAHAAcABsAGwAaABoAGQAZABgAFwAXABYAFQAVABQAEwASABEAEAAPAA4ADQAMAAoACQAIAAcABgAEAAMAAgAAAAAA///+//z/+//6//j/9//2//X/9P/y//H/8P/v/+//7v/t/+z/6//r/+r/6v/q/+n/6f/p/+n/6f/p/+n/6f/q/+r/6v/r/+v/7P/s/+3/7v/u/+//8P/x//L/8v/z//T/9f/2//b/9//4//n/+f/6//v/+//8//3//f/+//7//v////////8AAAAAAAAAAAAAAAAAAAAAAAAAAAAAAAAAAAAAAAAAAAAAAAAAAAAAAAAAAAAAAAAAAAAAAAAAAAAAAAAAAAAAAAAAAAAAAAAAAAAAAAAAAAAAAAAAAAAAAAAAAAAAAAAAAAAAAAAAAAAAAAAAAAAAAAAAAAAAAAAAAAAAAAAAAAAAAAAAAAAAAAAAAAAAAAAAAAAAAAAAAAAAAAAAAAAAAAAAAAAAAAAAAAAAAAAAAAAAAAAAAAAAAAAAAAAAAAAAAAAAAAAAAAAAAAAAAAAAAAAAAAAAAAAAAAAAAAAAAAAAAAAAAAAAAAAAAAAAAAAAAAAAAAAAAAAAAAAAAAAAAAAAAAAAAAAAAAAAAAAAAAAAAAAAAAAAAAAAAAAAAAAAAAAAAAAAAAAAAAAAAAAAAAAAAAAAAAAAAAAAAAAAAAAAAAAAAAAAAAAAAAAAAAAAAAAAAAAAAAAAAAAAAAAAAAAAAAAAAAAAAAAAAAAAAAAAAAAAAAAAAAAAAAAAAAAAAAAAAAAAAAAAAAAAAAAAAAAAAAAAAAAAAAAAAAAAAAAAAAAAAAAAAAAAAAAAAAAAAAAAAAAAAAAAAAAAAAAAAAAAAAAAAAAAAAAAAAAAAAAAAAAAAAAAAAAAAAAAAAAAAAAAAAAAAAAAAAAAAAAAAAAAAAAAAAAAAAAAAAAAAAAAAAAAAAAAAAAAAAAAAAAAAAAA///+//3//P/6//f/9f/y/+7/6v/l/+D/2//V/8//yf/C/7z/tf+u/6b/n/+Y/5H/iv+E/37/eP9y/23/aP9k/2D/Xf9b/1n/WP9X/1j/WP9a/1z/X/9j/2f/bP9y/3n/gP+I/5D/mv+j/67/uf/F/9L/3//t//v/CQAZACoAOwBMAF8AcgCFAJkArgDEANkA8AAHAR4BNgFOAWYBfwGXAbAByQHiAfoBEwIrAkICWQJvAoUCmgKtAr8C0QLgAu4C+gIFAw0DFAMYAxkDGQMVAw8DBQP5AuoC1wLBAqcCigJpAkQCHALvAb8BjAFVARsB3QCdAFoAEwDL/4D/Mf/h/o3+OP7g/Yb9Kv3M/G38C/yp+0X74Pp6+hP6rPlE+d34dfgN+Kb3QPfb9nb2E/ay9VL19fSZ9ED06fOV80Xz9/Ks8mXyIfLh8aXxbfE48Qjx2/Cz8I/wbvBS8DrwJvAW8AnwAPD77/rv++8A8AjwE/Ah8DHwRPBY8G/wh/Ch8Lzw2PD28BPxMvFQ8W/xjvGt8cvx6fEG8iLyPfJX8nHyiPKf8rTyyPLa8uvy+vII8xTzH/Mn8y/zNfM58zzzPfM98zvzOPMz8y7zJvMe8xXzCvP+8vDy4vLT8sLysfKe8ovyd/Ji8k3yNvIf8gby7fHS8bfxmvF88V7xPvEd8fvw2PC08I/wafBD8Bzw9O/M76Tve+9T7yvvA+/b7rXuj+5r7kjuJ+4H7urtz+227aDtjO187W/tZe1f7V3tXu1j7Wztee2L7aDtue3X7fjtHu5I7nXupu7a7hLvTe+L78zvEPBW8J7w5/Az8X/xzfEc8mvyuvIJ81jzp/P080H0jPTW9B71ZfWp9ez1K/Zp9qT23PYS90T3dPeh98v38vcW+Dj4Vvhx+Ir4oPiz+MP40fjc+OT46/ju+PD47/js+Ob43/jW+Mv4vfiu+J74i/h4+GL4Tvg4+CD4Bvjv99X3tver95P3evdj90T3Kvf/9vz25vbW9tv2p/ar9o/2cPaG9oL2lPaf9rH2hfZ+9pH2oPYP9/v2LfdL9yv3xfe595j3j/dM94H3+/cj+ND3IvgA+EX4EflC+E34fPhr+Pf48fjM+Cf4QPgS+Bf4BPnk96r3//eu90/4IPiH94P3SviD+Nn49PjL92f4Yfg4+MX4+fdk+MH4ZPlk+mn6j/qg+hT7E/sX/Oj87PxC/u39RP7L/p3+AAB7AB8BPgGBAa0ByAAAAo4CxAKCA9oD3wOlA/4E2wSuBasGRQUTBoAFyAQABYkERAVGBcsFfgWYBfkF4ARRBkwH1AciCFsIZQiKBmMICwlQCXALjQmxCQQK/AmjC5sMIQ7LDU0OKw5hDvAPBhDtEekPYRB0EmAShhg8FmsR+g8mDN0QgBWCFIkOZwlNBtoJjxcFD/cJSgGw5br/xwWy6sIbK1hYdL52dGtjeP9ygG4DfaJ4j3v/f6l5JncDdyB45XcMegZ1hG9Wcl5vfm9OcURupWpnZ6dm32OYY7tiKF/aXmFbg1lNWilZ+1a3VIZUFFI+UaxR2E+BT9xNL02ITNFKaUmoR7dHdkTbQelBjz9APn48HzvQOdI3iTZlNNszSzJyMA4wEi54LN0rqSsIKiUp6iiyJsYlMCTZIl4irCAAH/QcmBwDGyQZJhkOF64VaBR4EjcRNBBDD4MNXg32Cw4K+gk+CAkH7QW5BJEDZAIBAjIA2f/+/ub8l/xg+yn64Pjv9yb31PVy9RX0WvON8iPx2/Da70DveO7l7b7t0OyJ7IfrAusS6yzqQekU6BHom+fS5TDlCuWW5GTjO+LI4UTh3uB94OrfYd8d35ve7t3E3VTdidwm3NTbWttE2ybbxNrq2qHartm02R3avdlT2YrZyNk52b/YINnW2CXYRdhj2DnYJtgt2AjYI9hy2DHYKtgF2NzXbNiN2MXYCtmw2JvYx9h62eLZodkT2lbaNtqF2sXa19rR2gHbSdsS29za+9r72kHb1tvK24Pb1NtA3AHcptv42wXcwNvE27vb4Nsi3JXcKN0h3UfduN2s3bfdId443k/e595T38Hf69+T3ynge+Ai4CHhBuL54ZjiceOh44PjU+OL4yXkH+Qs5NvkCeVB5QjmO+YF5nnmv+ZR5jjmHOYX5lPmHuYn5hTm/uVM5kPm4uZ454/nc+hv6Jnn5Od/6NTo+Ojy6HPpEurr6b3pveno6YrqlOpu6vrqGOtU6tLpbOq56jHqFuoa6jvqleqk6n3qlOo763DrVevQ6wns3uvh60zsn+y57A/tNO1+7ajtpe1h7ozuaO4G71Hvau8y7+futu9q8M/wgPFc8UjxxPFn8QXxBPEb8cfx1PFQ8b3xC/J38YXx8PEJ8tDyK/Mt8/nzCfT78y30Q/Ql9b/1V/b+9iH3p/fa9zz4BvlA+ZH5+vlK+k/6Zvp8+l36APv4+tz6u/vW+w38rvu0+tP6sfo8+0X8N/y7/HX9rf0S/iT+Fv68/nH/K/8d/8v/uf95/7P/if+f/x0Aof/t/kX/Wv8R/2j/bv96/wYAl/8b/xv/ZP51/hv/iP9bAA8A7P+eAAEA0v92AMkA7gCsAAcB0QDO/yAAyABtAfwBnQGeAZoCOQNIApQBPwJYAhwC6gFbAU0BswHEAUQBmgFjAhQCHQLVAQ0BHgHGAEIBJgLHAXMCjAJmAaABHQLZAooDfwMiBI8EpgSmBLEEuQXuBfAF+QXyBIYFJQbYBTMG5AU3BgUG5QSHBfYFQgZkBs8FIQa9BbwFegY1BnQGPwa1Bd8FwAXXBQYGZgbABiYH9QcnCG4I9Qc7B/cH0AfBB00I/gdfCI4IYwhQCFoInwnrCXoJbwmmCNQI7AhuCDcJTgnGCI4IGggPCO4H4wfnB5AHrQeHByoHBQfhBkoHaQcoB2kHowdoByoHfQemB5YH6QfpB+kHAAjLB4IHFgc0B00H5QaHBgMGKgYzBukF9AYuB4EGAQfVBjkGbQYeBlAGkgemB1YHugdjB/AGhAayBdoFKQYJBgYGWQXUBL0EWgQkBNYDggONA2cDrQIeAlICEgKcAe0BHAI+AlYCdAL0AhADEwPOAowCHAMXAwIDUgPpAp0C4gJfA4wDwQPyA08D8QMSBZsEfgSwBOcEpwRcA34DzwNXA0UE4wR2BLIEKwXyBOcErgW6BXYF3QUWBm8GfwZpBpIGPQaWBggHIgcCCNsHlgcVCBIHpAaQB6gH7AdgCH0I2whuCIAHVQePBw0IIwiCB5oH4QdnBx0HfAczCCcIFgixCAUIkgc6CBoIvgjACdAJCgq3CVcJgQloCXAJXAlLCTcJuAiFCFYI+wcXCHgIgwiQCI0I3QfLB+oHVwexB1cIEgmACWsIRQizCDUIRgiWCAEJJAnACNAIwwjECOMICAlgCdAIZgh4CM0HsgcDCK8HUgfpBoIGNwaxBYQFrgVxBWMFxQXnBcIFsAUBBnkG6gY1B9kG5AaZB7wH2wcdCEwI2wgHCcoI2gjECIsIwgjZCFgIewgJCVgIygd5CGIIiQdOBxAH+AY9B7QGywYmCGsIogghCT4IBwg8CIkH2AdlCIgIBwlNCZUJyAngCewJHwpPChgJ0ghzCY4ICAnwCYkJSgm5CDwJzAnHCboKeAo3CmoKyAkLChEKIgqMCiYKEgq5CZYJdgnZCEUJwAjkB/AHgQdXCPwIJwgnCNQHPgcvB44GggbvBocGdAa6BvIF1ARkBOwDYwPWAqABugHoAiQCyQF0AsUBzQEHAjwBXwEZArECywKLApQCywJuA70DngN5A5sDmgS/BCEEHwQmBA8EcAMrA2ID1QIeAoYBswG8AeYAPAFMAasAwQDw/wv/Lf+J/yMATABvAAEBGAE3AYMBlwGqAcAB6gGCAUEBwQGLAb4BCgI1AYYBwAGtAJ4ASwFZATkBqQHJARwCowKqAWkBvgGTAQgC3AE+AlYCWQGSAVUBlAFCAh8CpAJ8AVEAuwCPANMAlABnAPkAsACtAPcAzwFiAtABVALZAsAC6wJrAmUC5gJtAs8BZwHmAOwAIAEBAdUAsADDAIwAOQBtAIkAlgB1AHkADwFUAScBvgAiAX0BjQBwAIEAGABOABIAnf9C/xv/Rf9E/67/wP9r/4P/w/9jAKIAeQCuAPYAfgG7AVcBlQF6Ap0CZwKHAlICDgLZAdgBCQL2AT0C5gFRAacBQwFKAR8C/wHrAbQBQQExAQ8BigH5AeEBYAJIApMBtwGxAXIBnAHmAT4C2AGTAc8B3wHCAuYCdwKGApoBpgEOAqcBVwKfAsYCPAPWAuMCegPJA6MDygMMBIkDfANnA84CdgJZAokCNgLOAcYBmwFZAbkA+ACGAcwAXgDVAFEB2ADTAHwCxgJrAt4CkAIYA8MD1APIBNAEjATjBHMEFwQJBFsElQQfBNYDaQNSA1UD6wLnAs4CEQN1A4ADkQM6A6sDSgTaA5kD+gP6AywDiwMQBJEDMwRrBB4E4AMXA20DdwPtAggD4QJXAq8BGwJfAu8BbQIGApcBQQIkAnECIwPsAgADMAOPAlECKAKgAfABMAJFAn8C6gF6AdkBMAJrAcwA3gAfACcAPwD8/+kAuwCEAL0A4v8FAH4AhAB+AEMAHgC//z4AdADB/18AcQB1/3j/t/+l/3r/fP8uAHgAsf9//8H/4/+sAPsAaAEdArMBCwJDAocBHgK5At4CMwPBAi0CEAIBAsgBhQFfAT0BLQE9AXgBTgEPAaIBngH7AH4B/QGNAf0B+wLrArcCywL3AvwC4QIEBDUEOwOLA6ECnAHGASABzAFfAscBOgL7AVEBewGfAb0BKAJGAtMBYQLKAkcCNQLHAdUBRgKPAhsD6gJAA6QDkQMVBDoEtASnBM4DrQOMA0YDtwKDAjICtgFzAmUCzgG5AfIBKAJFAV4BqAHnAFcA9f9/ACgAIwAtAZoAgQB5ABsBZQIIAtwC8wIAAisC0wHkAq0D/wJsA7ADHwOqAu0CggKIAUgBBQFsAcsA2v+gALH/e/5H/6n/ff/H/3IA5AAsATsBQgFrAVsBxgEVAlEC0AKzAtUC3wIQA98DuwMSBP0EhgQxBGoE7wP5A5AEWARZBLQEgQS3AxUDqgN1A50CJQMFA2sCMwKuAcAB6gEOAkgCCgIRAtUBWQH0AbwCtwK5Ah8DjwP7AxUE3gMNBCoEnwO2A8YD1wJvA38E7QPVA1sDTAJuAhACwAFgAnwCigIUApsBMQIGAhsCFAMtAzQDBQPUAtECMwL4AsYDJwPQAikCRwK/AngC2QKvAn0CMwIsAXEBcQEOAWEBMAEQAdUAngC4AOkAmgF9AQ8BQwGQASIC/gGMAZkBwQHcAXcBTgHlAFkAlgBzADMBqwH+ANkB4AE8AWQBRQE+An0C8AH+Aa0B5gHfAX0CMQMyAlYCdwJ9AkUDBwPVAvMBfwGlAWwAVwCGADsABAAa/1X/5f///+7/6P/gAKgAtP9HAAwBGAFQAcwBvgHrAfMBkQHBAWYBLwGeAewBRgGV/wgAIAEeAbwBKwHzAHwBPADX/2cANQCiAC8BpABlAMkAfgAbACIALgAkAOH/2P8tAHYATgBdAOAA3gDxABoBBwFqAQwCFAJQAcoB2QLvAoQDSQP+An4DPgJuAdQBkQFRASMB3wBzAGwApABrALYAnAAQADIA6/8GAPcA9gCmAAIBNwEPAUMBvAGVAYcBBwLcAZwBhgF5AXAChwKOAYwBYQEfATYBUwESAloCWgKdAlMCrwJkA2YDYwNCA4ADjwOhAlMCtAL7AnAChAG8AVMBBgEFAvwBWAKOAlwBawGCAdIAxADyAOYAegBgAHYAhwB8ACAApwAVAQoBiQHpAZcCzAJaAqACoQJhAmoCWAKZAqsCBQKsASYCfwJCAv8BLwK3AuICpgJLAg4CSgJJAvABFQITAogBfQHgAfYByAEQAscCnwK1AhYD+AHsAcwCdALHAgEDRgIDAjACJgLGAbcBRQHjAE4B/wDzABEBsgAkAcAArP+N/8H/SgCGAKgAggGOARQBjAHPAbABBQLbAXsB7gEhAooBOgFVAUMBUAE6AdMA8gAzAWMBTQGmAJkAcADP/x0AWwAPANP/gv9q/wL/tP7t/rn+8f4T/2/+gf76/pn/7f8HAN4A1QBmAH4AqABVAQkBcwB8ADMARAACACAACwHeAHUAjgBtAAAAxv/O/xoAVADb/y4AZwC5//f/9v8HAIkArABqAEv/qv8tAK//ywDkACUAeQCgAPQACwFnAXAC+QLiAugCswMABMwD1wOMA7cD6AN/A9IDdgRUBF8ERwRwA0ED3AItAl4CMAISAgYCoAGuAfIBXwJ2Au8CtAMhA+cCuwPhA3gDqQMPBCkEQATOA94DIwSxAwgEWwSTBJwE2wOtAywD7QIeA2MCTgKWAjICrwHSAQAClAHeAZQBDwHYAQECvgFQAdkA8QCAADwAWQAkACcApgDYAJkABwEOAbcAMgGgAVMCYAIRAosCAwLVAQcCnwHCAkEDIQKwAZEBoQFJAcUAIAETAXwA1/+y/zwAGAAiACUAZv9R//L+IP8uAPP/WABrAEz/dP/p/vn+ggB8ANoAAQE6AFQALwAsAfgBbgH7AVUBgAAAAfoAQAERAfoAFwFgAIUAhwB2ALUApADDAAUAaACpAZgB4QGhAVkBuAGWAfoBSAJvAq8CmwKgAuIClwNAA20CJgOFA0UCWgG9AVwB2wAxAb0A1QCJAEr/d//7/ysA6f8GAIwA/f9bALMAbwCGAc0BRQEFAW8AVACkACYAe/8UADsA+f+HAOr/Yf+J/+f+2f4u/2T/0P8zAHMAhgAKAWcBYAFuAWIBcwE/AQ0B6ACsAJAAAQBSAOwATwA0AEIA9v/W/03/Hf+q/+r/tf/M//7/7P+t/1H/ov/Y/6b/IgAFAKH/5f9N/4P+s/6b/gP+7f0L/v793v23/bH9nP3h/SL++v1E/kn+9/3O/av9If5D/vP9Pv5b/gP+HP5X/lr+CP+J/5v/9P99/w3/6f7X/jL/d/5X/tX+R/5c/iX+1f2M/iL/+/4//uP+mP8//+v/CQCo/97/EQBoAFQAuQD7AIMA2ADVAN8AUQFUAUYBOwA9AA4BSgAkAVMCsQHhAbkB6QDGAJMAMAD5/xMAov9a/+v/7v/l/4T/IP+8/4H/YP8lAJUAOwE8AbIA5wDjANgAewGMARYBGQEkAeQAWgAuAFYAzf/i/zMAXf/p/hH/gv+y/5L/PwCCAFMAzgBXAYMBfgH/ATACswHQARYCkgGoALsA0QBQAJQAIQBf/2//W/+D/2X/uv9WAOP/+f/k/5b/OABzAEEA0v+3/wAAiP84/2r/sP+U/zv/rv/h/xAAIwFJAfUASQH3ALYARQGGAdwBHQIcAj4CswGoAe8BqgECArABCAGKAA4A5gDQAMEAsgHvANMAgwBT/18AEAEIAY4BSQEMAVMBmgEqAcoA9AC5ACQBOAEDARYCGwJ5ATYB5ACSAaQBZwHbAZUBdAHHACIA8ACwAGMAfQCF//D+G/7Z/dr+r/5//vT+Ff8Q/xz/6/89ABQAugB4AOD/RABaAJMAGwEjAXkBsQEbAQwBiwEyAYcAxwDQAJ4ATAE/AToBuAEFAZsA8v9p/3gAcwAjAFEAMwB/ADQADwBMAH8AiACm/+n/WwAuAOoA3QCqAMMAvAAvATIBbwEBAV0ABgFYAJ//OwCGAI0At/9U/9T/kv+T/7r/v//C/xT/5f79/qL+yP4q/zL/Af9E/8T/p/+I/7T//P/z/7f/y/9Z/0j/j//U/tP+V/9l//X/gwCLAF8AdACwAHgALQBtAIQACQAzAAgAJf8N/9T+Af+m/27/Of/2/hz/if82/+X+MP/i/8v/6P+ZALEAQwH5AEIAmwDVAIYBSAHBAGoB/wBZAP3/y/8xAAEAmf9I//j+sP7E/jj/B//x/p7/SgCn//z+FwALAHX/ZgC3AIUApAAVAXMBkgHuAfEBgAL1AlECoQJeA64D/AOuA1kDqAOlA+kCnwJTAsEBWAKgAjwCzwL4ApgCSgJiAVkBxQEnAV8BBwKWAWcBkQFUAfQAuACHAFUAXwACAJH/0v8CANX/W/9E/4j/Y/+f/9//uf+//7j/3//V/+X/bwAvAKn/dP9m/9L/v/9N/2P/rP/4/6r/Tf/E/zcAfgA7ALb/+//y/5T/qv/J/3r/of6I/sH+gP7H/oX+LP5q/uD9yv1A/on+Uv+f/7X/EwCR/zj/q/+S/2j/h/9j/3f/cP8J//v+lP8IAG7/Xv/E/x7/Wf/v/3b/dv/X/+j/T//G/lL/dv8D/1L/2//S/7H/xP+5/8P/wv/K/xIAFQAmAFAAbgCeAEQAagCIAecBwgHnAewBJAI4AtsB6AECAg8CIQK/AY8BXAFdAa4BYgF0AawBkAHBASACogJrAnkCMANCA34DWAOfAzsEVgOzAuYB3QHiAgICHgIRAyACkgH4ATICzwG7AfkB3gEiAuIBcgFDAdQAuABeADUABgCt/+P/g/9P/2v/W/+I/xb/AP8F/6r+Cv87/8P/iQB8AKMAzgDfAI0B6gFIAY8BzQJ3AtYBGQLsAWoB+ABlAckBLAFCAVoB+AAhAQkBxwDxAHkBqgEPAR4BpwF1AY8BOgIyArAB3gEOAqYBIAGJAIoAjADX//H/UQCv/37/TgASAAP/yf53/pD+2/5k/mf/XAAdAD0Ayf/q/2sAVQDRANsA0ADPAJgA+ADXABgBzQFYAcwApQDJACAB0wC1AKQB2gFbAWcBfAD8/7UAOwAbAJIAVAA1APX/5/+w/0j/1/9TAEYAWgBQAA4ATgBvAM//CgCAAHAAigAiAAUAtP8E/6f/3P+l/xcAEgAoAC0ADgCBAP0AAQFlAMEAfwHlABgBggH/AK8ADAABAAcArv+FAOsAugD3AD0BXgEQAVkBIwE/AG4A1v8g/63/4//G/5n/iP97//v+kf7W/vz+jv4k/5n/O/+A/yv/Pf/6/wkAsAARAeQAawALAPsAzgBCACgBCAFqADkA1//7/z8ASwA9ANr/4//Z/0H/Yv+E/87/ygCsAFMAcgC2AGQBUAFBAUgB0wCyAEYAWgCJACEAXQBiAF4AawAuAIgAywDQAG4AHwCbAG0A8/8rAMYA2QBaAKUABAERAd8AUgCsAPIAswCHAFAAtQB5ABUAzAAkATsBVAGHAecB8wEWAvEB6AH5AfsBlgJWAkoCuwIDAp8B4gCvAK0BMgGeAD4A9/8lAI7/uf+4/1v/rf8B/87+6f4E/+T/i/9d/2//7/50/7r/kf+8/wUAFQBv/3H/5v+z/3D/k//c/8X/tf9S/wf/i/8p/xD/GAABAOv/sAB4AOb/JQA9AAYALgBxAEUAGACgAGcAWf93/8//Uv/S/v7+Rf/S/ib/AAC5/3H/rv+i/6j/MQBCAPH/QQBFAPP/6f9KACEBJgGKACMA6P8UAD0ARgAiANz/hP/T/rT+3v69/hj/+v5p/mz+LP4f/nn+Sf6G/sr+n/4T/xr/t/7n/in/Mv8s/3H/T/8s/27/xv6i/g3/z/4I/+T+Zv6i/r7+7f6j/43/0f5S/4L//v7Z/w0Arv/0/y7/kv43/3f/9/5A/6n/NP+1/y8AFgCZAKkA5QDAABcA1QCTAXAB6QCnAOsAVgCE/3f/AABCAOL/RQC9ALcA9QDKADAB8QF8AX8BSgKwAr8CcgLuAoUDGQNGA1gDEANtAygDOQJoAU0BVgHoAA0B6wCzAKMAxv/I/0YAVwCyAOQA+gDzAB8BEAGNAD4B2gGNAfgBHwKPAc4BWwInAqUBqAFHAloCCgLhAUcBvQFeAsoB4gFUAYAA8AC6AGYAlwB2ABAA7/8LAKz/t/8oALoAZgHhAM4AiwFxAS0B7ACsAKkA+wAdARUBgwE0AeEAtQDX/6r/i//V/xwAc/85AGsAgP+4/3r/W/8j/33+Gv8w/6r+9f5J/2//hv9E/6H+p/6y/k/+Ff9x/wf/Sv/x/mn+nf7r/gf/A/8s/1f/b/8e/73+l/4T/gP+0v0P/Rb9Sf1x/dP9Gf7Z/VP9v/0G/mn9Q/32/Xv+/v1P/iz/J/+i/+T/1/85AN//xv+DAG4Auv8hAIQAwf+T/4D/a//l/6r/pf/n/67/uv/K/xAANgCT/67/aAC8/1T/agBsACQAawAdAEAASQAtAKYAHAFMAakApADnAGEA2ADDABYAmQD+AAYB1wAPAeMB/QGLAW0B4QESAuEBQgK9Ao0CHwJGAmACBwK2AWMBlwGRASYBOwH3APYAIQGTAG0AewA1AAMACQA6AH4A5QDdAKwAxgCsABUBbAGCAIgAvAHCAVQBBgGGAEEA//9DAGkAWAD0ALwAbACLAGAAxACWAC8AYwApAFwA1wCxANEAXQHNAN//JwBNAEcAXwALANb/oP+y/8P/h/8f/zL/7f/5/p/+AQCZ/wP/Lv9E/wv/rf6L/9v/1P8XAI7/nP+y/8j/1v8l/0//uv+7/w0AjAA2AMj/pgCwAEIA0wDzALkA0gBWARsBvQBYAWYBYgHFADwAKwEKAQYBjAEnAV0BVwGRAXYCBgIjAtoCTQIgAi4CIAJsAtQBhgGZAXcBEwJJAUUArwD//xb/Of+//8z/g//q/7z/L/86/5b/PgBHAPD/nf+N/7f/iP/N/w4AWADUAJ8AigCEAMIACAGaAOoAGQG1AMMAgABiAHMATgA1AK7/fv9w/+b+0v6L/nH+Cf/z/tD+j/5e/gf/Af8A/4P/1v9YAD8ACwAGAOz/GAATADwAWQA9AA4AGwBmAFD/xP5S//j+av/5/2P/G/8r/5n+9v1Q/in++f16/ib+4P3s/WL+p/4Y/jj+Bf7X/Q7+k/0L/sD+hf4R/vz9kP6n/lz+T/6l/jf/J/8n/8r/YAB8AHUAzQDvAHYAYgDiANQA8QDUAPf/RwD4/yf/iv8N/+j+E/8D/4r/DP9Y/wkAef/D/9X/Yf+X/8T/xP+8/xkAbQBHAC8AlQA1AR4BHgEyAaMACwGvAVkBXAGLAYsBdQEtAf0AhwCFAHsAjP+8/+b/iP8tAOT/jf/Y/3//zf8fAEgAZQApAKwAggA/ABcB2wBPAIMAbwAxANP/sv/6/4L/8f7q/lj+cv5L//z+zP45//b+n/75/mf/IP/P/iP/YP8t/9D+pv7e/t/+Bf++/7L/g/8AAOj/AABaAAYA5v8FALv/SP95/8P/3P8LAHv/G/8N/+H+Wv9x/3z/a/+S/k3+L/7e/UL+gP5m/d38fv0S/Rf9nf11/cP98f0O/q39tP3H/lH+t/0W/qb+H//1/vj+9/5e/17/vv4v/zb/Zv+X/2H/IgDW/4P//f/u/8f/dv8WAI4AMQAQAJL/fv9v/2D/j/8d/2P/5P+q/93/LwABAK8AygHBAf8BFAIOAiMDfwNrA0YDkgNaBNEDYQMUAysD9AM1A4UCcwICAmUBqADdAAUBpwBZALP/GP+c/qX+5v60/rD+CP8K/37+y/6B/5z/UgAAAfUARwG9AdIBEgITApwBqAGoAYYBhQF7AdQBlQH8AHIAHgCBAPj/lv/9/5j/Sf8M/9X+lv45/kL+Qv6c/pH+Y/4B//v+HP9//2v/4/8WANT/PADmAOcArQCzAHQATwBoAAAAh/+8/9f/Kv+E/lT+SP5E/kH+9v2v/cX9Uf0y/db9uP3E/en9Vv1e/eT9L/5L/nr+/v5E//r+Nv8BADIAxwCpAVgBUABG/43/NABw/yn/f/9y/4X/Tv/O/vv+0f8BAK///v+fAKUAdgAaAfYAQgDbANMAUgCEAFsAQQBPAE4AVAApAO3/lP+q/xcA0/93/x8AfwD9/y8AeQB3AL4AaABWAMkAwACtALwA2ACTAAIAzP92/wX/2f4T/2H/Sv+i/0gAZwBrAJ4AHgFDAdUAFAGaAX4BjAHKATkBtgBCASMBhgANAWgBgwEaAl4CMgK0AV0BEQFiAGYAEgE8AfMA6gAYARcBDQE4AYsBrAFkAfMAlQChABQB/wBjAMIAPgGlAHoAogCtAMsANwC0/43/WP9//6L/XP/7/sb+kv5i/kn+SP5k/pf+TP9N/7P+df/+//T/GQCP/5z/3P+i/wQA3f99/73/Uv/Z/tf+tP4G/zb/ov5r/k7+Jf5t/lv+gf7L/on+eP70/b39EP7q/av+9P70/tD/W/9W/6//hP81AAAAAAAGADH/av8G/43+sf6H/sj+ff5t/ov+Mv57/oL+L/71/VD+b/7A/eX9y/3m/Zb+Uf5S/rb+z/4u/uH9J/6S/X3+X/9u/pj+/f5x//T/if+C/6z/8P/v/2j/bP+Y/+f/CwCr/9D/NwBAAFYADwB0/3T/bv+K/x8ACwAPADUA3/+B/8D+uf50/1r/Wf/e/wMA1P+G/yT/L/96/4T/0P/G/1b/ov/U/6j/zP8OAEwAPwASAAoA3P+a/7//3P8V/3n+zf5N/1//Jf90/2X/xP7g/in/Wf9A/5j/NwCF/9L/PwCJ/4EAAgHBAFgBPwEcAQwBJQEtAbgA/wD5AGYAQwBtAEcAu/8UAGYATwBWAJ7/Jv/x/vP+Q/8e/4b/2P+b/5H/Yv9X/5X/8f8HABQAEwBw/8X/pABZAH8AJQHcANgAegGTAc0BNQIxAk4CMgLcAYcBhQHgAQcB/v8iADIAAACU/1T/yv95/+f+Vf+F/8z/EwB5/1P/iP/U/zIAKwCTAMEAkgC1AOcACgHrACQB2QBZAKoAYgCpAGABHwHKAHcAJwDC/+f/2P9e/8T/Qv/o/h//uv50/6T/Ef9C/3P/nP9w/2X/wP/7/8L/mP8uAKYAAAEAAQMB+QAwAIYAogA0AP4AYQEoAbIAsgCfALT/GQDLAGEA9f8zACYAJf8a/z//zP6o/pr+EP/e/m3+of5P/n3+A//b/p/+pv7w/hb/1/4S////FADN/43/0f73/iz/6/4T/2r/4f+e/xv/9/4U/yP/f/5Z/kr+Pv6u/ob+vv7C/mD+p/5V/vz9Vv6C/oH+l/56/pn+Pv9u/0v/4v6r/v7+rv59/sH+2v6K/kH+a/6+/ZP98f1j/UH9If0q/UD9J/1P/Zb87PxY/nn+Cv73/W7+h/5a/mH+lv4B/5v+Tf5T/oP+Q/8M/6z+vv5H/qf9yf2h/p7+aP6q/pD+hf6o/gj/Of9H/5H/qv/g/ygAwgDJAO3/DQBHACAAkAD6AF8BygHfAZcB+gC/AGwBiQHvABUBJQHiAMEAjwCnAKAATADW/5D/Jv+V/tP+A/+T/xkArf8PANH/Df+e////vv96/wUAagBAAI8ARAAxACcAwv9vAKAAjgAHAfUApAA+APv/rf9s/6L/mP9//4H/TP8+/6X/2P+U/7r/DQA7ACkAAQBdAAcAi/9HAHgAFAAqAE0AdgAxALf/tv+O/3T/+f9OAB4AOQBoANP/ov/u/z7/5/5W/xX/0v7q/gr/Iv/v/uv+5v6i/m3+L/58/tH+af4w/gr+6P0P/uL9tv2r/bP9H/6W/un+jf40/vH+Hf+p/lX/9/97/5D/NQDM/1X/ff+W/7b/Z//z/gT/Hv87/1v/L/9T/8L/Hf+H/vz+6f7u/jP/Fv+G/9D/s//U/zcAsACWAFEATAA2AP3/HQC4AMgA2ABLAU8BJAEWAZUBiwGUALcAtADy/ygAUABIAG4A0/9S/0T/6P68/g3/Cf+F/pT+6v7m/hP/PP9e/zX/+f4z//j+Bf+E/+j/iQCGAJ8AugB9ALcAswA2ASEB1wDaAVkBRgGyAUoAVQDGAGAAdwA3ABoAPgCXAGUAtf8tAFwAEgBOADMAVwDMAD4B3gGTAS0BtQGUAT8BTwHaAAQBlQE+AcMAmABXAPz/JgBPABAAHQDw/8z/q/8P/x7/Sv8C/w3/0v43/hv+Z/5U/hj+Rv5T/k3+mP6L/lr+kf7G/s3+mf62/gf/3f48/4//XP/G/zIAiwCBACIAWgD9/2b/Ff+o/s/+w/6L/oz+Uf4N/lD90/ws/UX9e/31/fr99/3y/c/9KP64/gf/J/9n/4r/Yv/1/2AA4P+I/xL/Kf/L/5X/Rf8s/zP/XP8e//7+WP9U//b+Kv8o/9n+jv9eAGEATgBDAOn/7f9HAFYAZgDg/4T/lP9x/wAAYP/Y/vX/ov9u/+z/6P8XADgArwB9AD4AjwCNADIB8AAYAFoAxACOAN7/jAD0AHAAuwALANf/PwD9/6kAXgBS/5H/0f9o/yv/i/+B/w7/5P6x/qz+3f7T/gL/o/+E/3H//P/I/57/6P4h/tH+5f7b/jz/Xf+x/1v/Pv9i/yH/Ov8x/6b/aQAkANr/1ABsAZUA0AD9AD4A1wCLAMn/KAB2/zj/IwBRABoA/f8FAO7/yP8cAJkAtQDIADsBLgETAYsBgwF3AUUBsgCqAIQAbABPAPP/VACFAA4AuP/C//b/yP+V/1//SP9P/1D/6/8lABIAYgCPAOgAgQDv/2EAWADi/6H/iv/I/7j/Wf9M/yn/1f79/jb/bf+y/9v/aACHAFQAWwBZAIsAkQDXAMUAxQA7AUoAVADUAEQA/wDuAF8AnABnACoAU/9F/7j/RP+c/77/cf+4/5b/v/9VAOH/sv9mAHgArACUAFYA+QDXAPwAFgEvAOH/Wf9M/0T/dv4B/zf/Cf5q/Wf9F/0k/cT9wP28/az9nf03/g/+Gf4I/3X/WP9L/6L/lP97/8v/6v/e/3f/iv+w/z7/Dv98/k/+YP7W/Tv+J/5y/cP9w/11/WX9wf0z/g3+lf6I/sf9gf4m/5T/gv/i/rT/nP8u/9H/Q/9L/zr/E/51/gj/4v77/mv/u/89//j+7P7b/jn/Xv/G//z/Uf+o/0kA9f9SAHcA8f8aALn/rP/n/1f/8/+5/8L+OP+U/j7+6f7f/n3/n/8l/6P/w/+r/3sAuAArAF8AWwA7APoANAGHARgCAgIZAt8BwgExAgkCQgJaAnIBTAF0AYIB2AGUAQECYwJnAVQBngFUAV4BPgHWAH4AVwA5AHkAXgB5/3//pf/p/zoAdv+r/ygANQBUAE4A7ACdAOAAlgG1AA4BrgDi/8YAdQAqADAABQBMAP//qv9F/8T/VgCo/8r/hv/h/nX/7/8xAF8AYwBwAHsARAA1ALEAngC7AMUAHwCmAIMAhv8LACwAsf/L/6X/df9E/yX/fv9E/9T+4P6S/mL+T/44/qn+w/5r/u79zf0k/uH91v0M/rP9g/2L/aD9n/31/Tn+tf3I/c39gP3m/cf9sf3f/YL93/0s/t79Sf5W/uX9Fv4r/kb+Yv7+/f39Nv5i/pX+ZP5n/rP+zP6E/kP+l/66/qb+x/7J/v3+R/9U/1v/kv/7/wAAzP8VAGYAYgCLAJIAUQCHAMwAzQDzAN4AzADrAJoAnwA9AfAARQB4ADAASv8K/wT/9/4l/wL/mf6J/mH+/P3Z/ZP9jP07/q3+l/6O/p7+S/5R/sr+b/5X/tr+A/8g/+b+Df+w/+P/IAD6/8D/x/9q/6j/CgDh/0cAvQBHAML//v8iAPf/NQBjABQAm/9E/xX/6P7x/i3/LP8S/yL/r/45/pH+df5l/gf/Bv8n/2T/6P7a/gP/Ef+K/63/n//f/77/uf8wABsAhP++/jL+Nf75/e79X/59/hL+qP0j/mP+Nf7I/vb+7f5L/4L/2P/6/8D/jv/M/ywAPgCMAHMARgCfAHoAgQDpAMUAmwC+AIgARgB/AHsAVAAJAIf/w//Z/9L/awBYAK7/xP9+AGkADgBmAIwAsQCWAJ8AOwEYATwBXAGrALYAAgFPAeEBSQJ2AlQCbAKyAusC5ALSAlIDGQOFAsMCjgIgAjsCEAJzARwBBQGPAGgAsQA1AM3/RgAbAHb/bv89/+r+5f7r/kz/mP9r/xz/l/53/rn+n/4I/9//v/8j/+P+i/4z/n/+jv4P/oD+Df+w/rH+6v7P/vP+Vv9G/xn/hP+U/4v/wP9m/1D/Z/93/6D/Yf9e/3D/kf+f/wX/k/6g/qn+3f15/f39iv1x/b39pP0B/tn9rP3Y/RX+NP7k/aD+8v6z/ln/Lf9z/wYAb/+n/zIADAAGAEIAVwAQAPD/9f+V/xf/Z/+0/zb/T/9q/zH/hP9f/xD/Af/S/v/+If9F/3P/Nf8x/2X/gv/B//T/AgASACwA5f+y/0AAhQCHANIA6QAYARYBwABzADYAgwBZAKb/kP+E/1X/Hf9X/7j/YP+o/wQAjv90/6z/OACYANkAwAGkAfwAhgHYAXwBbQGKAbQBmgFtAbkBYgG2AOkAHwFWAXEB1gBeAFkANwCr/2P/tv/9//T/nf+H/6n/m/96/zr/Sf86/yj/Y/8Z/zb/Pf/Q/lD/S//I/gf/J/8C//n+Bf/3/h7/Pv8m/2T/bf97/1j/Jv/k/+//0f8tAA8AUADv/17/p/8XANcAgQANADkAwf+l/2z/ef+l/1b/JwAIAGL/+v/e/8H/0v+5/+T/uf/g/wsAjf/1/gr//v5O/ur+Iv9O/rL+pP5g/r7+qv7//lj/Wf95/3v/lf+A/57/NgArAAkAhgB/AF8AuADcACsB/QCWALsADgDP/zkAxf/N/zQAQwANAI//rf/4//z/r/8q/zv/O/8d/27/w/8IAP///P/1/1v/UP+j/2//aP9v/8D/BABY/yb/IP+V/sr+4/6Q/rH+2v7l/uH+lf4h/mn+yf5s/qT+Bf8B/+H+mP7p/hj/K/9O/9P+1P7M/ur+sP/H/9//8f94/83+if46/yL/w/73/lP+U/48/1T/SP/N/+r/dv9//4//j/+a/0n/nP+h/wn/Ev/1/jP/fv8P/yv/Yv93/63/N//B/hv/Vv8s/7D/6v9q/6X/jv83/7//zf/P/yoAzv+T/8P/v//7/zsA+f/3/0oAFQDb/yoAXQBwAJAAbwAiAOb/4v8dADEA+//S/4z/Cf9b/zMA3v9v/8r/rP9B/wT/M/94/3f/8f/G/2D/6v+j/5T/DQDK/x4AOgDt/ysALQBIAB4A8P9oADUAy/+5/3D/b/+P/43/tf/L/57/ZP9A/3H/x/+q/4D/pP/X/7z/T/+q/x4ApP+y/wsAmf9S/5v/0v+e/wn/l/7q/mD/9v7K/n7/mv8V/+f+E/8l//j+PP+Q/yL/+f56/3T/M//W/00AIQBcAH0AlwDCAKsAdwEEAm4BeQGwAWsBEgH4AJUBdwHRABEBtgBBAKQApQCyAJoAGQDa/5r/f/9L/yH/+P53/of+hv5g/v3+Mf/P/pL+a/54/o/+tf4O//b+zP5I/6P/qv+m/8T/3P+A/4P/vf+q/6f/yf8nAFkAgAA6AMb/AAB8/xz/Zf/z/un+T/8r/3n+QP6r/qv+u/6p/qr+ev7u/X/+uv7I/jb/v/75/mL/J/+f/wMAnv93/x8AYgAWADcAZADX/03/yP+2/0n/if8F/5f+hf4U/lr+nv5a/rf+//6N/nz+dP5s/tz+3P7h/uz+QP+g/zH/3/9XAAIAywAZAQAB1wC0APwA0QA5AY0BVAHRAdEBOwF8Aa4B/ADiANkAWABAABMAEQCs/6b/DABs/7v/qv9K/wQAv//5//X/af+3/2T/0f/s/2T/6//A/1j/Jv8j/4D/U/85/3X/f/8f/2D/GwAsAJUA1QDCAAQBxAC0ACwBWAFSAVYBIAEGAT0BEQHzAOYAnACWAGwA+f+e/6H/gf87/7D/zP9c/4D/xP+0/3z/oP9hAMMAnwANAVQBCAHtAOIAQwFBAQ0BZgH7AM4AjADY/wsA0/92/xf/hf5q/hD+Jv5n/rv+Iv+9/u3+Jv8b/6X/5P/C/6n/GAAoABAArgCWAF8ATAA6AIIAWwB0ACwAUv82/+D+ev66/p3+mv47/+H+Ff5g/mP+Mv5v/lv+gP4G/1f/R/80/zH/+/5A/+f/EwA3APAACgF2AG4AGQDs//T/R/9I/zD/A/+m/2r/Pv+D/zH/Ev/a/qn+3/6R/gf+Cv5G/jD+O/58/iL+3v1D/lT+ZP4F/2P/P/8D/+f+Bv8V/yH/Vf86/zz/dv9n/wgAegDn/9f/y//Y/ygADwCVAMsAWQBTADAAJQBgAKEAmQByAGAAIwBOADkA9P/X/3X/6v/x/2P/3//1//3/VQD1/wgAbQAJABIASQC4/+v/LgBYAGgBIgE9ACMA6P+6/2P/Qv87/x3/L//W/oj+ZP5z/pr+wv4D/+L+U/+D/xn/W/99/5//f/+2/2QA/f/8/zIAQQCIACIARQBCAJ7/e/88//j+Af8N/9H+4f4k/97+w/5+/m7+2v7J/vv+b/92/zz/M/9W/1n/pv/z/2MAmgARABEALwDr//b/6f99/zL/Rv8m//z+3f7W/hD/7P4s/13/Kf/P/9b/Uf+P//f/NwAJAAoAZABaACcAKgBgAEoAEADY/3D/lv+x/y7/aP+8/xH/8f4//9r+n/6u/oH+5/2a/ST+Tf5f/qX+if4t/rn9Ev5Y/hX+sf4J/6T+UP4d/mP+0v4H/+/+xP6D/mP+w/7K/uX+ff+A/1f/Q/8N/0P/nP+///L/2f+n/xMAZQBaABMAp/8vALYAZQCaAMMAXgAbAJr/dP+o/zD/WP/O/2f/b/+P/7T/FwAQAG4ANQDt/6EAMQCf/9n/xP+h/5X/v/+T/1T/Rv/e/v3+Tv9k/6T/ZP8D/2D/d/88/yEADgD3/kT//f6//kH/+/4P/x//G/8A/8P+Lf8c/2v/lv9z/1EA+P+4/2IAPwBIAHAApgBlAAMABgCD/5P/qv+b/+f/o/+u/5H/hv+3/0P/VP/n/lL+2P7v/ur+G/8j/0r/Qf9F/7n/yf91/7f/P//d/jcAYwDL/xQAyP+i/6j/Tf+C//f/RgChAOoAHQF+AaQBgwGeAW4BVwG1AcYBBQKBAmcCAwLLAZUBjgGOARcB+wBFAc4AOwAgAO3/5P/Q/5z/EQAXAEP/hv91AIAAuACTAa8BnQHWAXcBdAG6AbYBxwFLASUBHwGJAJ8ASQCh/7L/nv+d/23/A//O/pj+t/6N/jj+sf4U/+b+8P44/2T/qP/l/ycAXQAFAOD//P/z/2EAhQBAAEEAq/8i/xb/q/7u/iv/q/4R/xz/nv4O/1P/v/8tAH//Qv/Z//P/JgCbAFwAZwDDAIsAiABjAIMA5QCpAMsAjAB+AM4ABQBoALMAuf8BAFQAUwDp/x//bv8p/8f+Hf/J/pD+wf5R/z//r/6C/6b/P/+//8v/WgB3AAcA7ADrAHcAygDIAAsBLgH5ANkAzgAQAQ0B0ACYALQA5ABPAMv/xv+t/yb/5f4S/73+s/6R/gj+Ef79/Q3+Nv5S/p7+tf4f/zX/W//e/73/AQBzAOcATAEHAX4B5wF8AYcBzQHDAbMBmwEOAZMAMgDS/7n/T/9M/1X/1/6Y/nX+1f6u/kD+0P7V/tv+Af+m/sf+G/9X/4X/tf+T/6T/LgCb/xH/cf+c/4P/if8LADUAJgDD/yH/Y/81/1H/4/+3/73/bP++/x4Agf/r/1MAlgC0ABgA8v+M/1//dv9S/3j/2v5Q/n3+Uf6w/YX9A/6t/Xv9z/1U/TT9if1z/Sb9gf0l/uD9E/7Q/uz+Bv/5/qj+//6W/yn/Cf+i/0f/0v7P/uv+Bf/h/j//e/9I/zj/N/9r/3P/ov8HAD8AYgBuAKIAkABvAEAA6f/k/2P/bP/v/0D/6P4d//T+Qv+G/13/1v+7//3+hv+g/4j/HADc//P/7P9q/23/lf/N/2b/p/8gAJ3/3P8AALf/mf+J/7X/oP+d/4r/6/82APL/UABWAI8AxgB6ABABQgE8AXoBdQFZASABSQHmAHQA3QAAAaAAVgBQAHr/Q/8IANj/FgBFACoAZwAzAGEAVQA4ABsA2f8YAH//b/++/zv/ef85/8X+qf5W/qb+cv7b/er9Rv5g/j7+mP69/v/+W/8w/67/2/+a/7z/nP/a/9r/jf+3/6f/w/+7/2T/gv9h//f+0v6d/kr+b/4U/1n/Bf8J/3//jf+O/6T/mv/a/33//v6B/7H/U/9N/4n/Ov+9/uf+9/4L/47++/2Z/uX9nP0L/8P+3/5l/4f+vP4B/8P+KP9I/3H/ov+i/9L/6/8mADIAr/+i/yAAcwCFAJMAzACrAEYAYQCDAJYA3QDEAIkAoACPAIMA1ADXANUA/QC1ALQAtgB5AGgAEQA8ACwAbf/f/zQAuP+X/0z/Yf/P/9H/EgAPAIP/h//c//H/yf/C//T/kf+T/yoAj/9r/3wAXQCP/2X/fP/i/1EAIQDS/+f/PgA1AOn/egCJAB4ApAACAE3/zP/B/xQAOgCc/0X/Jf+l//D/uv+8/9T/CwC9/3P/v/+//9f/2P88/0P/s/9V/xP/9v64/gr/bf6F/df9v/2b/YP9C/2I/a79MP2C/dL9Fv4W/sj9h/7E/nD+Rv/H//b/FQDO/+D/v/9KANcASwCOAMAAuQD9AIYAUwBOAAgAkf8z/1j/6P69/tD+Uf59/nf+OP5p/jf+G/4d/hv+OP52/gz/Hv+t/sT+Xv+z/43/of/u/0MAewCHAPIAngAnAKcALAD9/4cAKwCpAPQAagCTAFYAhAAXAc4AwQDtALwAPABQAOkA0ADNACoBKQH4AOIAvACaAI8AKgBlALoABADv/x8A0/99/1T/nv9Y/03/o/9F/2P/NP+B/mD+Jv4W/nz+Af9T/17/Vf9U/7//1v+6/1kAtADAANQAPADX/z8ATABMAK4AjQCJAKIAiACJAOz/+f9FAJ//AQAzAKL/0f8HAEUAyf9t/woAjf+F/y4Azv+7/6X/OP8F/8X+2f4I/yL/CP+t/s7+Iv8e/1v/4v/b/7D/s/+U/9//HwD3/6X/cv+//5b/Yv+V/1H/Iv8e/0v/IP+r/iT/Uv9E/4r/iv+b/1T/jf8uAAEAGgB+AMIAvQBVADgAFAARAFMAOAAjAFgALwDA/8n/1v+K/4T/tf9+/xL/Yf+p/1//hP+l/87/BwDb/1EAbgASANwAHQH5AE8B7AALAVUBCgEgAQoBXgGWAU0BVwGZAFAAmAB3AKAAUAA+ADIAEgCKAEEARgBVANn/jP8c/8T/RQA8AMoAzQC4AGgAbwDxAAABbAE2AfoAggGXAZYBbwFgATQBpgBdAAcA6//V/3D/Wv9t//7+jf6b/lr+Zv6D/iT+bP6H/mb+P/4H/mz+fv6t/hv/W/+Y/yX/Cf9g/5b/0f+r/43/r/8GAN//yf8uAPf/gQCnALb/IABLAPD/RwBKABwA3/+b/6n/tP9//0D/Ef/E/rP+vv5+/qf+4f44/t/94v1f/aX9IP4X/kL+Uv58/jn+J/6E/i3+ef6p/pL+Av+w/tb+WP+0/woAVP9b//f/pP9z/7n/9//X/6D/WP91/7v/P/9Y/23/wf7i/hr/9v4h/yn/wP5d/m/+rv4Q/4L/rf99/3n/CwDh/zr/1f9NAAkASgA6AB8AkgA4AI3/cP/R/zAA3//9/0sAUwCkAEYALgCsALgA9AAKATMBiwFvAZ4B/AHHAVgBgwHNAZwBagFdAY4BXQH8APoAyAD5AOgAdACJAPn/nv8dACAAGgABALn/u/+j/4D/hf9m/zb/hv/V/2f/ev/m/4P/kv/a/2T/R/+l//T/yf9o/4v/pf+U/3j/eP/R/97/HwCkAIQAZgCpAIAANACRAJkATQB2ADAAFAAiALD/sv+8/7r/3f+a/43/yP/D/4f/Xf9M/1v/c/9K/zn/1f5y/sz+0P7K/tX+s/4a/xr/Cf+F/4b/Sf8j/9j+ff6d/uH+wf7n/rX+oP4g/3b+Hv6M/mX+zP6+/mP+3v7K/vz+jf+B/7T/9v/X/+X/QwBCAHoA7QCAAHYAWAAMAK4AogBCALn/Lv9n/wP/Av9U/zL/Tf/R/kr+IP59/u3+1P5X/0T/Gf+Y/2j/c/80//v+ef92/2D/Q/91/7z/W/82//r+vv47/2n/8f4+/8D/Pv9k/9v/Y/8P/z7/iv89/0b/7v++/6b/1f+m/77/9P/x/6j/Z/+U/8L/nv/b/2EAcwBJAP//awAGAb0AFQFnAegAswDWANoAYgBfAGoAHwAYAKT/yf/d/3//2P+I/4j/o//9/gD/8f4Z/1b/P/9//5X/7P/r/7P/vv9V/2j/T/9s/yEAu//K/woAnf+b//f+5v6d/yX/Ef9C/wj/bP+j/8j/xv+T//H/9P8dAE8AOgC9AHcAUwCbAEQAoABoAOT/AwDF/ywAjABcAAgA1P9TAOL/Pf+7/9//6v8XAM//eP+a/+D/AgAgAO//LgBwAAIAhwAhAdAAHAFsAfoAjwBTAIQAAQEBAQ0BSwEtAXYB0QGOAcMB3wGPAcsBaQEWAXgB6QA4AJv/lP9TAJ3/PP+S/6P+Ov44/vr9aP5G/pb9nv2//QT+dv5O/sL+Z/9J/2L/Z//W/zgAFABJAPr/FwCyAMoAKgGCAY4B6AC9AFgBTAFFAQ8BgwHQAdYA0gCiAJIA5gBHACoAx//A//b/Zf8EAMn/wf7U/mv+Nf5O/vP99/06/g7++P1E/u79rf3W/bz9Gf6b/v7+Xf9P/97+s/4g/yv/Pv9D/83+M/9K/wD/OP/h/vz+9/4l/n7+9P6q/rz+oP6G/pH+Kf5q/oL+/v2q/rf+GP6I/nf+Yf5e/if+k/7q/V392v29/Ub+lP5I/qb+EP62/fr9jP00/rH+L/5x/qf+1f7t/p3+0f4b/23/qP+o/xIAgQClAF8ABwDh/9P/KAA1AAYA4/+1/7T/WP9b/3n/Q/+U/13/N/+u/+b/SQBQAFgAjABjAIIAuQAAARsBCAEDAeUADQHvAC8BewHDANYA/QChAOUA5gDaAPMA8wAGAfUAHwFAAWYB9AEVAqUBtQHXASMB9QCMAfIB1AEyAVUBVgGCAFMAKgAUAFwAWgAKAH3/f/+8/8T/xP+I/6T/nf+i/wIA1P+v/9f/UQCxACcAFwBxABwAuf+F/2z/V/9B/23/Xv/d/nv+Yf53/mb+Wv6U/iz+Jf7O/oX+gv7N/or+r/6E/iT+Uf6j/sn+eP50/p3+fP65/tP+wv76/vH+tf6O/nL+nf7j/vb+Uf+D/0f/lv/T/5f/Xv/2/gf/aP8s//f+Vv/T/6b/9v7j/sD+Mv6h/uf+Nv4t/jD+0P0Z/nn+of7I/nb+W/4k/7f/9f9UAI8AtwCWAHQACgBr/5T/Mf/V/iz/1P4I/y//3/4W/4L+Iv6//jH/PP99/1IAbABBAIwACAHwAcYBnwFhAjsCNwJlAiECTAIzAr0BAQJcAtsBngGoARsB2AD5ABMB3gCRALAAcwAQADEAowANAfYAfAAPAG0AoQAAACgAiABfACwAGgCKAKYAigB9AN7/tv84ADkADgC1AM0AFACgANIAGQA9ACwABQD//17/S//J/5z/Sf+o/67/jv8WAAIAs//Z/+f/x/8s/w//2v/1/3r/gv+L/2X/pf+F/1//xf/P/97/pP87/1z/Wf+1/7//Qf+W/4L/Ef/m/qP+Jf+W/zL/G/8t/wj/1v5h/iv+Qf41/oX+zf6f/nz+Zf5V/mX+e/4O/s79Vv5G/iP+Qv4K/qL+cf95/4X/uf90/y3/j//z/0EAEAC7/+D/dP9y/63/pf/2/4z/q//f/3r/1/+I/4j/6P9w/6n/7v/S/7//FQCBADkAfABhAC4AJgFuAXsB5wHyAe4B0wF/AUgBTAECAQkBLQHJAOEA2QDkAAgBZAAoAOr/5f9NACUAZQBKAOz/RgA2AC0AUAB8ANgArADEAM4AgQACAfkAaQCSAE8A/f8cAO7//v9HADAA5//m//X/a/88/6D/cf81/1f/if/N/6f/NP8X/xL/Of9K/+f+Af8A/2X+Tv5B/h7+bf6Z/n3+wf7+/rr+Tv+n/+7+Uv/C/8r/4/9o//P/LQBb/+T/TQDf/ysAbAAIAN3/0v/6/6UAkwASADYA9v+Q//X/UABDAFgAYQA+AEkAhADXABEBTwFeATUBRwHpAMsAUwEcAasAcgAKAMf/9v9mAKwAowBLADgAKQA1AIIA0//R/4oAOQA0ADUALQBwADkAEQBjAPIAowCdAFAB/ADxANAApABFASYBQwE+AcIAuABUAIcAiABHAPEA8gCZABQAtv9CAPz/iP8SAGoAIQABAFsA+/+t/93/I/8r/5X/Sf+t/6D/mf8RALf/r//r/xUAIwDi/wUABgBAAFkANwBxAB8AbABjANf/ZABGAGIAIQAu/43/Bv+j/hX/xP7M/mr+Vf6N/gb+jP7J/jX+wf5J/0r/SP/U/u/+JP+U/i//CgDu//n/6P8cAE8AGAATACAAZgBQAOb/eP8b/z//NP88/wz/nf6p/n/+WP4B/g/+dv4F/jP+f/5D/mX+n/7I/o/+sP69/m7+Cv+N/5D/jf+k/7f/nf+N/+z+wf4o//L+rP6E/rX+kv6N/kv/cf+H/4n/nv/k/6f/2P+i/7H/uwC/AKYAyQB4AFYAbQB4AKgAUAE4AQABjgHwAI8ASQEUAdcACwHrANAA5gA/ATwB0ADpAMYAUwDfAJcBcAEKAfUA8ADWANkAlgB0ANcArwAaAPf/QACiAM0A2wDdAKYAlgCnAEIAIQBSADgAXQApANH/yv+A/8X/8/+u/wAAFwDZ////TwBBADYAFgCZ/8r/iP8N/2b/Cv8J/x7/iv6T/iL+Jv71/sv+ff5e/nD+of69/kD/b/9l/3f/Sv+y/xoALQDRAK0ABwBPAFEASACGAFEAQwDZ/zP/bf/T/w8AJgCj/x//Pv9j/0n/XP9v/x//4f4c/wH/1P4d/yT/Pv9M/x7/Mf9K/4b/uv+4/1//Y/8EAOb/AAAmAKr/+P8sADUAPQAWAHIAPQAGACMAx/+m/73/7//q/57/cv+i//r/uv+V/27/YP/X/2z/Qf+2/6v/KwCtAHUATQA2AOP/9/+AAJcArQC/AHEAQgAaABQA+P/u/y8AFgA6AHcAXwDYAAQBhADDAMMAJAByAMcA0gDMAGIAjQA3AHP/uv+3/37/j//G/yMA0v+t/xYASwBQAEEAaAB6AKAACwEzAV4BegEqAbgAmwBgAND/y//y/9n/vP+h/3j///4P/33/Rf/4/v7+L/8x/xn/+f4M/5v/lP9i/77/9f8QABwANAA/AFoAWwAsAK4A+QDoANYAfQCJAAQAmv8UAPb/yf+d/5j/1v8//yr/yv+l/5T//P/q/7n/iP9e/9b/w/98/7r/T/8W/xH/jv4o/jn+5P7A/iv+LP4C/iH+J/4X/kP+Kf5f/lj+Mf6M/q3+rv68/uD+IP9u/3T/K/+F/3r/4P4q/yD/gP5r/nT+Nv7x/QL+Bv7l/QX+5/3g/Rv+Nf51/ln+ev76/qn+2v5N/xj/Pf8I/9b+Jv9///n/vv+B/3L/+v5O/9n/0P99/4r/IgDj/6r/9P/d/0cAXwDR//n/IgAXADsATABgAAUAc/9h/2D/c/+U/5H/4f/y/6L/nf+u/7X/t/8zANEAlgBeAG8AVwBwAKYAvQDFAP8ACwHRAOcA0ADhAFUBDQG8ALUAUgBLAE8A8f8GAFAAaAA2AAMASQBLAAoAxv+Z/0gAoAB5AOgA/AD9ADcBSwFqAU0BjgFuAZcAogDBALkAvwA4AOb/ev9U/6L/Rv9J/6j/fP/v/kP+v/60/3T/7v44/4j/N/9z/wkABgACANX/4v8+ABsAUADSALQAYwB0AHUANABmAKYAowB0AFUA3ADQAGgAWwD2/yEAaQBYAEMAz//k/9//zf9QAOn/mv/V/3L/D/8U/4P/5f/q/6v/jP/h/+//4P/l//7/UQAbABsAqADsANYAXQBAADwA1v/j/ysAUAAIAKr/zf/x/xoAGwATAHEAdwCXAPMAmgBGACgAyv/w/zIA/f8BAOz/Zv8M/xr/DP9m/mz+Gf+4/jr+q/70/m7+YP4K/9b+w/5q/2r/cP/D/+z/FQAbACoAYQCyANIApACyAPEA0gCJAKQA2QDkAOwArABBABIAHwBEAHkAnQCNAIgAeQCRAOEA/gAoAQ8BvwC4AKwA2wDVAMQAeQGwAW8BcwEFAewAMwGrAHwAwQBaAG8A2QB0AO7/yv8AAPH/rf+H/xL/Av8H/4P+Q/5E/pH+tf5p/qb+Bv/2/uD+Cf+V/+3/2P8ZAF0ATwCBADwAvP84AH0AIQBEACwAxf/+//z/hv+c/6T/Uv8F/7H+iP4l/u/9Rf4b/vL9VP5t/of+xv5+/nj+Bf8C/9/+6v7z/j//Mv9Y/87/vv+J/zv/Tf9l//f+EP9c/zP/5v6y/o3+fP6t/pX+df56/m7+k/6a/in/n/8w/3T/0f+8/wgAbQDpADwBWgGHAYEBXwGQAboBYAGIAfEBxgHIAY0BNQEoAdYAxwDTAKQAhwB4AE0Av/+b//z/MwAtAKH/l//3/4z/Xv+A/3X/mf+j/0//5v5b/8H/Mv9Z/8T/jf+o/xAAKgDx/yQAJACn/x8ApQCnAN4AzQCyAI0ASQA/AEEARwAWALb/Tf8x/2n/+f5h/kL+BP7h/QX+QP5C/hT+Of5I/kD+g/7W/nf/3/95/23/2P/O/8//BQDg/6P/U/8F/yT/CP8M/2z/4f5c/mX+Jv4f/vr94P1q/rz+j/56/r3+qP7e/pb/SP8Y/1z/Mf8y/y3/a/+Y/5H/1/99/zT/Vf9Y/5H/ev8i//b+Fv80/xj/OP83/zn/Sv88/1n/KP8V/1n/rf+e/8n+Av+G/9f+Gf+S/y7/gf++/4f/w//L/9v/HQAFABAADgAcAIYAlgC1AMwAmgC+AJ0AaACdAJAAfwCPALYAGgE9AXsBhQGtAIMAtQBGAJwABAGrAEMAtf+G/4z/Pf8k/yr/O/91/5L/jP+l/yQApwBaABsAwQASASgBeQFWAUYBWQE8AS0BMwEmAcIAlwCQAIMAzgB1AOn/MQBCAL//lP+1/7///f8fAGsArwA/AFoAogBiABgApP+Z/5j/Yf9u/2X/Nv8Y/0H/+v68/vz+6v4t/zH/Jf9c/yf/c/8x//j+t/9w///+//7l/tj+3f7V/rr+Gf+5/if+XP4H/hz+Pv4i/n3+Qv5P/sD+0/78/ib/C//Z/vH+1P4f/4j/9/4J/2D/9/6k/rr+0P5g/oj+o/5d/g3/Jf+3/rP+0P4o/wb/Dv+T/7f/3P8YADQAnwAiAfwA6wAdAfwA5AC6AMQA3gAJAWoBBQHpAFQBLQH1AP0APwFFAX0BogE1AWgBdgGcASEC5AE7Am8C7QH6AbIBegHxASMC2gFiAU0BdQEWAYoAZQB8AEwAvf+q/+f/6P8+ADAA3v8WAPf/2f/t//r/MwABAAcANQDH/+X/bwD9/3f/sP9M//3+Wf9K/37/cP8j/3P/Tv9A/2f/gP8FAMz/d//3/zsA7P90/43/tv9U/1H/jv+d/+j/BQDA/4z/j/+k/1X/5f4I/5L/r//8/tL+Pf8B/9z+6P4T/2b/Lv8y/1D/PP/L/zwADgD4/wcAzv/N/zsAWgCAAMIAywCYADcATgCEAF0ACQDx/x0A5f/X/83/of/r/57/jP8SAAwAEwDe/wQApACHAMwAJQEoAX8BRwEhAVgBHQERARMBFgFKAR8BIwE/AecAugCBAE8AYwBVAIoAmQBQAG0ARQDZ/wkACQDC/zkARADD/xAA4P+L////8/85AJIARQBmAMAAGwH6AN8AQAH2AOsAKgEsAXsBiQF/ATsBEQFgAS0B8gDBAJYA3QDQAIsAegCFAE0A6v++/3f/jf/i/9r/1f/p/xQA1v+T/wgAzP8I/xH/H//Q/pn+pf73/uL+g/6F/rT+AP/2/tz+IP9a/wYA9P+C/1EAaAA3AAQAbv/h/2D/v/4E/1r+UP5p/hf+9P3E/UP+M/4E/jL+EP6c/n/+Uf77/h3/Uv+O/7v/wP/I/0kAMgBTAMQAugDpAOIAowCWAHIA9v/m/wkAWP9d/4f/AP9B/2r/ZP89/+L+JP8f/wT/KP9c/2D/Lf/x/zwA2v9TAFQANACGAIQAuwAVAVwBfgFLASUB6gDeADMBEQHQAJwAMgDz/2X/gP9FACAAVgCAAOf/9f9CAGsAWQChAD8BzQCYADYBQgEMAVoBlAEgAQ0BQAFNAZwBggGGAcYBgQF8AaQBYgFMAU0BwwCYAKIALwAsANr/e/+j/zL/+/7T/qD+9/7i/gX/Of/6/lH/g/80/1r/tv/l/wEA4P/s/zcAJQD9//b/DAD3/+r/MADK/3r/uv+i/4z/Vv8g//H++/59/1T/Ff8w/xj/LP8y/yH/K/8p/w3/L/9X/0H/tP/V/6D/wP9r/33/v/+m//3/PgABAKr/HgBfANz/TgB6APr/FAAMAA8AQQBDAEEABwDF/8T/1v/A/9j/QQA8AO3/+v/W/57/HgA7AAAAeAB1AEEAiwBbADMAOwAzAG8AJgC5/97/5//3//7/4P83AGUAPwBFAFQALgDQ/+X/HwAGACEABACT/1n/kP/W/wIAVgAwAND/gf+C//z/iP9q/+b/Gv+9/iX/Of9Z/y//8v73/vj+z/7C/hT/af9q/xH/CP91/3X/IP8W/wD/3/47/zf/D/9r/2T/X/9w/5T/xv8r/xD/Tv/n/uv+JP9b/3f/VP+W/3L/zP4J/5P/kf+d/5b/ov/J/9z/GwCm/5b/AAB3/7j/CQCv/+n/w/9X/zz/WP8y/yj/vP/F/53/Rf8Z/2f/FP9J/3D/Tf+O/zv/XP9S/xz/Uf/n/hT/YP9w/6f/pP8kAEsAbwDsABABoQHMAWABQQFWAXsBhwGUAW8BaAF0AR4BpAD0//r/fwDt/2H/pP+2/+z/7/84/1j/q/+D/+X/l/9+/0AANgA7AD4ARACTADgAOwBcAB4AKADa/5z/f/8r/zn/E//C/t7+zv56/jX+Pv5u/jf+L/5i/lH+PP4f/pb+K/8v/5H/5f8ZAHcAjwDWANUAawCRAPAAnwBLAKAAfAAZAAkAzv+r/5L/sv+W/0D/nf+U/0f/UP8j/xH/3/7j/kD/bP+Y/67/FABiAAMA3//N/6H/pv+g/7j/ev8H/yL/7P6Q/tL+8/4L/zH/Pf9T/2//1v+p/3X/TAB8AIYAFwHUAKUAvABfAEMAOwAfADsA9P+y/97/gf8n/y3/1v6O/ob+kf66/uj+BP8U/+z+1f60/wIAb//I/wEAbgDqAJcAWAHSATcB9gAUAV0B0gCdANoAeACKAEMADwANALX/KgDp/0T/S/8Y//T+ov6L/rj+Cv9H/8r+A/80/wz/dP+d/xUA/v+j/wAA8/93AKsAXwDrALQAZADGAOQAxgCwALkAcwBYAIAAjQBxABgARQA+APP/CwD6/wwAyv+e/8//df9//7b/1v+u/4H/BgC9/8D/XQA0AGEAcwDVAPoATQCSAGYALgBXAOH/ZgBQAIr/+f/S/2r/rv+F/1X/rf/G/3X/T/89/13/rf8LAHYAcwBnADwACQCOAKkAeQDGAJcAJgAtAH0AdwAaACgAJwDp/wYATgB9AHEAgADEAJIAZwCJAGEAggCXAPr/yf/L/4n/vv/U/6z/uf/B/9D/tf8AAG8ATACjAN0AugAQAREBOAF6AVEBkAGPAU8BgAGlAZcBewFhAQ0BxwCpADUA+P+Z/+7+Af83/8/+cf5t/mL+Wf5d/ij+K/5k/pf+/P5A/43/HQBiAGwAdwB2AMEAWwHDAcgBhQFkAWgBIAHSAKkAqACoABwAvv/U/2//F/9A/97+X/7F/gr/0P7h/uX+8v4q//3+7P4O/xH/pv8gAML/xf8BAMf/zv/7/zUAaAApABcAUQBoAGEAYgB6AC4AAABUACcAQQDyAFYArf8lAOD/c/+g/4f/rf/n/7D/u/8dABEAn/9t/2b/nf/a//L/kwDUAFoAZACkAIIAfADEAM0A2AANAcsAnwCyALYAeADj/wMAHQCz/+r/5f9t/zT/G/9N/3n/n/8FAAYAwP+s/z3/A/+D/5L/pv/i/2j/W/94/yj/Wf9x/3f/6//y/77/1f+n/4P/yf+N/zr/dv9n/03/d/99/3n/Tf9H/0T/Af8b/zr/CP/5/gn/xf6b/gX/6f6w/vv+2/7T/rL+uP5j/2b/xP9rADkAOQBNAFAA+v/Z/9QA5QBVAGAALADy/6H/Uv9z/8T/bf+I/rf+1/5b/sH++f7h/sL+mf4C/+7+Dv+3/5z/rv/y/wgACQAIALMA5wDXACYBGwGRAZkBSwHLAW0BDQFaAU4BTQHoALQA1gB8AGcATgAHAP3/1f/N/ygAaQBkAK4AlgDs/+j/9P/3/0UADwD1/wwAt/+8/xsAVwC3AIIADgBrABYAnP8/AEcAAwATAJT/Ef8L/+r+jf59/lP+Of49/tL9/f0R/qz95P0l/nD+f/5p/rD+Bf+R/27/Z/8zAFIAawDOAJ4AdADLAKsAPABgAB0A9v8NAN7/HgDa/67/vP8a/0H/af/r/rb+3f4J/9r+HP9R/+v+4/4Y/wn/2f7S/r/+N/+4/1L/XP9n/1X/ZP8n/0r/C/87/2D/sP5G/0b/0v5G/6L+J/5h/jf+Rf67/sX+Wv5V/h3+If6L/mP+jf68/p/+s/7k/jv/h/8AAOf/k/8LAEQAhwDKALwAOgFgAQIBNAGtAbABUAH8ABcBIwHCANMA3ADqABgBXgBiAM8AaQBbABkAHABUAOr/EgA5AAwAAgANAHoAdQA9AIkAuQClAIAAdgBqAH0AqgDFAB8BAgGwAC8BPQG8AL4AzgDBAOEA/QDEAMIAIwHUAJ0A1wCNAEEA5P/T/wYAlv+g/9b/rP/r/x4ALwDo/6n/AwAEANL/6v9DAE8ADABaAE0AIACDAH0AeAA0AJ3/hf9c/17/fP9H/yr/EP9m/4T/4P7j/jr/ZP+k/5D/u/8fAEAAQQAoAHsAxACXAJMAmwDFANAAogCuAKMAfwA1AAoACQDH/wwAFwCz/+P/qv+b/6X/XP/P/4f/Z/8TAJD/h//J/4j/6/8BAC0AKwAAAJIAOQANAI4ALgA7AHcAgwD0ANwAnACXAFkANwA/AE8AegCDAIYA0QDGAGEASwA/AC4ANgA0ACMAFABIAFcAEAAjAEMANwCXAMYAlwABATYB3gD3ANwAiQDfAB0B7gDaAJMAbwDLALwAhACZAKgA7QDUAIUAygCzAEgAVgCDAGYA+P/U/zwARAAhAIoAogC8ACQB/wABAfcA1wBHATgBuQBGABwANwDz/+L/1P+k/3T/Gf9D/0D/K/8x/+3+iv+H/7/+Pv9V/9r+Nf9n/yn/1/6V/uT+Gv/2/kj/Qv8j/2r/Df8L/2n/K/8r/xr/x/7o/kj/W/8a//P+7P4D/yP/Gv8G/zH/gv85/xn/hf+G/5P/qv/w/3EAaQB8ADcA1/9zAHwADwBhAIEASAAqAPH/HACuAJQAnADkADQA+f9dAGQArwBcANn/EACx/83/XgDA/73/JQD8/08A9v/B/4cAYgBjAGwA7v9gAIcApABOAVoBfAFBARABegEYATUBqQEZAfsAzQAxAG4AiwAmAAIAu/9k/3H/qP/T//3/KgAbAPv/EwBKAL4A6gDfADsBRgFMAakBpAGiAaEBJQH9ACkBuABIACwA5v/G/4D/L/8W//r+CP+y/ov+af70/Yf+0P64/iH/D/9C/23/HP8A/yL/K/8e/8L/xP9Z/7L/Vf8z/3H/DP/Q/ub+O/8Y/9X+nP4u/hv+zf3T/cr9hv3Z/an9j/17/Vf9fP07/Xj9WP1A/dX9zv0M/g7+HP6o/qv+n/6G/vv+M/8p/wAAAgAfAKYAnQD6APUAmwCMAKcApgBrAKUAjAA5ADAAyf95/1j/R/8//y7/N//1/uP+Ev+2/pH+qf5D/ob+LP8d/zD/cf+3/8T/jv/p/28A6ADTAJUA1QC5ACYBMQGfAPsA6ADsAAgBvwD8ALsAfgBHAP//WgA7ADIAYwBdAGgACgDe/0gAyQCjAFQA+ABOAQcBWQGOAToBeQGCASEBjwGQAZcB7QFRAUYBdgFFAQIBqADzAGUA3f8/AOz/1/+A/yb/wf91//7+V/+W/4H/Qf8t/2T/w//v/wgADgDW/7H/pf+9/33/Zf8TADMAGgB1AK4AkgBSAHkAWQA8AK4AaQAUACkAAAAAAPD/l/9r/5//pf9p/zL/GP+M/1X/6/6Z/2z/Pv+j/0f/hP+m/0v/kP+4/6b/Tf8u/2H/V/+L/2D/Lv+H/5n/sf/G/4H/cv+N/y7/Qf/+/8j/g/+O/07/af8g/+r+MP9c/7f/iv9n/7r/4f80AFQARABbAIQAbgBFAKoAtwCWAMsApgCBAJ4AxQCAACcATABqAHMANQAPABoA+v9qAEIAiP/5/yYA1v8xADQAKQCQAFwAVQBcAPb/rQAlAboA8QDkAOYAEAHIABEBPwElAZABdAGzAMwAOwHVAJcAkQBNAEEALQAEAMf/x//p/5P/dP86/yX/x//G/83/RgDm/3z/uv8lAI8AdgDs/8f/4f+8/7z/v//U/ywA4P9j/5T/1f/T/5r/xP8PALv/1P8rACEATgCZAOwA6ADsABQBjwCjANcAfwAbASkBlQANAdsAEQAdAAsA2/8HABsAFQDv/+b/9P+F/zb/f//S/9z/uf+i/7f/mP8X/y3/m/+7/woABwDK/8H/tv/U/yUAbgA1AGgAtgAmAFcAlgA0ADIANAAzAAEABADZ/4H/4/+k/3b/3v++/4//Wf+Y//L/yP/E//j/NQDY/2//i/+r/+v/4f/e/wcA7/+3/5//+P/q/9X/LAAcAD8AIADN//f/3f8nAIEACwD6/0EABADb/+z/gv9Z/4f/Kf/n/tz+sv6A/k/+Y/5s/nz+yf7i/tj+N//K/6j/0v+EAG8AwABaAW4BxgHFAa4BnAFHAYwBiQElARAB/gD5AIkALAA1ACMANQDp/7L/3P+M/8H/QQD7//H/IwDn/xYAegBgALUANQErAQUBygDIAOgA3QDoALkAbQCCAMgA1AD5AEMBCQHsAPIAtQDmAAwB8ADNAKIArQB+AE4ATQAbAPP/7P8YABQAuf+W/6v/vP+Y/6j/JwAmAN//9v/4/xUAXABHAFkA1AACAbUAwwAhAfYA+QACAXwAYgBdAE0AWwASAOr/sv+w/63/BP+8/pn+if6x/mb+ZP6S/nH+Tv4v/mD+4/4o/yf/Zv95/1r/qP+Y/3T/5P/o/6T/yv/l/+f/JQD6/+L/RwADAO7/+/9//6f/zP+//9L/of/G/7L/Tv8U//L+UP+i/6j/iv9L/1//S/8b/27/lv9w/67/3v+X/6H//P8mAEAAQQArAGIArwCQAI0AtQCMAJ8A1wC4AFgA8f/F/3L/Fv/1/uD+Iv8Q/8/+If/6/tb+VP8t/+b+Hf82/5j/NQB7AJMAkgB3AIMAwwDVAP4AgQE/AdoALAHxAMsA6QCRAJMAWgANAPz/j/+1/43/Fv93/3v/Xv+c/6n/g/+A/9D/nP+4/0YAIgB2ANIAbwA4AGsAwwCKADsAJADW/6L/pP/g/5//Xv+G/wn/u/6q/sH+UP9F/yL/+P6N/oP+n/7g/hD/Nf8w/8v+tv6u/oX+af5u/pL+j/63/qH+av68/uX+5P7l/tb+Iv9h/2D/jP+u/83/FgDf/6X/AAAVABsAOAAWAO//u/+S/0v/Sf+8/+X/x/+S/7T/y/9w/3//gP+U/8z/lf9DAAYBsgBUACkAbgCjAGkAQwAuAJsAywC3ANoARAAlAFIADACKAKAAawCQAHAAmgCvACcBygGOAXEBawFnAVQBRQGdATYBkQBJAB4ATQBNAEAAIAD7/8H/W/++//X/qv/n/y0ASwB9ANgA0ABvAHcAhQCdAJcAZACVAJsAWgA4APH/mP+Z/4n/L/8J/wb/9v7G/s/+5v6r/gr/bv9S/1b/Xf98/1b/gf8BAMf/wP+//53/FgA7AAkAAACt/1//kP97/zr/bP+Y/7L/Iv+x/kb/Kv8C/0v/Tf9B//H+W/+3/1L/a/9V/0r/Rv8R/1X/Kv/3/sT+Sf56/m7+W/6T/k7+Yv5F/gj+jP5m/iT+Yf42/oX+BP9A/6P/g/9U/7n/KwA6AJMAegGbATcBMwF2AXYBKAGBAagBXAFcAV8BowFcAeQAOgFSASEB5QDvACsB/gDXAMEA3ADUAKMA2wDEANYAIAGmAIsAHwEXAcgA4gD2AP8A6AAgAbwBSwHuAGwBNwEUAYwBtQFYAQoBPQEwAc0AlQB+AH8AhQBgAA0AAQACAO3/DwDT/5P/9P8tAPz/BAAuABMAJQBsAHEAUgCbAAYBCwEMAeUA6gDuAHMAfgBRAB8AYAADAOL/lf9d/9L/wf/M/6T/cf+l/13/QP84/1P/s//M/9H/sf+4/3r/Dv8f/yf/8P6Q/rT+2v6e/oz+YP7y/in/Z/5r/oX+RP4F/hn+Rv4e/jL+Bv4D/kL+Jv4H/vf9Yf4i/sX9a/5Q/iD+Sf46/iv+KP6K/pn+yv7V/pX+Gf/7/gT/m//T/yUAAAAoADEACgCsAKcAvQDdAMMATQEpAeQA8wDxAPAAkABmAGYAjQCBACsAZABJAPj/4f/R/wIA5/8DADsA9P8UAGcAqwDfAL4A/ABYASEBHQFGAVwBtQHJAesB5QFnAa4BxgF3Ab4B6QEOArwBUwFwASABBAEPAdEA2AC5AFsARgCUAFEA4P8eACwAJADq/6//+P/b/+7/KABOAMAAaAAcAFsASwBTAEcAhwAMAcEAegCNAGkAkACqAHsAfwBJAEIAPgDQ/w8ADQCU/6X/b/9y/4v/I/8t/0b/V/+f/6r/k/9S/xr/Mf+K/6r/XP9k/7b/x/+b/5L/JwCEAOL/i////yMA5v/J/wAARgAcABcAMgD2/w0A6P9e/4j/m/9x/+D/6/94/17/Yv+b/6r/ff+r/6P/rf/G/6n/7v+1/6//OADu/wMAYgBJAKMAugB5AIgApACtAKQAtwCpAIEArwDIAKYAtQDfANoAmABCADkARgAOAB0AeAB5AGkAgQAyAA4AZgBZAFYAagBBAEcAFQA+AKIAegCIAF8ASgCeAGcAlwAgARAB4QDTANMA8QAVAfwAAgEFAYsAHAAAAFMAWgD2/x0AAACp/2T/1P7T/uz++P5r/4b/Rv8i/1T/af92/8n/rv/H/0UATwCiADEB/ACvAK0AQwBNANMAsgCdAG8A9f/c/57/bf+F/8T/6f9H/83+7/4D/yj/Kf/Y/n3+gP7P/tT+ov6O/rv+//4m/0H/P/8s/xT/Ov+C/z7/E/87/wj/Gv9o/03/I/84/2//QP/k/iT/ZP/7/sH+G/8A/8z+L//8/o3+uf6k/m/+hP7a/jD/Gv8X/2r/Z//4/gX/jf+x/+H/bQC4AL4A6QAjARcBBwE0AWwBmAG+AdkBbQHiAEkBvgFVAQoB/QCCAF8ApQBxAFoAiABTAAMA2//A/63/rv+Z/3//k/9n/z//U/8D/7D+9v5U/2r/mv/W/7z/j/+s/x4AZQCpAD0BJAGYALIALgFTASUBCAHnAAYBIAHwAB8B/QCfAHUA//8FAAgAgv+M/6f/YP9a/33/WP9j/5D/M/86/2f/P/9Y/0v/f/9T/5f+tv7D/s/+BP+1/hX/bP8j/y//JP8G//D+5v4M/xD/M/9P/xr/Hf85/xH/H/9H/y3/T/97/2//TP/s/uf+Gf9J/8H/lP8//1D/G/8//1H/NP/E/9r/eP+E/4z/jf9s/2j/iv9T/zH/OP9i/1D/2v4f/2D/Lv9t/03/Rv+Y/z3/SP+n/4T/4P9DAOP/4P9PAGMAdgCpANEA+AAXAVEBWwFuAagBWgEBAdwA3QAQAeIA+AA2AdcAoQCUAIkAqwChAIwAhwCIAIYAowC5AJgA9AANAZQABwFyARwBTwHLAd0BvwHaAQ4C1gGcAaoBXgE6AcEBpgEmAXEBjQEuAfUA3gDiAOQAGgEPAbUAsgBwACcANgBWAH8ANQAmAGMAIADq/7X/jf+E/zP/+P4M/1//Zf85/0j/2f6D/tH+1f6x/tb+2P6j/r7++/4A/wT/8v7F/sz+Iv80/+P+FP95/4L/gP+W/7j/4f8oAAMApP/O//T/z/9v/zf/a/93/5L/cf/7/hn/Yv9n/2n/df9I/yD/f/+m/5n/3//V/8D////p/4X/hv+V/2D/eP+//9j/yP/j/w8Az/8HAJUAdgCEAMEAdQBeAO0AJAHzADkBSwEAAfoAIgFeAWMBbAE6AbgAnABXAGsAzgBeAA0A7f/z/zQA3//2/0UADgAYAP3/7P9RAGkAQQBfAIQATwBEAL0A/ADMAOcAUgFSAQgB4wDXAMgAygAGARMB9gDhAIcAZwBhADsALwDR/3P/Sf8a/wj/FP9I/1b/OP8W/wr/HP8q/7z/BADD//n/6v++/+b/6v83AIAAWAA4AE8ASwBeAHgAUwChAKMAXACaACkA5v8WAPj/XgCAAJMA4QCHAFUAPgBKAJMAWwBNAH0AKADo/1oAcgDR/8v/CgDU/+//OwAhANn/p/+V/5X/lP+C/27/o//D/37/tv8VAOL/7f8mAAIAyf+T/7L/NwA7ACYAuQCrADAAMAAgABAA+P/p/+3/3v8AAAIAGQAgAD8AtQCeAIoAbABoAOAAfQA/AIwAlgDUAOcA0QCPAFEAOAAyALsA3ACSAGQACADy/93/p/+n/wIAPgAxAFgAKgAxAHYAggDlANMArQC7AI8AjABDAEIAeABZADUAEgALALf/kf+p/73/6v9z/4H/3v+P/2//Lv9U/7X/t/+V/0j/gv9S/0L/yP9A/1j/7f+6/+D/AQAWABMAxf/u/zIAeQACATAB4wCcAGsASgBAAF0AgwBjADwAHQAOAPL/1P8GAM3/uP/w/9D/HQDy/9n/JACt/wYANgDP/yYAFgAyAE8AAAAcAA0AFAAVAPr/IAAIAAQA8P+e/4T/jv+S/4H/eP9F/zD/U/9I/5n/2/+b/3r/b/9H/yD/Uv9r/z7/YP9Z/0n/Uf9E/5X/Y/8D/2T/Xv8v/1b/Q/8x/xX///4H/+7+2v7l/hj/J/8N/xP/F/8u/0f/T/9D/xb/Kf9M/1b/Y/9K/z3/Vv9l/zz/N/9j/3b/mv9i/07/pv97/27/av8l/0P/Q/84/y3/8/4Q/z3/F//k/ij/Q/+y/ov+qv6h/pv+W/5N/lD+gf76/sT+vP4d//3++/4J/27/5/+b/9//JwDK/yYAegB9AMoA0QCaAIYAyAAcAQ8B9gAdAe0AVgBBAEgAGABDAEAA7f/1//z/gf8//1D/Vf+k/3T/Ev9U/4D/of+D/4z/5f/A/93/4//V/y0AVQDEAMIAagCzANwAuABLAEwAwQCwAKgAyACaACAADwBeAE8AVgA3ACUAcgBoAEgA+f/1/1sALwAAAAQA/v/1/wsANwDt/9j////7/yUAHgBCAE8AAgA6ACwA4f8OAAYA1P/C/+D/AgDX/8D/rf9p/zP/Gf8V/wb/L/9Q//P+5P4V/y7/mf/M/4z/d//P/zcAegCtAJAAfQB4ADoAMwAiABYAUQBAAOb/rf+Y/3v/YP8y/xP/BP+0/sT+8v7W/uL+3v4Y/zn/Jf+C/7H/xv/U//H/EwDe/yoAPwDx/xwAPgCJAHIATQCiADkAFgBqAIAAxACnAJwAzgCTAIUAmQBeAHoA+ADKAFoAVwAqABsAVgCAADgAr//X/7H/Uf/w/xsA5/8wAD0AIgDz/xwAlwCAAIkAvACKAKcADAE3AQ0B8gAoARYBHgGiAdMBmAGIAbIBfAEtASMB6ADQAMYAtgCuAHMAjABBAJz/s/+5/4r/ev+l/9D/ZP8+/1v/S/9O/zX/Vv9m/1j/of+R/5X/HwAgAOz/TwCWAIIAfACFAJ8ArwC2ALgAkABkAGkAaQAVAAkAQwDx/4z/c/9E/w7/Pv+x/9L/t/+w/+L/7//z/3IAngB+AHcAmgAMAfUAuAB8ADsAaQACANj/NABBAIMAJADF/yUA9f+V/57/4//7/8D/xv/g/83/n/+h/wgAKAA8AMgA3wCfALcAqQCoALYAwgATAegA6AApAbwAoACLAGQAnQBbAD4AeABnACYA8P8lAD4ABgD+/yYAKAABAFcAoABZAAkATgAHAcIARwB+AGQApQDLAIAAxgDXAMYA5QD6ABABywDLAOkAzwAaAfMAnwDfANYAtQDAALgA1gC5AFMALgAQAOD/DwAcAM7/wf9u/wH/CP/+/ib/Hv+y/qb+q/6v/or+Wv57/nL+nf7G/tP+Mv9i/6f/vv+3/xUAJABaAIwARwA0AB0AIAAgAOX/0//P/8r/gf8v/+z+xf4M/7X+F/4P/uj9yv3c/QD+Jf4s/ib+Df4P/vX9Pv7C/nH+ef6+/of+6v47/xb/Nf9X/1f/cf/A/+D/2//f/7P/j/86/zr/9f/v/7z/QwAcAJ7/h/9Z/zz/If8o/0T/E/8c/xf/3P7p/sn+s/4O/0v/VP9y/3T/ff+4/5v/zP8uANX/FQCsAMAA2ACiALgA2gBxAFMAdgCaAHgAZQCAABsA6f/z/87/2f/u/87/u/8TADsAIQBPAF0AagCQAHwAegC+AOEACAFjAUQBLwFFATEBPgHgAOoA7AA/AH0AgQADAPf/2v/T/3P/ZP94/wb/Uf9k/xP/IP/t/gP/FP/r/hv/G/8c/0r/I/8x/1r/PP+Q/7r/iv/B/xkAmwCuAH0AsgCnAIAASwBdAJYAVgBaAEoA///H/9n///9q/2j/hP8X/yX/xv6U/q7+if6n/on+vP7K/rX+EP/Y/v/+SP8P/2b/cv8w/4b/n/9w/7j/r/92/63/ZP84/23/fP+y/3D/Uf9p/yT/UP9O/yj/Sf82/0//Q/8p/6H/1P+T/4X/af9p/7D/u//V/+D/uP/L//T/EAD6/z0A1wCdAB4A+//t////EADE/3H/hf9t/13/Kf/Y/gb/7f4x/1X/2P42/zf/Pf++/4j/mf+a/5D/4f/w/yQAXQBdAEwAwQDqAHQA/QASAZgAzACoALwACgEDAcoAowC1AGUAawBgAN7/7f/U/8H/y/9k/zf/Pv9E/0P/pf8BAK3/v/8VAEUAbAA/AKcABAF2AJUA5ACcANkAugBlAIcAPQCbAP0AhgCTABEAlf/M/4X/1v8XAMD//P/9/7L/t/+p/53/LwCvAEQAMwB4AEMAXwCMAGAAjQC4AHkAewA6AAoAlwBTAB8AZQD1//7/CQAHABwAs//y/6//b/8sAAIABgBTAPj/tf/P/ywAAQAtAHoALwBsAC0AQgDtAKIA8gBLAf8AMwFyAYUBagGaAfMBywGbAbcBJAIrAssBrQGJAVsBKAEjASsBIwFRARkBzgDrAB0BLQH4AOEAwgCgALsAgQBdAJMAjACDAH8AAwDG/zgAWwBBAEwARwBNACcAIAAiAOH/CAAkAOj/EwApAOz/EwAUAK7/sP/d//f/9//L////+v90/4f/0P9+/3r/4v8VAFgABgC0/xEA7v8TADgA9P83AN//yP8kAOD/KwA8ANv/3P/U/7//i/+W/6P/fP9e/yr/Lf8L/x7/Pf+v/nn+hP6e/qb+Yf6e/q/+UP5X/oL+k/7q/lL/Iv8r/2b/Pv9b/0L/V/+s/0b/I/9D/0r/Yv/9/rT+y/7I/rP+r/7m/hX//f7H/uD+Hf8w/33/df8x/1r/Yf+P/5L/b/8DADMA2P+H/4//FwDl/8X/OwAwADAAIwAaACAA7/9DAFEAIABXAB8AKwBjAMn/lP/J/5H/xP/t/8H/FQA+AFMAHgCS/+j/MgA6ABwA2/9XADkA3/8DAMv/IQB2AD4AcADFAIsAYADkAL4AbQDRAMIA3AAoAfYAvQCpAHQAUwCgAJUApwC8ADsAdwCgAGUAeACLAKgAHAAJAGoAAgAiAGcAUQDn/2T/qP+3/6b/xf/J/9z/sv/G/8//v//v/9//+f/i/6f/9P8DABMAYQA+AAQA9v/j/+n/9v8uAEUA9//b/6T/nv8FAPv/0P+Y/5z/3/96/07/hf93/1H/WP+O/2f/L/8L/xH/If+//gr/V/8k/5X/o/9c/5D/pP+S/4T/av9r/73/tv9Q/13/Yf9A/1//Of/4/g7/4f64/vf+8f4U/zH/9v4L/+f+uP7w/jX/XP9E/zz/af/J/7z/of8cABAANQCdAF4AfQDPAMEAawB4ALAATgBgAIgAeQCAAC0AXABxAMr/l//P/57/W/+M/2H/P/9//x//Ev+g/1z/0/4J/+j+2f55/zf/TP/Y/37/mf+5/+H/igC7AI8APABwAMIAnACfAKAAnQB0AFUAYABgAHUAdgC/AL8AQABCAIoArgDCAPoA8QDNAOIAxwCpAJcAwgB9ACsArQBQAA0AVQDn/87/tf+B/47/f/9X/17/n/9P/3b/yf91/7T/tP/N/ywABgAjACIARwBcABsASQAqAA0AKQD0/+D/6//e/7r/u/+7/7z/6P+8/6//1f+2/+j/JwAjAPz/kf9l/13/Lv95/+T/1v+8/7v/nf+j/8P/kP96/4n/ef/b/y8AHAA3AG8AaQAnAFkAzwDLAK0AvQDFAG0ARgCAAE0AIAAnADcADACH/7D/yf9W/0z/Zv9h/yz/Jv95/27/NP87/2j/hf+x/7T/r//z/9L/4P8jAO3/BwAUAOv/DQBcAHoANACKALsAUwCxAKQAGAAvABkA1/+M/1f/1f8eANf/xf+E/3X/5/+s/3T/oP98/3b/aP99/9f/CQBUAF8ACwD+/2YAeAAqAGUAjgB/AJcAZwBZAGIAFwDW/8f/zf/I/6b/hv9L/8T+uf7W/l7+aP6P/l7+dv6L/u7+Pv8g/wn/8/40/1H/YP/x/xoAzf+z/7X/b/9l/6r/k//H/9P/Qf8g/0b/ev99/0z/W/9H/0X/Hv/W/jn/Z/85/33/nf9w/1//bf+f/4T/Qf+D/6v/uv8cAOH/Wf9m/2T/S/9w/6r/9P/Z/4X/nv++/+n/IQACAP//BwDR/7H/3P8HAOD/5P+1/0v/t/+v/1P/+v/y/2T/dP9b/3j/zP/a/wwACgDt/xsANgB9AMoAwgDhAAwB7QC5AM4A6QDoAC4BOQEoATkBDAEBAboAbgCFAGEASAAuACIAAQCV/7L/ov9Q/1j/OP9V/3b/ef+h/5H/sP/s/+v/3P/b//D/MgCfAJ0AqgAFAbsAfQCEAE8AegCoAGwAgQClAHMAnQCWAEQAiABrAEsAwwCtAJAAsACFADYA2f/c/ycAQgAYAOH/2f/y//P/qv/D//r/wv8oAH0AWQCNAGoADAD4/1IAegAZAF8AXADr/yEA6v+4/wIA+v/S/7r/pf9j/3L/tv+B/2z/WP8j/wP/B/9L/y7/Tv+1/7T/6P/7//v/2P+a//L/uP+u/2EAPwAsADkAAwBDADoA6//L/9z/EgDY/8L/NQBcAEwARgA+AFQARAA5AEsAVACQAJQAcgBbAP7/8v/x/8L/3f/n//3/4f/Z/zoAAADb/zEAHwAGACYAZACOAKIA5gD8AOgAGAE1ARkBUAGZAcEB4AGdAZEBfwEPAUQBTAHjAAUBAwHLAOwAxQBpAJ8AuACQALEAcAA3AE0AMQBRAHMAbQB4AFwABwAjAJsASABZAOEAiACJAIEAVQC4AJEAlADNAH8AdgCxAM4AngBoADwAFwA9APX/nv/o/93/cP95/67/lf+l/8D/sP/K/7L/qv/e/+T/4v++/97/IwAhAGoAdwB8APMAoQBiAMsAxACkAGUAeQDoAKEAoACqADcAHADw/7P/Tv8o/3n/W/9R/yP/+f78/qL+AP9U/0r/hv+l/+b/vv/p/0wA+f/f/4b/hP/f/8z/BQD0/x0AIACB/5X/m//7/z0AaP9d/9n/1P+n/8T/+//X/8b/yf/8/xUA3/8AAPT/qP9f/23/2f+T/27/zv+3/9H/GAARABgA6v/U/04ARgD9/28AqgBjACUABAAOADcAbgCVALQAcwBtANsAWgAoALoAjAB0AJ0AZwAWAAwAQQAZANT/yP/w//v/+f9QACYA5f8GANH/2P8UABcAJAA0AAcA1/8PAB0A/f/w/83/zP+4/73/4P/w//7/5/8mAFIAMgAfAND/2/8BAPj/QABVAGgAsACGACEABwAUAC8AUQBTAIUAYQDp/+7/zP+///L/xP+O/0L/Ov9a/zL/R/9H/yX/Ev8E/yn/S/9W/yX/Mf+B/z7/H/9c/1L/N/8N/+b+4P71/vf+wv7n/hP/1/7P/qv+ev7a/g7/8P7l/sD+t/7h/iL/MP/m/tn+Lv9y/0T/C/9//+7/ov9q/5r/sv/M/8P/Zf8r//f+6/4t/xL/2P7D/pX+aP5b/p/+u/66/kH/V//Q/uX+Mv9Q/5//0P/X//P/PQBxADkAPwB0AGcAWQBsAMkAqACIAPMAqACSAJQARQDUAOwAmQCeAH4AkAA7ACYAWgDR/wMAVQCs/5r/BwDp/7//3f/0/xcASACSAOEA3wC0AJQAoACdAK0ALwFwAZABkQENAeIA6gDUANYAvADKALsAbgBZAFQAQQAZAND/ff84/0b/nP/A/+L/NwApAPr/IgBbAHUAcQCUAMYAugCuAMMAvQCBAHoAhwBdAFYAOgAvAC8A1v/Q//T/2f+c/yT/Iv9z/0f/HP9S/2f/Lf8t/1L/UP9v/2//Pf8f/xL/QP9//6z/p/9Z/2z/qP+l/9v/6P/A/93/3P/d/x0AIAAcAFAACgCt/8b/0f8MABIAhv+G/8j/pv9g/zj/cf+s/6n/f/94/5r/lv+r/6j/8v9wAEoAOAADAOz/ZAA7AC4AfQCEAI0AcwCdANsABgHzAEIAVwCmAGQAmwCIAFQArQCgAGEAdQCPALYA3wC2AHsAYQBcALUAygCCAMoAHwEbAfwA8wBiAYEBPAFRASEB8AAXAfMA8wAeAREBJAELAZ8AlADJAL8AtwDNANYAvwBtAB4AWwDDAJgAVgBkAGIANwAAAP7/CADi/8b/u//3/xIA0P/p/xMAHAAmAAwANABgAC4AFQBAAFYANQBGAH4AVgAyAHoAbgDx/9H/6P/Q/8v/w/+R/5b/oP9M/0P/N//l/i7/ZP9j/8r/4f/w/w0A6P8EADAAaACTAGIAhgDHAJkAhwCKAGoARwAnAEgAQwDW/+v/NgDo/4f/b/+l/wIA3P+A/4z/Yv8v/2P/av+C/8X/DAA9AMj/ov/r/wEAOgDv/8f/HwAtAJUApgB9ANwAqACNALEAigD8ACcB5wAkARsB6gD1APEAywCJAMIA9AB5AEcAZABAAAoAAQAeAEYAgQB/AIMAewA9AI4AywDVAPQAwQDYAMsAnQC2AKIA1wD2AAQBEgHuAA4BzADIABUBrQCXALMAcABWAEgAAAD7/zYA/f8HABMAsP/7/xQAyv/F/8P/DQBQAFUALwAQACcAHAAHANr/2f/4//D/+v+6/2X/WP+P/5H/c//f/8H/hv+h/zH/E/8q/4D/3f9j/z//gf+a/1P/Bv9w/23/KP9h/2T/Lf8k/2j/cP81/0f/ff9Q/xH/Uf9e/0T/Kv///iD/ov5g/tT+yf4Y/2H/Pv9S/yn/8v7V/hv/V/8S/yH/IP9I/+j/5P+u/63/aP9U/2H/M/9E/5D/7f8NAJ7/oP/p/8//BwA6ACEAEQD3/wwAQgBOADgANwAfAOP/u/98/6n/6/+n/8b/BgAHAAgA0//N/+P/5P////f/CwBBAEoAHgAKAHEAwACVAHsAvQDkAIUAUgBOACkAgwCrAGsAgwBsAFEAbABQAEUAcACYAIcAcgCdAPEAHgHsAMsAowB1AFwAEQAWAAAA5/8qAMv/kP+R/xj/8v4T/0X/bv+k/8b/iP+a/6b/nP/c/+D/8f82AGgAZgCVAOgAngCNAM8AlQBnAHEAfgB1AE0AEgAAAP7/rf+n/8D/gP9U/0v/c/+X/6T/gv9a/5f/df9Z/4D/TP9v/4n/Pf/v/tP+HP8X/+v+4P4D/2H/D//Q/hT/8P7c/ub+Hv+H/3P/lf8fABkA6f8dADUAJgBGAEQAOgBoAEMAAgA1ADYA9v/J/77/CADJ/23/vf9z/0L/jv+X/wYA//+N/6v/nv+A/5j/3v/4/83/GwBXADYAIQA1AEcAHgBLADEAAQCNAJwAlAC5AHgApAC+AIEAgACUAJAAbQBwAJ4AwACRADoAHgAbAE4AOQD7/wwA7v8HAPL/zf8/AA0A9v9eAGIAhQBnAGsA8gDJAFMAYwCVAHwAdACtALAAvwABAeUAwQDpAMUAhQCVAKMAhQBpAHwAUQAxAIMAVwBHAJ0AjgCMAEwAHABWAE4AbwB5AFoAhwCGAGkAgwCbAHwAtwDmAGQAXQCOAF8APwAUADQAJgDT/87/uv/Z/9z/q/+3/6L/4P/5/6X/vP+9/47/cP97/6D/Zv9p/4b/a/+c/6n/m/+K/5X/1P+H/4r/DQDo/6n/2P8NAMz/l//F/6b/t//O/6X/vf+f/5f/rv+Q/6j/v//W//P/8v/+/wgAEAAYAAsA0v///1sAGwA1AGsAQACPAJUATwBdAFUAcQCfAKsApQCDAGoAUgBTAGMASwAzAFAAlgBxACgAYABnAEsAVgBKAIcAhABWAKMAYgAZAIYAdAD+/+v//v/Z/9T/AgDZ/9n/FwD8//b/GAAyAEIAJgBMAIQAVwBnAJMAgwDSAO0ApgCuAL4A2wDJAMUAIwHeAKcA8ADJAJMAgACSAI8AUQBjADQA5P8dAA0AsP+J/4v/5v8VAOL/6//4/x4ASAAvAG8AnQCEAHYATQBDAD8AgwCsAGUAggBgAPr/6v/N/6P/dP9k/07/T/9Y/x//NP8V/9r+0v6a/tT+JP9J/3r/jv/L/8b/s//m/wEA5v/W/wEA6P/6//T/qv/y/5T/Kv+A/2D/SP8t/yr/Yf8q/+v+x/7Z/vj++f7j/rf+9v4u/z7/Pf85/5b/f/9J/1n/b/+u/3L/hv/Z/3n/fP/O/9r/4//0/97/rf+d/2b/Y/9t/0X/lP+P/0n/hP+W/4v/mP+o/6X/of+//7b/8P8rAPf//v/6/+z/LwBpAI0AggC9APwAqQDWAP8AtADKAJwAowDsAMEAyACyANgARQEiAUIBaAEvAQ0BtAB+AKwAuAB+AIgAngBSAE0APgAXACIADgAwAB8A8P/2/+f/DQADAAoAHAAKAHwAfgCCAM0AXABqAJAAYQDEAN0A6QA0AR8BBAH0AM4A7wAzAQ0BuAC3AN0AugBfAE4AMADC/6f/pP9w/6f/9v+P/0f/cf85/zX/af9b/4b/nf+W/43/a/+M/43/Vf9k/3n/VP9f/4v/Xv9l/5n/Zv8s/x//Sf9p/3r/x//E/6r/9P/9/7//3P/z/7j/4v/3/37/Wv9r/1v/YP9o/2P/af9k/z7/Lv8G/wL/Pv8I/+T+L/9z/43/m//F/33/Sf+V/3X/Sf9L/2b/rf+8/8H/jv9U/zv//f4L/xr/KP9F/1X/l/9j/z3/ef+U//f/4P+e/9D/rf/f/yIAGgBmAHoAkgC+AL0ABwHcAHEAqADHAMEAvABhACgAKgAUAM//nP/C/6r/VP9N/zL/Cv8m/x//Hv9a/2//kf+i/5T/9P8LAOT/HADr/+j/RgAaAB4AegCCAGMAYAA1APz/YgCUAB4AHQA/AAwA4P+j/7D/7f+7/5z/wv/T/87/rP++/7T/kP/q//f//v9DAAoA7/8HABgABAAVAJ0AoQB2AEoAFQBnADIA8f/m/4z/0//a/4L/nP+X/5P/a/87/2L/gv+m/7P/nf+h/9H/FwAlABIALQBNADYAAAAEAEwAUwBEAEYADgAmAHEAYQAaAOT/QQBCAMD/KgCLAGkAiABvAHIApwCHALAA+QDVAAABOQHfAL4A7AD1AAoBGQH1AOwAOQEsAeQAEAHpAI4ArgCzAG4AMgA8AEsAFAD3/+z/4P/e/9H/3f+7/7j/IAARAPn/RwBOAFEATwBYAJwAcABUAHIAbwDAAL8AhADNAM0ApACvAGoAVQBoAC0ASwBrAC4ATACTAGkADAA3AJMAhQCGAJEAqAC3AGMATwCJAHwASABGADgA6P/8/0wAJQDj////LAA7AGkAiwCaAHIASQCJAGgAJQAAAOr/LQDy/57/lf++/+v/kf/e/wYApP/3/wUA+P/o/8z/8P+//87/0f/k/xYAz//O/5z/kP/Z/6X/sv+v/2b/K//6/uH+6f5Z/4v/m//B/8r/BwDx//n/RAAvACAAIwBFAFMASABXADMAAQAgAG8AQQAuAE4ANgB5AGgAVAAwAOf/lACHABgAUgA8AG8AZQA2AHUAcQBUADYAcgCUAD0AOQBTAEQAFwD6/wYAQABaAAgA2v+2/+D/IgDB/9r/IgDJ/4P/h/+x/8r/3P8UAFQAQwBCAKkAvgCwAI0AagDAAM0ApwCbAKsA/wAQAd0AkwB2AEcA8v89AHsASQAqAFYAegDy/7T/1f+//xcAOAD//yMAQwBWAE0AAwAVAF0AiQClAIkAsgCzAFUAhwBrAB8ASQA3AG0AjwBgAKkAvQBoAFEAgQB3AGwAtADHALcAlgBwAEwA9P/M/9X/3//D/5//1v/0/+z/AAAIAN3/t//c/87/uv/W/+z/AwC8/6D/wP+G/4D/kf94/3T/cv9d/0j/XP+Q/7f/cP84/6r/yf/f/0MAAwAAAF8AFQDe/xIAKQD8/7D/w//p/7P/o/+8/8L/x/+u/5f/lf+c/8b/4P+1/+L/SgAVAOz/MgBbAHkAZAAvACUARQBvAFAAKwD6/7n/0v/R/4v/f/+s/6z/cP9d/5L/sv+J/3n/Wf8w/2f/UP86/1b/Gv84/1D/Mv9P/yz/Rf93/z//Pv9q/53/zf/E/9//AwDe//r/QwA+ADcAPgBgAGUAKgBMAFYA+P/e/wsAAADC/+P/AQC8/5H/bP9v/6j/uP+v/7j/1f+9/7j/3f+3/7H/tv+G/6H/x/+6/7L/rP+X/4z/u//V/6z/uf+p/0b/Sv9N/xL/Nv8w/+v+6P7v/uj+3v4g/3v/Rv/9/hr/XP9y/3P/wf8SAEwAUQALACcAYwCcAN8ApgCwAPcA1gC6AJ8AmwCJAGkAiwBjABsABQD//9n/n//s//z/nv+4/97/3P+s/3j/pP/L/7n/wv8UAEgAawB0AFAAyQDjAI0A9wA1ATgBGwG4AM8A6QDIAMwAmwA6AC0APgA3AHEAgABnAEkA9f/6/0YAkwCaAJUA1ADBAO0AMgEtAVEBFwEMAQoBqwDiABcB3wCWAGYAPQAPAC8AEAAKAEYA9v/W/+H/qP+W/4v/ef+w//r/0//m/x0A4v/Z/67/n/+4/4L/AwBJAPj/HgDj/5j/uf/J/+P/DgAhAOX/4//3/83/6P/T/9n/8v+q/+P/v/9X/77/lv8W/xz/KP9L/0f/4P6g/tz+/P7P/gT/O/8b/yD/QP9u/7D/vf+N/7j//P+x/7D/+v/P/8b/5P/V/8j/uv/j/wwAr/9h/3b/M//c/v7+Cv+8/qT+3f60/pP+zv68/gX/OP/f/jL/Wf8c/2b/vv8BAAcAMQB0ADIARQClAOYAAgG8ALsA0wCLAFIAUABrAFgANQA1ABUA0P/I/xcAFwAZAE0A9P/V//z/AwBiAEsANAClAI0AcACuALYAkgB+AKMAsQCSAJQA1gAJAdAAmgCGAK8A/gDGALoA4gCZAEcADgBfAJoAKwAsACwAyv/I/w0AIgDS/7//7f/v//T/y//Q/wkAGgAlAAkAOwB0ACsAUwCaAEEAEgBfAHcAUgBfAHkAeQBnAHUAhwBIAC0ATQByAHcATQBnAF8ALgAgAPv/MQBjAFMAVgBQAGwALAAdAHsAXwCLAJwATQCOAJgAWwBtAJEAkQBwAGMAQAAuACcA6f/d/+j/3P/Q/6L/cP9I/zX/O/9E/0P/Ov9e/5b/jv9i/4b/wP+4/+b/GwDx//7/ZAB6AFEAhQCrAF4AVwCiAKsAuQD0AOsAyACmAHsAaQBCAEsAYwA3ABsA8//X/7v/ov/Q/8X/pv+4/+X////N/+L/5//J/9v/kf+u//f/wP/l/+v/5f/6/+D/OAAmAPj/JgDk/yoAMwDn/1cADADQ/wQAw//+/xYAyP+L/2//sv+m/5T/EgBfAAcAw//j//n/IgASAPz/VgBkACEA/P9HAIgAbAClAIoADgAMAC8A8f+m/7//of+G/5D/RP8g/wz/I/8f/8n+3P4C/wv/5/7P/gb/E/9Q/3r/of8CAP//JAB6AKcA4gAYATkBMAE9ATYBRwFnARkBIgEbAdQA6wCqAI0A0wDFAJgAagCGAJIAIgAIAPL/sP/3/+n/0P9EABwAFgBYADkAgwCHAHwAvQCVAM4A8wD1AEAB8gDLAMoAhQCcAIAASgAnAN//+P/2/53/pf+V/yv/Rv90/0P/qv/r/6b/s/+Z/+H/OgAAAG8AsQCTAL4AmgDHAMYAuAA1AQYBAgElAcQAuACEAE4AZABXACoABAAMAJ7/Ov98/1//Rv9Z/zD/Pf8v/xf/P/89/0P/QP8f/1n/cP9Z/57/z//1/xYABgD3/wAAWAB6AFoAewAuAKX/lf92/0n/cf9O/+j+xv5o/iL+MP4t/k7+PP4+/nH+hP7M/tn+4/7Y/rT+KP9m/6D/y/+o/+X/v/+8//z/uP/8/zcA7P/Q/8X/wv+v/5f/f/9o/2b/LP8t/1//Of9F/17/Gv8//5n/fv+U/7f/oP/S/9r/2/8iAAMA3//v/wIABgC0/+L/VQAfACYANQDf/+b/9P/j//n/+P/w/wIAEADj/5r/f/+C/6T/t/+1/wIA7v9V/03/Uv9m/w8ADADM/w4A+/+u/6b/+P8bADUAZQArAGMAiwBpALsAkACQAOgAzQC7AKQAoABwAEgAdQBPABoA8/8FAAAAdP9h/57/cv82/2X/kv9z/2z/ff/Q/57/T//E/73/2f8CAMf/FwAbACcAQQASAFEAUgBAAEMANwBMAIgAyQBUAE8AmABTAHkAVABMAHYASACPAEAAFQB8AC4AOQBTAB0ANwBGAGEAegB+AHYAkACpAGMAtgACAbUA7ADFAGcAfQBzAOwAIQHBAMIAlABuAEEAHQBbADMASgCEAA4Atf+y/6H/if+A/1D/Yf+h/0j/Iv9S/2f/lP96/0f/v/9FAL//zv9YAPv/VABCAB4AxwAcADYAoQD3/9f/xf86AFAA7v8UANH/9v/J/3T/uP90/4z/Zv8v/6z/n/+Y/93/BgDz//f/MADq/+3/NQBSAIgAeQBrAIsAhQAXAN//CAAAABIArf8v/1D/JP8U/xH/nf5t/nT+WP4y/jj+j/7f/rT+w/43/yb/Rf+b/4v/1P8rAEcAggB8AI0AyQB4AHoAxwChAM0AsQBsAJAAaACGAG8AIwAiAN//uf9i/4H/1v9p/2T/U/8w/yn/SP/B/z7/Gf+E/2D/e/+H/8P/5v/6/xwAxP/o/97/7f9bADgAgwCLAF0AlABaAEcAZgCMAJQAoQDPAJIAmQCaAGoAnACZAHMAkwDRAJ4AdADSANYAngCpAMkArACrAN4AswD1AB8BswC3AJMAewCwAHcAaACQAIEAgACAAGUAMAD4/w8ADADW/+3/uf+R/7//hf9d/2D/i/+s/5n/t/+e/8H/yf+5/ycA2f/d/zkA6v80AF0ASAB9AIcAigBiAFwASgBSAG4AGwAgAPj/l/+a/2n/TP9k/3D/M/9R/7z/Rf9R/7v/cv9x/1L/hf8KAO3/DwBZAIAAjABqAL4A5wD0ADsB/gAEAS4BuACMAIwAXwBnAIQAjgAaAKP/w/+z/5P/o/9k/1j/jv9k/1j/wv/+/wAAMAAlAO3/KACDAKYAowCWALkAwADLAPoA9AAMAd8AhgDtAAcBZQBsAOsApQBDAJgAigAgAOz/wv/y/6b/Of+y/4r/G/9q/1n/Wv+Z/1H/Uv+A/33/zv/n/+L/QgBsAEMARQB3AGwAkwDNAIMAkQCMAFwAfgAgABsAVQDp/73/1f+u/1P/Yv+S/2j/e/9z/2j/a/+V/xIA6P/V/+r/1P8yADAAUQCPADgAGQApAE0AWQBvAGMAHgAaAKD/gP/p/+P/EgD+/8P/iP8e/2T/ff8Y/x3/eP9w/wv/BP8C/yT/cf9T/2b/jf91/3X/jf/L/zMAVQA4AHMAXwBYANAAlgCEAJAAQwCbAIcANQB0AGwAOwANAOH/r//O/x4Apv8n/zP/TP+J/5D/hP/a/9f/h/+k/7D/xv8pAE0AWAAzAEUAugCTAI4A6gDYAOAA3ACYAMYA5QCzAM8AogBBAFAAHwD3/xIAFQANALv/tP+0/13/gv+f/5P/l/+e/93/n/9s//7/WgAhAAUAZACFACYAHgBhAGAAVgB/AJUAewA8AEMAqgCkAEcAggD0ALgAfABoACcAWABKACgAjAB+AGoAWABbAKwAWwAiAEwAbwBTAAkAUgA0AN7/DQAZAEoAOwAVAD8ABwDC/9//OAAaANH/DQAcANP/jf99/1//P/86/+7+7v4l/0T/WP9O/1//Ff8G/zX/EP80/1z/uP+3/5//NAD7/+r/HgAIAHsAUgBXAJwAYACqAH8AHwBpAGIALAAlAOL/v//4/8f/zP/v/3v/cv9P/yL/Wf8U/zT/qv9u/zP/nP/X/57/1v9IAJgAmgBbAF0AaQCeAKoAcACFAIwAnQCZAGkATgDe/4r/pf+M/zj/G/8d/xn/Dv/m/gT/Iv8P/y7/Ev/p/hz/fv/A/7n/4P/v/+L/IwA3ADsAZgB6AIUAcgA9ACQAPABGACQADAALAMr/Y/9d/07/Ev8r/z//Q/97/2f/Jf86/1//Y/9r/3T/c/+S/8P/uv/Q/yIANwA2ADIAQgB8AHEAUgBIAB0AAgAOABYAJAAwANv/uf8uAEMABQDv/9P/iv9S/1f/If9M/7P/bP9l/6T/2f8LAOf/BQA9AEYAPgAVABUAHgBiAIQAUQCdAL0AnAC6AHcAUQCZAIkAcACYAFQAFQAqACAAJADL/4H/1v+0/1//f/+x/8b/1f/u/9X/zf/v////EgATAEcAhQCUAKAAcwB4ALcAxAD5AF0BLAGTAL4A/wC0AKEAfgAzAOz/1/8DAPT/CADl/4P/lP92/23/qf/f//r/mv92/3T/Wv+p/8f/5P8kAAwA+v8wAIIAZgBqAK8AUgBpANkAdQBQAKcAzgCyAIsAmwBKAMP/4/8fAPz/5v+0/1j/fP+k/3T/h/+V/4D/df9q/4n/r//h/+7/0v/l//n/CwAZAC8AJgDg/7//n/+1/7z/b/9u/0f/If8a/wL/G//R/s7+4f6J/tP+CP/6/jj/jP/q//P/8P8hAIMAvgCqAMYAnACdAOAA0gD2ANoA4gAEAZUAagBFABwACQDl//b/uf9u/2v/kP+V/1f/hP+Q/2X/fv+O/+b/CAC4/6//9f8nAAkA/v/1/8b/5f8fACQAPwCCAHUAMAAgAFoAoACwAMQAiwA9AGkAagBYAG0AmwCpAE4AUQBFABQASABHADQA8v/Q/xcAIwBNAGQAhADPAIMAWAC1ANQAxQD6ABkBBQEHAdEAuwDsAPkA8gDWAOwAuQA8AEUAQQAqACUA9v/+/87/Wv9N/17/Xf9d/1T/pv/y/9v/+f8XAFEAfgBDAGoAfgCMALoAcgCiAKUATgB+AFwASgBDAPT/+//y/8j/tf+//7v/Zv88/0n/Wv9G/w//Tv+c/zz/+v5U/5L/sf+5/6D/8/8uAAwAIgA1ADgAZgBpAE0AhAC9ALwArgCQAI0AWgBaAKEAWQBHADUAw//d/9D/d/9c/2v/eP8r/xb/Sf8m/9f+t/76/i//Q/9v/23/gf/S/wAAGAA1AEYAlgDTAIoAgACZAG4AdABjADsAPAA4AAUAuf/Z//7/0v/E/4H/Xf91/zz/b/++/5n/zf/O/5z/rv+f//b/FgDG//r/DwAOABUAAwAxACsANwBBABkASABPAFwAbwAZABoASgBAAC0ABAAAAAYAxf/H//H/of+Z/9v/uf/C/7j/hf/A/5H/F/9Z/5D/Zv9+/5//vP/u//H/1f/l/yUAKAAtAIIArgCwAJkAigB8AIcA5QC7AF0ARgA/AGcAAAC4/8z/cv9p/1j/Pf85/xb/cv9//3n/tf97/7z/HwAjAGQAgQCrAPYAEQEDAZIAkAD/ALUAewCLAEcAOQAJAM//yf9i/z//Rv8E//z++P7H/qL+xf7T/tL+LP88/2T/vv/I/xMAIwAdAH0AbwBhAJYAiwCXAKIAjACQAIkAmgCyAJkAeQA6AC8AbgCQAKkAgwBWAFYAMAAgABcA///k/9n/4P+f/6f/8f+4/2v/Zv+B/3v/YP9k/3//oP9//2j/if+w/+7//f8AABcADQAbABoACAAeAPj/7f89ABQAzf+8/5z/zf/A/67//f++/6f/8P/k/87/5v9CAEYAGQA6AEsAigCiAIoAeQA2AFwAaQDp/9n/JQAQANb/0f/R/8T/qv+h/4n/WP9O/xb/H/9z/3v/kv+G/5z/qf9p/63/xP+b/7H/vP+8/7X/BAAxAB4AQgBgAHEAHgAvAMUA0QDVALEAfgCxAMEAjQBcAHoAbgAwABgAAgDW/3D/af9r/1H/gP9F/0z/U/8x/2T/C/8W/3D/kP+5/3P/2/9FADcAeQB4AIUAdQCqANcASQBuAGYAHwBoAEQAGAAeAC8A1/+N/+7/tf+g/8X/gv+G/1f/bf+b/3//uf+p/6v/6v/R/7r/7v9DADAACgATACgAdACMAIUAbQBgAGUAAgD5/zkAPwBbAD0AAAD5/wQA6//J//X/IgACALH/kP+F/2D/bP9i/3f/mf9o/5n/1f+3/6b/wP/7//T/BgA4APz/6/8vAEoAUgBwALMAAgHsAKkAuAC6AIwAYABeAGIAKAAkACUAMQBRAPf/6v/2/8v/DgAhABkAKgA4AHwAiwCXALUAvQDUAMkAtQDVAOoAxwABASYB1ADzANwAnQCuAFsAUwBkABUA/v/T/47/d/9d/wL/3v4V///+Gf9E//v+BP89/z7/Rf9L/33/wf+y/7X/8P/6/yQAewCrAL8A3AAvAUwBPgFTAU4BYgE6AewA+gDQAKwAyQCuALEAwwB7AFkAfABSAB0AIAAUABkAAADG/9T/8v/1//H/BwAmAAEA//82ACcAMQBGABsASwBiACwAYwCCAGwASAAqAGoAbABXAG0AbAB0ADgACgAbAEkASgDN/9D/BwD4/9L/iP/u/wYAy/8qAA0A7P/L/9X/RAD3/1AA9wCMAG0AkwCaAKgAmACMAI0AhABIADAAAgDm/yUA5v+//+D/xP/r/wAAAgDg/33/uf/o/7b/BABIAD8AYABQADEAVwBuAIkAogCIAIAAZAAeAA0AGwAhADAAAADZ/xEAEADx/xkANgA8AB8A2P/D/9H/ov9q/4P/lf9Z/1P/Rf/p/gP/8f6y/jH/LP8d/6L/qP/f//T/y/8IABkASwB1AIcAswCqANoA7ADdAPAACAE8ARMB1wCWAHMA2QDRAGAAQQAnAMf/ev+L/77/vP9z/4j/g/83/4L/Z/9E/6D/df9L/07/T/9Y/5D/zv9w/2j/uv+r/6T/qf/A/6b/r//e/6T/yP8YAAMAAgD6/9v/7v/v/xAATwD9/wEANADM/9z/6P/K/8r/o//r/8T/ev+K/2j/lf94/3j/s/9u/2z/YP9N/0//R/+N/4v/kv+z/53/yv++/13/Zf+6/9T/0//D/8L/9f/s/wgANQAOACQAZgB5ACcACgBDACUANQBZADIA8P/P/xgAIADw/97/u/+u/6f/nv+U/7L/qv9w/3P/Xv+E/6P/ev+K/13/Uf9a/zb/cP+O/23/P/9I/3//Z/9z/5T/g/+C/4z/kf+A/4j/rf/L/83/pf+Z/7z/5/8HABsABAADAD4ALQAoAEMARwBeAA8A8v8WAPP///+s/0z/fP9I/xj/X/9s/0L/N/81/xf/I/94/6D/Wf9P/8H/wf+a/wQAHwDF/5z/qv/p//v/2f/I/7//1P+x/67/2/95/0L/Pf8L/yz/Nv8a/w//F/8O/8r+0v7V/sz+4v71/mj/Vf8G/07/Sf9c/4H/Rv9P/4v/uf+w/7n/3P/l/yYADgAFAHEASwBlAMwAkQCoAAAB4QDJAO0A8QDqAAIB8AAKAToBAAHXAKQAcgCFAHcAbAAwAPD/CgD3/9H/5f8YABkA+P/o/6P/h/+m/+H/AQCz/8///v/Z//z/AgDu/+v/FAApAPD/EQAdAPj/CAD5/wAAKABDAEcAPwA1ADAAWAAgAO7/UgBbAD4AVAAjAEEArQCOAGUAcwBmAGgASQBfAH8AWwCOAHsAZACVAGMAaACGAIUAWgA5AI4AagA7AGYATAA/AEQAXABCADMAXwBYAGwAYACCAKoAVABaAHEAegBhADIAcwBrAFsAJQDh/zAADwDw/xIAHwBiABwA+/9wAHMANAAuAEUAQwAzAC8ALAAeABQAQgBvAGQAZACbAJgAagB5AGQAZQB4AGMAigCtANQAuACZAOUAhgBhANYAsQCLAJcArwCeAEMANwBcAI0AYgAFAEMAdABYAHAAcAAlACcAaQBFAFEAhwBnAHcAiAB2AI0AwgDhALAAmACjAJ8AqwCjAMMABwEVAe4AvAC1AJYAlwDFAJcAjwCeAGkAXgA8AE0AnwB2AIQArgBmAH0AvQC9AMIArwDEAN8AnACAAKkAcwAiADMADAD3/1IAUgAaAPH/8P8RANT/2P/8/7H/pP+1/7P/0v8EAC0AOABFAEYAYwBlAE8ArAC6AIUAhQBZAFEAjwC/AJEAawCJAGwAVwBBAGAAjgBcAHsAYAAyAHwAWwA1ADcAEADn//j/IAACADYANQARAIAAZgBDAG0AQgBiAK0AkgBCAHIAuQCfAKQAiACqAO8A1gDWAMgA3gD4AOEA3QCrAIkAjwDJAMYAZAB1AE8AGABPAE8ARQAeAOX/4f8RADQADQAyAF0AWwCRAKEAmwCSAKUAzgDaAB8BYQFtAUgBNwFjAVMBVwE0AeoAMwEtAbAAjACZAJ4AiABXABAACAA0ABUADQAzADgADQC//6j/h/+U/+v/tf+g/9//rv+q/9n/sf+C/6f/uv+v/wgABgDH/+n/uP+x/+n/4f8NAAUA+v8jANT/qP8DAB0A9f/o/8z/vv+0/6D/4v/d/5f/sv+c/33/kf+M/8r/7P+u/7D/wv+s/7P/sf+z/9r/9f/X/7f/5v/Q/5T/zv/o/7//cP+B/wcAs/9J/6L/xv+x/5v/qv+1/7P/3P+T/z3/dP9z/07/f/+C/2T/g/+j/7f/iP9r/5j/ef+T/7j/lv+Y/3T/i/+G/2T/uv+g/4X/sf+o/6f/fP93/43/pP+4/6n/7//i/7j/DQD0/6j/s//H/6P/bf9k/0b/Xf+X/3f/W/9C/yP/Mv8u/zT/Tv9S/33/WP/n/hv/Yv+G/8H/m/+W/5j/Yv9L/zP/b/+d/3D/fv9+/2P/ff+o/8z/wv9Q/y7/uv/Y/5v/eP9l/53/fP9N/3n/dP9s/0D/A//m/vL+HP/o/gH/MP/C/sP+AP/k/gf/Ov8c/zH/dv9E/zv/q//G/7v/5f/3/+H/9/8EALz/pP+l/57/3/+5/2z/jf9r/13/nf9y/zn/R/9Q/yX/+f4z/2H/b/9t/z3/lP8FAOj/zP/Z/+b/y/+6/+z/5v/P//L/5f+a/37/lP96/13/fv+C/z//Gv8h/zT/Yf8u//L+Xf9r/zH/ef+E/3z/1P/5/8D/qf/x//b/wf/g/xUAAwCj/47/2//t/9//2f/Y/+n/7v/1/wkAAQACADsAHgD5/1YAaAAmAB8AIgD0/9r/DADz/5v/t//6/7r/Xf9d/1X/jv+b/0//n/+5/6//4v/V/wUA5v/R/yMA0P+c//r/EQDL/8X/2/+//7r/ff94/4z/Rv9a/1X/Nv9F/1v/S//7/g7/7P4C/43/PP8q/2b/hv/S/4j/hf/m//f/6f/7/zkACwAPAGAAKgAHADkAdwCfAJoAXQA8AF4AWAA9APD/3v8NAOf/3v+i/5H/zf+u/7n/gP+R/xEA2//X/yMAOwAyACkAZQCTAKUAqQD0AOoAagDhAAgBpgDgANsAwgB3AGYA1wCXAHkAfgAGAPT/MABZAC4AJQByAEMAAADn/+j/IwAPAAAAKQAyACcAHQBzAIcAOQBdAFoAeADiAM4AqACsAPcA/ACwABcBKAEGAS4B1QD1ADsB9AAIAU0BQgERAUkBWwHfANIA8wDtAPoA3wC8AKsAlgBIAC8AcwBAAAYAOwBKABUA6f8OACUACwApABgA8f8eAEoAhwCjAGUAeACPAFgAagB0AG8AtQCcAFwAlQCIADIAMwBJAE0A8v+T//L/HwAIACgADAArAF4AaACYAIgAlgChAFIASQBxAJQApwCtAJIAbQChAIgAUQCZAK0AmQCKAG4AdgBwAGgAVQAwADIANwAdAPP/CQA9ABIA4f/Y/83/5f/x/+L/BQAPAND/pP+b/7P/vP+3/+D/3P/j/+r/5P8rAPz/v/8PAO3/yv8HAAoACgA9AFEAPQBiAH4AWAA+AC8AUwBZABMACQApACMAAwADAOP/sv/O/7D/oP/K/7j/sP+n/7r/0f+1/7b/0/8OAPT/wv8JABgACQAUAB4ARwAuAAgAFQA3ADoAGQAeAC8ARAAVAPD/QAAIAMv/FwDy/8f/zv+g/6X/sP+P/5X/qv++/+P/xv+Q/6//2f/y//n//f8hADsAPgD4/8b/EwAeAO3/CgA+AC8A0/+o/8P/tP+n/9L/8//e/7//mf+Q/8v/2v/0/zMAGgAKAB0ALAAxABcAdgC/AHMAgwCcAJIA0wDqAOoA/gD9APoA/gAHAQkB+gDuAAQB6wDBAPIAyACDAKcAewBOAFgASwAMALP/3f/C/13/tf/C/3L/j/+x/8H/xP/J/+r/BwAKABQAaAB1ADgAcgCJAEAAWQCFAHoAbAAxADMASQAqAGIAFwCh//j/7f/J/7X/d/+9/4z/bf/M/4f/j/+m/1z/bf9P/2H/uv/N/9j/pP+H/67/zf8OAE4AlwCGADoAgACDADMAbACBAFwAewCKAFEAMwA/ACwAQgA1ANn/0P/S/7D/rf+M/1T/Pv81/xj/Fv8g/zz/Y/8w/03/kP9n/3f/ef9x/4n/gf+L/1j/gP/r/7T/qv/1/+P/vv8TACEAtP/T/8L/ef+P/2j/Tv8+/zT/Y/9g/zf/Cv8Z/z7/Vv9Q/xD/Vf+T/17/df+W/6D/uv/j/97/2P8mABsABAA9ABwAAABfAH0ANABlAIEANwBMAFwARgAfADUAbQAKAOn/AwDi/+r///8cAPX/9f8SAMj/w//g/xIADgDC/87/m/+i/+b/8v8GAMT/8/8YAND/AADo/woAVwANAC8ARgAfAD4AaACSADcA9v+FAJYAHwA7AD4ADAAtABcAAQDi/5X/yf/d/9z/GwDg/8z/8v/C/7D/qv/L/yMALAATAB4ALQD9/+X/UgB6AFIAawBSADsAVwBZAFAACADg/wIA7v/Y/7//of+n/3z/Uf9E/z//cv94/0H/WP+j/7f/pf+B/1L/V/96/4r/pv/J/+7/AwANABcA8/8nAIoANwARAGYAZQBMADEAKABdAFAA+P/W/wQA6v+7//j/6/+n/3//Y/+T/4H/Wv+L/3P/bf+I/1r/jv/2//L/3f/n//j///8CAE4AmQCGAGYAhwDWAAUBHwEnAfAA6gD+ANQAlQBAAGYAuQBvADcA///c/wsAp/9V/5L/kf+T/4f/TP9L/0z/Rf9b/0v/Kv9A/03/T/9S/zn/R/8x/xH/Sv9g/2f/gP+H/3H/N/9u/7b/kf+B/33/av9r/57/sf+K/7v/wv+R/6L/jv+H/4f/hv+4/4r/fP+2/3L/ZP+U/4v/nv95/1v/f/+k/93/rv+m//T/0/+3/5r/xP8MAMz/0P/i/wcAHQDB//n/CACy/5H/cv+g/5D/gv+o/2//bP9U//f+z/4N/1L/MP9d/6z/z//J/3v/rf/s//z/QQBHAEcAcACgAIYANQBKAG8ASAAyAFoAPgAcAEUAEAASAFYARQBVAEwACgDl/w8ARwA9AGkAkQCPAIgAhACvALsA3QDMAIkA4gAVAfAA5wDdAN8ArwCMAK8ApQCJAJQAdwBZAHAAZQBvAKIAngBeADUAdwCEAGwAfgA0ABgAJgD0/+b/BwAIAMH/1/8BAOf/GgAVAO7/7//2/w8ABQAgADIAWgB/ACcAOQBnAHMAogBnAFoAVQA0AFkAVwBVAFUAPAADANf/+P8NAC0AQAApAOH/iv+W/4D/u/8wABkALwD0/8r/HQD6/xkAIgAMAEAAAAAfAF8AYAB7ABoAEQBwAGoAVQBMAEcAHwACABIAFwAaACYAPQDx/4b/rv/T/57/tv8hAA8AzP/h/9b/4P8HAE8AqQBrAGUA0ACtAG0AeACbANwAuQAwACUAcQCHAIoAjQCTAHsAYQBeAE4AWwBQAE8AaQBkAI8AdAA4AEcAXACeAIoAXwCcAJAAdgCgAL4AswCkAJQAfwCkAKgAnQDVAMsApwCzAIwATwBkAHkAeAB+AFgAewBVAN//JAAeAOP/5v+Y/7T/v/9X/y7/N/9C/wz/9/4U/yf/W/9u/2//Y/9o/5H/p//K/6f/iv+6/7j/m/+Z/8j/qP9L/2n/eP9n/0//CP8p/03/8P7r/mb/Zv8M/y3/VP89/37/rf+A/4P/dv9u/7T/wf/u/ycAHABSAB8A0/8TABwACQD4/wQAEwDW/wUADQCS/3L/f/++/9v/pf/L/8D/gv/J//D/nv+S//b/FwDe/9j/CwAkAAsA+f8oACsAFABHADoAKgBkAFgAZABsADkAbwCYAF4APABYAHgAZQBsAH8AfQCIAHUAZwBNAEoAawBnAKUAjABSAL0ApgB8AJQAbACNAFUARwDIAJgAewCmAGoAYQCHAGgAVQBhADAAGAAVAOH//v8OAOv/6f/F/8P/2v+l/2r/pv/m/8H/xf/E/6j/jv+F/9L/dv/3/kz/dv92/4n/n/93/xT/IP8E//D+Sf8n/9/+CP9U/yL/1v4a/0L/O/9K/1b/cv+J/6P/l/+l/93/w/+m/6L/j/+c/7z/sv+b/7f/vv+s/6D/h/+Q/5r/kv90/3D/ov+i/7j/1//D/9j/yv+Z/4r/n//i/wQAAAAGABcAAwAFAFwAUQAZAB8ADwA0ACMA4f8MAA4A7f/5//j/+f8ZAEoASAA1ADkARgBTADAAMwA2AAcANAA9ABkAQgA/AAwA9P8TAAMAlv+x/zEALQDf////YACHAL4A2gDqADQB/wC0ANoA7ADrAOAA1QCwAHEAdQBKABkAPwAYAOj/AADF/2v/d/+e/4v/av+B/8H/uP9r/5r/4v+w/8D/9P///xgA7//I/7H/q/8QABMAv//G/9//wf94/3H/jv+T/57/d/9n/3//f/97/4z/uv+p/5v/r/+A/2X/Yf9k/13/VP9x/2f/gP9i/yv/b/9W/3v/6f/a/wIA/P/c/xoAEwANAD0AVQApAO7/6v8cAEYAHwAZAP7/x//p/7H/vP8QAOL/7v/1//f/IQAXACMAEAAzAI8AZAA6AG4AiwBeAF8AcgBiAIIAVQBDAFoA/f/7/wAA3/8jAEgAPAAXACUAVgA2AC4AOgBPAHIAOAA0AJMAjQCLAOEAowBRAHoAdwCMAJkAhgDDAOkA8gDYALQAtwCzAMoAuADRAA8BrwCdAOEAngBSAFQAnwDIAJsApACkAE8ARQBpAFkAWAA9ADgAXQAUAP3/EwDC/5//tf/k//j/tf/D/+X/rf+H/6D/1v/C/7P/5P/M/9v/EwD5//H/+P/7/+b/p/+v/7n/iv+d/7T/df+V/xQA+/+7/9r/r/9Z/0z/UP9X/4b/bP9K/5z/mv+G/5j/fv/R//v/xv++/9j/5P+S/47/x//T/wgAAwD4/9r/zP/X/4f/sv/m/wYAPwDg/+X/4f+1//H/1v8RAEMABgAEAO7/3P/p/yAAPwBGAG0AWACDAKwAeAB7AMQAygCFAM8AzACKANsAoQCjAJ8ATAC9AJMAaACrAGMAXQBhAG4AcAA2AFYASAA5ADcA9f/+//3/8v8PAPD/9P/6/7X/5v84ACQAEAD0/0MAkAAdAB4ATAAWADAAOQBDAFAA/f/i//T/4//4/wQA7P/9//7/0v/Y/9r/0P/7//v/0f/a/w0ARAAXANn/BQAgACYAJABBAJUAXwBNAG8AJwA0ACYABAD1/6r/ov9X/zr/Y/8d/yz/Nv8p/zH/L/9t/zP/G/9k/0P/Xf+g/7n/s/+a/63/qP+E/5z///8cAPf//P/P/7v/3//f//7/9v/C/8//yP+p/9r/7/+8/43/nf/t/9D/wv8QAOn/2f/8/wIAJgAIAOz/FAAwACoAUQBeAAkADgAVAOn//f8eAD4AEwAMADYA/v/c/8b/uf/N/9b/xf+d/7X/v//L/8n/of+i/4b/uP/P/8z//P+q/9L/7P+V/73/1P8IAOr/0/8qAO3/+/8hAOH/4P8AABQA9f/z/+j/5f/r/6H/zf+z/2f/pP9W/wH/Rf9i///+5f5X/2r/SP9I/4f/x//R/+f/uP/Z/xUAFgBfACUADwAzAMD/rf/Q/9L/6P/E/5D/pv/M/8v/+P8nADkADQDm/yIA9P/c/xoAHgAiAPH/GwBKADUASgAJADQAHQC2/w0ABgAaACAA4/8BAIr/gf/0/8r/1P/+/yMAOgAtAHIAowBfACwAUABVAEwAQgATABIAIAAcAAMA+/8QAP7///8QABcACwAOAG8AXwAFABkAKQByAK8AWQBGAIUAcABiAI4AigBwAGQAXAB/AIMAYABbABoAqf+w/+n/uP+N/5n/tP/j/67/d/+W/3n/kf+t/3n/nP+r/4T/rP/f/97/zf/L/9z//v/M/6L/2v/Q/9r/6P+3/9L////9/9D/6P8TAOr/BADv/9D/7P+h/5j/vf/G/9b/n/+A/37/jP+k/4H/nv///9b/mP/s//T/zP/h/9f//f/v/7n/9P8WAP7/6v/6/+//4v8CAP3/IQAdAOf/CQAaAB0AAgDn//v/7//n/+f/+v/i/9j/GAD8//r/MQBKAH4AegBDACAAQAB3AGUAUQBnAGgANAAmACYAFwBPAD8A9P8PADkAAwDq/ykADQD0/xIADQAwABgA8P/5/woAKQAgAEAATQA0AE0ARAA8ADEALQAaAAcAJAAEABIANwBHAFcALwBAACIAEQAkAO7/AADi//H/AQCt/wEA6/+E/7T/zP/B/3D/df/B/6b/hv9v/6D/2//O/7z/yv8AAP3/AAAHAOr/FQBIAEsANgBLAFIADwAXAEMAWgAoAMj/zf/I/83/y/90/27/iP94/3z/jP93/2v/pv+U/3H/v//c/6r/r//m/9X/2v8YAAkAFAAaAAMAEADZ/9z/AADq/w0AAADn//P/xv/K/+j/8v/w/+//KAD8/8f/IQAcAAMAUQBWAG4AqwBmADwAdQCDAHwAiACsAMAAlgCZALMAlwCZAKkAlACRAJAAgQCNAGwAVQCEAHMAYQBYAE0AdABPAD0ALQD4/zQATABUAF8AJAAyAD4ALAAmACsASwBLAGsApwC5AIgAbQCZAGUASABoAGQAjgCHAEwANgBSAFgANAAzAN7/k//R/wQAyf9a/5f/zv+R/5//g/9u/4r/jP+i/53/qP+p/7L/7P/l/+D/JgAzAPj/HwA+AAAAHwBHADUABwD4/x8AAQD//xsACgABAAwABACW/5j/tv9k/8f/4v+i//X/8P/A/7L/qf/A/7P/uf/N/8b/1f/m/+r/HAAeAN3//f8GAAYAPQBFAI8AkgA+AEkARwBzAJQAagBrADoAGgAtABgAFAAOAA4AAACm/4b/nv+Q/8b/GwAUAOn/8f8ZACIANwBOAEcARwBFAFIAQQAkAFIAdABSACsAUgBnAGsAqQB7AFwAZwBQAHwAXwBtAIwARABGAB8ADwD6/6T/5v/z/93/BgD+/x0AMQAMAND/1P8zAEwAHgDo//b/DQDS/8f/8/8EAPD/7f/2/wUARgAiAA0ASgAyAEQARwAGABgAEgDn/+T/0P/B/9f/z//K/7j/hv+5/8r/lv+L/2//z/8RAMn/BgAwAAYAIAAdAOf/DABhAD0AVQB/AA4ADwBEABoA6f/p/yoA8v/t/0YA6v+4/7X/rf/2/97/v/+7/6j/s/+X/63/t/+u/+3/6P/Y//T/IAAuANj/5P8nAAkADwAaAAkAFQAiABYA5v/V/93/uf/U/wQA3P/f/woA/f/o/+z/DAApABEA7f/f/9v/7P8HACgAXgBJAAgARwCXAFcACwBMAIwAPAAhAGYAfABwAGMAZAA/ACAAOAAaAOv/2v/6/wQA7/8jABEA8v/3/8n/7v/H/4H/2//m/7P/u//P/+T/EABKADEAGABDAEcAHAAGABEA8P/U/+D/xP/C/8T/sP/N/8v/rv+w/6j/y//i/4v/fP+z/4v/cP97/5L/tP+U/5r/0/+6/4L/h/+r/8j/yv+w/8X/3f+8/9L/7f/T/8n/r/+W/7T/zP+3/8X/8P/Y/63/uv/M/7P/nv+//9D/oP+t/+f/xv++/8P/qP/c/8j/sv/w/+H/2P+r/7b////M/wgAEgCW/8L/2//a/w4AFAD7/8f/7v8AALn/0f/w/wAAFADu//L/CwD+/97/2/8bABkA9f8hAA4A6f8jAC0AHABKAEoAFgAFACgATAA8AEIAXgAwACYANgARACcAOgA4AFYAVABbAFoAawCJAHgAiACAAHAAYwAyAGkAtAC6AKUAmACYAE0ANABFAC0AUABaAEYAJwAFACYATQBWACkALwBlADIAHQBYAHMAKgDp/x4AIQAjAEQAIgAaAPH/2v8nAEwANQAeACUAFgDn/+n/DwAUAPD///8JANH/4//2/9L/9v8BAMv/1/8PABIA7P/0/yEAAgDi////3P/Q/xMA/v/O/8n/qP+n/7L/o/+6/7P/oP/L/5P/P/96/5P/df+H/5v/qP+k/6H/tf/Q/9z/xf+3/7D/t//T/9H/6/8HAOv/3f/2/xoAFgAQACYAHwAVAP7//P/r/6z/6P8nAAcA8//c/+f/z/+v/+P/3f/P/+D/2//o/9P/x//W/97/+f/1/+r/7/8EAB8A7//k/zkATwAUAPD/OQCNAF4APABgAGMAQQAXABwAHQAIABIA6f/Z/xMACwDq/9L/3v8GANn/nf+9/+T/yv+u/7H/1f8GAOH/w//v/wEABQDt/+P/+P8AABEAJwBJACwAHgA/AAoAGQARAN//NgBOACMA//8AAEMAHAAJAC4ABAD2//H/2//c/9n/z//Q/8X/uP/X/+v/AwDt/83/CgDn/9//RwA2ACAAMAAuACcAIABCADQAHwAyADYAKwAuAF4AHAD7/1gAKAAUAB8A9/80ACgA7//u/+H/3f/o/+b/lv+Y/9f/lf+D/5L/if+K/2r/bv+J/8r/zP+V/+L/EAD4/+3/CgBqAGoAaACjAIkAgwC0AKoAhQCLAI4AkQCpAG8AMwAyAC8AOgAvABkAGAA1ADwABQAUACMAAgAeAAMA8P8WANL/p//s/yAADgC3/7//BQD1/wEA9P/C////MAAYAAAAHQAbAMv/2v/6//P//v/l/+L/xv/L/xMA+v/g//f/JwAkAOH/DwAbAPb/GgA9ADoA7v8IADwACABGADwAFABBAPv/1//T/+H/KAAGAPH/4//E/xEAKADi/9P/2/+2/7f/7//m/9H///8ZANP/nf+y/6v/wf/W/7v/xv/D/9X/xv+I/5D/dP9w/4z/e/+i/7X/qf+T/6P/7v/p/+X/3v/n/w0Avf+6/wUAEQAhABoAJgAkABAALQA2APD/xP8tAA0Ao//9/wgAFQA6APP/9P8WADYA9//X/0UAGwAAACgAIwAyAAAAFAAlABMAbwBaAAAA9f8CAAMA9v85AIAAegA+AB8AbwCjAKQAlwCHAKAAkQB1AFoASgBvAF4ASQBjAGcAaQBAADIAWAArABgAMQAOAAcAHAA5ADsAIQA8AC8ADAD8/+3/DwD8//H/AgDR/9D/0//n/yMAHQA2AEIAGQAxAF8ARAAXAD0ARAAyAGkAcgBQADYAQQBNAA0ABQAuAP7/6v87AEkANwCMAH0AMgBmAFIAKwByAHMATgBaAFoARwA2ADsAUQBCAAIA2v8AAAAAu//E/8r/q/+Z/17/ff+n/3T/jP+h/6v/3v/k/+j/6v/m/+v/5v/m//T/KQAEAJ7/yP/+/+X/8//u/9P/+//j/4T/lf+r/4z/oP+Y/5n/vP/J/9v/uP+5/+D/o/+t/9X/rv/B/87/1v/t/73/nP+W/47/dP9L/2n/gf9V/0r/lP+t/4v/z//R/6b/DQAAALH/9P/2/8D/zv/W/w8AXwA7AD0ARgAOAFEAXAAkAGoAhABnADQAHQBmAHoAUAAmACUAPAAvACEA5f+6/8f/rf+w/6j/iv+z/7z/tv/h/+f//f/7/8f/5f/d/9j/CgD0/yIAMwAIACcAFAA2AEIAFgA+ADkASwAvAN3/FgBKAC8A/v8BAAYAAgBJADwAVQCPAFoAZwBGABsANQAfAD4AQgAWACsAOAAhAA8ADQDw/9r/6P8AAA8A6f/k/xMAEgAJADQAOgAhAEwAJAD2/zwAHwAkAFcAMAA9ABsAKABfAAoAIwA1ANv/HABGAAAAHQBNACUAEgAjACgAMQAyAFIAYQAyADMAEQD0/2AAcwAzAP//v//i/7r/hv+7/4j/i/+b/2H/ef97/7D/yf+j/+n/sv+D/+r/8//x//r/+P8OAA0AFAAWAB8AJwD5/+L/2/+8/9f/+//p/+//5f/g/wsA7f++/8L/u/++/7v/qv+j/67/wP/m/wYAFgBLAGQAXwAvAO//IgAeAPL/6/+6/+7/CwDh/+n/0P/y/zQAMQATAPz/AwDw/8X/pf+3/9r/2f/X/6b/0v8VAOH/BQAAANb/DwAeAEcAfwCHAJgAvADCAIsAowCcAF0AgABBAOX/RgCRAEoANQBtAD4ACAA6AEYA8//S/wsAJgAyABQADwBRAEMAUgBCACcAhQBXACgAOADw/w8ALAAGAOT/1P8bABMA2f/w/wQACAApACoA8v8dAF8ALAATAEAAggBTAPn/KgAcAOP/5f+j/5T/v/+V/5H/rf+A/3z/lv+1/93/uP/U/wwA9/8fACsAKgBIAEYAfwB/AGIAeQBgAG0AdQAzACEATQBOAB8AJAAOAPL/CwDz/+P/0v+z/8r/0P+u/4//vf/i/7H/r/+n/63/zf+d/5v/zf+7/6b/2/8CAPH/GwA2AD4ASwACAEoAqQBOAFkAeABlAIkAWwAuABkAEgAuAAAAGgAkAM3/FgAwAOr/8v/h//f/+f/f/wAA/P8/AGoAIwAxAD0ALAAVAAkAVQBOAAIABgARAPf/3f/b/8P/t/+1/5z/uv+//6b/z////wEA4f/q//X//v8uABQADAAkAAAA9//Y/8L/2P/a/8f/mv+1/7L/df+i/4j/Wv+n/8z/yv+8/7///f8AANz/BwA0AAIA4P/w/+j/0//O/7H/lv/V/9b/ef+c/8D/mP+1/9H/jP9v//b/FwDL/wcAJwAZAAQA1P/9/yUALgAhAAAAAADX/67/4P8qAAcA4/8iAAEACwA9APb/CgAfAOr/zP/B//z/2f+b/97/4P+5/+3/7/99/3n/v/+f/6H/y//n/w4ADQD8/wgAHAARAEgAcAAlADUAUgBLAE0AAwAZAFgAVwBXABUA+v8iADMAKQArAFIAUQBRAEsAKgBBAD8ANQA/ADQAOQBAAFUAcQBrADoAKgB4AHUAKQAaAAcABwAkADQALgAFAC0AWQATABgAJgDZ/9z/BAAFAOj/1f8bACcABgAWAA4ARABoADYAQAA0ABoARwBVACkAEAAUAP//9v8GAA4AGQADAOX/zP+q/7n/uf+S/3z/ev95/1z/Xv9W/y7/YP+G/1X/V/+N/5r/o/+r/3//p//o/9X/5f/c/8P/0f/r/xgA/f/S/8//wf/B/73/tP+2/9L/zP/C/+P/y//S/8f/r//R/4r/m//a/6b/0v/4//b//v8DADwAJwDt//7/EgDi/8T/BAARAA4AOAA+ADoAQgBSAGAAfQCBAG0AcgBhAGcAYgBKAGYAbwB6AHsAawBDACkATQAOAPP/MQAwACQA9P/+/yEAAAAdAEEAWgBYAD0AQwBMAHgAYQA6AEQAOwBsAE8AGABHAEUAJwARABwALQAgAEMASwAwADsAQABIAG8AfQBqAHcAfABlAEoAUQB5AE0ARQBiACUAIAA4AEAANAD+/w0A+//m/xcA/f/p/9v/vv/2//b/wP/Y//L/1f+X/4//zv/Z/7v/w//F/6L/mP/O/+r/xP+8/+z/HwATAAoAMQAiABwANgBAAEUAIwAmAEAAKwAyAEwAUgA6ACsAOAAwADUAXgB2ACoA+v9NAFYALAANAOv/IwA1AP7/0P/V/xwAAQDQ/9v/z//n/9f/rP+i/5j/yP/S/8X/3f/R//T/DAANAEIAGADd//T/BQAZAAEAAABHAB8A4f8hAEQAEgAeAFMAMQAEAA4AGgAxAEoAOwDu/97/NwAyAAAA8v/j//v/4//4/00APgA2ACsAIgA0AAgAOABsADYAPQBNAEMAIwD3//r/8//x/+f/4//y/8//1v/n/+3//f+s/6b/7//g/+b//f/z/9b/xv/a//b/CgDf/9b/+P/U/+L/7f/O/+3/9v///y8AYwBdADIAQwA1ABQAEAATACAA6v/b//T/xv/G/+v/6P/l/x4AKQDh/+b/7v/L/8z/5v8FAO7/+f8UANz/3f8DAAMA7//R/7D/hP+Q/7n/y//E/6z/uf+8/6X/n/+5/9j/yv/b//j/9/8DAAoAEQDx/8f/5v8CAPb/6f/n/9P/0v/M/7H/8P8FANH/3v/o/+3/6//T/8H/sf/h/wUA5P/o/xcAEgDe//v/KwANAAAADwAuAC0A8P/k//D/AAAjABIAHQBGAC4AMwBLACkASACcAJwAggCGAIcAhQB1AHgAawAzADsAUAAuABQAFQArADAAQQA2AA4ARQBVAC4ASQBgAGIAOABKAGMAFwA9AFUAEAAsAFIAVQAkAPz/HAAOAOf/1P/Q/9T/x//N/9f/2//Y/9X/+f8dABQA/f8RADgARgAeAOj/+v/2//n/KAAQABcAIwDx/wQAGQAHAAYA2P+g/43/df94/5n/mv/F/wUAtf9l/73/7v+4/6X/nP+Z/6X/a/9A/5L/3P/d/9z/5f/r/9z/8v8hAO3//f9SAB8ACAAbACAAQwA4ACsACQACADMAEADU/8n/6P/L/8P/FwDi/+P/TQA1AA8ABgA7AGMAPwBHAD0ALwAmAFIAhAAxACsAXwBQACcA7P/2/+//zf/s//z/8v/m/8b/pf+5/53/WP+T/87/xv/C/7L/vP/R/8T/q//W/w8ABAD9//v/2f+3/9n//P/m//3//f/+//3/v//s/xgA+v8UADcAHgD1/x4AQQAZAPL/xv/j//P/vP+u/8L/5P/d/6D/if/A/9T/rf/R/9r/uf+e/4n/1v/T/6P/5v/5/9v/zP/U/8X/oP+u/7f/vP+n/57/s/+Q/43/fv9v/37/Vf9Q/zT/PP+h/4X/Yv91/13/X/9j/27/dv99/6D/sf+i/4D/qP/N/7z//v8BANT/AAAFAPv//v/v/wAAOgBNACgATwBnAEEAXABZAF8AagAlAPz/+/8fAAwA5f8uADEADAAvABoAHQBVADwAKwBIADUARgBWAEcAcgBzAG0AWABGAIgARgDf/+H/GABRAAkADAA4APX/8v8DABIABwD8/y8ALwAdABEAGQAhABQALgD9//n/QAAYABkAWgBWACUAKwBYAFgAUAA3ADAASgBVAGkAawBfAEQAQgA7AAAAKQB3AG0AUwBXAEUABQAqAGAAKAAiAFwAdAA9AA8AKQA9ACkAFQBNAF0ARQCKAHsATQB/AHcAYAB7AIwAfwBIADgAQwAYABgAOQAeACsAPgAZABAACwDj/83/BwAWANf/9P/+/7j/vv/r//z/BAAHAOT/zv/4/+P/sP/s/w4A4/8FACcAAADG/4r/yv/6/7r/zf/s//b/9//x/xkAAADw/w0AAAD+/wEAEQAnAEIAQwAfADgASgBLADsA+//r/8z/o/+p/9P/EQDk/8f/AADS/7H/xP+i/7j/zf+b/6f/xP+j/5n/y//F/5j/s/+n/6D/3f+5/7H/7P/W/7b/0v/7/8z/pP/c/w4AIQAFAPH//f/+//7/BAAJANb/9f9UACsAFgAQAPf/DgAUAEIAGQDF//r/8v/z/yYA9f/v/xYAIQAqAPz/+f8zADMAOQBBAEwAgwB1AEcAKgAiAEsAXABpAGkATwA8AB4AOQBZADcAKAAWAP7/CQDf/77/CQDi/6H/3v/V/9j/6P/N/7L/q/8dADUAEQBBAB0AHgA/ACwAHgBBAH8APgAOAEEAPgAcACoAXABEADoAZQBjAE8AVQCZAIgAYACoAIkAOwBsAJoAaABQAFoALwA3AEcAHwD//wwAMQD2/9r/JQAfAPr/EgAGAPb/LgAcAAMAQAA+ACwAJwAiAA0A/v80ADIAAADb/8D/wv/X/wAA5//h/wMA7f/G/4z/ov++/8X/3P+i/6//tP/H//L/xv8FAN3/vf8rAA4A/P+9/8z/MADM/9H/GQD9/9v/3P/s/6r/1v8WANf/rf+A/6D/qv99/6H/nf+O/6j/4P/F/2n/uP8GANv/yf/j/+L/xP/W/9D/nf+I/6n/1f+U/17/mf+6/5H/d/+b/5n/pv/d/9r/6f8RABgA5//E/+D/2v/y/xcACgAIAO7/5f/4/wsAJgD4/97/CADt/+H/DQDY//D/bwA7ADIAbAAtAEkAWABEAHUAewCFAEgAQwCbAHUAjACNAFEAbQBJAC4AOwBBAEQAKQBMAEIANQA+AOj/+f8XAO//DADg/7r/6//e/8X/x//f/wUA/P/l/9X/2P/1/+X/yP+5/73/3v++/7f/y/+x//f/BgC9//j/SwA2AOj/4v8ZAO7/t//t//z/6v8tACgAAAAWAAAAHQA/AE0AQAD0/yMAEwAYAIkAKAAtAFcAFAA3AA8ADwAaAAgANwD7/wAAAQCy/8b/tv+q/7T/tf/R/7H/q/+6/5P/kP+x/7j/vf+9/6v/vP/K/9z/7//w/yEAOQAxAD0AOwBAADUALAA7AEwAVwB5AHcAGwAuAE0ADwBDAGQAJQD8/wIABwD6/yQAEQDu/+r/uf/N/9b/0f/y////MwBDABwACQAcAAUA+P84AA0ADQBGAOz/3v8bABwABAAUAB0A6v8VABgA3//p/8v/4P/j/5n/f/96/3T/Uv9Y/13/Qf9g/1z/Yf+V/4//eP95/4z/pf+7/8X/1//f/8D/0f/6/wQABgDM/5X/sP/C/+H/JAAAAN//9//m/wAADwAmACQA5/8oADkAHQAkAAwARQAHALv/9f/6/xMA3v+v/+P/tf+x/8z/qv+4//v/AQDC/8n/5//j/9j/xv/l/+//2P/I/+r/IAD8//7/+//d/wgA0P+s/9//rf+m/9v/2v/V/9v/8P/x/9n/2//1//3/6/8HABkABgA7ADAABQBJAEsAMQBBAFMAdgBnAGMAYgBaAGoAKwAOAFUAZwAyADMAXgA4AC8AMgAfAEYAHAAKAEQASABXACkADABGACQADgBcAGkAQgA6AEMASwAvADUARgAeAEEASAA0AGsAOgAWACMAEQAvADUATQBcAEUAQQApAEQAQwAMABUAGwABAOz/+//8//L/HQA3AC4ADQD//w8AGgBKAEYAPgB9AFUAJwBgAFgAbgCQADkASgA9AMb/DwAaANP/EgD6/8v/5f++/47/q//X/+7/+f/a/+X/BAAWAEIAFgAMADAAGAA5AB0A7/8DAOv/8v/+/9T/pv+G/3n/av9p/53/vf+R/6D/mv9h/5z/q/+w/7H/cv/N/+b/qf+q/3v/yf/7/7f/0f+f/4T/AwDw/5j/sv+x/9X/6f++//n/CwD8//z/7/8jAPf/8v8sAPb/GQA8AEMAVAAJAPf/EAAsACgAHAAgANP/+P9DADUAQgATADMAbAA1AEUATwAcABwAKwAIAPj/KgAnAAYAEQAAAOb/9P8TACMAFQAdADAACwABABgABwAkADYADgARAAkACwAzAB8AAwAtAEcAFgAMAB8AFwAqAB4AFwAuABcAGQAsACgAOwBYAF4AaQB1ADkAKgA9AAUAOwBPAPD/LwBEAPb/EwAeAAcAEwA0ABYAxP/h/wMA8//w/7b/ov/a/8r/hf+f/6D/Y//N/wIAy//n/9P/6P/w/9P/CwDt/x8AUgDf/wEARAA7AEYAJQADAAIADQD+/wUAGQD3/+H/4v/0/+r/5/8DANn/0//d/9P/CQAPAPf/7////xIA/f8QAB4AIgBHAEcAJADk/+D/MwBHABMAGwAxABEACgAJADUAYAAgACUAOQBCAFkAFgAgAEMAMgALAL3/7//3/7T/DwAtANf/7P8xAPb/2v8vAEAAVwBBAAAAJAADAMn/1f/W/8//0//7//X/5P/s/9H/w/+i/6z/2v+p/5v/v//A/8r/0P+6/7P/yf/Q/73/ov+l/8X/r/+E/67/9v/X/9T/HQACAAoAKwANAC0AGgAAAAMA7v8GANj/yf/m/8L/4v+8/5X/5//U/7f/1P/I/6z/rf/W/9P/7v84ACEA//8VACoACADO/+z/BQD6/wEAyv+2/9z/2v/l/+L/9P8EAN//4P+8/6f/z/+l/63/6f/l/wIAJAAJAOj/5f/X/+j/IwDx/8z/DgASABMAGAABADsASwAWADsAcABvAFgARgBfAGoAXwBGACoAWQBnACcABQABAPn/xf/A/9//tP+N/47/nf+C/5b/5/+0/5f/mv+L/8z/pf+B/6v/uP////T/1v/0/9P/4f8JACsAPAAiAFMAXAAuADoAOQBGAF8AcQBxAB8AIABnAEAAMgBcAGUAZABNACkAFgA3AFgATgA7AA8AAgAMAPT/9v8UAPz/2v8IAOr/rP/b/8v/zP+u/3X/5//Y/8D/GgDN/6b/y//h/9z/n//Y/9z/mf+8/7z/vf/J/9v/7/+r/67/9P/x/93/5/8QABsAHgA9ACEAEwAvAA0A7f8KABkAEwAYABMA7P+u/8v/+P/F/93/0/9//73/4v/A//L/RgBqADcAMwBUADkAYQCPAFUASwBsADEAPABOAN3/BQAqANX/EQAIAMP/5//8/wUA4f/U/w8AFwALAEYAZwAGACcAjABOAGwAgABTAGkAKgBlAMYATQApAEwAPwAsAPX/CwAhAPL/EQA9ACYAAwDo/8D/rf/W/+//8//b/6j/x//2/+n/0//h//T/4P8IADMADwD5/+f//v8AANL/8P8QAAYA9P/x/wAAHAAtAPP/AAAyABEAMAA/ADUAOgBFAGEAKAApADwACwAoAAYA1//i/+H/CQD9/+L/3P+4/8H/1f/v/wcA+P/x////5f/N/wAABADf/xEADQDa/+r/4P/j/wkA5v+5/93/BwDs/9n/AwApAD0AEQD5/0sAUAAwAEUAMAAwADcAGQAZAC4AIQAeAEgAHwDw/xcAIQAAAO//IQAtABIAKgA6AGQAPAAjAHAAPwAmACYAOABeAOv/LwCHABcALwAdAA8AWAAQAAgAOQDz/wkAOADx/yAATAD2/xIASwA9ACIAFAAzAE4AZABMAEMAcwBEAP7/FQBBAAcA8v8pAAYACADX/7b/SAAaAN7/NwAXAP//FQASAAgA/v8PAAYADAA4AB0A/f8WABMADgAWADAAcgBNACIAOAAHAAIAGwAXAAoA+/8jABgA7P+f/3n/7f/S/4z/0P+x/3z/jv+T/5z/sf+1/6f/tv/a/8n/m/+a/4X/b/+f/73/zP+v/5v/2f/j//r/CQDH/8L/4v/e/9z/5/+//7D/4P/G/6T/u//6/xgA4v/V/9j/4v/h/9//JgAIAP3/VwBfAFYASQBRAG0AUwAuADYAcgBOAAwAPQBBABcAMgBTADsAKAARAO//CgAEAOn/+f/q/8H/rP/F/6z/kv/F/8z/5v/j/6n/2v8HAPf/3v/H//T/HQDu/9b/FwAkAOr/3v/a/8X/yv/D/6T/qv+8/8T/7f/m/97/AgDG/6z/1f+Z/7H//v/h//T/8f/O/83/ov/F/9v/pv+V/3P/g/+G/2b/gf+n/9z/xv/Q/wMA6P8oACoA/P8vACcAJAAuAE0APwDr/xcAJADe/73/wP/T/5//if+S/3n/eP9//5X/eP9z/5//cf9d/5b/ov9+/6n/5f/B/67/m/+l/+f/3P/S/w4ANQAXAAYAHQAmAB0AAAAaAC0ADAApAEEAKwARAC4APgAKABsAIgArAEoALABUAF0ARABeAFsASAAdAD0AOwDt/wYACgARAPj/1f8vAAsAxP/y/x4ADwDL/wAAAAC0/+X/6v/y/9P/pP/z/9f/tv/b/+j/DQDg/9P/6P/K/wwAPwAVAPP/FgA2AOr/1P8VADMA/v/U/xAA+v/P/wQA/f/+/w0A5//z/woA6f/h/wgAIgAjABoAGgATAAIA9f8KAEUAAADl/0MA6//v/1AAGgBCAEUAJABFADAAUwAvAAcAPAAcABgAGwD8/wIAFQA3AEMAKAAIAD8AYAAEAP7/EwDx/+H/4P8IAP//3//n/8//5/8QAPr//P8ZABgABQAaAE8AXABAAC4AMABAAC0AFAA1AC0AJAAeAPb/MQAjANP//P/g/9T/CADL/87/AwDh/97////2/8b/yP8EAAAA8/8QACIAPQAxACYAMQANABAAGAAZAEcAOgANACYAaQBRAAsAIwA4AB0A5//o/x4A8P/z/xsAFAA4APj/xP/v/+T/8f8WAEYAPgD1/wUACwALAEYAEgDr/zQALgAOADAARwBRADIAGQBAAFkAaABVAB4AKQBPADcAAADv/wAA/v/f/8n/wv/b/+//wf/U//n/z//r//H/1P/A/5v//v8FALD//f8VAN//x//S/+P/2v/+//v/3v/R/9v/CgDT/9z/JQAHAAkA6v/D/87/wP/G/77/2v/Y/6j/1f/N/6v/zv/Q/8//2P/M/7P/uf/Y/+X/5//b//b/KAAbABgARwB4AJUAfAA7AEsAbgBSAH4AbwAUAFEAXQAiAGIAdQBIAF8AawAyACMARwBSAGAAUAAiACkALQD4/wMAOgAbAAAA+P8NABkA2P8ZACIAvP/d/6n/tP/y/7b/EAASAMD/9//+/+n/1v/2//T/xv/y/+r/4f/e/+b/DQDM/+v/HgDS/9T/7//i/97/8v8BAPf/EQAoABYA/P8AAP//6f/h/8f/3P8EAA0AHAAXABMA+P/r/+n/0P/a/7H/0P8oAAEAAAAzACMA8/8DABgA8//3/wEALQBAAAcAJQA7AAwAAAA/AFUAJgBMAFoAdgCQAF0AfwB7AGsAewBdAIQAgABQAFgAXAArADIAYQAXADsAXAD9/yAAFwAOABcA4f/4/+H/0//I/7X/8v/n/+D/7//+/wIA5P8sACEAzP8AAA8A8P8bADoALAArACAALwA0AB8AOAAOAAgANQD+/wsAEQDt/ywAFwC//9b/CgD4/7b/wP8CAOH/xP/k/8//3P/b/7f/uv+k/7v/1v/P/83/z//2/+//+P/7/8r/7f8LAB8AIADv/+3//P8OAP//DQAjAAEAHwAAAPP/FwD1/w0A5//Z/w8Asv+d/9r/0P+1/5f/wP/o/8b/q//D/9//4P/v/9f/3/8lAPn/wv/e/8L/pv/L/83/xf/W/8//0//E/7z/z/+8/+3/5f+q//T/zv+f/9n/rP+u/7z/p//M/7r/tv/5/zcAFADs/x0AEQBHAGIAAwBgAHwAPgBiAE8AcwBVADoAawD2/xUAXQARAEkATAAQABQAKQBOAD4ANgBLAFoANAAeAGAAVwBDACUAJACVAGcAIAAmAAYAFwAMADAAPwD3/xQADAACAD8AOgA8ADQAGgAVAAkAJgAqABYAQgAtAAIAIgD+/wcATAATAPH/BwALABAADwACANP/0v/Y/8X/5//P/6T/uP/d/9v/k/+g/9v/1v/e/+H/7/8XAAQA4/8aACAA7f8XADYAPwArAA4AOgATABgANQDs/x0ANADy//P/6//a/+r/9P/c/wUADQC4/9r/5P/C/8//nP+l/6j/hf+t/6f/nf+5/6z/kP98/47/1//p/6z/vv8SACsADgD3/xgAKQD//wUAAwDW/xsAUwBLAIcASAA6AIwAIQA0AJAAWwBNAEQAYwBWACgAOwAFABIARAAbAPr/BwA+ACkA+//d/7v/3/8cACUA3//0/x0A6f8YACwAMAA3APz/JAAWAOv/BQD4/wAA///6//////8JAAAACwDx/+3/GAAEAAoALQAZAPb////g/7D/2f/w/wAA7v/h/wUA0P/D/9H//f8hAL//AwAlAOH/OQAUAPP/LADz/9b/5f/0/xIAHgAEAPP/AADp//L/DADm/+L/EgAMAPT/IAAhAO3/BwA9ABQA+P8sAM7/nf8WAO7/xf/K/4z/kP+o/+T/4P+5/9n/0f8HACIA9f/7/+f/BQAhAO3/2P/i//z/JgAbAMD/vv/x/8b/3//1/7b/2/8VAOv/w//e//H/7P/9/xEAGAAsACgA+/8NACQABwAWABQAHwBIAEIADQDm/zsATgANADIAEwARACkA3P/6//z/v//m//D/9v8NACYAOAD0/xAATQAXAEQASgBAALkAewBFAJAAbwCYAL4AiACIAGEAQwBYAC0AAAAyAFYAKwAcACsAVgBcAE0AYgBRAFgAPAAdAFYAPgAqABMA6/8EAO7/6f/X/9f/GADC/3z/uP/a/87/0f/x/+X/yv+g/6z/z/+p/9j/wv+e/wAA1f+0/+j/3//O/6z/tv+5/8z////0//z/2P/E/////P/g/8T/5/8bAMv/hv/H/+3/1P8RAO//nP8TACUAAwBCAAgA4f8AAAIA+f/y/////P/z/+H//f/2/8L/FQATAO3/GgDr/wAAHwAcAEUA9v/N/w8AEQABAB0A/P+9//T/7/+//9T/3f8kAAQAzv8YAOf/0f8dABUA8P8IAFEARgAxAFQANQASABQADQAjAEIAAQDn/wkA0P/J/8//xP/j/7n/v/+5/6X/8v/2/w4AIADQ/8r/AAASAPb/8/8FABgADQD//04AOQDs//P/6/8YAPT/uf8RAAgA3/8WAC8AMABCADAAHQA7ACkAGABHAEQAHgA4ACcA9/9fAGYAFQBFADUAcgB5ACYAeAA9ACcAXAAsAE4ADQAeAFAA2f/3/wYA0//u/wYAAADg/+z/9f8XAPr/rf8HAAcA3v/9/8j/x/+3/6D/zv/M/83/2f/n/+7/yv/I/9z/yP+v/77/1f/k//H/4P/f//3/7P/M/8//zv/j/+v/4f/r/8b/5v8RAM7/xv/Y/+X///8PADQAIQAUACMAMwAyACYAVgBAADYAMQDz/x0AFQANACQACgAZAP//JQAhAO3/IwD2//X/+P/G/wMA9//k/9f/q//c/wwA6/+v/9H/6f/a/9v//f9ZAAQAy/8SAPv/AwD1/ykANQDp/1AAHwAFAHAAGwA1AFwAHAAlACsARwBPACUAHAA5ABsA7/8ZAAwA4v/e/8v/tv+1/9n/q/+R/8f/o/+s/7j/jv/o/yIA4v8AAC0AEgBOAE0AFwBKABAA1v8GANz/x//p/+b/3P/Q/9b/3P/b/+z/9/8BABkA/v8FADsA/v/l//P/uf+0/9H/+f/b/8T/EADV/6D/v/+v/8D/x//s/+L/of/K/8f/zf/0/9f/+v8dAB4AEQDl//3/GgAJAAgA8/+6/6v/9P8KANv/6P/S/8D/6v+0/8T/EgDO/7r/s/+e//f/8P/X/yMASwBLACwAAwDm/wUAJQAIACwAAADY/xcA3P+9/63/nf/n/5n/bP+0/7X/xv/O/9f/vf+g/+7/MAAWANP/EgBLAPH/6P8EABEA+P/M/9L/sv/w/+j/qf///9z/z//f/7b/9f/V/6z/w/+5/8b/wf/J/7//xf+j/2v/mv9o/3X/3v/G/7f/uP/k/9P/pf/h/73/1/8ZAO//9P/p/wEAKgD1/97//v8KAPv/8//c/wQAQwD0/9T/5//k/w8A///9/xUAIABLADQARAB3ADYAQQCDAE4AUgCGAGYAjACjAGUAegCAAIUAqgBxAEwAWAAzACwAXAB0AGgARQAuADYAHgDu//n/QABcAC0AGwAuAEQAEADF//D/xv9u/6L/o/9r/1//j/+Z/2//q//R/83/xP+m/+n/AwDq/+T/7/8mABsA///m//D/NAAiABEA8P/T/xAA+P/W/+H/zP/d/+b/yv/I/+n/5//V/+//8P/S/+D//P/1/xkAKQAAAC0ARQA8AGkAYwBgAG8AYwBcAGQAXQApABgAIAA2ADAA6P/6/y8AFwD3//3/BgDu/wQAKQBDAEsALwBoAF0AIQBtAIUAcQBuAFQAUwBKAFgAVQASACcATgAaABIAGgAGABcAIwA2ABkA5P/9/+n/0v/l/9j/3f/Y/9v/1f+V/3n/ov+n/4H/rv/D/6f/y//w/w4A7P/m/w8A/f83AEkAXQCYAE8AbQCJAFEAfQCdAJ8AegBjAEUA8P8wAHAAHgDi/83/yv/R/8b/sf+k/43/lf+a/3P/ev+M/4z/hf93/5P/pf+///T/CgD0/8n//P9UAFEAKQBNAGYASABoABwA7f9cACkAEgAyAAEAJAAkACEAJgAcAEkAKQAXABkAGgAwAPr/8f/s/9T/4P+0/6v/x//g/+b/1P/m/9//+f8VAPz/DAAUACgAGwD//x0A/f8PACsA6//y/+P/0f/b/7j/9f8MAM3/yv/N/9v/3//H/+T//v/6/wwAFAAiAEsALQArAFMAFQAXAEkAHgALAB4AJQATAA0ADgAQAC8AFgAYABkA8/8aAO//xv8HAPb/8/8aAAoA/P8fADEAHQA2AD8AWQBkAA4AFgBEABEAAgAvABYA7v8gAB0A/P8UAA8AEwA0ADQABAATAEAAKgA7ACcAIgBIADoAaAA2AAcASwAXAAkADADh/wgAHgAQAAEA///3/+X/9v8BAOj/z/8DACIA/v/0//L/FQACAL//0f/l/+D/1P/g/8//nP+o/5//ov+F/2j/s/+Q/3L/rv+6/73/rf/O/8v/of/p/wIA8/8nACQA2//n/woAzv/H/+X/wv+X/2n/Qf9E/2n/X/84/wn/+/5d/1b/Hv9F/yr/Ov9b/zH/XP+9//X/0v+o/9H/w/+u/+T/0//P/ysADwDi/xsAAgAHAEYAFwDy/woA9P/Z/woAEgDs/xEAKgAlAAIAxf/x/zUADwDi/+b/9f8AAOf/2P/z//T/EgD9/8j/JwA+ACQAbQByAFIANgAjAB8AQACLAF4AQABoABIA3P8AAPr/zP+//9z/uf+Q/7X/vP+l/57/tf/X/57/f//F/63/fP+H/4P/nf+i/57/sP+4/+7/4/+5/8//uP/R//j/0v/6/xkA5f/y//n/x//a/+3/7v/1/9v/BwAlAA4AIwADAAEAPgBnAHQAQABtAJcATQBwAIUAYwBtAGQAeABgACwASgBJABsAGQAuACQAOwBLAAsAAADt/9v/EwDd/8j/CwDu/+z/BwAIADUATwA6ACgAJwBJAFMA//8HAGgAQABGAHsAeQCxAJMAbQCUAIgAlAB5ADwAPQBDAFsAZgBIACgAEAAWAAgAn/+B//L/yf9r/57/of+n/6P/k//m/9f/mv+c/8L/EQD//woAOQDo/+z/JQAlAFsAaQBdAIgAhABpAFsAXACTAI0AQwAmADAAXQBkADYAJwALAOf/6f/o/9H/3P8KAPn/0f/j//j/DAATABYAWgBDANb/+/81AEYAYAAeABAALwAOACwAWwB2AIkAmwC7AKQAmgC6ANgA1ACqAL4ArwCAAJoAnACXAJ0AcgBkAH4APAA5AKYAZQA6AEYAAQAuABQAAABJABsAHAD1/8v/AADX/9n/3v/A/7v/qP+4/4v/ev+B/13/e/9u/33/oP94/7L/1f+d/5r/w//H/7D/vP/L/+//5f+5//X/9v+y/8v/3/+2/6z/3P/h/8L/yP/H/8n/AAAYAMH/yP89AEcANQA6AEQATAAkAC8AJAAHAEYARgAlAEUARAANAAwASgBDACEAGQD9/+//9P8EAAEACgA8AC8AHQAqACAALQAzACcAWABvACMANwCKAFkAQABOADwAXABXAFcAZwBNAG4AXwBGAGwALQAVAEsAMAAfAA4A7v8AAOn/xv/W/+P/+v/j/8X/AAAJAO//+f/q/+//+f/2//L/2//j/93/1v/c/8b/6v8QAPz/3//l////0f+w/8f/yv/e/+r/7f/q/+7////d/+v/8f+3/8//0P+b/5f/of/I/8P/qf/o/97/lP+0/77/rf/J/9H/5f/d/7n/qv+S/5//kv+S/6j/Xv9h/5//ov+x/7T/wP+8/6X/pP+z/8b/pf+3/9T/w//f/67/n//q/73/m//X/+7/6P/u/+r/5v/x//3/EQAQAAgA6f/u/zIA///h/wAABAA9APP/0v8BAMn//f/r/8T/8f+x/9L/wP+L/8//nf+r/9r/tf/d//X/8P/g//3/IwAOACoALgBDAD0ADQBIAEUAZACcAGYAigCHAGEAeQBXAFwAOwAEADEAFwDp//z/5v/j/+z/wP/Y/wcA9v/x//j/9/8VADkAGgAEAC0AOwBUAEsAPAB6AD8A+/9BAEcAAwAAABgAEwANAAwAGADy/9D/IwACANH/CAAIAFYAVQDx/xgAKwAlADYANgAsABIAHAATAAAA+//y/wwACgDk/9z/8v8LACwAIgAEAB8ACQDl//f/7P/H/93/LQD+/8z/BQDT/5//nv+Q/5f/nv+Z/4D/ov+R/3v/tv+p/9j/0/+d/9P/5f8JAA8AKwBDABkAQADu//b/SgASAGMAXgApADoAEwAMAKH/x/8TAIj/k/+O/2D/pf9p/yP/Tv9l/zj/M/9x/2f/Xv+T/43/av+K/6v/rf+q/73/3v/a//z/HwAQADUAQQA+AEMAPwBfADgAOACAAF8ANwA6ABMA+v8cAPb/2/8fANL/mv/i/7X/jf+n/5X/lP/F/9P/yP/Z/9P/6f/v/9v/GAD4/+X/NQAPAAwAMwAtADgAEgAaAEEANgAzAC4AZgBrABUAKwA0ABUAHwAMAC4ATgAPAO//AAD6/9b/vv+1/73/pf+P/9H/xv+N/7H/rP+r/9f/1P/O/9X/4/8QAAUA0v/u//D///8gAML/5v83APj/EwAtABYA9v/5/z0A+v8AAFIAJgAmABIACQAyACgAMgAjAB8AQgAxABIAKwBsAGwAXwBxAFQANwAkABMAHwAvADsARQAqABMAQwBNAPf/vf/b/+T/xv/Z//f/HgAHALb/3v/0/wsAWAA3AE4AbwA7ADQARwBnAGIAaQClAKAAfwCLAJ0AlACWAHYAVQBoADoANwBLABwAHAAAAPX/4f+4/xUABgCu/+7/EwAUACUAIgAWABAARwBpAEYAbACDAGAAfwByAEkAVgBTAF0ALgAOADoAFgADABQA+f/q//n/JwAoACMAOwAJAAoAOgAOAAUALQAvADMAMQApADoAVQBNABQAFAAkAOn/zP/o/wUA1f/d/zYA2v+9//T/of/E//b/2f/b/8j/zf+1/5n/lP+n/7z/aP+E/6r/Xf+c/7//o//Q/9P/uP/O/+j/3v8cAGAAcwCrAIYAjQDuANoA1QDVAK4ArgCkAJoAbwB1AKMAXwBgAI0ATAA5ACYABQAOAM3/0v8NAMb/sv+7/5n/xf/D/7X/3v+c/4j/xf+y/8P/1//H/8D/nf/N/9H/u/8cAO//tv/4////BQAHACYAPAAdAAMA1v8OADoAHwA5ADoATQA5ACoAPAASAGYAbQAgAGQATQA1ADcADgAwABMADQAsAPr/DQA3AC0AMAA5ABsA2P/u/wAAmv+D/67/rf+o/2//R/9k/3X/df9f/3n/sv+m/7f/3v/b/+7/BADz/8r/y//3/x0AOgBAAEwAcABsAE8AfgCKAEUAYwBgAEcAfwBSAGQAnwBUAGEAbgAzAHAApABzAEwAXwCAAGIAKgAzAD8AJwAsACsAAwDm//P//f/9/xoA/f/Y/+//8/8dADgAJQAkAAEA+/8RABIAIQA6AEEAKwAmAA8AAAAOAOT/7f/z/9P/CwADAP3/JwD8//f/DAAUAA4A2/8BAEEAHwDy//b/DQDx/+j/BQDb/9f/+//n/wYA/P+v/73/xv/E/7T/pP/r/+z/zv/W/8b/8//f/67/2P/Y/7f/tP/n//L/xv/U/8L/uf+9/6L/sv+7/9L/zv+z/8T/z//4/9T/kP+w/8n/zf+x/9n/IQACAAYACgATACgA//8MAA0AEABDAA0A2P8EABMA8P8FABkADQAPAM7/uP/T/+H/+//A/8b/8v/I/+L/6v/j/+z/2v/x////DAD1/8//5//W/9r/4/+//8n/1f/h/+P/5v8TAAEACABAAAAA6f8zAC8AHwAbADUAXgAnAB8AQQA3ADkAIQBAAFMAHgA/AGIARwAWAPX/BAD5/+D/9P8WABgADgDu/8r/BAAlACwAGQDO//j/8//M//v/6P8CAAsA1P/A/7z/3/+1/7H/4/+q/7P/z//A/7z/sv/u/xIA5//R/wsAHQDs/wIADQAKABgADwAqADUALAAJAAoAFwC2/7T/zf+L/33/Xf9z/5X/gv+w/6//mv+c/5f/tf/C/9v/6P/W/+H/3f/k/+T/wf/k/yQA+P/C/+j/xv+g/9z/xv+w/9X/yP/d/wAA9v/X/73/5/8CANf/wv/Y/9//q/+Z/5z/aP+Y/9n/y//P/7r/4f///7D/tf/d/wUAGQDY//3/KgAVAEcAJAAIAFEAMgBAAI4AUgAkAEAARQASANL/+v8eAPf/8f/9////3v/k/wIA4P/t//H/0P/N/6T/mf+a/5D/nf+J/4D/iv+v/7b/kf+n/6P/xf/u/8L/8f/5/9f/CQD+/+P/AAAqACAADQBAACIA+P8TAPj/2//b/wEAEADe/+v/6//d//H/5P/w/9r/4f8mAOL/s//p/+j/AwAAAOX/MwAjAM7/2f+z/5//4v/M/63/u/+a/3n/XP9E/zn/Nv9S/1L/Rf9L/0//Wv9j/4L/iP+E/7D/tv/A/97/+v8XAPr/9/8FAAcAOwAfAO3/AAAGAAoACwAgABwA/P8pADcABAAnAGQAWgB0AJcAhQCaAIQAZgCqALIAlACIAKwA2QB+AJEA0gB6AIYAkQBbAGAAWwCNAKYAkwCrAHYAQQB5AL8AgAAqAHwAgAA8AFsAPAAuADEAEwAtAAcACgBBADMATQBSAFQAlwDCALsArgDHAKkAjADNANYAxQDNANgAwQBzAF0AWwBaAHEAbABqAE4AHAAFAPf/x/+1/8n/lP+x/9z/lf+m/5H/h//O/7P/sf+r/7L/0/+B/4T/y//C/7n/x//e/9T/tf+9/+D/1P+3/7j/l/+t/+b/3f/P/9z//f/y/wAAJQAMAE4AgwBmAHcAZABCADUAQQBwAF8AYQCUAHkAegCOAGYAiwB6ABsAPQBCAC8AQQAXAB0ARQBqAGAAKwBSAEkACQAvAGEANAAeAFYAKQAWADcADgAvADQAHAATAOn/OgBHAAQALAAqADgAXABDAG8ApgBmAE8AggBPAEUAdgBNADYANAA9AD4AEQArAEcAJAAaADEAOAAlAC8ANQAxADEA//8iAJEAbQBBAJQAuwCeAIUAogCpAEgAcwDAAHAAjwCfAFAASwAuAEEAPgDz/xIAFADu//X/7P/u/+P/5//k/8r/2v/P/9v/3v+w/7D/kv+p/+D/t/+r/67/s/+i/6b/9P/K/8j/9v/S/wsAFQAJADkAIgATAAAACAAPAPP//f/i/9L/vv/J//j/z//a/+v/0P/N/7n/0P/n//D/0v+2/8X/q//k/xcAFAAcAO3/GgAJAML/7//k/+v/BQAJAPf/6/8cANL/6/84AN3/KABQAAMAMgAkACcAVABPAHwAcwA0AD8ASgAmAAsAFQA2ADcAQwBWAD4ATQA6ADwAfQBOAE0AeQB0AJUAjACMAIIAoQDiAI8ApACpACEAcQB6AAYAVABiADcAUwAqACUAGwDl/xQA5P+T/9X/0v+8/7v/q//X/9n/zv/L/8v/DgBDAGQAcQBdAGMAnQCvAGMAXwCEAGkAVwBfAGgAEgDs/xMAxf/H/9f/pv/Z/8T/uf/x/8H/t//e/93/5f/V/73/6f8KAO7/0f/I/9T/qv+C/7H/rv+T/37/W/92/5f/hf9S/2T/dP8v/0T/Xf9V/3n/jf+q/3j/af/K/8X/sv/G/8f/5f/x//r/KwAwAP7/EQAaAAEAMgAoACUARQARAAMA9P+h/73/LgAAAMf/NAAvAPL/6v/s/yUA8P/d/xAA3f/S/9f///8ZAPf/BQAOABQA7f8NAEMA9f8QAOT/nf/c/+H/JQARAOb/KwAGABkAAgC//+//CgAhAAMA8P8MAB0ADwDJ/xUAYQBEAF4AVgB5AGkAGAAqACsAWQBiACMANABAADMA4//C/wMA5v/K/+b/DQAtACAAGADj/9L/GAADAN3/EAA5ABoA6P/o//j/3P+6/6T/n/++/7H/fP96/3P/Xv9i/1//b/91/1H/Yv+D/23/jP+1/5f/o/+n/3z/f/92/1//jv+6/4v/bP+t/8P/hv91/7D/yf+x/7z/zf/b/+H/4v8PABQADQAkAAgA7/8FAA8A1P/U/xwA4f+G/2T/Xv+D/2H/WP+Q/27/Sv9g/2j/hP+u/5b/s//q/73/5v8VAP//NgBHADYADwDm/ycAHwC//8v/FwD//+j/JwD//+j/DQDq//j/AgAdAF4ANgAyAG0ASwAGABoAIwACACMAKAAcADYAJAAhADEANwBHAEYAOAA+ACwADgBQAFsAMQBlAEMAAAAIAPv/8v/w//7/HwAjAAYAAgA1ADoAJAAEAOb/DAANAAAAMQA8ACUAOQA4AC0AQwA4AGsAbAD8/yYAJQDe////BwAeAAAADgBjACwAJQAqAAsAEgAgAGgAPAD8/yEABQD3/wMACQAVABgAFwAOABcA/f/1/wcA9v/w/9v/5f/2//n/AADM/9f/8v/6/x8A8v8BADAABgAfABcA4P8FAAgA5/8CAP3/3f/M/8r/6P/M/6X/rv+4/77/jf+a/+z/zv+p/7X/sP+t/8f/6P/x/+P/1f/z/+b/0f/6/+j//f8DAOL/HQACAO7/CgDG/8b/z/+3/9X/2P/e/+L/x//k//v/0//0/xIA3//r//7/AQAgADcAYwBHACEASwBIAGIAlQBLACoAggByAEcAaQA5AEMAewA8AEQAfABiAEUAUQBkAEgAQQCJAIIANAB/AMAAeQB2AJQAjAB1AHAAdABRAHUAbwA/AF0ANQAmACoAJgAmAOn/NgBIAAQATwA9ABwAKgBCAHcAQQAtAB0AAAAYAOn/3f+//4n/w/+5/43/p//G/8v/g/9X/4P/i/+B/5j/ov+4/8f/yf/w/wwADADt//j/JgAFAPv/9v/k//H/tv+8/+j/s/+2/8f/vP/N/7D/m//r//P/mf/a/wUAsP/f/wwA9P/o/8z/4//h/+n/IAD5//D/DADy/wgA6/+7/9//z//b/wkA7v/j/9n/5f8HAAgAGgArAFgAWQAkAFQASwAcAGMAdgBPAFwAgQBtAGEAngBnAB8AQAA3ADMAEgD6/yIA9P/2/xkACABCAFMAXAAsANv/RwAjAL7/AADI/5z/nP+F/8v/3//Q/6b/c/+W/8f/v/9c/2H/uP+W/5f/wP/C/7L/sf/f/8z/w/8BAAUA5v/g/9v/zP/0/xoACgDu/9L/3P+X/3P/tP+W/9P/6v92/6f/uP+Y/7v/wf/h/9z/y//m//r/BwAJACEAKgAjACsAPgBZAGEAegB1AHIAewA2ADcARwAdAAgA9v8NAPj/8/8qAAoACQADAMj/qf+h/9H/wP+y/wwAIQAWAA4A9v8eAEMAIQAGACcATQBbAEgAJAA/AFcAOQA/AFwAKAD//0kAZAA4AFsAewBWAFkAdAA1ABMAVwBCAAoACgAMABgA6f+y/93/DgAoACQACAAuAEwA9//e/ysAIwAGAC4ASAAvABAAMwBRAEQALgDw/+H//f/x/+D/6f8ZAA8A4v8FAAoA7f/7//j/AQAnAEAANwAAAA8ANwDL/53/8v/j/7//1f/c/9f/4P/i/8X/x//L/8n/yv+t/7n/pP+j/+L/pv+P/9f/6f/F/6r/6v/n/77/6P/0/wAA4v/r/xYAy//T//f/u//f/yAA+v/o/zAAHQDc/+3////9/9P/yf/l/9L/1v/P/9L/8v/z/wAAGQAvAPf/y/8JABYA7v/f////GAATAP//sP+5/+v/0P/d/8z/qv+6/7T/u//U/+P/7f/6/xMAMgAdABAASwAhAPX/MwAoADoAWwAzAFMAXAA4AG4AfgBCACUAGAAkABQAz//f/wIA9v/i/7f/1f/X/7//BwDy/+T/HQDs/9T/9P8EAAgAAAAqAC0ABwAQAAwA/f/9/y0AVQAuAEQANADm/yMAKQDi//7/AwDi/6f/j/+w/4f/ev+U/2j/Yf+M/4v/k/+u/4T/b/+E/27/bf+C/9X/CACq/5r/yf/j/xMA+f/9/ygAGwATAPX/+v8jAC0ATAApAOr/CQAmABYACwD6/9b/2f8SABcAAgAAAO7/AQAHAOb/BgAbAO7/6P8CABcAOwA+ADoATQAqAAYA9v8CACsAFAAqADkADwBUAHYAVgBiAH4AjQB0AHkAdwCBALUApACDAGMAZQBZADoAUgAOAAsAUgBDAFYAGgAFAEIALABZAFcAEQAoADQAAwD+/zQAGAD3/xQA+//0/xMALAA4AA8A7//8//z/DABGAC0AIABTACEAEQAqABsAPQAwABwAFwDv/xoAIwDE/8///v/Y/9X/sv99/5X/jP+T/6r/uP/W/7z/qf+L/4T/d/9Q/7P/o/9M/4f/hf+L/5r/Z/9a/27/af9K/3j/ef9l/7T/uv/P/+f/1v8bAB8ADwAvABQAHQAYAO7/IAA0ABkAVQBoAEcAXgB2AHkAXABoAJMAgwCGAIcAeQB/AG0AUQBlAIgAXwA4ACYARQCaAFoAOgBkACQAMgBcAFcAOQAdAE8AMQDn/+H/3f/X/+L/AgACACEAUQApABYALQA2AB4ANQB1AFgAXACHAF8ARwBWAEoAIAAEAAUA+v/S/7r/7P8GAMv/yf/z/73/vP/7/9X/8P8iAAYAKQAyACUAGwAHADMALwAdAAUAyv/f/wEACQDs/9b/CAD8/7//lv+g/+r/zv+d/8X/yv/x/xUAzv/K//b/5P+8/7f/BAD8/9H/BwD///v/BADh/9v/7f8BALj/ov/e/8P/vv+b/6r/9v/E/7r/uf+m/77/vf/d/9H/xP/g/8L/t//O/9j/4P8AABwABgDu/+7/CgAHAAAAFAAKAAUA5P/i/wQA0//R/xMAKwAZAAsAIAAmACQALwBFAEgASQBWABgAKwBjACoAUQCBAFEAOQA7AGEAXABXAFkAKwB5AKgAXAByAIsAYgAyADYAYAAiAAEAEQDb/+n/8P/M//X////l/9v/zf/t/xsACADj/9P/uv/R//L/3f/e//T//v/Q/8r/CgD2/+n/4P/m/wcApv+q/+3/wf/g/+f/2v/k/7v/0v/2/97/uf+x/9P/zP+R/5D/y//C/67/r/+f/7X/lf+X/8H/j/+R/47/t/8JALj/pv/F/5X/ov+L/23/mf+f/5P/j/9t/4T/rv+E/57/xv98/3f/m/+Z/5n/gv+p/8v/lP+X/6D/df+V/9z/1P+u/7n/yv/H/8b/r/+p/9X/6//w/xIANQA0ACcARQBvAHIAbwCAAG0AQQBbAHwAXgBsAHYAQwAzACwACwD4/+j/6f8AACMAHAANAFUATQARAEkAMQATAFYAPAAcADwAUABOAEoAZgBeAFUAcgBWAEUAewCUAIEAiQCPAJsApgCCAIMApQCrAI0AkQDRAKsAnAC3AHgApgDCAHUAdgB6AGYAPAAYACQALAD+/8P/5v/a/7//5v+0/8//CwDa/9j/1P/N/97/1//k//z/CQDy/+//EAATABAA///f/73/vf/D/6v/0/+0/2H/jf+E/1f/ef+L/6r/rv+F/5T/p/+a/7b/4P/e/9H/4P/i/8D/rf/N////6P+o/9X/AQDZ//P/8/+5/7j/oP+i/8P/of+D/2j/bv+c/4X/lP/V/93/1v+9/5L/nP/q/wcA2P/u/yQAFgAEABcAHAAKADIATgArABoADQA2AFEAGwAWACkARgBHAEUAbgA9ADsAZgA/AC4A//8OAEIACAAKADAAQwBOAEEAUQA7AAkAGgBaAE4ALABBADAAQwAjAOX/HAAHAA4ASAA0ACMA5//m/+T/v//e/9T//f8MAAUAGwDM/8r/r/+R//D/yf/O/xIA9P/1/wAALQBFACoAOQAxADcASQAWAAkAUABsAEwAPQBiAIEAYQBTADsATwCwAG4AMABaADUAJgAfAEUAYwADABMAHgCn/4r/p/+Q/3T/iP+T/3n/Yv9Y/3z/nv+S/4j/j/+T/5n/mP+H/6r/3P/b/9P/2P/r/9j/0P/d/9j//P/f/6j/s//B/+7/7//v/+n/sv/y/xkA9P/y//r/KwA2ADcARAAiAC4AKAAwAHAAUwAzADYANwBdAEIAFAAYAAcAAQD5/wYAQwAoAAEADQAAAP3/DwA2ADYAOQBjAE4AYAB/AIIAqQBwAFMAfQB1AIMAgAB5AG4AOwAjACsAVQA8AAkARAA6ANn/1v/+//T/8v8NABAA///n//n/FAD6/wcALAAQAP3/HQA9ADAAOABvAHEAYQB1AGQAXABlABsA8v8nAEUAJwANADMALADl/9b/0v/r/+f/q//K/8j/rv/M/7r/2//r/7P/3P8KAOf/1f/q/+n/uP+i/+X/FwAHAAQA3v/a/yQA/f/G//v/IQAFAMf/0f/x/+//CAAFAAcABwD5/xgAIwAeAAwA+f8kADkAJgAiABgACAAOABYA9//V/7//rf+//77/iP9+/8r/6v/S/93/8v8FAPr//v80AD8AXQB1AGwAeQBXAF8AdwA6ACkAGADt/wQAIwAyAC4AGgAuADEAJAAkAAwAFwAWABYAPgAiAEQAcQAfABMANgA+ADwAOQA1AAoAHQA/ADkAWABoAGAATABWAFMANQA9ACEANgA8APz/EwARAPP/5P/P/+b/AAAbAP3/7P////P/IwAKAN//AAD8/wwABAD9/wYA8v/r/7j/1f8SAO3/5P/c/9v/2P/K/+b/4f/W/8v/v//L/6f/mv+g/5j/yP+2/3P/jv+j/6T/mP+H/9P//v/V/8f/zv/M/7b/7v8sAAUAFwBMAEQADgDi//X/IABAABgA8//m/8D/7P/1/87/7//6/+z/xf+w/7n/q/+d/43/t/+3/4j/5P8SANj/6P8DAP3/+//Y/8n/2f+f/53/zv+8/83/w/+//93/q/+i/6H/jP+j/4f/Zv+G/8r/4f+P/3D/qP+j/7X/4v+x/8H/2f+L/6r/4//M/+j/FQD9/9z/AgAUAPv/+v8cADsADgASAFAAVQBcAFYASQBRAF0AcQB4AHcAXgBEAAoA5P8XAAUA1f/D/57/lv+U/5L/m/+y/9D/3//n/wIAMgD9/9//FAD7/xUALADp/9//AAAUAPb/7//u/8P/wP/D/+T/0/9+/33/oP+m/4f/f/+T/7f/1/+k/8j/5f+l/+v/DgADAEkATgAuADkAJQAJACcAHAALADMAKgAdAC8ALwD5/wAAawBkAD0AXQB5AFUAHwBcAGQAUQBdABYAFwAsADsAPQAJABsACgAsAFwAEwAUABEADgAoAAUA4/+9/93/9P/J/8v/uf+h/7T/zf+q/5n/0f+4/6n/tf97/4T/sf+4/8b/uf+e/4T/YP9d/33/lP+L/4b/pv+L/2b/h/+O/6j/oP9+/7P/sv+w/6r/iv+7/8v/4v/l/87/2P+l/7X/zv+4/9z/5P8FAAAABQBVABkA7/8iAEEAQAD8//j/KwAkABIADAAIANr/xv8HABQA4f/U/8z/4v8WAN7/rf/s/+P/1f/v/8X/1P8RAPf/5/8IAPD/6f8iACYAHQARAOf/+/8UAC4AVQAeAAIAOwBDACcAMABdAGQAYABkAD0APABQADsAQgBPADoARQBpADgAIgByAGIAMAAtABcAKgBMAFoAXABPAGAAdABMAC8AZgBqAEQAUQBWAIQAggBIAFQAZACSAIUAQQB8AKIAVAAhAD4APQAXABoAEwA4AGcANQD1//3/LwACAOH/5P+w/9L/yv+K/7f/0f+1/4j/k//E/7j/uv/G/7D/n/+s/9P/8//a/8D/+v8AAOf/9//j//j/+P/r/xAABQAfACkA/v8PAAsAzf/O//z/uv+4/woAz//J/8H/ev+M/4b/rf+p/4P/1/+m/3T/uP+l/6X/1f/e/8T/zv/7/93/vP/k//n/5f///xwA8f/x//z/3//4/wsAAwALABIA+f/M/+T/BAD6/wAADQALABAAMgAuAA4AJgAgAPH/9P8ZAEUARwARABoARQAQAA8AQwASAAsAIgAuAFYAKQAjADAACQAxAC8AEAAcABYAEgDy/+b/6P/V/9//6v8CAAUA8P8GABsA3/+R/8D/4P/G/97/xv+4/7P/hP+c/87/zv+v/73/6v/g/9X/2P/r/+P/2/8IAO3/vf/G/+3/FADj/8r/2//G/7//w//r//D/wv/J/8L/of+W/7j/3v/P/7v/o/+V/4j/gf/P//H/zP/L/9b/AAAHAAUALAD6/9//+//u//n/CAAlAAwA2f8LAAAA0P/N/7j/2//y/+L/1f/Z/8L/iP/j/wQAuP/+/x4ADgAPAPj/CgDz//7/HwAFACsALADu/+f/KgBHAB8AOwAfAAEANgADAOT/AwAPABsACgD+/+P/2v/t/xoAKwDH/+n/SQAJAAkAUABhAFUAYQBvAHYAiABIAC8AUgBLAGMAbACOAJ8AkwDDAKsAnACiAJIAmwBxAIEAkACDAJsAeQCTAJUAcQCVAGQAOwBFAEYAcwCEAH0AiAB2ADIAMQBaADcALgA2ACcAKQAlADcAMwAsAEQALQAgAE4ATAANACEATQA7AEsAUQAfABAAMwAeAOj/KwBSACYAWAB7AEgAPgBWADsA/f/Q/+H/LAApAAEAAwDy//7/4/+2/+//EgAZAAoAzP/N/9X/wP/e/+P/2v/i/9H/1v/B/6L/u//F/8j/wP/Q//D/2//v/+X/wv/E/6j/3f/3/6//tP/O/7H/hf+S/5b/jP/D/+n/DADl/7T/xv+W/7X/nP9l/+3//P/a//3/9P/4/7//1P8ZABAALwApAEoAWQAOAEkATQAoAHIAUQA6AE8AHwBFAGUANQA2AHQAZgAlAF4AYAAxAEEADwAuAB4A6f9bADwAHwBQAAkAAQDx//r/HQDx/yYASgAeAAoACQBIAGoASABKAHUAVgAoAE0ASQAZAB8AQQA/AD8ANwD6/w0A8P/D/xkA///7/wAAnf/D/9D/s//A/7H/1P+q/3//rv+S/4b/xP/T/7X/sP/E/9D/wP++/+L/z/+b/53/uP+s/5X/p/+m/8H/tf+F/7j/pP+m/77/fP+0/8T/kf+w/7j/w//C/8X/z//g/wAA2f/m/wcA5//1/x0AEADl/+D/wv/N/w8A5f/x/yIADQABANf/z//Y//n/EADH/9X/AwD6/+D/rf/J/7//mv/P/9//+/82ACIAGwBAAC0APwB9AFIATQBoADYAXwB2ACoATQCaAGoAPgBfAF0AcgCUAE0ANwBcAEMASQBaAGUAfgBSAEgAfABwAG8AhgBxAEwAHgAfADIAEQARAC4ACwDm/+z/6f/I/5P/hP+L/47/zf+5/3f/pf+b/5j/yf/H/+P/0v+4/8D/j/+5//n/3v/Y/6//nv/d/9n/zv/W/9n//P+y/5r/AwDk/+3/HgDb/+D/8v8DACYAAQD7//T/8/8fABoAAQAMACIAEgAJABAA6//b/93/uP+J/4v/wf/m/9v/m/9z/4b/mP+p/8n/4f+q/3z/lP+E/5//qv9s/4T/gf9r/4X/cf92/3v/Z/9//33/cP+A/37/hP+A/2L/e/+0/73/n/+0//7/EgAIABoANABWADoA9v8pAHQATQA8ADwAHwA0ADAACgDv/+T/6//E/9j/+f/l/yAAPQAnACoARwB2AGQAXwBeAGUAmgCFAIwAnwCDAH4AawBbAFsAlgCmAF0AagCAAIcAnACcAJ4AiwCcAIoAYgBoAIcAvgCZAIsAnACSAOIA1QCPAJUAsQCRADAAeQCNAAoAKwBUADYANABZAGMALgAnABoAJgApACoAdQA9AAgAEwDn//7/IgAkAPP/yv/J/6z/3P/j/8n/DAAXAAAAvv+O/9T/5v/C/7z/zf/R/7X/yv/i/7n/sv/C/8H/1/+1/6X/CwAgANn/yv8CABYA1//m//v/2P/b/8j/x//M/87/vf97/8j//f+i/5z/of+d/6//oP+4/8H/t//Y/9f/yf/M/7//3f8PAO//1/8UAC0ACwAaAEEAOwAyAEMATAAjAB8AUgA7ABMAFgARAA0AFQAlABIAEgApAPn/2//q/xIAEgDT/+z/6//K//n/+P/T/7H/sv/w/xcAFgD2/xcAJADe//D/CwDx/9b/5/8GAM7/yf/i/7v/3P/5/9P/z/8cADsABwA4ADwA//8+AEgAMgBKAEIAWwA4AAEANwBCAC8AFgDB/9f/CQDR/8L/wP+T/4L/i/+Z/5P/kv+k/6n/gP9Z/6b/4f/T/wAA3v+t/wUABwDD/xQANADS//X/BgC+//j/DQD4/xwAJgAeAOH/7/8eANH/4v8rAAkA4/8DABIAyf+x/7r/u//t/wIA8f/d////EwARADgAEADt/+T/7v8hAN//4v8hAO3/8f/5/+b/8f8NAA0A7P8KABYAJwAnAAkATAAcAPX/MwAIAPP/4P/i/wkAAAAhAB8A9v/z////6f+///D/AQDj/9r/tv+6/8X/1P/3//j/CQAKAAIALQBCACYAVgBeAAAAMQBQAE0AgwAzAF8AqwBgAGUANQA0AHQALAA3AGQALgAWABkA5f+p/8r///8IAO7/3P/k/6v/gf/D/wEA5/+//87/vv+t/8H/0P/n/+f/6f/z//T/CAAQACcAJgDL/7D/BgAyACcARgBBAP//EABXADUAFQBiAGgAKgBAAHIAYAAgADsAWgAAAA8AWgAxABUACwAQAC4A7/+o/5//p//I/6//mv/K/6j/d/+F/6f/u/+h/7z/x/+i/6r/p//h/wIA7/81AB4A9v8jABsAKgBFADYAIQA6AGEAOgBKAFwAJQAaAAcABAAAAOb/HQArABcAMAAiAOn/yv8GABoA7P8XABoABQAyABsAGwA6AC4AXQB1ADkADgAKAAsA7//9/ycACgD4//b/9v8uACwAIwBsAGIAJQASAPj/DQBMAFUAPwBYAGkAMwBIAHQAQABQAFoAGAAhACkAFQAXADUARAD7/+j/9f/Q//P/8P/K////JgAHAOv/EAA0ABcA//8iAEQAGgAdADsA8//g/xYA7f+z/8P/t/+n/6//k/+t/8X/vf/p/7f/lv/j/9X/vP+5/7P/+f8eAP//AwAYAAoAIQBEAB8AEAAfABMADgADAPf/CwATAOb/x/+8/4//lf+3/6X/i/96/5T/k/9K/27/p/9v/5T/9P/f/9b/EgAMANz/7/8FAO//AAAPAPT/9f8cADMAEAAoAGIAEQDc/wUAAAD//wwABwDM/33/tf8WABIA+P8ZAD8AFQD9/x8APQBcAC4ABwA9AC4AGAAtABwAIQAYAO//5v/q/8v/qv+5/9b/2//B/8//3f98/2f/s/+u/5H/lf+2/7f/oP+V/6P/EAAtAPz/GAD5/+T/FgAiACkALAATAOT//P89ACAA+/8OACwAPABXAJUApwB1AF4AfwBkADgAagB0AFEAUwBHADkANgAqACUAJADo/8H/7P/5/w0A7v+f/5//kf+9/+b/qP/J//b/8f8IABcAMQBSAGMAXQBzAJYAjgCgAJ0AawBiAJQApgB2AJAAlABtAJEAhwCKAIkATABUACkA/f8wAEAARABPAEAACgAVAGAAGwD3/zcAFwAiAEwAKgAnABUA7P/9/wkA9v8MACAA+v/i/9L/xv/Z/+T/7P/h/7v/tP/D/9j/2v+z/8P/AQDo/8z/8P/u/9f/wv/G/+j/8f8LAA0A6v/y/9f/vv/j//j/5//P/+r/CAAIABEA4f+J/37/tf+//6H/tv+z/5//sv+V/6T/9//o/8z/3P/F/7r/0P/c/8P/qf+z/5//hf+V/7r/3v+7/5j/3/8QAOX/0v/r/+r/CQAmAAsAAAD+/x0AOgAZAPv/7P8OADwAGwDG/87/IwD1/+T/8v+g/6n/j/+D/7P/k//X/+j/w//+/yMAVgAmAAsAUwAzAEAATgAuAFIAUwBEADgAIgAvAEoAZwCXAKIAcABkAFMARQBQACkAVQCWAG4AZQBvAFIAOQBLAGQAZwB5AIcAdgBIADkAQwAPAL//q//p/93/p//G/8z/uv+s/6H/k/+Y/+P/6f/v/xAA8//5/xIARwBKADcAcQBJADMAXgBzAKMAggB3AHMALgBKAHkAQQD9/xUAKgAIAN3/lv+l/5v/X/9w/0X/Sv9o/z//b/9s/0D/Y/9s/2r/W/9d/5r/pf+a/5b/jv+v/6L/m//V/8//0P/b/9v/CAAIACgAIwDI//L/IAADAOn/5v8fACYA9f/f//v/CADg/9f/x/+2/5j/mf/T/4f/cf96/xf/SP9s/1b/bf9Q/0v/Ef/5/lr/ZP9C/0z/h/+x/6n/0P/t//r/AAAFAFIAaABOAJAAtQCLAIIAgwBuAFoARgBYAGEARgBDABAA4////+n/2f8XADUADgAAABsA/P/1/0AATgA3ACkAMgBLABoAEAA7ABAA4v/z/wMA1//U/wEA9P8dAAoA0P8oAAgA5/8nAOr/4v8BABEAPQAbAD4AYgAwAGkAnwBjAFMAfgBwAFMAXABqAIoAiABZAD8ARgBfADEA3P/e/+z/s/+J/5n/s/+1/3z/jf/h/8P/t//T/87/+f/2/+b/+P/3/wQAEwAmADIAVwCHAG4AYwBjAFAATABKAE4ASwBvAFcACgAzAFEAPgAxACEAJQAWADEANQAVAEYAOgAWAFQAZQAcAAcAIQDx//L/GQDl/+j/9P/C/6//mf+k/7X/p//P/9b/uP/A/5//sf/9/+7/5v/+/wgANAA0AFYApgCBAGcAiAB0AFEASABMAEIAOwA4ACQALQAvAAkA/v/9/wUAIQD7/8f/3v/9/xgAAgCk/5H/sP+g/4X/dP+L/4//Yf9x/5H/ff9z/4X/sf+z/6f/zP+a/17/t//t/8n/2f8KACcAKgAPAAsALQA5AEsAWABNAFEARAA4AB4A7v/h//z/IgABAOT//v/Y/7v/wf/X/9r/wf/i/8v/r/+4/7P/5//q/wMACADc/yQAFwAUAEIAJgBiAFQAQgBsAEsAYwBDAP3/+P8SAEUAKgAjADAACADu/+X/9//h//L/GgAUAEsAVQBPAFAAQAB7AGgAUgCTALMAugCcAJYAoQCMAHwAeAB/AHUAiwCFAFsAagBMAC4AHgADAB8ACwDw//r/AwASAOz/1f/2/wsACwD7/x4AZwBfAD8AYABiAFEAbgBdAHAAvgCWAD8ATABdACQAQQB4ADEAJQBIACcAGAAPAPT/4P/y/+r/rf+5/7v/kv+a/5X/i/+O/4T/sv/A/4n/mf+a/3L/mP+j/43/pf/E/9X/0v/v/wAA7f/5/wgAGgAiAC4APwAtACUACgAWAEMALQAfAOb/zf8CAND/p/+o/7H/yf9+/23/lP+J/6L/kP+X/6//iv+k/5v/j/+3/5j/lv+s/7T/xf/J/+D/3P/t/xIA7P/A/7//zP+2/5r/tf/L/63/lv/i/+3/p//Q/8n/sv/j/7P/pf/3//j/y/8FACwA5f8QAFMAJQAkAAsA7f8jABUA7f8RABsADAAJAAMAEgD6//P/KwA2ACMACwAdADkACgALACwAUwB3AEwAWgB2AEwASQBYAGQAYQBLAF4AZAAiACcARQD//yIAQwAAACQAPQAzABAA4P8AAN//7f8jAPH///8FAL7/uf8FABwA7f/m/9b/4/8AAOf//f8FAAUAJAAgAA4ACgAkABIADwAvAAYABgAqACIAGABAAEgA+/8dACcAxP+3/5v/hP9n/xX/K/9t/3D/SP9I/zf/C/9S/3T/Y/+R/5X/h/+///7/3P/N/wIAGQAqACEAOwBaACkAMwA3ABIAGgAKAPn/AwDy/7L/kP+T/43/fv9e/2n/Wv8+/27/Zf95/5n/cP+1/+L/uf/e//D/2v/X/8n/wv/K/9//2f+0/8L/6//+/wAADAATANz/9v8fAOn/MwBdAF0AtgCOAKIA5ADZABgBGgERAe8AtQDVALIAqgCRAEgAdgCPAH4AQQD2//T/6v/e/7r/l/+V/6j/sP+J/43/iv+N/5z/Yv94/5P/kP+x/3P/aP+k/4j/g//O//X/4f/x/xAAGgAHAAAANgBCADsALgAqAHQARAAJAEcAKwBNAJEARQBAAGMASgAwAAMABgD0/9L/7v+4/5n/t/+8/9b/n/+G/5//b/+M/6r/rf/K/8n/+P////L/DQDl/wQAbwBcAEAAjAClAJIApwB4AE4AcABpAEEALABXAHsASQA/AFQAJgD///X/5f/V/6f/lf+1/6L/mf+p/6//u/+S/4z/xP/B/6L/s//L/8T/1v/X//H/OAApACsAMgAeAEcAOgAdABgADQAtABkA9/8ZABkAAwA7ADEA+/8tABkA8f8SABcAIwAuAGcATgAdAIYATAAgAHcAJADy//3/3v/D/87/9f+4/67/2f+x/9b/+//K/9z/CQD2/wUAGgARAFoAbABxAMEAqACgALYAnQDlANoAegCmAKsAhwCrAGUAKwA9AA8AFQAkAAoA+P/e/9n/rf+0/9D/p//n/wIAxP/g/wYA8v/m//n/6v/x/+P/mv/Y/xAA4f/q/wMAHQAJAOz/IAAmAAgAGQD9//b/RQAgAN7/JgBDABkAFwA0ADUAFAAZABEA2v/J//H/2v+t/8b/kP93/5T/Xv9k/1//TP92/3f/d/90/5b/qf+R/8f/z//Z/x4ALwA4AF4AhwCCAKAAygCaAKUA0QCqAF4AZgCTAEQAJAAwAPD/9v/3/9f/4f/Z/8X/t//H/83/s//A/87/xf+u/3f/kv/a/9T/zP+d/5X/7f/0//z/8//a//n/xP/R/wwABwAMAN7/IgByAEEAUAAuACUATwAkACYAGgAKACgAMgA7ACsARwByAGEAWAA8ADcAVAAtAA8APAA0AOD/2/8DAO//zv/G/+P/7P+g/4r/zf/N/5D/lv+//7T/nv+c/7P/0//M/+D/5f/C/9z/5f/f/+L/3v8XABwAHgBLADMAbACLAFEAjgCmAIcAmwB0AGYAfQBPAFIAhgBwAFoAaABOACkAIgARAAwADQDx//3/EAAFABQAGAAmABYA7/8fABAA6f8gABkA8/8AAAgAGgAwAAAADwBlABMA/P9DABYALAAvACAAZwBnAH0AjQB+AIsAVgAwAEMAUgA0AAAA+f/v/+T/0//U/9L/q//E/7f/cv+P/9H/r/9u/27/Nv8S/z3/Qf9z/4z/f/+U/3f/dP+J/4n/gf98/57/jP95/4z/dP96/5j/mP+R/6H/uP/B/7z/tf/V/+L/+/8vAAcABAArACEATQBVADsAcQB9AFgAWwBiAHAAigB2AGUAawBNAB8A9P/v//f/3P/7//n/n//A/9L/cf+P/8D/rf/G/8n/s/+O/6T/1f+k/9r/EwDf/x0ATwBVAFsAQABiAEEAKQCEAJ4AYAAsAE0ASQAbAEsAKwDi//v/AAD1/wAADwDj/47/tv/k/6f/rv+//5j/n/+X/5T/h/9r/53/hP9h/5r/nf+z/7P/nv+3/7X/8v8YACgAYwAvAB4AQQAvADsANABDAGAAVwBeAEYAQABjAG8AZQBTAFwAggB/AEoARABOACoAIQAzAEQAPgBIAF4AIwAmADcABAARAO//4P8AALT/pv/P/9n/7//a/7H/pP/C/8b/sP+5/53/hf91/3n/lv9o/4r/9P/+/w8AHwAAAP7/CQAHAAIAEgBCAHIAcABeAGoAWAA5ACYA//8LACsA9f/E/8X/uf+5/7j/pf+m/5r/f/+U/7P/hv9d/33/i/+A/3z/tP/f/77/AAAlAPr/MgA/AEgAaQBgAIQAagBYAIgAkQCQAGQAgAClAH4AkQBZADkATQDZ/77/zf+Z/8L/yf+W/6b/wf+8/9T/0f+W/9n/AADd/zQAHAAHAG0ASQBDAGwAggC/AK0AqwCuAIUAiACEAIUAhACHAJIAcQBqAE8AIQBEAE0ALgAXAPr/+//j/5n/mP+6/37/Xv+r/5D/aP+5/5P/VP9i/2P/Xf8t/2P/jv9P/3P/cP+D/7H/if/L/9//pf/V/wQA+//+/wMA+v83ACwA/f8+AA0ADQBDAPr/9f/T/7//1f+k/7j/wv+b/3L/av+G/1f/Uf97/2j/ZP+E/4D/bf9x/1H/bf+S/4L/w//D/77/+P/m//v/LAA7ABQA6//6//D/DwAgABcAJwAWAC4ALwAuAGwAswDgAJcAhAC5AKUApwC3AKQAewCNAGoAAAA2AE0ACwAHABQADADD/8//5/+h/7n/rf+F/8H/+f8CAOz/9f8BAAwANgBQAE8AQwCZANcAkgC/AAQB9AAiAScBBAEYAfgA1gDkAOQA/ADUAHcAeQCFAHUAWgAqABYALAAvAMf/gv/T//T/of9l/2L/Vv9b/zn/I/9r/z7/MP97/1D/Yf98/37/sv+2/8T/wv/q/yMAHQBJADIAGgAvAP3/BAAlACMAFwDw/+L/6v/r//H/EADs/8H/6P+w/2v/j//N/97/lf+K/8D/vP+w/8H/wv+8/9f/rf+M/9z/AADo/9j/9f/q/8b/9//b/9H/BADq/+7/2/+v/6j/vv/7/wUAHgA8ADwAYwBxAHEAaQB5AJYAewB4AIcAkwCGAGcAagBLAB8AFAApAEIALwAeABUAEgACANX/1//v/9f/tP++/8D/uv/h//b/6v/W//H/HwAIAAMAIAAuAEoAMgDo/x8AcgAsAFgAiAAqAE0ANQAUAGsAXwBOADkATABoAB8AHQD0/+P/LAD1/+T/8f/K//P/9P/U/wkABgDl/wgA8/8HAEMABAATAFoANAAMAEwAfQA6AFoAbQAnAEwAOQARAA8A8P/i/5//g/+R/4X/fv9f/3b/ef81/zz/dP9d/y//Wv9k/1X/if+y/7b/nv+//9L/pP/O/+r/z//Z/9r/rv+O/6j/mv96/5v/q/9o/0X/ev9c/0H/Vv8x/1//cf9P/2j/X/+C/63/t//Y/8r/s//K/+f/6/8JADEANQBOAGYAiwCbAIMAlwC5AN0AywC8AOIA1QDiAL8AdgCWAKAAoQDHANcAwgCZAHIAUQCDAIoAIgATAAkA1//S/7f/x//x/8z/xv/U/+H/DgDl/9f/IAA9AFkAVAB4AMcApwCtAMwAsQDDAOQA3QCyAMoAzABuAHoAsQB+ABsABwA7ADEACQDd/8X/v/+r/8r/sf+G/5H/iv+k/3T/WP+E/z//Pv9U/z//V/9R/4P/Rf8E/4L/Uv9I/7D/k/+7/7f/of/t/wAALgAUAOj/TwBeAD4AcQBjAFAAbQAoABEARgD//9L/1v/E/9b/q/+a/7v/x//H/6b/s/+2/67/z//c/8r/o//H/8j/k/+3/8D/5/8KANz//P8pACQAMQBMACwAQgCYAF8ARwCIAJsAjABkAIsAngCMAIEASABYAIUApQCHAHcAqQBHAEYAdQASAC0ANwAAAPH/xP/K/9T/uP/F/9H/kf+M/83/oP+3//j/3f/s//v/DgBAAGYAeABeAFYAVwBZAG8AXgAuACoAJQD//x4AFgD9/1QARgADACQAKAASADQANADX/+D/AADJ/9n/1v+//7v/tf/f/+f/5P+//6z/3v/B/8b/2/+//87/wv/D/8j/qv/S/wAA9P8bAE0APgBtAJgAfwBzAGAAlQDWAOMA1wCgAL4AtQB0AIsATAA6AGgAGgAEADsAKwDW/8j/+v/G/6v/1P/X//T/4v+k/7j/4v/a/87//v8IAPf/JwAaACcAbwBCABwAJQA0ACgA/P8NAPr//P8MAOL/9v/Q/7v/vv+J/8L/pf+a//L/z//j//7/+f/1/9r/EQDY/6P/8//S/6//wP/I/67/df+V/5j/dP+e/7r/s//D/+L/zP+1/9v/3f/r//T/2f8cAAwAw/8JAPj/5/9JACwA+/8AAAoAOAA3AD4AXQBKAD0AQQA7ABsABgAtACoACQAqABoADgBNADsAUwBrACUAVwBmAEcAUgAnADcALgA0AFgAEAAMAO3/uf/s/+b/8v8HAO7/4v/W/+//2f+f/8P/0/+Z/43/p/+4/8z/uv+w/+X/BQALACQAOwAZAAkANwA+AEgAbQBvAGQAegCZAHsAXwBoAGsAUwA7AFEAIwAPAEUA/f/Z//v/yP+P/3r/jf+c/5b/jP9m/1f/Zf9u/3D/hf+c/7n/8//z/wEAPwAoACUAaABeAGEArgBxAD4AhABlAF0AcQCBALUAYwBNAFgAEQBmAJMAOAAzAGcAMwD8/0QALwD6//H/sP+2/67/of+M/17/tP+1/3j/iv+B/4L/Z/93/6v/uv/Z/8//3v/X/9z/EADR/wAAPwD9/0cAYwAzAFsAXgBdAGEAZABOACMALAD//9T/2v/T/+//2//B/8D/wP8NAAEAxf/k//f/BADh/9b/FAAAAOf/2v++/8v/3f/W/7f/0f/v/7f/uv/q/+n/+//7/8v/3f/w/9//FQAZACgAZgAeABUAPgAwAFcAOwAYAAoA//8vAB0ACwDt/7L/zP+p/53/oP92/7X/m/9X/3D/Sv9p/5//bP9k/4H/m/+S/4P/y//O/67/+f8CAOj/EgAhAA4ACwAsAC4AHAAlAO//4v8KANb/x//5/+v/0f/3/xkA/f/u/wIA6f/H/+3/6v+m/7v/1//T/8j/nf/G/9r/qf+M/2X/mf+1/4P/r//F/67/u//d/9n/0P8aAC8AGwA/AEsAYwCdALkAlQCSALIAkgCYALcAzwC+AF8AXgBvAFcARQD+/wUAFwDY//b/CADd//D/2P+6/+r/2/++/83/2v/+/+X/z/8LACcAFwAZAE4AcgBRADkAZwCNAFcAWACGAIkAdQA4AEsAUAA5AHAAXgBvAGsAFAAgAAAA6//x/7X/x/+e/1b/jv+k/53/p/+k/8z/3v+7/8D/7P8VABgA///+/xwAOgAyACIAHgArAEMALwA1ABgA8P8sAAAAy//s/+D/9f/h/+b/3v+R/8r/zf+w/9D/u/+4/5L/zv8MAL//8P8OAAwAGADP//b/KQAOAAAAEgAkANL/0//y/7H/y//e/+b/HwAGAOX/+v/s/+v/AwDZ/+L/AADj/xoAKQAbADgAKwBnAHoATgBKADAAYABfAAIA+/8KAPT/0P/l/+b/xf/d/7T/nf+z/6n/rf+R/6n/r/+J/73/kv9y/6L/f/+q/9b/t//C/6z/pf+6/7n/x//B/7v/rP+2/9L/iv96/63/gv+G/8z/z//A/97/6//m/xAADwASAD0AOgB+AJEAOAAuAEYAbgBRADIAiAB9AFgAZQBjAHMAaACZALEAbAB1AJgAgwBHAGMAkgBLAGIAkwB4AHgAawCAAGAAIwBNADwAFwAbAOT/vv/9/x8A6f8VAGAANQA/AHMAYwBGAD8ASwBRAEkAPgAxAD0AVABIADMANQAxACgAJwAiAA0A9P/s/+H/5//2//r////t/wwAKwAIAB0AQQA/ADcALQA+AEEAMgAqABYAEAAOAAIA9P/p/+f/0f+u/7P/xP+x/7f/2P/Y/9T/4P/y//r/CgAtADMAPABIAC0ALgBCADIAJAAlACsAHQD1/+3/6//S/87/wv+y/7T/sP+s/5z/lf+Z/4//nP+s/7D/wf/L/9j/5f/s////CwAQABwAJAAvAD4ASwBTAFIATgBCAC4AIQAUAAIA9v/m/9X/zP+//7D/pv+b/5D/jP+F/3b/bf9p/2f/av9v/33/kf+o/8f/7f8PACcARwBqAH8AmQCvAMMA3ADlAOoA+QD6APQA7wDlANgAyQCyAJUAfgBtAFUAQgAyAB4AFwARAAMAAwAHAA4AHAAlACsAMAA0ADcAOAA6ADkAOAA4AC0AIgAdABMACgABAPX/5v/W/8f/wf+9/7X/rf+n/6H/nP+b/53/of+j/6T/q/+1/77/xv/M/9T/2f/c/93/3P/b/9v/3v/g/97/1v/L/8H/uf+y/63/pv+c/5H/iv+G/4P/ff92/3D/a/9n/2X/aP9u/3b/g/+U/6r/vP/H/9T/5P/w//b/9v/3//j/+f/6//z//f/6//f/9v/4//v/+////wUACwAZACkAOQBFAE0AUQBTAFIATgBIAEEAPgA8ADkAOQA5ADYALwAdABEACwAAAPv/+f/y/+z/5P/c/9v/3f/h/+T/5f/p//T/BAAUACUANABDAEwAUwBeAF8AZABwAG4AbwBvAHEAdgBvAGkAZABZAE8AQgA5ACsAHQANAAAABAD///z/BQABAAMABAADAAoAEwAiACMAIgAzADgAPQBIAEwATwBRAEoAQwA8ACUAEwAIAO3/2v/Q/8b/xP/A/7z/u/+6/73/wf/J/9H/2//n/+7/8//4////AQAKABEAEAAVABQADAAEAPb/6//c/8b/tP+k/5L/g/9+/3b/cv9u/2n/cv95/4P/l/+l/7H/uv/B/8j/1P/k//D/BQATABkAKAAzAEEATABTAFkAVwBWAEsAOAAwACUAFQAGAPj/8f/s/+H/2//W/8z/zP/Q/8//1P/b/+T/7v/u//L/+//9/wUAEAAVAB0AJAArADIAMwA3AD0AOwA5ADcAMQAtACYAHgAZABUAHAAnACsAMAA3AD8ASQBQAFMAVQBUAFUAVABMAEgAQgA1ACcAGgAQAAQA7//e/9H/wP+x/6H/kf+G/3r/cv9w/2z/bP9t/27/e/+N/5v/rf/B/9n/8f8AABMAIwAoADIAOgA9AD8APgA/ADoANAA6ADsANAAuACAAFAALAAAA8//i/9L/y/+8/67/qv+l/6X/p/+o/6z/q/+w/7//yP/b//L/AAAMAB4AOQBWAGcAbgBtAGsAbQBvAHIAbgBlAFsAUgBRAE0ARQA8AC0AIwAcABIACAD9//b/7v/i/9v/1f/L/8v/y//H/8f/xP/G/8z/w//G/9L/yf/H/8n/yv/U/9b/2//a/9X/4v/m/+H/5f/p//D/9//7/wQADQARABcAHAAeACUALwA4AD8APgA6ADwAQQBGAE0ASQA/AEEASQBWAGAAYwBrAGYAYQBiAFwAYABgAFoAWQBaAGgAcQBtAHMAdgByAGsAXQBTAFAATQBKAEAAMgAqACYAHgAWAA4AAwD6//L/6v/s//j/+//+/wYADQAWAB4AIgAmACoAKgAjABYAEAAKAAIA+f/s/+H/1f/P/8b/tf+v/6j/pf+r/6r/qv+q/6f/pv+o/6n/qP+u/7b/vf/E/8f/yf/F/8P/xf+9/7z/wv+//7r/tf+x/6z/qf+g/5f/l/+V/5z/qv+t/7X/u/+6/8D/yf/X/+j/8/8DABUAGgAfACgAMQA/AEgATABNAEgARQA2ACIAGwAPAAAA7v/T/7//sf+n/5v/k/+N/4b/j/+a/53/pv+1/8L/zf/e//T/BwAcADYASwBaAGsAeQB8AH8AfQB7AIEAgAB+AH0AdABtAGsAZQBaAFIATABEAD4AOgA1ADIALAArAC4AKgAoAC8ANgBDAFEAVABSAFcAXQBdAFUATQBKAEwARwBAAEIAQABAAD8AMwAmAB4AIgAoAB8AHQAcABIADwALAAkAEAAUABcAFgAWABgAGwAiACIAHQAYABMAEQAKAP//8f/b/8n/sv+a/5H/iP9+/3z/fP+A/4L/iv+d/6//vv/M/9r/6//3/wAAEgAlAC0AMQA6AEQASQBLAEUANwAwACIACQD0/+T/1//B/6//pP+L/3j/d/9z/27/bf9z/3T/dP+A/43/mf+h/6X/rP+5/8j/y//I/8j/zv/b/97/3//l/+j/6v/r//H/+//+//z/+P/+/wIA///9//3/+f/0//D/7//q/+T/6f/t/+v/6f/l/+X/7v/0//z/BQAOABkAFwAPABYAGAASABUAGwAbABUAEgAPAAwABQD7//f/8P/q//L/9//3//3/AQAAAP7/AQAAAPf/8P/p/+f/5f/n/+//8v/y//f/+P/2//3//P/3/wAABAADAAIA+f/t/+T/5f/g/9X/0//O/8n/0P/X/93/6P/1//3/BwAUAB4AIwAhACUALgAzADMAMwA0ADYAPQBAADkANAAsACoALQAoACAAIQAlACQAIgAdABEACwAEAPX/5P/W/83/x//B/7r/uv+6/7j/t/+t/67/u//G/83/1v/n//T/AgAcAC0AOABCAEgATABOAFEASwA+ADYAMAAhAAoA+f/k/9P/yP+3/67/qv+n/6L/nf+m/67/tf+7/8H/z//W/+b/+P8CAAwACwAUACUALwA6AD4AQwBFAD0ANgA1ADMAJgAXAAsAAQD4/+X/1P/A/67/r/+s/6P/nP+U/5T/l/+Z/5b/m/+r/7H/tf/B/9b/5P/f/+L/6//t//v/BQAMABgAHAAYAA8ABQAAAPf/6f/l/+b/3P/V/+H/3//X/9b/zP/Q/+P/6//1/wgAHQArADcARABSAGEAbAByAHYAfQCEAIYAggB6AHkAdwBvAGQATwA+ADgALwAlABkACQD7/+v/4v/d/9T/zf/L/9X/3v/i/+////8RAB4AHQAdACAAJAAiABoAFwATAAgA///6//L/7f/r/+f/6f/m/+H/3v/T/9D/2P/h/+P/3f/m/+z/9v8LABMAHQAeABQAFwAYAB0AGwAVABUABQD5//f/9P/7//n/7f/n/+X/4v/e/9n/2f/g/+f/6f/p/+r/7P/w/+//5f/f/9r/2v/i/9//3P/d/9n/2v/a/+D/7v/5/wYADwATAB0AJgAnACQAIgAbAA8ABwAAAPX/7v/s/+n/6f/j/93/4P/l/+n/5//k/+P/5v/v/+7/9f/5//D/+/8IABYALAA/AFgAYQBkAHAAeACEAIgAhgCFAH8AfAB8AH8AfgBzAGkAYQBbAFMARQAyACMAGgAPAAYA+//l/93/2//Z/93/3//l//X/AAAEAAsAEQAYACcANgBDAE0AVQBkAG8AbQBpAGgAZwBmAF0AVQBNADkAJwAWAPz/7v/m/9j/zf/G/8H/vv+5/7L/tf+//8D/xf/V/+f/9P8AABQAIwAyAEYAUwBaAFkAWgBdAFQATABLAD8ALQAZAAAA6P/O/8D/uP+n/5n/lP+S/5P/mP+e/6D/pv+5/8f/yv/Q/+D/9/8KABEAGgAjACUAJwAmACIAGwAUAAwAAAD6//X/7f/l/9//4f/h/9z/2v/e/+P/3//e/+L/5P/q/+//8f/x//H/+f8BAAkAEAAbACUAKAAzAEMARQBBAD8AOwA2ADAANQA8ADUANwA+ADEAJgAfAB0AIAAaABgAFwASAA4AFAAiACMAJQAvADMAQABOAFgAZgBjAF0AWABQAFAATABJAEcAPwA5ADEAJgAmACQAGgARAAwAAgD5/+z/2//O/8P/uP+5/7n/tf+6/8D/w//F/8n/z//X/+P/6P/u//f///8NABAABwACAPj/7P/m/+X/6//m/+D/5v/l/+P/5//q/+n/7v/5/wAAAQAHABMAIwAvACwAKgArACUAHwAUAAUA+f8=\" type=\"audio/wav\" />\n",
              "                    Your browser does not support the audio element.\n",
              "                </audio>\n",
              "              "
            ],
            "text/plain": [
              "<IPython.lib.display.Audio object>"
            ]
          },
          "metadata": {},
          "execution_count": 21
        }
      ]
    },
    {
      "cell_type": "markdown",
      "metadata": {
        "id": "xnTXWvV62RqA"
      },
      "source": [
        "（日本語訳注）\n",
        "\n",
        "うーん、全然、うまく推論が合わない。。。"
      ]
    },
    {
      "cell_type": "markdown",
      "metadata": {
        "id": "Nz5cVv6t7e5B"
      },
      "source": [
        "結論\n",
        "----------\n",
        "\n",
        "本チュートリアルではtorchaudioを用いてデータセットをロードし信号をリサンプリングしました。\n",
        "\n",
        "そしてニューラルネットワークを定義し、音声コマンドを認識できるように訓練しました。\n",
        "\n",
        "他にも様々な前処理手法があります。\n",
        "\n",
        "例えばメル周波数ケプストラム係数(MFCC)を用いるとデータセットのサイズを削減することができます。\n",
        "\n",
        "この変換はtorchaudioでは``torchaudio.transforms.MFCC``として実装されています。\n"
      ]
    },
    {
      "cell_type": "markdown",
      "metadata": {
        "id": "cJ0Yelmd2bbv"
      },
      "source": [
        "以上。"
      ]
    }
  ]
}